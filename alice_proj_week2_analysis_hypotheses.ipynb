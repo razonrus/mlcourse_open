{
 "cells": [
  {
   "cell_type": "markdown",
   "metadata": {},
   "source": [
    "<center>\n",
    "<img src=\"https://habrastorage.org/web/677/8e1/337/6778e1337c3d4b159d7e99df94227cb2.jpg\"/>\n",
    "## Специализация \"Машинное обучение и анализ данных\"\n",
    "<center>Автор материала: программист-исследователь Mail.Ru Group, старший преподаватель Факультета Компьютерных Наук ВШЭ [Юрий Кашницкий](https://yorko.github.io/)"
   ]
  },
  {
   "cell_type": "markdown",
   "metadata": {},
   "source": [
    "# <center> Capstone проект №1 <br>Идентификация пользователей по посещенным веб-страницам\n",
    "<img src='http://i.istockimg.com/file_thumbview_approve/21546327/5/stock-illustration-21546327-identification-de-l-utilisateur.jpg'>\n",
    "\n",
    "# <center>Неделя 2. Подготовка и первичный анализ данных\n",
    "\n",
    "На второй неделе мы продолжим подготавливать данные для дальнейшего анализа и построения прогнозных моделей. Конкретно, раньше мы определили что сессия – это последовательность из 10 посещенных пользователем сайтов, теперь сделаем длину сессии параметром, и потом при обучении прогнозных моделей выберем лучшую длину сессии.\n",
    "Также мы познакомимся с предобработанными данными и статистически проверим первые гипотезы, связанные с нашими наблюдениями. \n",
    "\n",
    "**План 2 недели:**\n",
    " - Часть 1. Подготовка нескольких обучающих выборок для сравнения\n",
    " - Часть 2. Первичный анализ данных, проверка гипотез\n",
    "\n",
    "**В этой части проекта Вам могут быть полезны  следующие видеозаписи лекций курса \"Построение выводов по данным\":**\n",
    "\n",
    "   - [Доверительные интервалы для доли](https://www.coursera.org/learn/stats-for-data-analysis/lecture/3oi53/dovieritiel-nyie-intiervaly-dlia-doli)\n",
    "   - [Биномиальный критерий для доли](https://www.coursera.org/learn/stats-for-data-analysis/lecture/JwmBw/binomial-nyi-kritierii-dlia-doli)\n",
    "   - [Доверительные интервалы на основе бутстрепа](https://www.coursera.org/learn/stats-for-data-analysis/lecture/GZjW7/dovieritiel-nyie-intiervaly-na-osnovie-butstriepa)\n",
    "   \n",
    "**Кроме того, в задании будут использоваться библиотеки Python [glob](https://docs.python.org/3/library/glob.html), [pickle](https://docs.python.org/2/library/pickle.html), [itertools](https://docs.python.org/3/library/itertools.html) и класс [csr_matrix](https://docs.scipy.org/doc/scipy-0.14.0/reference/generated/scipy.sparse.csr_matrix.html) из scipy.sparse.**"
   ]
  },
  {
   "cell_type": "markdown",
   "metadata": {},
   "source": [
    "### Задание\n",
    "1. Заполните код в этой тетрадке \n",
    "2. Если вы проходите специализацию Яндеса и МФТИ, пошлите файл с ответами в соответствующем Programming Assignment. <br> Если вы проходите курс ODS, выберите ответы в [веб-форме](https://docs.google.com/forms/d/13ZnT7w7foHD0uw0ynTtj7atdiCGvlltF8ThhbJCvLsc).  \n"
   ]
  },
  {
   "cell_type": "markdown",
   "metadata": {},
   "source": [
    "## Часть 1. Подготовка нескольких обучающих выборок для сравнения\n",
    "\n",
    "Пока мы брали последовательности из 10 сайтов, и это было наобум. Давайте сделаем число сайтов в сессии параметром, чтоб в дальнейшем сравнить модели классификации, обученные на разных выборках – с 5, 7, 10 и 15 сайтами в сессии. Более того, пока мы брали по 10 сайтов подряд, без пересечения. Теперь давайте применим идею скользящего окна – сессии будут перекрываться. \n",
    "\n",
    "**Пример**: для длины сессии 10 и ширины окна 7 файл из 30 записей породит не 3 сессии, как раньше (1-10, 11-20, 21-30), а 5 (1-10, 8-17, 15-24, 22-30, 29-30). При этом в предпоследней сессии будет один ноль, а в последней – 8 нолей.\n",
    "\n",
    "Создадим несколько выборок для разных сочетаний параметров длины сессии и ширины окна. Все они представлены в табличке ниже:\n",
    "\n",
    "<style type=\"text/css\">\n",
    ".tg  {border-collapse:collapse;border-spacing:0;}\n",
    ".tg td{font-family:Arial, sans-serif;font-size:14px;padding:10px 5px;border-style:solid;border-width:1px;overflow:hidden;word-break:normal;}\n",
    ".tg th{font-family:Arial, sans-serif;font-size:14px;font-weight:normal;padding:10px 5px;border-style:solid;border-width:1px;overflow:hidden;word-break:normal;}\n",
    "</style>\n",
    "<table class=\"tg\">\n",
    "  <tr>\n",
    "    <th class=\"tg-031e\">session_length -&gt;<br>window_size <br></th>\n",
    "    <th class=\"tg-031e\">5</th>\n",
    "    <th class=\"tg-031e\">7</th>\n",
    "    <th class=\"tg-031e\">10</th>\n",
    "    <th class=\"tg-031e\">15</th>\n",
    "  </tr>\n",
    "  <tr>\n",
    "    <td class=\"tg-031e\">5</td>\n",
    "    <td class=\"tg-031e\">v</td>\n",
    "    <td class=\"tg-031e\">v</td>\n",
    "    <td class=\"tg-031e\">v</td>\n",
    "    <td class=\"tg-031e\">v</td>\n",
    "  </tr>\n",
    "  <tr>\n",
    "    <td class=\"tg-031e\">7</td>\n",
    "    <td class=\"tg-031e\"></td>\n",
    "    <td class=\"tg-031e\">v</td>\n",
    "    <td class=\"tg-031e\">v</td>\n",
    "    <td class=\"tg-031e\">v</td>\n",
    "  </tr>\n",
    "  <tr>\n",
    "    <td class=\"tg-031e\">10</td>\n",
    "    <td class=\"tg-031e\"></td>\n",
    "    <td class=\"tg-031e\"></td>\n",
    "    <td class=\"tg-031e\"><font color='green'>v</font></td>\n",
    "    <td class=\"tg-031e\">v</td>\n",
    "  </tr>\n",
    "</table>\n",
    "\n",
    "Итого должно получиться 18 разреженных матриц – указанные в таблице 9 сочетаний параметров формирования сессий для выборок из 10 и 150 пользователей. При этом 2 выборки мы уже сделали в прошлой части, они соответствуют сочетанию параметров: session_length=10, window_size=10, которые помечены в таблице выше галочкой зеленого цвета (done)."
   ]
  },
  {
   "cell_type": "markdown",
   "metadata": {},
   "source": [
    "Реализуйте функцию *prepare_sparse_train_set_window*.\n",
    "\n",
    "Аргументы:\n",
    "- *path_to_csv_files* – путь к каталогу с csv-файлами\n",
    "- *site_freq_path* – путь к pickle-файлу с частотным словарем, полученным в 1 части проекта\n",
    "- *session_length* – длина сессии (параметр)\n",
    "- *window_size* – ширина окна (параметр) \n",
    "\n",
    "Функция должна возвращать 2 объекта:\n",
    "- разреженную матрицу *X_sparse* (двухмерная Scipy.sparse.csr_matrix), в которой строки соответствуют сессиям из *session_length* сайтов, а *max(site_id)* столбцов – количеству посещений *site_id* в сессии. \n",
    "- вектор *y* (Numpy array) \"ответов\" в виде ID пользователей, которым принадлежат сессии из *X_sparse*\n",
    "\n",
    "Детали:\n",
    "- Модифицируйте созданную в 1 части функцию *prepare_train_set*\n",
    "- Некоторые сессии могут повторяться – оставьте как есть, не удаляйте дубликаты\n",
    "- Замеряйте время выполнения итераций цикла с помощью *time* из *time*, *tqdm* из *tqdm* или с помощью виджета [log_progress](https://github.com/alexanderkuk/log-progress) ([статья](https://habrahabr.ru/post/276725/) о нем на Хабрахабре)\n",
    "- 150 файлов из *capstone_websites_data/150users/* должны обрабатываться за несколько секунд (в зависимости от входных параметров). Если дольше – не страшно, но знайте, что функцию можно ускорить. "
   ]
  },
  {
   "cell_type": "code",
   "execution_count": 1,
   "metadata": {
    "collapsed": true
   },
   "outputs": [],
   "source": [
    "from __future__ import division, print_function\n",
    "# отключим всякие предупреждения Anaconda\n",
    "import warnings\n",
    "warnings.filterwarnings('ignore')\n",
    "from glob import glob\n",
    "import os\n",
    "import pickle\n",
    "from tqdm import tqdm_notebook\n",
    "import numpy as np\n",
    "import pandas as pd\n",
    "from scipy.sparse import csr_matrix\n",
    "from scipy import stats\n",
    "from statsmodels.stats.proportion import proportion_confint\n",
    "%matplotlib inline\n",
    "from matplotlib import pyplot as plt"
   ]
  },
  {
   "cell_type": "code",
   "execution_count": null,
   "metadata": {
    "collapsed": true
   },
   "outputs": [],
   "source": []
  },
  {
   "cell_type": "code",
   "execution_count": null,
   "metadata": {
    "collapsed": true
   },
   "outputs": [],
   "source": []
  },
  {
   "cell_type": "code",
   "execution_count": 2,
   "metadata": {
    "collapsed": true
   },
   "outputs": [],
   "source": [
    "def prepare_train_set(path_to_csv_files, session_length=10):\n",
    "    sites = {}\n",
    "    sitesColumns = ['site%s' % i for i in range(1, session_length+1)]\n",
    "    sitesColumns.extend(['user_id'])\n",
    "    resultDf = pd.core.frame.DataFrame(columns=sitesColumns)\n",
    "    for root, dirnames, filenames in os.walk(path_to_csv_files):\n",
    "        for filename in tqdm_notebook(fnmatch.filter(filenames, '*.csv')):\n",
    "            user = int(filename.replace('user','').replace('.csv',''))\n",
    "            df = pd.read_csv(path_to_csv_files + '/' + filename).sort_values(by=['timestamp'])\n",
    "            \n",
    "            dic = {k[0]: (i+1,k[1]) for  i, k in enumerate(df[\"site\"].value_counts().iteritems())}\n",
    "            for site, value in dic.iteritems():\n",
    "                if site not in sites:\n",
    "                    sites[site] = (len(sites)+1,value[1])\n",
    "                else:\n",
    "                    curVal=sites[site]\n",
    "                    sites[site]=(curVal[0],curVal[1]+value[1])\n",
    "            sessionRow=[]\n",
    "        \n",
    "            df[\"site_id\"] = df['site'].apply(lambda ts: sites[ts][0]) \n",
    "            arr = np.array(df[\"site_id\"])\n",
    "            arr = np.append(arr,[0] * ((session_length-df.shape[0]%10)%10))\n",
    "            \n",
    "            arr = arr.reshape(int(len(arr) / session_length), session_length)\n",
    "            b = np.zeros((arr.shape[0],session_length+1))+user\n",
    "            b[:,:-1] = arr\n",
    "            \n",
    "            resultDf = pd.concat([resultDf, pd.DataFrame(b,columns=sitesColumns, dtype=np.int)], axis=0)\n",
    "    return resultDf, sites"
   ]
  },
  {
   "cell_type": "code",
   "execution_count": null,
   "metadata": {
    "collapsed": true
   },
   "outputs": [],
   "source": []
  },
  {
   "cell_type": "code",
   "execution_count": 3,
   "metadata": {
    "collapsed": true
   },
   "outputs": [],
   "source": [
    "# Поменяйте на свой путь к данным\n",
    "PATH_TO_DATA = '../data/capstone_user_identification'"
   ]
  },
  {
   "cell_type": "code",
   "execution_count": 3,
   "metadata": {
    "collapsed": true
   },
   "outputs": [],
   "source": [
    "def prepare_sparse_train_set_window(path_to_csv_files, site_freq_path, \n",
    "                                    session_length=10, window_size=10):\n",
    "    ''' ВАШ КОД ЗДЕСЬ'''"
   ]
  },
  {
   "cell_type": "markdown",
   "metadata": {},
   "source": [
    "**Примените полученную функцию с параметрами *session_length=5* и *window_size=3* к игрушечному примеру. Убедитесь, что все работает как надо.**"
   ]
  },
  {
   "cell_type": "code",
   "execution_count": 7,
   "metadata": {},
   "outputs": [
    {
     "data": {
      "application/vnd.jupyter.widget-view+json": {
       "model_id": "8528257e83674c89b3b6cc6597745b73"
      }
     },
     "metadata": {},
     "output_type": "display_data"
    },
    {
     "name": "stdout",
     "output_type": "stream",
     "text": [
      "\n"
     ]
    }
   ],
   "source": [
    "X_toy_s5_w3, y_s5_w3 = prepare_sparse_train_set_window(os.path.join(PATH_TO_DATA,'3users'), \n",
    "                                                       os.path.join(PATH_TO_DATA,'site_freq_3users.pkl'),\n",
    "                                       session_length=5, window_size=3)"
   ]
  },
  {
   "cell_type": "code",
   "execution_count": 8,
   "metadata": {},
   "outputs": [
    {
     "data": {
      "text/plain": [
       "matrix([[0, 3, 1, 0, 0, 0, 1, 0, 0, 0, 0],\n",
       "        [1, 1, 0, 0, 1, 0, 1, 1, 0, 0, 0],\n",
       "        [0, 0, 1, 0, 1, 0, 0, 1, 1, 1, 0],\n",
       "        [3, 0, 1, 0, 0, 0, 0, 0, 0, 1, 0],\n",
       "        [2, 0, 0, 0, 0, 0, 0, 0, 0, 0, 0],\n",
       "        [0, 2, 1, 0, 0, 2, 0, 0, 0, 0, 0],\n",
       "        [0, 1, 0, 0, 0, 1, 0, 0, 0, 0, 0],\n",
       "        [2, 2, 0, 1, 0, 0, 0, 0, 0, 0, 0],\n",
       "        [3, 1, 0, 0, 1, 0, 0, 0, 0, 0, 0],\n",
       "        [1, 0, 0, 2, 1, 0, 0, 0, 0, 0, 1],\n",
       "        [1, 1, 0, 2, 0, 0, 0, 0, 0, 0, 0],\n",
       "        [0, 1, 0, 0, 0, 0, 0, 0, 0, 0, 0]])"
      ]
     },
     "execution_count": 8,
     "metadata": {},
     "output_type": "execute_result"
    }
   ],
   "source": [
    "X_toy_s5_w3.todense()"
   ]
  },
  {
   "cell_type": "code",
   "execution_count": 9,
   "metadata": {},
   "outputs": [
    {
     "data": {
      "text/plain": [
       "array([1, 1, 1, 1, 1, 2, 2, 3, 3, 3, 3, 3])"
      ]
     },
     "execution_count": 9,
     "metadata": {},
     "output_type": "execute_result"
    }
   ],
   "source": [
    "y_s5_w3"
   ]
  },
  {
   "cell_type": "markdown",
   "metadata": {},
   "source": [
    "**Запустите созданную функцию 16 раз с помощью циклов по числу пользователей num_users (10 или 150), значениям параметра *session_length* (15, 10, 7 или 5) и значениям параметра *window_size* (10, 7 или 5). Сериализуйте все 16 разреженных матриц (обучающие выборки) и векторов (метки целевого класса – ID пользователя) в файлы `X_sparse_{num_users}users_s{session_length}_w{window_size}.pkl` и `y_{num_users}users_s{session_length}_w{window_size}.pkl`.**\n",
    "\n",
    "**Чтоб убедиться, что мы все далее будем работать с идентичными объектами, запишите в список *data_lengths* число строк во всех полученных рареженных матрицах (16 значений). Если какие-то будут совпадать, это нормально (можно сообразить, почему).**\n",
    "\n",
    "**На моем ноутбуке этот участок кода отработал за 26 секунд, хотя понятно, что все зависит от эффективности реализации функции *prepare_sparse_train_set_window* и мощности используемого железа. И честно говоря, моя первая реализация была намного менее эффективной (34 минуты), так что тут у Вас есть возможность оптимизировать свой код.**"
   ]
  },
  {
   "cell_type": "code",
   "execution_count": null,
   "metadata": {
    "collapsed": true
   },
   "outputs": [],
   "source": [
    "%%time\n",
    "import itertools\n",
    "\n",
    "data_lengths = []\n",
    "\n",
    "for num_users in [10, 150]:\n",
    "    for window_size, session_length in itertools.product([10, 7, 5], [15, 10, 7, 5]):\n",
    "        if window_size <= session_length and (window_size, session_length) != (10, 10):\n",
    "            X_sparse, y = ''' ВАШ КОД ЗДЕСЬ '''"
   ]
  },
  {
   "cell_type": "markdown",
   "metadata": {},
   "source": [
    "**<font color='red'> Вопрос 1. </font>Сколько всего уникальных значений в списке `data_lengths`?**"
   ]
  },
  {
   "cell_type": "code",
   "execution_count": 9,
   "metadata": {
    "collapsed": true
   },
   "outputs": [],
   "source": [
    "''' ВАШ КОД ЗДЕСЬ '''"
   ]
  },
  {
   "cell_type": "markdown",
   "metadata": {},
   "source": [
    "## Часть 2. Первичный анализ данных, проверка гипотез"
   ]
  },
  {
   "cell_type": "markdown",
   "metadata": {},
   "source": [
    "**Считаем в DataFrame подготовленный на 1 неделе файл `train_data_10users.csv`. Далее будем работать с ним.**"
   ]
  },
  {
   "cell_type": "code",
   "execution_count": 4,
   "metadata": {},
   "outputs": [],
   "source": [
    "train_df = pd.read_csv(os.path.join(PATH_TO_DATA, 'train_data_10users.csv'), \n",
    "                       index_col='session_id')"
   ]
  },
  {
   "cell_type": "code",
   "execution_count": 5,
   "metadata": {},
   "outputs": [
    {
     "data": {
      "text/html": [
       "<div>\n",
       "<style>\n",
       "    .dataframe thead tr:only-child th {\n",
       "        text-align: right;\n",
       "    }\n",
       "\n",
       "    .dataframe thead th {\n",
       "        text-align: left;\n",
       "    }\n",
       "\n",
       "    .dataframe tbody tr th {\n",
       "        vertical-align: top;\n",
       "    }\n",
       "</style>\n",
       "<table border=\"1\" class=\"dataframe\">\n",
       "  <thead>\n",
       "    <tr style=\"text-align: right;\">\n",
       "      <th></th>\n",
       "      <th>site1</th>\n",
       "      <th>site2</th>\n",
       "      <th>site3</th>\n",
       "      <th>site4</th>\n",
       "      <th>site5</th>\n",
       "      <th>site6</th>\n",
       "      <th>site7</th>\n",
       "      <th>site8</th>\n",
       "      <th>site9</th>\n",
       "      <th>site10</th>\n",
       "      <th>user_id</th>\n",
       "    </tr>\n",
       "    <tr>\n",
       "      <th>session_id</th>\n",
       "      <th></th>\n",
       "      <th></th>\n",
       "      <th></th>\n",
       "      <th></th>\n",
       "      <th></th>\n",
       "      <th></th>\n",
       "      <th></th>\n",
       "      <th></th>\n",
       "      <th></th>\n",
       "      <th></th>\n",
       "      <th></th>\n",
       "    </tr>\n",
       "  </thead>\n",
       "  <tbody>\n",
       "    <tr>\n",
       "      <th>0</th>\n",
       "      <td>584</td>\n",
       "      <td>530</td>\n",
       "      <td>744</td>\n",
       "      <td>536</td>\n",
       "      <td>744</td>\n",
       "      <td>744</td>\n",
       "      <td>536</td>\n",
       "      <td>744</td>\n",
       "      <td>723</td>\n",
       "      <td>744</td>\n",
       "      <td>31</td>\n",
       "    </tr>\n",
       "    <tr>\n",
       "      <th>1</th>\n",
       "      <td>430</td>\n",
       "      <td>469</td>\n",
       "      <td>625</td>\n",
       "      <td>467</td>\n",
       "      <td>913</td>\n",
       "      <td>744</td>\n",
       "      <td>15</td>\n",
       "      <td>435</td>\n",
       "      <td>317</td>\n",
       "      <td>644</td>\n",
       "      <td>31</td>\n",
       "    </tr>\n",
       "    <tr>\n",
       "      <th>2</th>\n",
       "      <td>644</td>\n",
       "      <td>536</td>\n",
       "      <td>644</td>\n",
       "      <td>644</td>\n",
       "      <td>43</td>\n",
       "      <td>287</td>\n",
       "      <td>430</td>\n",
       "      <td>665</td>\n",
       "      <td>644</td>\n",
       "      <td>331</td>\n",
       "      <td>31</td>\n",
       "    </tr>\n",
       "    <tr>\n",
       "      <th>3</th>\n",
       "      <td>147</td>\n",
       "      <td>17</td>\n",
       "      <td>665</td>\n",
       "      <td>644</td>\n",
       "      <td>644</td>\n",
       "      <td>644</td>\n",
       "      <td>644</td>\n",
       "      <td>811</td>\n",
       "      <td>842</td>\n",
       "      <td>1</td>\n",
       "      <td>31</td>\n",
       "    </tr>\n",
       "    <tr>\n",
       "      <th>4</th>\n",
       "      <td>883</td>\n",
       "      <td>644</td>\n",
       "      <td>43</td>\n",
       "      <td>845</td>\n",
       "      <td>553</td>\n",
       "      <td>195</td>\n",
       "      <td>252</td>\n",
       "      <td>658</td>\n",
       "      <td>792</td>\n",
       "      <td>658</td>\n",
       "      <td>31</td>\n",
       "    </tr>\n",
       "  </tbody>\n",
       "</table>\n",
       "</div>"
      ],
      "text/plain": [
       "            site1  site2  site3  site4  site5  site6  site7  site8  site9  \\\n",
       "session_id                                                                  \n",
       "0             584    530    744    536    744    744    536    744    723   \n",
       "1             430    469    625    467    913    744     15    435    317   \n",
       "2             644    536    644    644     43    287    430    665    644   \n",
       "3             147     17    665    644    644    644    644    811    842   \n",
       "4             883    644     43    845    553    195    252    658    792   \n",
       "\n",
       "            site10  user_id  \n",
       "session_id                   \n",
       "0              744       31  \n",
       "1              644       31  \n",
       "2              331       31  \n",
       "3                1       31  \n",
       "4              658       31  "
      ]
     },
     "execution_count": 5,
     "metadata": {},
     "output_type": "execute_result"
    }
   ],
   "source": [
    "train_df.head()"
   ]
  },
  {
   "cell_type": "code",
   "execution_count": 12,
   "metadata": {},
   "outputs": [
    {
     "name": "stdout",
     "output_type": "stream",
     "text": [
      "<class 'pandas.core.frame.DataFrame'>\n",
      "Int64Index: 14061 entries, 0 to 14060\n",
      "Data columns (total 11 columns):\n",
      "site1      14061 non-null int64\n",
      "site2      14061 non-null int64\n",
      "site3      14061 non-null int64\n",
      "site4      14061 non-null int64\n",
      "site5      14061 non-null int64\n",
      "site6      14061 non-null int64\n",
      "site7      14061 non-null int64\n",
      "site8      14061 non-null int64\n",
      "site9      14061 non-null int64\n",
      "site10     14061 non-null int64\n",
      "user_id    14061 non-null int64\n",
      "dtypes: int64(11)\n",
      "memory usage: 1.3 MB\n"
     ]
    }
   ],
   "source": [
    "train_df.info()"
   ]
  },
  {
   "cell_type": "markdown",
   "metadata": {},
   "source": [
    "**Распределение целевого класса:**"
   ]
  },
  {
   "cell_type": "code",
   "execution_count": 13,
   "metadata": {},
   "outputs": [
    {
     "data": {
      "text/plain": [
       "128    2796\n",
       "39     2204\n",
       "207    1868\n",
       "127    1712\n",
       "237    1643\n",
       "33     1022\n",
       "50      802\n",
       "31      760\n",
       "100     720\n",
       "241     534\n",
       "Name: user_id, dtype: int64"
      ]
     },
     "execution_count": 13,
     "metadata": {},
     "output_type": "execute_result"
    }
   ],
   "source": [
    "train_df['user_id'].value_counts()"
   ]
  },
  {
   "cell_type": "code",
   "execution_count": 6,
   "metadata": {},
   "outputs": [
    {
     "data": {
      "text/plain": [
       "128    2796\n",
       "39     2204\n",
       "207    1868\n",
       "127    1712\n",
       "237    1643\n",
       "33     1022\n",
       "50      802\n",
       "31      760\n",
       "100     720\n",
       "241     534\n",
       "Name: user_id, dtype: int64"
      ]
     },
     "execution_count": 6,
     "metadata": {},
     "output_type": "execute_result"
    }
   ],
   "source": [
    "train_df['user_id'].value_counts()"
   ]
  },
  {
   "cell_type": "markdown",
   "metadata": {},
   "source": [
    "**Посчитаем распределение числа уникальных сайтов в каждой сессии из 10 посещенных подряд сайтов.**"
   ]
  },
  {
   "cell_type": "code",
   "execution_count": 127,
   "metadata": {
    "collapsed": true
   },
   "outputs": [],
   "source": [
    "num_unique_sites = [np.unique(train_df.values[i, :-1]).shape[0] \n",
    "                    for i in range(train_df.shape[0])]"
   ]
  },
  {
   "cell_type": "code",
   "execution_count": 130,
   "metadata": {},
   "outputs": [
    {
     "data": {
      "text/plain": [
       "14061"
      ]
     },
     "execution_count": 130,
     "metadata": {},
     "output_type": "execute_result"
    }
   ],
   "source": [
    "len(num_unique_sites)"
   ]
  },
  {
   "cell_type": "code",
   "execution_count": 8,
   "metadata": {},
   "outputs": [
    {
     "data": {
      "text/plain": [
       "7     2315\n",
       "6     2161\n",
       "8     2071\n",
       "5     1728\n",
       "9     1379\n",
       "2     1246\n",
       "4     1170\n",
       "3      897\n",
       "10     667\n",
       "1      427\n",
       "dtype: int64"
      ]
     },
     "execution_count": 8,
     "metadata": {},
     "output_type": "execute_result"
    }
   ],
   "source": [
    "pd.Series(num_unique_sites).value_counts()"
   ]
  },
  {
   "cell_type": "code",
   "execution_count": 9,
   "metadata": {},
   "outputs": [
    {
     "data": {
      "image/png": "[encoded data removed]",
      "text/plain": [
       "<matplotlib.figure.Figure at 0xe0a7908>"
      ]
     },
     "metadata": {},
     "output_type": "display_data"
    }
   ],
   "source": [
    "pd.Series(num_unique_sites).hist();"
   ]
  },
  {
   "cell_type": "code",
   "execution_count": 10,
   "metadata": {},
   "outputs": [
    {
     "data": {
      "image/png": "[encoded data removed]",
      "text/plain": [
       "<matplotlib.figure.Figure at 0xe683d30>"
      ]
     },
     "metadata": {},
     "output_type": "display_data"
    }
   ],
   "source": [
    "import scipy.stats as stats\n",
    "\n",
    "z = (num_unique_sites-np.mean(num_unique_sites))/np.std(num_unique_sites)\n",
    "\n",
    "stats.probplot(z, dist=\"norm\", plot=plt)\n",
    "plt.title(\"Normal Q-Q plot\")\n",
    "plt.show()"
   ]
  },
  {
   "cell_type": "code",
   "execution_count": 21,
   "metadata": {},
   "outputs": [
    {
     "data": {
      "text/plain": [
       "[5L,\n",
       " 10L,\n",
       " 7L,\n",
       " 7L,\n",
       " 9L,\n",
       " 8L,\n",
       " 7L,\n",
       " 8L,\n",
       " 8L,\n",
       " 7L,\n",
       " 7L,\n",
       " 8L,\n",
       " 9L,\n",
       " 9L,\n",
       " 8L,\n",
       " 5L,\n",
       " 6L,\n",
       " 4L,\n",
       " 6L,\n",
       " 5L,\n",
       " 7L,\n",
       " 6L,\n",
       " 5L,\n",
       " 7L,\n",
       " 4L,\n",
       " 5L,\n",
       " 6L,\n",
       " 6L,\n",
       " 8L,\n",
       " 9L,\n",
       " 8L,\n",
       " 6L,\n",
       " 7L,\n",
       " 5L,\n",
       " 5L,\n",
       " 6L,\n",
       " 6L,\n",
       " 6L,\n",
       " 8L,\n",
       " 7L,\n",
       " 7L,\n",
       " 7L,\n",
       " 8L,\n",
       " 6L,\n",
       " 6L,\n",
       " 6L,\n",
       " 9L,\n",
       " 6L,\n",
       " 6L,\n",
       " 6L,\n",
       " 8L,\n",
       " 7L,\n",
       " 7L,\n",
       " 8L,\n",
       " 10L,\n",
       " 5L,\n",
       " 8L,\n",
       " 9L,\n",
       " 10L,\n",
       " 4L,\n",
       " 10L,\n",
       " 6L,\n",
       " 9L,\n",
       " 7L,\n",
       " 7L,\n",
       " 7L,\n",
       " 7L,\n",
       " 9L,\n",
       " 8L,\n",
       " 7L,\n",
       " 7L,\n",
       " 7L,\n",
       " 6L,\n",
       " 4L,\n",
       " 7L,\n",
       " 8L,\n",
       " 6L,\n",
       " 7L,\n",
       " 5L,\n",
       " 7L,\n",
       " 7L,\n",
       " 7L,\n",
       " 9L,\n",
       " 6L,\n",
       " 7L,\n",
       " 10L,\n",
       " 6L,\n",
       " 6L,\n",
       " 7L,\n",
       " 7L,\n",
       " 9L,\n",
       " 8L,\n",
       " 7L,\n",
       " 7L,\n",
       " 6L,\n",
       " 5L,\n",
       " 3L,\n",
       " 2L,\n",
       " 5L,\n",
       " 8L,\n",
       " 9L,\n",
       " 9L,\n",
       " 5L,\n",
       " 5L,\n",
       " 5L,\n",
       " 9L,\n",
       " 6L,\n",
       " 7L,\n",
       " 3L,\n",
       " 1L,\n",
       " 2L,\n",
       " 4L,\n",
       " 1L,\n",
       " 1L,\n",
       " 1L,\n",
       " 1L,\n",
       " 1L,\n",
       " 2L,\n",
       " 1L,\n",
       " 5L,\n",
       " 8L,\n",
       " 7L,\n",
       " 8L,\n",
       " 8L,\n",
       " 2L,\n",
       " 5L,\n",
       " 8L,\n",
       " 5L,\n",
       " 7L,\n",
       " 5L,\n",
       " 1L,\n",
       " 2L,\n",
       " 1L,\n",
       " 1L,\n",
       " 6L,\n",
       " 8L,\n",
       " 8L,\n",
       " 5L,\n",
       " 7L,\n",
       " 5L,\n",
       " 9L,\n",
       " 6L,\n",
       " 8L,\n",
       " 8L,\n",
       " 10L,\n",
       " 8L,\n",
       " 8L,\n",
       " 7L,\n",
       " 10L,\n",
       " 7L,\n",
       " 5L,\n",
       " 8L,\n",
       " 4L,\n",
       " 4L,\n",
       " 3L,\n",
       " 7L,\n",
       " 6L,\n",
       " 7L,\n",
       " 9L,\n",
       " 10L,\n",
       " 8L,\n",
       " 9L,\n",
       " 8L,\n",
       " 10L,\n",
       " 9L,\n",
       " 9L,\n",
       " 8L,\n",
       " 8L,\n",
       " 7L,\n",
       " 8L,\n",
       " 9L,\n",
       " 7L,\n",
       " 9L,\n",
       " 7L,\n",
       " 10L,\n",
       " 9L,\n",
       " 10L,\n",
       " 7L,\n",
       " 6L,\n",
       " 7L,\n",
       " 10L,\n",
       " 6L,\n",
       " 5L,\n",
       " 7L,\n",
       " 5L,\n",
       " 7L,\n",
       " 5L,\n",
       " 9L,\n",
       " 7L,\n",
       " 9L,\n",
       " 9L,\n",
       " 8L,\n",
       " 10L,\n",
       " 7L,\n",
       " 9L,\n",
       " 9L,\n",
       " 8L,\n",
       " 7L,\n",
       " 9L,\n",
       " 8L,\n",
       " 7L,\n",
       " 9L,\n",
       " 10L,\n",
       " 10L,\n",
       " 7L,\n",
       " 5L,\n",
       " 7L,\n",
       " 6L,\n",
       " 6L,\n",
       " 6L,\n",
       " 9L,\n",
       " 9L,\n",
       " 6L,\n",
       " 10L,\n",
       " 7L,\n",
       " 10L,\n",
       " 8L,\n",
       " 7L,\n",
       " 9L,\n",
       " 8L,\n",
       " 9L,\n",
       " 9L,\n",
       " 6L,\n",
       " 10L,\n",
       " 8L,\n",
       " 8L,\n",
       " 5L,\n",
       " 3L,\n",
       " 7L,\n",
       " 7L,\n",
       " 8L,\n",
       " 7L,\n",
       " 8L,\n",
       " 6L,\n",
       " 7L,\n",
       " 7L,\n",
       " 8L,\n",
       " 8L,\n",
       " 8L,\n",
       " 8L,\n",
       " 7L,\n",
       " 7L,\n",
       " 10L,\n",
       " 7L,\n",
       " 7L,\n",
       " 8L,\n",
       " 6L,\n",
       " 7L,\n",
       " 6L,\n",
       " 8L,\n",
       " 6L,\n",
       " 6L,\n",
       " 7L,\n",
       " 7L,\n",
       " 7L,\n",
       " 9L,\n",
       " 7L,\n",
       " 7L,\n",
       " 7L,\n",
       " 9L,\n",
       " 8L,\n",
       " 9L,\n",
       " 7L,\n",
       " 6L,\n",
       " 5L,\n",
       " 8L,\n",
       " 5L,\n",
       " 6L,\n",
       " 7L,\n",
       " 7L,\n",
       " 9L,\n",
       " 4L,\n",
       " 5L,\n",
       " 6L,\n",
       " 8L,\n",
       " 10L,\n",
       " 5L,\n",
       " 6L,\n",
       " 6L,\n",
       " 5L,\n",
       " 5L,\n",
       " 6L,\n",
       " 2L,\n",
       " 3L,\n",
       " 9L,\n",
       " 6L,\n",
       " 8L,\n",
       " 5L,\n",
       " 10L,\n",
       " 10L,\n",
       " 8L,\n",
       " 7L,\n",
       " 7L,\n",
       " 6L,\n",
       " 8L,\n",
       " 9L,\n",
       " 6L,\n",
       " 9L,\n",
       " 8L,\n",
       " 7L,\n",
       " 7L,\n",
       " 7L,\n",
       " 7L,\n",
       " 7L,\n",
       " 8L,\n",
       " 7L,\n",
       " 8L,\n",
       " 7L,\n",
       " 6L,\n",
       " 5L,\n",
       " 4L,\n",
       " 4L,\n",
       " 6L,\n",
       " 6L,\n",
       " 9L,\n",
       " 8L,\n",
       " 8L,\n",
       " 6L,\n",
       " 9L,\n",
       " 7L,\n",
       " 6L,\n",
       " 5L,\n",
       " 8L,\n",
       " 7L,\n",
       " 8L,\n",
       " 8L,\n",
       " 8L,\n",
       " 8L,\n",
       " 10L,\n",
       " 7L,\n",
       " 8L,\n",
       " 6L,\n",
       " 6L,\n",
       " 3L,\n",
       " 3L,\n",
       " 6L,\n",
       " 6L,\n",
       " 7L,\n",
       " 4L,\n",
       " 7L,\n",
       " 8L,\n",
       " 7L,\n",
       " 8L,\n",
       " 10L,\n",
       " 7L,\n",
       " 8L,\n",
       " 8L,\n",
       " 8L,\n",
       " 8L,\n",
       " 7L,\n",
       " 7L,\n",
       " 7L,\n",
       " 6L,\n",
       " 4L,\n",
       " 7L,\n",
       " 9L,\n",
       " 8L,\n",
       " 6L,\n",
       " 6L,\n",
       " 7L,\n",
       " 8L,\n",
       " 5L,\n",
       " 8L,\n",
       " 6L,\n",
       " 6L,\n",
       " 6L,\n",
       " 7L,\n",
       " 10L,\n",
       " 9L,\n",
       " 8L,\n",
       " 9L,\n",
       " 5L,\n",
       " 5L,\n",
       " 6L,\n",
       " 7L,\n",
       " 7L,\n",
       " 4L,\n",
       " 7L,\n",
       " 7L,\n",
       " 10L,\n",
       " 7L,\n",
       " 9L,\n",
       " 8L,\n",
       " 9L,\n",
       " 7L,\n",
       " 7L,\n",
       " 9L,\n",
       " 7L,\n",
       " 7L,\n",
       " 9L,\n",
       " 4L,\n",
       " 7L,\n",
       " 5L,\n",
       " 6L,\n",
       " 5L,\n",
       " 5L,\n",
       " 6L,\n",
       " 6L,\n",
       " 5L,\n",
       " 7L,\n",
       " 7L,\n",
       " 6L,\n",
       " 6L,\n",
       " 6L,\n",
       " 8L,\n",
       " 6L,\n",
       " 5L,\n",
       " 6L,\n",
       " 3L,\n",
       " 7L,\n",
       " 5L,\n",
       " 3L,\n",
       " 6L,\n",
       " 5L,\n",
       " 7L,\n",
       " 6L,\n",
       " 6L,\n",
       " 6L,\n",
       " 5L,\n",
       " 7L,\n",
       " 7L,\n",
       " 7L,\n",
       " 6L,\n",
       " 8L,\n",
       " 10L,\n",
       " 7L,\n",
       " 8L,\n",
       " 6L,\n",
       " 9L,\n",
       " 9L,\n",
       " 6L,\n",
       " 6L,\n",
       " 10L,\n",
       " 10L,\n",
       " 9L,\n",
       " 10L,\n",
       " 7L,\n",
       " 8L,\n",
       " 7L,\n",
       " 8L,\n",
       " 7L,\n",
       " 7L,\n",
       " 10L,\n",
       " 9L,\n",
       " 9L,\n",
       " 8L,\n",
       " 9L,\n",
       " 6L,\n",
       " 5L,\n",
       " 9L,\n",
       " 9L,\n",
       " 9L,\n",
       " 6L,\n",
       " 3L,\n",
       " 9L,\n",
       " 8L,\n",
       " 5L,\n",
       " 8L,\n",
       " 8L,\n",
       " 9L,\n",
       " 6L,\n",
       " 9L,\n",
       " 10L,\n",
       " 5L,\n",
       " 7L,\n",
       " 7L,\n",
       " 5L,\n",
       " 10L,\n",
       " 7L,\n",
       " 6L,\n",
       " 6L,\n",
       " 7L,\n",
       " 4L,\n",
       " 10L,\n",
       " 10L,\n",
       " 3L,\n",
       " 5L,\n",
       " 7L,\n",
       " 2L,\n",
       " 2L,\n",
       " 5L,\n",
       " 7L,\n",
       " 5L,\n",
       " 3L,\n",
       " 10L,\n",
       " 8L,\n",
       " 5L,\n",
       " 7L,\n",
       " 8L,\n",
       " 4L,\n",
       " 4L,\n",
       " 9L,\n",
       " 7L,\n",
       " 7L,\n",
       " 7L,\n",
       " 9L,\n",
       " 6L,\n",
       " 9L,\n",
       " 6L,\n",
       " 7L,\n",
       " 5L,\n",
       " 5L,\n",
       " 10L,\n",
       " 10L,\n",
       " 8L,\n",
       " 6L,\n",
       " 10L,\n",
       " 6L,\n",
       " 7L,\n",
       " 7L,\n",
       " 9L,\n",
       " 8L,\n",
       " 9L,\n",
       " 9L,\n",
       " 8L,\n",
       " 10L,\n",
       " 8L,\n",
       " 9L,\n",
       " 9L,\n",
       " 9L,\n",
       " 7L,\n",
       " 8L,\n",
       " 8L,\n",
       " 7L,\n",
       " 9L,\n",
       " 8L,\n",
       " 8L,\n",
       " 8L,\n",
       " 7L,\n",
       " 7L,\n",
       " 8L,\n",
       " 7L,\n",
       " 9L,\n",
       " 7L,\n",
       " 7L,\n",
       " 8L,\n",
       " 8L,\n",
       " 10L,\n",
       " 9L,\n",
       " 8L,\n",
       " 5L,\n",
       " 7L,\n",
       " 7L,\n",
       " 7L,\n",
       " 7L,\n",
       " 6L,\n",
       " 5L,\n",
       " 8L,\n",
       " 10L,\n",
       " 10L,\n",
       " 10L,\n",
       " 10L,\n",
       " 10L,\n",
       " 10L,\n",
       " 10L,\n",
       " 7L,\n",
       " 10L,\n",
       " 4L,\n",
       " 10L,\n",
       " 7L,\n",
       " 10L,\n",
       " 9L,\n",
       " 8L,\n",
       " 9L,\n",
       " 8L,\n",
       " 7L,\n",
       " 8L,\n",
       " 9L,\n",
       " 8L,\n",
       " 7L,\n",
       " 4L,\n",
       " 10L,\n",
       " 10L,\n",
       " 6L,\n",
       " 7L,\n",
       " 3L,\n",
       " 6L,\n",
       " 6L,\n",
       " 7L,\n",
       " 8L,\n",
       " 7L,\n",
       " 7L,\n",
       " 8L,\n",
       " 8L,\n",
       " 6L,\n",
       " 8L,\n",
       " 6L,\n",
       " 9L,\n",
       " 9L,\n",
       " 9L,\n",
       " 9L,\n",
       " 9L,\n",
       " 7L,\n",
       " 8L,\n",
       " 10L,\n",
       " 9L,\n",
       " 10L,\n",
       " 9L,\n",
       " 9L,\n",
       " 10L,\n",
       " 8L,\n",
       " 4L,\n",
       " 6L,\n",
       " 9L,\n",
       " 10L,\n",
       " 10L,\n",
       " 10L,\n",
       " 10L,\n",
       " 7L,\n",
       " 8L,\n",
       " 9L,\n",
       " 7L,\n",
       " 7L,\n",
       " 9L,\n",
       " 9L,\n",
       " 4L,\n",
       " 6L,\n",
       " 6L,\n",
       " 3L,\n",
       " 3L,\n",
       " 3L,\n",
       " 4L,\n",
       " 8L,\n",
       " 9L,\n",
       " 9L,\n",
       " 7L,\n",
       " 3L,\n",
       " 3L,\n",
       " 4L,\n",
       " 3L,\n",
       " 4L,\n",
       " 3L,\n",
       " 5L,\n",
       " 7L,\n",
       " 9L,\n",
       " 10L,\n",
       " 9L,\n",
       " 9L,\n",
       " 9L,\n",
       " 7L,\n",
       " 4L,\n",
       " 4L,\n",
       " 4L,\n",
       " 3L,\n",
       " 3L,\n",
       " 4L,\n",
       " 3L,\n",
       " 8L,\n",
       " 8L,\n",
       " 10L,\n",
       " 6L,\n",
       " 6L,\n",
       " 4L,\n",
       " 4L,\n",
       " 3L,\n",
       " 3L,\n",
       " 6L,\n",
       " 9L,\n",
       " 8L,\n",
       " 5L,\n",
       " 8L,\n",
       " 9L,\n",
       " 9L,\n",
       " 8L,\n",
       " 9L,\n",
       " 8L,\n",
       " 9L,\n",
       " 8L,\n",
       " 6L,\n",
       " 9L,\n",
       " 8L,\n",
       " 9L,\n",
       " 6L,\n",
       " 8L,\n",
       " 9L,\n",
       " 7L,\n",
       " 7L,\n",
       " 9L,\n",
       " 8L,\n",
       " 10L,\n",
       " 8L,\n",
       " 7L,\n",
       " 8L,\n",
       " 8L,\n",
       " 10L,\n",
       " 8L,\n",
       " 10L,\n",
       " 7L,\n",
       " 7L,\n",
       " 7L,\n",
       " 10L,\n",
       " 9L,\n",
       " 8L,\n",
       " 9L,\n",
       " 7L,\n",
       " 7L,\n",
       " 8L,\n",
       " 9L,\n",
       " 7L,\n",
       " 8L,\n",
       " 7L,\n",
       " 9L,\n",
       " 7L,\n",
       " 7L,\n",
       " 6L,\n",
       " 6L,\n",
       " 8L,\n",
       " 7L,\n",
       " 9L,\n",
       " 8L,\n",
       " 10L,\n",
       " 10L,\n",
       " 10L,\n",
       " 8L,\n",
       " 6L,\n",
       " 7L,\n",
       " 7L,\n",
       " 9L,\n",
       " 9L,\n",
       " 8L,\n",
       " 9L,\n",
       " 10L,\n",
       " 8L,\n",
       " 10L,\n",
       " 7L,\n",
       " 6L,\n",
       " 7L,\n",
       " 9L,\n",
       " 10L,\n",
       " 6L,\n",
       " 8L,\n",
       " 9L,\n",
       " 5L,\n",
       " 6L,\n",
       " 6L,\n",
       " 10L,\n",
       " 6L,\n",
       " 9L,\n",
       " 9L,\n",
       " 7L,\n",
       " 6L,\n",
       " 9L,\n",
       " 10L,\n",
       " 8L,\n",
       " 9L,\n",
       " 9L,\n",
       " 9L,\n",
       " 8L,\n",
       " 8L,\n",
       " 8L,\n",
       " 9L,\n",
       " 6L,\n",
       " 7L,\n",
       " 10L,\n",
       " 7L,\n",
       " 7L,\n",
       " 6L,\n",
       " 7L,\n",
       " 8L,\n",
       " 7L,\n",
       " 7L,\n",
       " 5L,\n",
       " 5L,\n",
       " 5L,\n",
       " 8L,\n",
       " 6L,\n",
       " 6L,\n",
       " 6L,\n",
       " 5L,\n",
       " 5L,\n",
       " 5L,\n",
       " 6L,\n",
       " 6L,\n",
       " 2L,\n",
       " 7L,\n",
       " 5L,\n",
       " 6L,\n",
       " 5L,\n",
       " 7L,\n",
       " 8L,\n",
       " 3L,\n",
       " 8L,\n",
       " 6L,\n",
       " 6L,\n",
       " 9L,\n",
       " 7L,\n",
       " 8L,\n",
       " 7L,\n",
       " 4L,\n",
       " 5L,\n",
       " 6L,\n",
       " 6L,\n",
       " 3L,\n",
       " 7L,\n",
       " 7L,\n",
       " 7L,\n",
       " 6L,\n",
       " 5L,\n",
       " 8L,\n",
       " 7L,\n",
       " 9L,\n",
       " 8L,\n",
       " 7L,\n",
       " 3L,\n",
       " 4L,\n",
       " 8L,\n",
       " 6L,\n",
       " 7L,\n",
       " 9L,\n",
       " 7L,\n",
       " 8L,\n",
       " 9L,\n",
       " 7L,\n",
       " 6L,\n",
       " 8L,\n",
       " 6L,\n",
       " 5L,\n",
       " 6L,\n",
       " 7L,\n",
       " 7L,\n",
       " 3L,\n",
       " 5L,\n",
       " 7L,\n",
       " 9L,\n",
       " 6L,\n",
       " 7L,\n",
       " 9L,\n",
       " 6L,\n",
       " 6L,\n",
       " 8L,\n",
       " 6L,\n",
       " 6L,\n",
       " 7L,\n",
       " 8L,\n",
       " 9L,\n",
       " 10L,\n",
       " 8L,\n",
       " 9L,\n",
       " 8L,\n",
       " 8L,\n",
       " 9L,\n",
       " 8L,\n",
       " 7L,\n",
       " 9L,\n",
       " 10L,\n",
       " 8L,\n",
       " 9L,\n",
       " 8L,\n",
       " 6L,\n",
       " 4L,\n",
       " 5L,\n",
       " 6L,\n",
       " 6L,\n",
       " 5L,\n",
       " 3L,\n",
       " 4L,\n",
       " 4L,\n",
       " 7L,\n",
       " 8L,\n",
       " 10L,\n",
       " 5L,\n",
       " 8L,\n",
       " 8L,\n",
       " 8L,\n",
       " 5L,\n",
       " 7L,\n",
       " 5L,\n",
       " 3L,\n",
       " 6L,\n",
       " 5L,\n",
       " 3L,\n",
       " 6L,\n",
       " 6L,\n",
       " 4L,\n",
       " 8L,\n",
       " 8L,\n",
       " 8L,\n",
       " 6L,\n",
       " 4L,\n",
       " 7L,\n",
       " 6L,\n",
       " 7L,\n",
       " 7L,\n",
       " 4L,\n",
       " 7L,\n",
       " 7L,\n",
       " 6L,\n",
       " 8L,\n",
       " 7L,\n",
       " 6L,\n",
       " 9L,\n",
       " 10L,\n",
       " 10L,\n",
       " 9L,\n",
       " 6L,\n",
       " 7L,\n",
       " 9L,\n",
       " 10L,\n",
       " 10L,\n",
       " 8L,\n",
       " 7L,\n",
       " 6L,\n",
       " 7L,\n",
       " 7L,\n",
       " 6L,\n",
       " 8L,\n",
       " 8L,\n",
       " 6L,\n",
       " 7L,\n",
       " 6L,\n",
       " 7L,\n",
       " 10L,\n",
       " 6L,\n",
       " 8L,\n",
       " 6L,\n",
       " 4L,\n",
       " 5L,\n",
       " 5L,\n",
       " 5L,\n",
       " 5L,\n",
       " 5L,\n",
       " 5L,\n",
       " 5L,\n",
       " 5L,\n",
       " 5L,\n",
       " 5L,\n",
       " 5L,\n",
       " 5L,\n",
       " 5L,\n",
       " 5L,\n",
       " 5L,\n",
       " 5L,\n",
       " 5L,\n",
       " 5L,\n",
       " 5L,\n",
       " 5L,\n",
       " 5L,\n",
       " 5L,\n",
       " 5L,\n",
       " 5L,\n",
       " 5L,\n",
       " 5L,\n",
       " 5L,\n",
       " 5L,\n",
       " 5L,\n",
       " 7L,\n",
       " 10L,\n",
       " 5L,\n",
       " 9L,\n",
       " 9L,\n",
       " 9L,\n",
       " 9L,\n",
       " 7L,\n",
       " 10L,\n",
       " 9L,\n",
       " 6L,\n",
       " 7L,\n",
       " 6L,\n",
       " 6L,\n",
       " 7L,\n",
       " 8L,\n",
       " 6L,\n",
       " 7L,\n",
       " 4L,\n",
       " 2L,\n",
       " 6L,\n",
       " 3L,\n",
       " 4L,\n",
       " 8L,\n",
       " 10L,\n",
       " 9L,\n",
       " 10L,\n",
       " 6L,\n",
       " 6L,\n",
       " 9L,\n",
       " 5L,\n",
       " 7L,\n",
       " 6L,\n",
       " 5L,\n",
       " 2L,\n",
       " 3L,\n",
       " 1L,\n",
       " 2L,\n",
       " 1L,\n",
       " 1L,\n",
       " 1L,\n",
       " 1L,\n",
       " 1L,\n",
       " 2L,\n",
       " 1L,\n",
       " 1L,\n",
       " 1L,\n",
       " 2L,\n",
       " 6L,\n",
       " 3L,\n",
       " 5L,\n",
       " 4L,\n",
       " 3L,\n",
       " 1L,\n",
       " 1L,\n",
       " ...]"
      ]
     },
     "execution_count": 21,
     "metadata": {},
     "output_type": "execute_result"
    }
   ],
   "source": [
    "num_unique_sites"
   ]
  },
  {
   "cell_type": "code",
   "execution_count": 11,
   "metadata": {},
   "outputs": [
    {
     "data": {
      "text/plain": [
       "(0.9544311165809631, 0.0)"
      ]
     },
     "execution_count": 11,
     "metadata": {},
     "output_type": "execute_result"
    }
   ],
   "source": [
    "stats.shapiro(num_unique_sites)"
   ]
  },
  {
   "cell_type": "code",
   "execution_count": 13,
   "metadata": {},
   "outputs": [
    {
     "data": {
      "text/plain": [
       "(0.9772805571556091, 0.08144091814756393)"
      ]
     },
     "execution_count": 13,
     "metadata": {},
     "output_type": "execute_result"
    }
   ],
   "source": [
    "np.random.seed(17)\n",
    "x = stats.norm.rvs(loc=5, scale=3, size=100)\n",
    "stats.shapiro(x)"
   ]
  },
  {
   "cell_type": "code",
   "execution_count": 15,
   "metadata": {},
   "outputs": [
    {
     "data": {
      "text/plain": [
       "array([ 0.45976156,  0.87081979,  0.18129868, ...,  0.89990916,\n",
       "        0.90940149,  0.53743215])"
      ]
     },
     "execution_count": 15,
     "metadata": {},
     "output_type": "execute_result"
    }
   ],
   "source": [
    "np.random.rand(5000)"
   ]
  },
  {
   "cell_type": "code",
   "execution_count": 18,
   "metadata": {},
   "outputs": [
    {
     "data": {
      "text/plain": [
       "5000.364236483885"
      ]
     },
     "execution_count": 18,
     "metadata": {},
     "output_type": "execute_result"
    }
   ],
   "source": [
    "np.random.normal(5000)"
   ]
  },
  {
   "cell_type": "code",
   "execution_count": 16,
   "metadata": {
    "scrolled": true
   },
   "outputs": [
    {
     "data": {
      "text/plain": [
       "(0.9548801183700562, 9.234426839403055e-37)"
      ]
     },
     "execution_count": 16,
     "metadata": {},
     "output_type": "execute_result"
    }
   ],
   "source": [
    "stats.shapiro(np.random.rand(5000))"
   ]
  },
  {
   "cell_type": "code",
   "execution_count": null,
   "metadata": {
    "collapsed": true
   },
   "outputs": [],
   "source": []
  },
  {
   "cell_type": "code",
   "execution_count": 19,
   "metadata": {
    "collapsed": true
   },
   "outputs": [],
   "source": [
    "n = 10000000  # Number of samples to generate\n",
    "k = 10000     # Batch size\n",
    "a = np.empty(n, dtype=np.float16)\n",
    "for i in range(0, n, k):\n",
    "    a[i:i+k] = np.random.normal(loc=0, scale=1, size=k)"
   ]
  },
  {
   "cell_type": "code",
   "execution_count": 20,
   "metadata": {},
   "outputs": [
    {
     "data": {
      "text/plain": [
       "(0.996959924697876, 0.0)"
      ]
     },
     "execution_count": 20,
     "metadata": {},
     "output_type": "execute_result"
    }
   ],
   "source": [
    "stats.shapiro(a)"
   ]
  },
  {
   "cell_type": "markdown",
   "metadata": {},
   "source": [
    "**Проверьте с помощью QQ-плота и критерия Шапиро-Уилка, что эта величина распределена нормально**"
   ]
  },
  {
   "cell_type": "markdown",
   "metadata": {},
   "source": [
    "**<font color='red'> Вопрос 2. </font>Распределено ли нормально число уникальных сайтов в каждой сессии из 10 посещенных подряд сайтов (согласно критерию Шапиро-Уилка)?**"
   ]
  },
  {
   "cell_type": "code",
   "execution_count": null,
   "metadata": {
    "collapsed": true
   },
   "outputs": [],
   "source": [
    "''' ВАШ КОД ЗДЕСЬ '''"
   ]
  },
  {
   "cell_type": "markdown",
   "metadata": {},
   "source": [
    "**Проверьте гипотезу о том, что пользователь хотя бы раз зайдет на сайт, который он уже ранее посетил в сессии из 10 сайтов. Давайте проверим с помощью биномиального критерия для доли, что доля случаев, когда пользователь повторно посетил какой-то сайт (то есть число уникальных сайтов в сессии < 10) велика: больше 95% (обратите внимание, что альтернатива тому, что доля равна 95% –  одностороняя). Ответом на 3 вопрос в тесте будет полученное p-value.**"
   ]
  },
  {
   "cell_type": "markdown",
   "metadata": {},
   "source": [
    "**<font color='red'> Вопрос 3. </font>Каково p-value при проверке описанной гипотезы?**"
   ]
  },
  {
   "cell_type": "code",
   "execution_count": 22,
   "metadata": {
    "collapsed": true
   },
   "outputs": [],
   "source": [
    "has_two_similar = (np.array(num_unique_sites) < 10).astype('int')"
   ]
  },
  {
   "cell_type": "code",
   "execution_count": 121,
   "metadata": {},
   "outputs": [
    {
     "data": {
      "text/plain": [
       "14061"
      ]
     },
     "execution_count": 121,
     "metadata": {},
     "output_type": "execute_result"
    }
   ],
   "source": [
    "len(num_unique_sites)"
   ]
  },
  {
   "cell_type": "code",
   "execution_count": 58,
   "metadata": {},
   "outputs": [
    {
     "data": {
      "text/plain": [
       "(14061L,)"
      ]
     },
     "execution_count": 58,
     "metadata": {},
     "output_type": "execute_result"
    }
   ],
   "source": [
    "has_two_similar.shape"
   ]
  },
  {
   "cell_type": "code",
   "execution_count": 132,
   "metadata": {
    "scrolled": true
   },
   "outputs": [
    {
     "name": "stdout",
     "output_type": "stream",
     "text": [
      "[[    0   667]\n",
      " [    1 13394]]\n"
     ]
    }
   ],
   "source": [
    "unique, counts = np.unique(has_two_similar, return_counts=True)\n",
    "\n",
    "print(np.asarray((unique, counts)).T)"
   ]
  },
  {
   "cell_type": "code",
   "execution_count": 133,
   "metadata": {
    "collapsed": true
   },
   "outputs": [],
   "source": [
    "x = np.array(has_two_similar)\n",
    "y = np.bincount(x)\n",
    "ii = np.nonzero(y)[0]"
   ]
  },
  {
   "cell_type": "code",
   "execution_count": 134,
   "metadata": {},
   "outputs": [
    {
     "data": {
      "text/plain": [
       "[(0, 667), (1, 13394)]"
      ]
     },
     "execution_count": 134,
     "metadata": {},
     "output_type": "execute_result"
    }
   ],
   "source": [
    "zip(ii,y[ii]) "
   ]
  },
  {
   "cell_type": "code",
   "execution_count": 106,
   "metadata": {
    "scrolled": true
   },
   "outputs": [
    {
     "data": {
      "text/plain": [
       "14061"
      ]
     },
     "execution_count": 106,
     "metadata": {},
     "output_type": "execute_result"
    }
   ],
   "source": [
    "has_two_similar"
   ]
  },
  {
   "cell_type": "code",
   "execution_count": 74,
   "metadata": {
    "collapsed": true
   },
   "outputs": [],
   "source": [
    "stats.binom_test?"
   ]
  },
  {
   "cell_type": "code",
   "execution_count": 100,
   "metadata": {},
   "outputs": [],
   "source": [
    "pi_val = stats.binom_test(667, 14061, p=0.95,alternative=\"less\")"
   ]
  },
  {
   "cell_type": "code",
   "execution_count": 135,
   "metadata": {
    "collapsed": true
   },
   "outputs": [],
   "source": [
    "np.random.seed(17)"
   ]
  },
  {
   "cell_type": "code",
   "execution_count": 139,
   "metadata": {},
   "outputs": [
    {
     "data": {
      "text/plain": [
       "0.9525638290306522"
      ]
     },
     "execution_count": 139,
     "metadata": {},
     "output_type": "execute_result"
    }
   ],
   "source": [
    "13394/14061"
   ]
  },
  {
   "cell_type": "code",
   "execution_count": 147,
   "metadata": {
    "scrolled": true
   },
   "outputs": [
    {
     "data": {
      "text/plain": [
       "4.9406564584124654e-324"
      ]
     },
     "execution_count": 147,
     "metadata": {},
     "output_type": "execute_result"
    }
   ],
   "source": [
    "stats.binom_test(13394, 14061, p=0.5,alternative=\"greater\")"
   ]
  },
  {
   "cell_type": "code",
   "execution_count": 114,
   "metadata": {},
   "outputs": [
    {
     "data": {
      "text/plain": [
       "0.050000000000000044"
      ]
     },
     "execution_count": 114,
     "metadata": {},
     "output_type": "execute_result"
    }
   ],
   "source": [
    "1-stats.binom_test([1,1-0.04979841720173212], p=0.95,alternative=\"greater\")"
   ]
  },
  {
   "cell_type": "markdown",
   "metadata": {},
   "source": [
    "**<font color='red'> Вопрос 4. </font>Каков 95% доверительный интервал Уилсона для доли случаев, когда пользователь повторно посетил какой-то сайт (из п. 3)?**"
   ]
  },
  {
   "cell_type": "code",
   "execution_count": 142,
   "metadata": {},
   "outputs": [],
   "source": [
    "from statsmodels.stats.proportion import proportion_confint"
   ]
  },
  {
   "cell_type": "code",
   "execution_count": 143,
   "metadata": {},
   "outputs": [
    {
     "data": {
      "text/plain": [
       "(0.94892501328426881, 0.95595543184995813)"
      ]
     },
     "execution_count": 143,
     "metadata": {},
     "output_type": "execute_result"
    }
   ],
   "source": [
    "proportion_confint(13394, 14061, method='wilson')"
   ]
  },
  {
   "cell_type": "code",
   "execution_count": null,
   "metadata": {
    "collapsed": true
   },
   "outputs": [],
   "source": []
  },
  {
   "cell_type": "code",
   "execution_count": null,
   "metadata": {
    "collapsed": true
   },
   "outputs": [],
   "source": []
  },
  {
   "cell_type": "code",
   "execution_count": null,
   "metadata": {
    "collapsed": true
   },
   "outputs": [],
   "source": []
  },
  {
   "cell_type": "code",
   "execution_count": 115,
   "metadata": {
    "collapsed": true
   },
   "outputs": [],
   "source": [
    "\n",
    "from math import sqrt\n",
    "\n",
    "def confidence(ups, downs):\n",
    "    n = ups + downs\n",
    "\n",
    "    if n == 0:\n",
    "        return 0\n",
    "\n",
    "    z = 1.96 #1.44 = 85%, 1.96 = 95%\n",
    "    phat = float(ups) / n\n",
    "    return ((phat + z*z/(2*n) - z * sqrt((phat*(1-phat)+z*z/(4*n))/n))/(1+z*z/n))"
   ]
  },
  {
   "cell_type": "code",
   "execution_count": 116,
   "metadata": {},
   "outputs": [
    {
     "data": {
      "text/plain": [
       "0.04404450803533392"
      ]
     },
     "execution_count": 116,
     "metadata": {},
     "output_type": "execute_result"
    }
   ],
   "source": [
    "confidence(667,13394)"
   ]
  },
  {
   "cell_type": "code",
   "execution_count": 117,
   "metadata": {},
   "outputs": [
    {
     "data": {
      "text/plain": [
       "0.4819422451417067"
      ]
     },
     "execution_count": 117,
     "metadata": {},
     "output_type": "execute_result"
    }
   ],
   "source": [
    "confidence(13394,13394+667)"
   ]
  },
  {
   "cell_type": "code",
   "execution_count": 25,
   "metadata": {
    "collapsed": true
   },
   "outputs": [],
   "source": [
    "wilson_interval = ''' ВАШ КОД ЗДЕСЬ '''"
   ]
  },
  {
   "cell_type": "code",
   "execution_count": 26,
   "metadata": {
    "collapsed": true
   },
   "outputs": [],
   "source": [
    "print('{} {}'.format(round(wilson_interval[0], 3),\n",
    "                                   round(wilson_interval[1], 3)))"
   ]
  },
  {
   "cell_type": "markdown",
   "metadata": {},
   "source": [
    "**Постройте распределение частоты посещения сайтов (сколько раз тот или иной сайт попадается в выборке) для сайтов, которые были посещены как минимум 1000 раз.**"
   ]
  },
  {
   "cell_type": "code",
   "execution_count": 28,
   "metadata": {
    "collapsed": true
   },
   "outputs": [],
   "source": [
    "site_freqs = ''' ВАШ КОД ЗДЕСЬ '''"
   ]
  },
  {
   "cell_type": "code",
   "execution_count": null,
   "metadata": {
    "collapsed": true
   },
   "outputs": [],
   "source": [
    "''' ВАШ КОД ЗДЕСЬ '''"
   ]
  },
  {
   "cell_type": "markdown",
   "metadata": {},
   "source": [
    "**Постройте 95% доверительный интервал для средней частоты появления сайта в выборке (во всей, уже не только для тех сайтов, что были посещены как минимум 1000 раз) на основе bootstrap. Используйте столько же bootstrap-подвыборок, сколько сайтов оказалось в исходной выборке по 10 пользователям. Берите подвыборки из посчитанного списка частот посещений сайтов – не надо заново считать эти частоты. Учтите, что частоту появления нуля (сайт с индексом 0 появлялся там, где сессии были короче 10 сайтов) включать не надо. Округлите границы интервала до 3 знаков после запятой и запишите через пробел в файл *answer2_5.txt*. Это будет ответом на 5 вопрос теста.**"
   ]
  },
  {
   "cell_type": "markdown",
   "metadata": {},
   "source": [
    "**<font color='red'> Вопрос 5. </font>Каков 95% доверительный интервал для средней частоты появления сайта в выборке?**"
   ]
  },
  {
   "cell_type": "code",
   "execution_count": 31,
   "metadata": {
    "collapsed": true
   },
   "outputs": [],
   "source": [
    "def get_bootstrap_samples(data, n_samples, random_seed=17):\n",
    "    np.random.seed(random_seed)\n",
    "    indices = np.random.randint(0, len(data), (n_samples, len(data)))\n",
    "    samples = data[indices]\n",
    "    return samples"
   ]
  },
  {
   "cell_type": "code",
   "execution_count": 32,
   "metadata": {
    "collapsed": true
   },
   "outputs": [],
   "source": [
    "def stat_intervals(stat, alpha):\n",
    "    boundaries = np.percentile(stat, \n",
    "                 [100 * alpha / 2., 100 * (1 - alpha / 2.)])\n",
    "    return boundaries"
   ]
  },
  {
   "cell_type": "code",
   "execution_count": 34,
   "metadata": {
    "collapsed": true
   },
   "outputs": [],
   "source": [
    "''' ВАШ КОД ЗДЕСЬ '''"
   ]
  },
  {
   "cell_type": "markdown",
   "metadata": {},
   "source": [
    "## Пути улучшения\n",
    "Что еще можно добавить по второй части проекта:\n",
    "- можно дополнительно рассматривать сессии с параметром – длиной сессии по времени. И составить выборки, скажем, для 5-, 10-, 15- и 20-минутных сессий (это как раз пригодится в [соревновании](https://inclass.kaggle.com/c/catch-me-if-you-can-intruder-detection-through-webpage-session-tracking2) Kaggle Inclass)\n",
    "- можно провести больше первичного анализа и проверять прочие интересные гипотезы (а больше их появится после создания признаков на следующей неделе)\n",
    "\n",
    "На 3 неделе мы займемся визуальным анализом данных и построением признаков."
   ]
  }
 ],
 "metadata": {
  "anaconda-cloud": {},
  "kernelspec": {
   "display_name": "Python 2",
   "language": "python",
   "name": "python2"
  },
  "language_info": {
   "codemirror_mode": {
    "name": "ipython",
    "version": 2
   },
   "file_extension": ".py",
   "mimetype": "text/x-python",
   "name": "python",
   "nbconvert_exporter": "python",
   "pygments_lexer": "ipython2",
   "version": "2.7.13"
  }
 },
 "nbformat": 4,
 "nbformat_minor": 1
}
