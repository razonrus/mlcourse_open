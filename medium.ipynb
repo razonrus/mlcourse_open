{
 "cells": [
  {
   "cell_type": "markdown",
   "metadata": {
    "_cell_guid": "20ff96c2-6e8f-474a-86a5-b762b7876b1c",
    "_uuid": "3cc7d9de4da8f868d983ec69b37546c51d68f407"
   },
   "source": [
    "Here we use a simple linear model and article content with `CountVectorizer`."
   ]
  },
  {
   "cell_type": "markdown",
   "metadata": {
    "_cell_guid": "10375e63-c7e4-4384-9521-1c5f20906eae",
    "_uuid": "889e971a7c32a4ac1dbc4ef55df672ab0f1ac9be"
   },
   "source": [
    "Import libraries."
   ]
  },
  {
   "cell_type": "code",
   "execution_count": 1,
   "metadata": {
    "_cell_guid": "475f15a1-214d-4b48-b315-cdfa71c20c50",
    "_uuid": "7e5b949eafbf62826c6f02c39fdb55178d66fabd",
    "collapsed": true
   },
   "outputs": [],
   "source": [
    "import os\n",
    "import numpy as np\n",
    "import pandas as pd\n",
    "from matplotlib import pyplot as plt\n",
    "%matplotlib inline\n",
    "import json\n",
    "from tqdm import tqdm_notebook\n",
    "from sklearn.feature_extraction.text import CountVectorizer\n",
    "from sklearn.metrics import mean_absolute_error"
   ]
  },
  {
   "cell_type": "markdown",
   "metadata": {
    "_cell_guid": "2c1f42b4-423a-4ea6-a3a8-e783d1e10fda",
    "_uuid": "cf2daf1d4628d1f996e5c6180d3ee49bdbc8488f"
   },
   "source": [
    "The following code will help to throw away all HTML tags from an article content."
   ]
  },
  {
   "cell_type": "code",
   "execution_count": 2,
   "metadata": {
    "_cell_guid": "37ad2332-3111-4983-a6aa-0961aeb6ae02",
    "_uuid": "e64bf63dbe42583a5080d31e19d7d283a6bc0c68",
    "collapsed": true
   },
   "outputs": [],
   "source": [
    "from html.parser import HTMLParser\n",
    "\n",
    "class MLStripper(HTMLParser):\n",
    "    def __init__(self):\n",
    "        self.reset()\n",
    "        self.strict = False\n",
    "        self.convert_charrefs= True\n",
    "        self.fed = []\n",
    "    def handle_data(self, d):\n",
    "        self.fed.append(d)\n",
    "    def get_data(self):\n",
    "        return ''.join(self.fed)\n",
    "\n",
    "def strip_tags(html):\n",
    "    s = MLStripper()\n",
    "    s.feed(html)\n",
    "    return s.get_data()"
   ]
  },
  {
   "cell_type": "code",
   "execution_count": 3,
   "metadata": {
    "_cell_guid": "9051d077-6739-4fe2-83a5-6628f4833cbf",
    "_uuid": "dfeac755772fd66636d84221a80501754fe3dfbf",
    "collapsed": true
   },
   "outputs": [],
   "source": [
    "PATH_TO_DATA = 'E:/data/'"
   ]
  },
  {
   "cell_type": "markdown",
   "metadata": {
    "_cell_guid": "60c7c92c-c387-4c1a-b272-fc36f85b0cef",
    "_uuid": "af961104abccccf1dff5638b7e97c474f56e51b8"
   },
   "source": [
    "Assume you have all data downloaded from competition's [page](https://www.kaggle.com/c/how-good-is-your-medium-article/data) in the PATH_TO_DATA folder and `.gz` files are ungzipped."
   ]
  },
  {
   "cell_type": "code",
   "execution_count": 4,
   "metadata": {
    "_cell_guid": "b6b85182-8ca8-4144-91ef-ceb472ce2518",
    "_uuid": "75ca681a11b040c9f5b3b38e37a9f99351ecf278"
   },
   "outputs": [
    {
     "name": "stderr",
     "output_type": "stream",
     "text": [
      "'ls' is not recognized as an internal or external command,\n",
      "operable program or batch file.\n"
     ]
    }
   ],
   "source": [
    "!ls -l $PATH_TO_DATA"
   ]
  },
  {
   "cell_type": "markdown",
   "metadata": {
    "_cell_guid": "8aa113b4-f062-46c2-ac90-c859a064226d",
    "_uuid": "5da5e0f993dc5bbd06d291c3fc1953aba470546e"
   },
   "source": [
    "Supplementary function to read a JSON line without crashing on escape characters. "
   ]
  },
  {
   "cell_type": "code",
   "execution_count": 5,
   "metadata": {
    "_cell_guid": "badfb2bc-1f36-4311-a6aa-6452380e7e40",
    "_uuid": "bc1b8f0ecfba589b0714b9014fac3329793a2421",
    "collapsed": true
   },
   "outputs": [],
   "source": [
    "def read_json_line(line=None):\n",
    "    result = None\n",
    "    try:        \n",
    "        result = json.loads(line)\n",
    "    except Exception as e:      \n",
    "        # Find the offending character index:\n",
    "        idx_to_replace = int(str(e).split(' ')[-1].replace(')',''))      \n",
    "        # Remove the offending character:\n",
    "        new_line = list(line)\n",
    "        new_line[idx_to_replace] = ' '\n",
    "        new_line = ''.join(new_line)     \n",
    "        return read_json_line(line=new_line)\n",
    "    return result"
   ]
  },
  {
   "cell_type": "markdown",
   "metadata": {
    "_cell_guid": "4b78878e-b4f2-4a45-8be3-f789b3c3f221",
    "_uuid": "8ae68965cee9dfb58f88370e6a079ec4b2306e10"
   },
   "source": [
    "This function takes a JSON and forms a txt file leaving only article content. When you resort to feature engineering and extract various features from articles, a good idea is to modify this function."
   ]
  },
  {
   "cell_type": "code",
   "execution_count": 6,
   "metadata": {
    "_cell_guid": "324441ce-e666-44c4-838c-acd78f9bfcf5",
    "_uuid": "e0fe7f2fd52b8f91c95cfb78c2af9d8e520cdd60",
    "collapsed": true
   },
   "outputs": [],
   "source": [
    "def preprocess(path_to_inp_json_file):\n",
    "    output_list = []\n",
    "    with open(path_to_inp_json_file, encoding='utf-8') as inp_file:\n",
    "        for line in tqdm_notebook(inp_file):\n",
    "            json_data = read_json_line(line)\n",
    "            content = json_data['content'].replace('\\n', ' ').replace('\\r', ' ')\n",
    "            content_no_html_tags = strip_tags(content)\n",
    "            output_list.append(content_no_html_tags)\n",
    "    return output_list"
   ]
  },
  {
   "cell_type": "code",
   "execution_count": 173,
   "metadata": {},
   "outputs": [],
   "source": [
    "def get_feature(path_to_inp_json_file, feature_name):\n",
    "    output_list = []\n",
    "    with open(path_to_inp_json_file, encoding='utf-8') as inp_file:\n",
    "        for line in tqdm_notebook(inp_file):\n",
    "       #     print(line)\n",
    "            json_data = read_json_line(line)\n",
    "            content = json_data[feature_name]\n",
    "          #  print(content)\n",
    "            #content_no_html_tags = strip_tags(content)\n",
    "            output_list.append(content)\n",
    "           # return output_list\n",
    "    return output_list"
   ]
  },
  {
   "cell_type": "code",
   "execution_count": null,
   "metadata": {
    "collapsed": true
   },
   "outputs": [],
   "source": []
  },
  {
   "cell_type": "code",
   "execution_count": 212,
   "metadata": {
    "collapsed": true
   },
   "outputs": [],
   "source": [
    "def get_date(path_to_inp_json_file):\n",
    "    output_list = []\n",
    "    with open(path_to_inp_json_file, encoding='utf-8') as inp_file:\n",
    "        for line in tqdm_notebook(inp_file):\n",
    "       #     print(line)\n",
    "            json_data = read_json_line(line)\n",
    "            content = pd.to_datetime(json_data['published']['$date'])\n",
    "          #  print(content)\n",
    "            #content_no_html_tags = strip_tags(content)\n",
    "            output_list.append(content)\n",
    "          #  return output_list\n",
    "    return output_list"
   ]
  },
  {
   "cell_type": "code",
   "execution_count": null,
   "metadata": {
    "collapsed": true
   },
   "outputs": [],
   "source": []
  },
  {
   "cell_type": "code",
   "execution_count": 213,
   "metadata": {},
   "outputs": [
    {
     "data": {
      "application/vnd.jupyter.widget-view+json": {
       "model_id": "14ffde63f17a4d3f9099e007bf9ef1d8",
       "version_major": 2,
       "version_minor": 0
      },
      "text/plain": [
       "A Jupyter Widget"
      ]
     },
     "metadata": {},
     "output_type": "display_data"
    },
    {
     "name": "stdout",
     "output_type": "stream",
     "text": [
      "\n",
      "Wall time: 59.3 s\n"
     ]
    }
   ],
   "source": [
    "%%time\n",
    "dates = get_date(os.path.join(PATH_TO_DATA,'train.json'))"
   ]
  },
  {
   "cell_type": "code",
   "execution_count": 265,
   "metadata": {},
   "outputs": [],
   "source": [
    "def get_image(path_to_inp_json_file):\n",
    "    output_list = []\n",
    "    with open(path_to_inp_json_file, encoding='utf-8') as inp_file:\n",
    "        for line in tqdm_notebook(inp_file):\n",
    "       #     print(line)\n",
    "            json_data = read_json_line(line)\n",
    "            content = json_data['image_url']\n",
    "           # print(content)\n",
    "            #content_no_html_tags = strip_tags(content)\n",
    "            output_list.append(content)\n",
    "           # return output_list\n",
    "    return output_list;\n"
   ]
  },
  {
   "cell_type": "code",
   "execution_count": 266,
   "metadata": {
    "scrolled": true
   },
   "outputs": [
    {
     "data": {
      "application/vnd.jupyter.widget-view+json": {
       "model_id": "8d717f77f9fb471d80cac6a8a6c1545e",
       "version_major": 2,
       "version_minor": 0
      },
      "text/plain": [
       "A Jupyter Widget"
      ]
     },
     "metadata": {},
     "output_type": "display_data"
    },
    {
     "name": "stdout",
     "output_type": "stream",
     "text": [
      "Wall time: 44.9 s\n"
     ]
    }
   ],
   "source": [
    "%%time\n",
    "images = get_image(os.path.join(PATH_TO_DATA,'train.json'))"
   ]
  },
  {
   "cell_type": "code",
   "execution_count": null,
   "metadata": {
    "collapsed": true
   },
   "outputs": [],
   "source": []
  },
  {
   "cell_type": "code",
   "execution_count": 267,
   "metadata": {
    "collapsed": true
   },
   "outputs": [],
   "source": [
    "df['image'] = images"
   ]
  },
  {
   "cell_type": "code",
   "execution_count": 283,
   "metadata": {
    "scrolled": true
   },
   "outputs": [
    {
     "data": {
      "text/html": [
       "<div>\n",
       "<style>\n",
       "    .dataframe thead tr:only-child th {\n",
       "        text-align: right;\n",
       "    }\n",
       "\n",
       "    .dataframe thead th {\n",
       "        text-align: left;\n",
       "    }\n",
       "\n",
       "    .dataframe tbody tr th {\n",
       "        vertical-align: top;\n",
       "    }\n",
       "</style>\n",
       "<table border=\"1\" class=\"dataframe\">\n",
       "  <thead>\n",
       "    <tr style=\"text-align: right;\">\n",
       "      <th></th>\n",
       "      <th>date</th>\n",
       "      <th>y</th>\n",
       "      <th>months_count</th>\n",
       "      <th>year</th>\n",
       "      <th>month</th>\n",
       "      <th>day_of_week</th>\n",
       "      <th>image</th>\n",
       "    </tr>\n",
       "  </thead>\n",
       "  <tbody>\n",
       "    <tr>\n",
       "      <th>0</th>\n",
       "      <td>2012-08-13 22:54:53.510</td>\n",
       "      <td>9.01201</td>\n",
       "      <td>24152</td>\n",
       "      <td>2012</td>\n",
       "      <td>8</td>\n",
       "      <td>0</td>\n",
       "      <td>None</td>\n",
       "    </tr>\n",
       "    <tr>\n",
       "      <th>1</th>\n",
       "      <td>2015-08-03 07:44:50.331</td>\n",
       "      <td>3.49651</td>\n",
       "      <td>24188</td>\n",
       "      <td>2015</td>\n",
       "      <td>8</td>\n",
       "      <td>0</td>\n",
       "      <td>None</td>\n",
       "    </tr>\n",
       "    <tr>\n",
       "      <th>12</th>\n",
       "      <td>2016-09-08 15:47:57.336</td>\n",
       "      <td>2.63906</td>\n",
       "      <td>24201</td>\n",
       "      <td>2016</td>\n",
       "      <td>9</td>\n",
       "      <td>3</td>\n",
       "      <td>None</td>\n",
       "    </tr>\n",
       "    <tr>\n",
       "      <th>23</th>\n",
       "      <td>2016-12-13 17:59:40.527</td>\n",
       "      <td>1.09861</td>\n",
       "      <td>24204</td>\n",
       "      <td>2016</td>\n",
       "      <td>12</td>\n",
       "      <td>1</td>\n",
       "      <td>None</td>\n",
       "    </tr>\n",
       "    <tr>\n",
       "      <th>32</th>\n",
       "      <td>2012-08-13 22:57:17.248</td>\n",
       "      <td>8.53719</td>\n",
       "      <td>24152</td>\n",
       "      <td>2012</td>\n",
       "      <td>8</td>\n",
       "      <td>0</td>\n",
       "      <td>None</td>\n",
       "    </tr>\n",
       "    <tr>\n",
       "      <th>40</th>\n",
       "      <td>2015-09-28 19:00:10.843</td>\n",
       "      <td>6.90875</td>\n",
       "      <td>24189</td>\n",
       "      <td>2015</td>\n",
       "      <td>9</td>\n",
       "      <td>0</td>\n",
       "      <td>None</td>\n",
       "    </tr>\n",
       "    <tr>\n",
       "      <th>51</th>\n",
       "      <td>2015-11-04 22:21:24.123</td>\n",
       "      <td>4.61512</td>\n",
       "      <td>24191</td>\n",
       "      <td>2015</td>\n",
       "      <td>11</td>\n",
       "      <td>2</td>\n",
       "      <td>None</td>\n",
       "    </tr>\n",
       "    <tr>\n",
       "      <th>75</th>\n",
       "      <td>2017-05-16 21:15:45.066</td>\n",
       "      <td>2.89037</td>\n",
       "      <td>24209</td>\n",
       "      <td>2017</td>\n",
       "      <td>5</td>\n",
       "      <td>1</td>\n",
       "      <td>None</td>\n",
       "    </tr>\n",
       "    <tr>\n",
       "      <th>79</th>\n",
       "      <td>2017-04-09 15:07:43.600</td>\n",
       "      <td>1.38629</td>\n",
       "      <td>24208</td>\n",
       "      <td>2017</td>\n",
       "      <td>4</td>\n",
       "      <td>6</td>\n",
       "      <td>None</td>\n",
       "    </tr>\n",
       "    <tr>\n",
       "      <th>83</th>\n",
       "      <td>2017-01-29 02:48:32.202</td>\n",
       "      <td>1.60944</td>\n",
       "      <td>24205</td>\n",
       "      <td>2017</td>\n",
       "      <td>1</td>\n",
       "      <td>6</td>\n",
       "      <td>None</td>\n",
       "    </tr>\n",
       "    <tr>\n",
       "      <th>98</th>\n",
       "      <td>2016-12-26 20:53:02.862</td>\n",
       "      <td>3.04452</td>\n",
       "      <td>24204</td>\n",
       "      <td>2016</td>\n",
       "      <td>12</td>\n",
       "      <td>0</td>\n",
       "      <td>None</td>\n",
       "    </tr>\n",
       "    <tr>\n",
       "      <th>115</th>\n",
       "      <td>2015-11-09 19:27:17.491</td>\n",
       "      <td>3.46574</td>\n",
       "      <td>24191</td>\n",
       "      <td>2015</td>\n",
       "      <td>11</td>\n",
       "      <td>0</td>\n",
       "      <td>None</td>\n",
       "    </tr>\n",
       "    <tr>\n",
       "      <th>139</th>\n",
       "      <td>2016-04-10 16:39:42.283</td>\n",
       "      <td>4.69135</td>\n",
       "      <td>24196</td>\n",
       "      <td>2016</td>\n",
       "      <td>4</td>\n",
       "      <td>6</td>\n",
       "      <td>None</td>\n",
       "    </tr>\n",
       "    <tr>\n",
       "      <th>140</th>\n",
       "      <td>2017-04-29 15:47:32.487</td>\n",
       "      <td>3.13549</td>\n",
       "      <td>24208</td>\n",
       "      <td>2017</td>\n",
       "      <td>4</td>\n",
       "      <td>5</td>\n",
       "      <td>None</td>\n",
       "    </tr>\n",
       "    <tr>\n",
       "      <th>154</th>\n",
       "      <td>2016-02-23 16:41:26.981</td>\n",
       "      <td>3.61092</td>\n",
       "      <td>24194</td>\n",
       "      <td>2016</td>\n",
       "      <td>2</td>\n",
       "      <td>1</td>\n",
       "      <td>None</td>\n",
       "    </tr>\n",
       "    <tr>\n",
       "      <th>175</th>\n",
       "      <td>2016-01-30 05:56:48.175</td>\n",
       "      <td>1.38629</td>\n",
       "      <td>24193</td>\n",
       "      <td>2016</td>\n",
       "      <td>1</td>\n",
       "      <td>5</td>\n",
       "      <td>None</td>\n",
       "    </tr>\n",
       "    <tr>\n",
       "      <th>186</th>\n",
       "      <td>2016-02-29 03:37:18.937</td>\n",
       "      <td>1.38629</td>\n",
       "      <td>24194</td>\n",
       "      <td>2016</td>\n",
       "      <td>2</td>\n",
       "      <td>0</td>\n",
       "      <td>None</td>\n",
       "    </tr>\n",
       "    <tr>\n",
       "      <th>196</th>\n",
       "      <td>2017-01-30 06:51:20.515</td>\n",
       "      <td>2.99573</td>\n",
       "      <td>24205</td>\n",
       "      <td>2017</td>\n",
       "      <td>1</td>\n",
       "      <td>0</td>\n",
       "      <td>None</td>\n",
       "    </tr>\n",
       "    <tr>\n",
       "      <th>211</th>\n",
       "      <td>2017-01-16 00:25:21.448</td>\n",
       "      <td>3.98898</td>\n",
       "      <td>24205</td>\n",
       "      <td>2017</td>\n",
       "      <td>1</td>\n",
       "      <td>0</td>\n",
       "      <td>None</td>\n",
       "    </tr>\n",
       "    <tr>\n",
       "      <th>220</th>\n",
       "      <td>2016-10-17 21:59:30.503</td>\n",
       "      <td>1.94591</td>\n",
       "      <td>24202</td>\n",
       "      <td>2016</td>\n",
       "      <td>10</td>\n",
       "      <td>0</td>\n",
       "      <td>None</td>\n",
       "    </tr>\n",
       "    <tr>\n",
       "      <th>249</th>\n",
       "      <td>2016-07-22 20:39:31.927</td>\n",
       "      <td>1.09861</td>\n",
       "      <td>24199</td>\n",
       "      <td>2016</td>\n",
       "      <td>7</td>\n",
       "      <td>4</td>\n",
       "      <td>None</td>\n",
       "    </tr>\n",
       "    <tr>\n",
       "      <th>251</th>\n",
       "      <td>2016-11-09 12:45:47.565</td>\n",
       "      <td>0.69315</td>\n",
       "      <td>24203</td>\n",
       "      <td>2016</td>\n",
       "      <td>11</td>\n",
       "      <td>2</td>\n",
       "      <td>None</td>\n",
       "    </tr>\n",
       "    <tr>\n",
       "      <th>254</th>\n",
       "      <td>2016-11-11 01:39:26.400</td>\n",
       "      <td>0.69315</td>\n",
       "      <td>24203</td>\n",
       "      <td>2016</td>\n",
       "      <td>11</td>\n",
       "      <td>4</td>\n",
       "      <td>None</td>\n",
       "    </tr>\n",
       "    <tr>\n",
       "      <th>280</th>\n",
       "      <td>2017-02-01 18:48:15.604</td>\n",
       "      <td>3.55535</td>\n",
       "      <td>24206</td>\n",
       "      <td>2017</td>\n",
       "      <td>2</td>\n",
       "      <td>2</td>\n",
       "      <td>None</td>\n",
       "    </tr>\n",
       "    <tr>\n",
       "      <th>293</th>\n",
       "      <td>2017-06-28 00:03:09.597</td>\n",
       "      <td>6.84694</td>\n",
       "      <td>24210</td>\n",
       "      <td>2017</td>\n",
       "      <td>6</td>\n",
       "      <td>2</td>\n",
       "      <td>None</td>\n",
       "    </tr>\n",
       "    <tr>\n",
       "      <th>295</th>\n",
       "      <td>2016-10-01 19:49:09.208</td>\n",
       "      <td>1.38629</td>\n",
       "      <td>24202</td>\n",
       "      <td>2016</td>\n",
       "      <td>10</td>\n",
       "      <td>5</td>\n",
       "      <td>None</td>\n",
       "    </tr>\n",
       "    <tr>\n",
       "      <th>297</th>\n",
       "      <td>2016-03-05 19:00:37.175</td>\n",
       "      <td>1.09861</td>\n",
       "      <td>24195</td>\n",
       "      <td>2016</td>\n",
       "      <td>3</td>\n",
       "      <td>5</td>\n",
       "      <td>None</td>\n",
       "    </tr>\n",
       "    <tr>\n",
       "      <th>299</th>\n",
       "      <td>2017-06-03 10:23:00.000</td>\n",
       "      <td>2.39790</td>\n",
       "      <td>24210</td>\n",
       "      <td>2017</td>\n",
       "      <td>6</td>\n",
       "      <td>5</td>\n",
       "      <td>None</td>\n",
       "    </tr>\n",
       "    <tr>\n",
       "      <th>301</th>\n",
       "      <td>2015-07-10 01:58:25.748</td>\n",
       "      <td>7.82445</td>\n",
       "      <td>24187</td>\n",
       "      <td>2015</td>\n",
       "      <td>7</td>\n",
       "      <td>4</td>\n",
       "      <td>None</td>\n",
       "    </tr>\n",
       "    <tr>\n",
       "      <th>312</th>\n",
       "      <td>2014-08-20 02:28:56.563</td>\n",
       "      <td>1.09861</td>\n",
       "      <td>24176</td>\n",
       "      <td>2014</td>\n",
       "      <td>8</td>\n",
       "      <td>2</td>\n",
       "      <td>None</td>\n",
       "    </tr>\n",
       "    <tr>\n",
       "      <th>...</th>\n",
       "      <td>...</td>\n",
       "      <td>...</td>\n",
       "      <td>...</td>\n",
       "      <td>...</td>\n",
       "      <td>...</td>\n",
       "      <td>...</td>\n",
       "      <td>...</td>\n",
       "    </tr>\n",
       "    <tr>\n",
       "      <th>61925</th>\n",
       "      <td>2016-11-16 11:38:03.211</td>\n",
       "      <td>0.69315</td>\n",
       "      <td>24203</td>\n",
       "      <td>2016</td>\n",
       "      <td>11</td>\n",
       "      <td>2</td>\n",
       "      <td>None</td>\n",
       "    </tr>\n",
       "    <tr>\n",
       "      <th>61927</th>\n",
       "      <td>2016-11-19 04:31:38.483</td>\n",
       "      <td>0.69315</td>\n",
       "      <td>24203</td>\n",
       "      <td>2016</td>\n",
       "      <td>11</td>\n",
       "      <td>5</td>\n",
       "      <td>None</td>\n",
       "    </tr>\n",
       "    <tr>\n",
       "      <th>61928</th>\n",
       "      <td>2016-10-22 11:53:17.770</td>\n",
       "      <td>0.69315</td>\n",
       "      <td>24202</td>\n",
       "      <td>2016</td>\n",
       "      <td>10</td>\n",
       "      <td>5</td>\n",
       "      <td>None</td>\n",
       "    </tr>\n",
       "    <tr>\n",
       "      <th>61959</th>\n",
       "      <td>2017-04-23 18:35:49.232</td>\n",
       "      <td>2.89037</td>\n",
       "      <td>24208</td>\n",
       "      <td>2017</td>\n",
       "      <td>4</td>\n",
       "      <td>6</td>\n",
       "      <td>None</td>\n",
       "    </tr>\n",
       "    <tr>\n",
       "      <th>61966</th>\n",
       "      <td>2017-03-31 22:38:41.802</td>\n",
       "      <td>1.09861</td>\n",
       "      <td>24207</td>\n",
       "      <td>2017</td>\n",
       "      <td>3</td>\n",
       "      <td>4</td>\n",
       "      <td>None</td>\n",
       "    </tr>\n",
       "    <tr>\n",
       "      <th>62006</th>\n",
       "      <td>2015-12-01 06:02:31.463</td>\n",
       "      <td>1.09861</td>\n",
       "      <td>24192</td>\n",
       "      <td>2015</td>\n",
       "      <td>12</td>\n",
       "      <td>1</td>\n",
       "      <td>None</td>\n",
       "    </tr>\n",
       "    <tr>\n",
       "      <th>62007</th>\n",
       "      <td>2015-11-30 06:27:52.706</td>\n",
       "      <td>1.09861</td>\n",
       "      <td>24191</td>\n",
       "      <td>2015</td>\n",
       "      <td>11</td>\n",
       "      <td>0</td>\n",
       "      <td>None</td>\n",
       "    </tr>\n",
       "    <tr>\n",
       "      <th>62050</th>\n",
       "      <td>2014-05-06 16:47:11.575</td>\n",
       "      <td>2.77259</td>\n",
       "      <td>24173</td>\n",
       "      <td>2014</td>\n",
       "      <td>5</td>\n",
       "      <td>1</td>\n",
       "      <td>None</td>\n",
       "    </tr>\n",
       "    <tr>\n",
       "      <th>62055</th>\n",
       "      <td>2017-04-14 19:41:13.511</td>\n",
       "      <td>3.21888</td>\n",
       "      <td>24208</td>\n",
       "      <td>2017</td>\n",
       "      <td>4</td>\n",
       "      <td>4</td>\n",
       "      <td>None</td>\n",
       "    </tr>\n",
       "    <tr>\n",
       "      <th>62061</th>\n",
       "      <td>2016-12-01 15:15:36.299</td>\n",
       "      <td>1.09861</td>\n",
       "      <td>24204</td>\n",
       "      <td>2016</td>\n",
       "      <td>12</td>\n",
       "      <td>3</td>\n",
       "      <td>None</td>\n",
       "    </tr>\n",
       "    <tr>\n",
       "      <th>62079</th>\n",
       "      <td>2016-12-30 11:22:05.977</td>\n",
       "      <td>2.48491</td>\n",
       "      <td>24204</td>\n",
       "      <td>2016</td>\n",
       "      <td>12</td>\n",
       "      <td>4</td>\n",
       "      <td>None</td>\n",
       "    </tr>\n",
       "    <tr>\n",
       "      <th>62087</th>\n",
       "      <td>2017-01-07 19:28:11.631</td>\n",
       "      <td>0.69315</td>\n",
       "      <td>24205</td>\n",
       "      <td>2017</td>\n",
       "      <td>1</td>\n",
       "      <td>5</td>\n",
       "      <td>None</td>\n",
       "    </tr>\n",
       "    <tr>\n",
       "      <th>62116</th>\n",
       "      <td>2016-08-01 08:15:40.654</td>\n",
       "      <td>1.60944</td>\n",
       "      <td>24200</td>\n",
       "      <td>2016</td>\n",
       "      <td>8</td>\n",
       "      <td>0</td>\n",
       "      <td>None</td>\n",
       "    </tr>\n",
       "    <tr>\n",
       "      <th>62140</th>\n",
       "      <td>2017-05-02 19:13:29.984</td>\n",
       "      <td>2.19722</td>\n",
       "      <td>24209</td>\n",
       "      <td>2017</td>\n",
       "      <td>5</td>\n",
       "      <td>1</td>\n",
       "      <td>None</td>\n",
       "    </tr>\n",
       "    <tr>\n",
       "      <th>62151</th>\n",
       "      <td>2016-10-08 19:25:47.099</td>\n",
       "      <td>5.37064</td>\n",
       "      <td>24202</td>\n",
       "      <td>2016</td>\n",
       "      <td>10</td>\n",
       "      <td>5</td>\n",
       "      <td>None</td>\n",
       "    </tr>\n",
       "    <tr>\n",
       "      <th>62160</th>\n",
       "      <td>2016-01-19 06:29:59.322</td>\n",
       "      <td>1.94591</td>\n",
       "      <td>24193</td>\n",
       "      <td>2016</td>\n",
       "      <td>1</td>\n",
       "      <td>1</td>\n",
       "      <td>None</td>\n",
       "    </tr>\n",
       "    <tr>\n",
       "      <th>62166</th>\n",
       "      <td>2016-04-15 15:44:06.590</td>\n",
       "      <td>1.79176</td>\n",
       "      <td>24196</td>\n",
       "      <td>2016</td>\n",
       "      <td>4</td>\n",
       "      <td>4</td>\n",
       "      <td>None</td>\n",
       "    </tr>\n",
       "    <tr>\n",
       "      <th>62182</th>\n",
       "      <td>2017-05-25 03:04:51.305</td>\n",
       "      <td>4.26268</td>\n",
       "      <td>24209</td>\n",
       "      <td>2017</td>\n",
       "      <td>5</td>\n",
       "      <td>3</td>\n",
       "      <td>None</td>\n",
       "    </tr>\n",
       "    <tr>\n",
       "      <th>62184</th>\n",
       "      <td>2015-09-22 15:22:11.922</td>\n",
       "      <td>4.41884</td>\n",
       "      <td>24189</td>\n",
       "      <td>2015</td>\n",
       "      <td>9</td>\n",
       "      <td>1</td>\n",
       "      <td>None</td>\n",
       "    </tr>\n",
       "    <tr>\n",
       "      <th>62187</th>\n",
       "      <td>2015-05-26 09:54:38.169</td>\n",
       "      <td>1.38629</td>\n",
       "      <td>24185</td>\n",
       "      <td>2015</td>\n",
       "      <td>5</td>\n",
       "      <td>1</td>\n",
       "      <td>None</td>\n",
       "    </tr>\n",
       "    <tr>\n",
       "      <th>62222</th>\n",
       "      <td>2017-04-05 12:15:17.855</td>\n",
       "      <td>2.39790</td>\n",
       "      <td>24208</td>\n",
       "      <td>2017</td>\n",
       "      <td>4</td>\n",
       "      <td>2</td>\n",
       "      <td>None</td>\n",
       "    </tr>\n",
       "    <tr>\n",
       "      <th>62248</th>\n",
       "      <td>2017-02-10 12:00:57.000</td>\n",
       "      <td>0.69315</td>\n",
       "      <td>24206</td>\n",
       "      <td>2017</td>\n",
       "      <td>2</td>\n",
       "      <td>4</td>\n",
       "      <td>None</td>\n",
       "    </tr>\n",
       "    <tr>\n",
       "      <th>62249</th>\n",
       "      <td>2013-10-09 17:45:32.226</td>\n",
       "      <td>1.09861</td>\n",
       "      <td>24166</td>\n",
       "      <td>2013</td>\n",
       "      <td>10</td>\n",
       "      <td>2</td>\n",
       "      <td>None</td>\n",
       "    </tr>\n",
       "    <tr>\n",
       "      <th>62264</th>\n",
       "      <td>2017-02-17 19:32:00.854</td>\n",
       "      <td>0.69315</td>\n",
       "      <td>24206</td>\n",
       "      <td>2017</td>\n",
       "      <td>2</td>\n",
       "      <td>4</td>\n",
       "      <td>None</td>\n",
       "    </tr>\n",
       "    <tr>\n",
       "      <th>62267</th>\n",
       "      <td>2016-12-28 07:44:12.630</td>\n",
       "      <td>0.69315</td>\n",
       "      <td>24204</td>\n",
       "      <td>2016</td>\n",
       "      <td>12</td>\n",
       "      <td>2</td>\n",
       "      <td>None</td>\n",
       "    </tr>\n",
       "    <tr>\n",
       "      <th>62268</th>\n",
       "      <td>2016-08-31 12:50:04.555</td>\n",
       "      <td>0.69315</td>\n",
       "      <td>24200</td>\n",
       "      <td>2016</td>\n",
       "      <td>8</td>\n",
       "      <td>2</td>\n",
       "      <td>None</td>\n",
       "    </tr>\n",
       "    <tr>\n",
       "      <th>62271</th>\n",
       "      <td>2016-08-30 11:14:23.767</td>\n",
       "      <td>0.69315</td>\n",
       "      <td>24200</td>\n",
       "      <td>2016</td>\n",
       "      <td>8</td>\n",
       "      <td>1</td>\n",
       "      <td>None</td>\n",
       "    </tr>\n",
       "    <tr>\n",
       "      <th>62276</th>\n",
       "      <td>2016-03-04 06:29:55.258</td>\n",
       "      <td>3.17805</td>\n",
       "      <td>24195</td>\n",
       "      <td>2016</td>\n",
       "      <td>3</td>\n",
       "      <td>4</td>\n",
       "      <td>None</td>\n",
       "    </tr>\n",
       "    <tr>\n",
       "      <th>62280</th>\n",
       "      <td>2016-12-07 04:27:23.169</td>\n",
       "      <td>1.09861</td>\n",
       "      <td>24204</td>\n",
       "      <td>2016</td>\n",
       "      <td>12</td>\n",
       "      <td>2</td>\n",
       "      <td>None</td>\n",
       "    </tr>\n",
       "    <tr>\n",
       "      <th>62294</th>\n",
       "      <td>2016-06-09 16:19:34.121</td>\n",
       "      <td>2.30259</td>\n",
       "      <td>24198</td>\n",
       "      <td>2016</td>\n",
       "      <td>6</td>\n",
       "      <td>3</td>\n",
       "      <td>None</td>\n",
       "    </tr>\n",
       "  </tbody>\n",
       "</table>\n",
       "<p>5087 rows × 7 columns</p>\n",
       "</div>"
      ],
      "text/plain": [
       "                         date        y  months_count  year  month  \\\n",
       "0     2012-08-13 22:54:53.510  9.01201         24152  2012      8   \n",
       "1     2015-08-03 07:44:50.331  3.49651         24188  2015      8   \n",
       "12    2016-09-08 15:47:57.336  2.63906         24201  2016      9   \n",
       "23    2016-12-13 17:59:40.527  1.09861         24204  2016     12   \n",
       "32    2012-08-13 22:57:17.248  8.53719         24152  2012      8   \n",
       "40    2015-09-28 19:00:10.843  6.90875         24189  2015      9   \n",
       "51    2015-11-04 22:21:24.123  4.61512         24191  2015     11   \n",
       "75    2017-05-16 21:15:45.066  2.89037         24209  2017      5   \n",
       "79    2017-04-09 15:07:43.600  1.38629         24208  2017      4   \n",
       "83    2017-01-29 02:48:32.202  1.60944         24205  2017      1   \n",
       "98    2016-12-26 20:53:02.862  3.04452         24204  2016     12   \n",
       "115   2015-11-09 19:27:17.491  3.46574         24191  2015     11   \n",
       "139   2016-04-10 16:39:42.283  4.69135         24196  2016      4   \n",
       "140   2017-04-29 15:47:32.487  3.13549         24208  2017      4   \n",
       "154   2016-02-23 16:41:26.981  3.61092         24194  2016      2   \n",
       "175   2016-01-30 05:56:48.175  1.38629         24193  2016      1   \n",
       "186   2016-02-29 03:37:18.937  1.38629         24194  2016      2   \n",
       "196   2017-01-30 06:51:20.515  2.99573         24205  2017      1   \n",
       "211   2017-01-16 00:25:21.448  3.98898         24205  2017      1   \n",
       "220   2016-10-17 21:59:30.503  1.94591         24202  2016     10   \n",
       "249   2016-07-22 20:39:31.927  1.09861         24199  2016      7   \n",
       "251   2016-11-09 12:45:47.565  0.69315         24203  2016     11   \n",
       "254   2016-11-11 01:39:26.400  0.69315         24203  2016     11   \n",
       "280   2017-02-01 18:48:15.604  3.55535         24206  2017      2   \n",
       "293   2017-06-28 00:03:09.597  6.84694         24210  2017      6   \n",
       "295   2016-10-01 19:49:09.208  1.38629         24202  2016     10   \n",
       "297   2016-03-05 19:00:37.175  1.09861         24195  2016      3   \n",
       "299   2017-06-03 10:23:00.000  2.39790         24210  2017      6   \n",
       "301   2015-07-10 01:58:25.748  7.82445         24187  2015      7   \n",
       "312   2014-08-20 02:28:56.563  1.09861         24176  2014      8   \n",
       "...                       ...      ...           ...   ...    ...   \n",
       "61925 2016-11-16 11:38:03.211  0.69315         24203  2016     11   \n",
       "61927 2016-11-19 04:31:38.483  0.69315         24203  2016     11   \n",
       "61928 2016-10-22 11:53:17.770  0.69315         24202  2016     10   \n",
       "61959 2017-04-23 18:35:49.232  2.89037         24208  2017      4   \n",
       "61966 2017-03-31 22:38:41.802  1.09861         24207  2017      3   \n",
       "62006 2015-12-01 06:02:31.463  1.09861         24192  2015     12   \n",
       "62007 2015-11-30 06:27:52.706  1.09861         24191  2015     11   \n",
       "62050 2014-05-06 16:47:11.575  2.77259         24173  2014      5   \n",
       "62055 2017-04-14 19:41:13.511  3.21888         24208  2017      4   \n",
       "62061 2016-12-01 15:15:36.299  1.09861         24204  2016     12   \n",
       "62079 2016-12-30 11:22:05.977  2.48491         24204  2016     12   \n",
       "62087 2017-01-07 19:28:11.631  0.69315         24205  2017      1   \n",
       "62116 2016-08-01 08:15:40.654  1.60944         24200  2016      8   \n",
       "62140 2017-05-02 19:13:29.984  2.19722         24209  2017      5   \n",
       "62151 2016-10-08 19:25:47.099  5.37064         24202  2016     10   \n",
       "62160 2016-01-19 06:29:59.322  1.94591         24193  2016      1   \n",
       "62166 2016-04-15 15:44:06.590  1.79176         24196  2016      4   \n",
       "62182 2017-05-25 03:04:51.305  4.26268         24209  2017      5   \n",
       "62184 2015-09-22 15:22:11.922  4.41884         24189  2015      9   \n",
       "62187 2015-05-26 09:54:38.169  1.38629         24185  2015      5   \n",
       "62222 2017-04-05 12:15:17.855  2.39790         24208  2017      4   \n",
       "62248 2017-02-10 12:00:57.000  0.69315         24206  2017      2   \n",
       "62249 2013-10-09 17:45:32.226  1.09861         24166  2013     10   \n",
       "62264 2017-02-17 19:32:00.854  0.69315         24206  2017      2   \n",
       "62267 2016-12-28 07:44:12.630  0.69315         24204  2016     12   \n",
       "62268 2016-08-31 12:50:04.555  0.69315         24200  2016      8   \n",
       "62271 2016-08-30 11:14:23.767  0.69315         24200  2016      8   \n",
       "62276 2016-03-04 06:29:55.258  3.17805         24195  2016      3   \n",
       "62280 2016-12-07 04:27:23.169  1.09861         24204  2016     12   \n",
       "62294 2016-06-09 16:19:34.121  2.30259         24198  2016      6   \n",
       "\n",
       "       day_of_week image  \n",
       "0                0  None  \n",
       "1                0  None  \n",
       "12               3  None  \n",
       "23               1  None  \n",
       "32               0  None  \n",
       "40               0  None  \n",
       "51               2  None  \n",
       "75               1  None  \n",
       "79               6  None  \n",
       "83               6  None  \n",
       "98               0  None  \n",
       "115              0  None  \n",
       "139              6  None  \n",
       "140              5  None  \n",
       "154              1  None  \n",
       "175              5  None  \n",
       "186              0  None  \n",
       "196              0  None  \n",
       "211              0  None  \n",
       "220              0  None  \n",
       "249              4  None  \n",
       "251              2  None  \n",
       "254              4  None  \n",
       "280              2  None  \n",
       "293              2  None  \n",
       "295              5  None  \n",
       "297              5  None  \n",
       "299              5  None  \n",
       "301              4  None  \n",
       "312              2  None  \n",
       "...            ...   ...  \n",
       "61925            2  None  \n",
       "61927            5  None  \n",
       "61928            5  None  \n",
       "61959            6  None  \n",
       "61966            4  None  \n",
       "62006            1  None  \n",
       "62007            0  None  \n",
       "62050            1  None  \n",
       "62055            4  None  \n",
       "62061            3  None  \n",
       "62079            4  None  \n",
       "62087            5  None  \n",
       "62116            0  None  \n",
       "62140            1  None  \n",
       "62151            5  None  \n",
       "62160            1  None  \n",
       "62166            4  None  \n",
       "62182            3  None  \n",
       "62184            1  None  \n",
       "62187            1  None  \n",
       "62222            2  None  \n",
       "62248            4  None  \n",
       "62249            2  None  \n",
       "62264            4  None  \n",
       "62267            2  None  \n",
       "62268            2  None  \n",
       "62271            1  None  \n",
       "62276            4  None  \n",
       "62280            2  None  \n",
       "62294            3  None  \n",
       "\n",
       "[5087 rows x 7 columns]"
      ]
     },
     "execution_count": 283,
     "metadata": {},
     "output_type": "execute_result"
    }
   ],
   "source": [
    "df[df['image'].isnull()]"
   ]
  },
  {
   "cell_type": "code",
   "execution_count": null,
   "metadata": {
    "collapsed": true
   },
   "outputs": [],
   "source": []
  },
  {
   "cell_type": "code",
   "execution_count": null,
   "metadata": {
    "collapsed": true
   },
   "outputs": [],
   "source": []
  },
  {
   "cell_type": "code",
   "execution_count": null,
   "metadata": {
    "collapsed": true
   },
   "outputs": [],
   "source": []
  },
  {
   "cell_type": "code",
   "execution_count": null,
   "metadata": {
    "collapsed": true
   },
   "outputs": [],
   "source": []
  },
  {
   "cell_type": "code",
   "execution_count": null,
   "metadata": {
    "collapsed": true
   },
   "outputs": [],
   "source": []
  },
  {
   "cell_type": "code",
   "execution_count": null,
   "metadata": {
    "collapsed": true
   },
   "outputs": [],
   "source": []
  },
  {
   "cell_type": "code",
   "execution_count": null,
   "metadata": {
    "collapsed": true
   },
   "outputs": [],
   "source": []
  },
  {
   "cell_type": "code",
   "execution_count": null,
   "metadata": {
    "collapsed": true
   },
   "outputs": [],
   "source": []
  },
  {
   "cell_type": "code",
   "execution_count": null,
   "metadata": {
    "collapsed": true
   },
   "outputs": [],
   "source": []
  },
  {
   "cell_type": "code",
   "execution_count": null,
   "metadata": {
    "collapsed": true
   },
   "outputs": [],
   "source": []
  },
  {
   "cell_type": "code",
   "execution_count": null,
   "metadata": {
    "collapsed": true
   },
   "outputs": [],
   "source": []
  },
  {
   "cell_type": "code",
   "execution_count": null,
   "metadata": {
    "collapsed": true
   },
   "outputs": [],
   "source": []
  },
  {
   "cell_type": "code",
   "execution_count": null,
   "metadata": {
    "collapsed": true
   },
   "outputs": [],
   "source": []
  },
  {
   "cell_type": "code",
   "execution_count": 211,
   "metadata": {},
   "outputs": [
    {
     "data": {
      "text/plain": [
       "2012"
      ]
     },
     "execution_count": 211,
     "metadata": {},
     "output_type": "execute_result"
    }
   ],
   "source": [
    "dates[0].year"
   ]
  },
  {
   "cell_type": "code",
   "execution_count": 174,
   "metadata": {},
   "outputs": [
    {
     "data": {
      "application/vnd.jupyter.widget-view+json": {
       "model_id": "92fafeb1d6d2419f89886ab880ced99d",
       "version_major": 2,
       "version_minor": 0
      },
      "text/plain": [
       "A Jupyter Widget"
      ]
     },
     "metadata": {},
     "output_type": "display_data"
    },
    {
     "name": "stdout",
     "output_type": "stream",
     "text": [
      "\n",
      "Wall time: 1min 1s\n"
     ]
    }
   ],
   "source": [
    "%%time\n",
    "_timestamps = get_feature(os.path.join(PATH_TO_DATA,'train.json'),'_timestamp')"
   ]
  },
  {
   "cell_type": "code",
   "execution_count": 180,
   "metadata": {
    "collapsed": true
   },
   "outputs": [],
   "source": [
    "from scipy.sparse import csr_matrix, hstack"
   ]
  },
  {
   "cell_type": "code",
   "execution_count": null,
   "metadata": {
    "collapsed": true
   },
   "outputs": [],
   "source": []
  },
  {
   "cell_type": "code",
   "execution_count": 177,
   "metadata": {
    "scrolled": true
   },
   "outputs": [
    {
     "data": {
      "text/plain": [
       "62313"
      ]
     },
     "execution_count": 177,
     "metadata": {},
     "output_type": "execute_result"
    }
   ],
   "source": [
    "len(_timestamps)"
   ]
  },
  {
   "cell_type": "code",
   "execution_count": 178,
   "metadata": {},
   "outputs": [
    {
     "data": {
      "text/plain": [
       "62313"
      ]
     },
     "execution_count": 178,
     "metadata": {},
     "output_type": "execute_result"
    }
   ],
   "source": [
    "X_train.shape[0]"
   ]
  },
  {
   "cell_type": "code",
   "execution_count": 183,
   "metadata": {},
   "outputs": [],
   "source": [
    "X_train_time = csr_matrix(hstack([X_train, \n",
    "                             np.reshape(_timestamps,(-1, 1))]))"
   ]
  },
  {
   "cell_type": "code",
   "execution_count": null,
   "metadata": {
    "collapsed": true
   },
   "outputs": [],
   "source": []
  },
  {
   "cell_type": "code",
   "execution_count": null,
   "metadata": {
    "collapsed": true
   },
   "outputs": [],
   "source": []
  },
  {
   "cell_type": "code",
   "execution_count": 7,
   "metadata": {
    "_cell_guid": "e901af5c-6623-449e-bce1-6e274022460e",
    "_uuid": "589761bb5972c78dee2694e08d3b94d6666e2bb6"
   },
   "outputs": [
    {
     "data": {
      "application/vnd.jupyter.widget-view+json": {
       "model_id": "9d1e751c9ef24084a996aaaade4b6a31",
       "version_major": 2,
       "version_minor": 0
      },
      "text/plain": [
       "A Jupyter Widget"
      ]
     },
     "metadata": {},
     "output_type": "display_data"
    },
    {
     "name": "stdout",
     "output_type": "stream",
     "text": [
      "\n",
      "Wall time: 10min 2s\n"
     ]
    }
   ],
   "source": [
    "%%time\n",
    "train_raw_content = preprocess(path_to_inp_json_file=os.path.join(PATH_TO_DATA, \n",
    "                                                                  'train.json'),)"
   ]
  },
  {
   "cell_type": "code",
   "execution_count": 8,
   "metadata": {
    "_cell_guid": "9d75d0f6-b866-4c4e-ba3f-edb1201cdadb",
    "_uuid": "9eb05d3d97036388da1e431683c7272c2c203fec"
   },
   "outputs": [
    {
     "data": {
      "application/vnd.jupyter.widget-view+json": {
       "model_id": "c6b7e239126c47a18cc58292cc1d4147",
       "version_major": 2,
       "version_minor": 0
      },
      "text/plain": [
       "A Jupyter Widget"
      ]
     },
     "metadata": {},
     "output_type": "display_data"
    },
    {
     "name": "stdout",
     "output_type": "stream",
     "text": [
      "\n",
      "Wall time: 5min 51s\n"
     ]
    }
   ],
   "source": [
    "%%time\n",
    "test_raw_content = preprocess(path_to_inp_json_file=os.path.join(PATH_TO_DATA, \n",
    "                                                                  'test.json'),)"
   ]
  },
  {
   "cell_type": "markdown",
   "metadata": {
    "_cell_guid": "25fef59c-d54f-411c-a9c7-4a675b29a989",
    "_uuid": "de8308666fe1f7e111edb7ae29a8ec5bafea84dd"
   },
   "source": [
    "We'll use a linear model (`Ridge`) with a very simple feature extractor – `CountVectorizer`, meaning that we resort to the Bag-of-Words approach. For now, we are leaving only 50k features. "
   ]
  },
  {
   "cell_type": "code",
   "execution_count": 9,
   "metadata": {
    "_cell_guid": "39f25d08-a576-4535-8527-d25ddfedebd6",
    "_uuid": "51549a949259a1cc1330d513cbd3c60a8c5a371b",
    "collapsed": true
   },
   "outputs": [],
   "source": [
    "cv = CountVectorizer(max_features=50000)"
   ]
  },
  {
   "cell_type": "code",
   "execution_count": 10,
   "metadata": {
    "_cell_guid": "05342073-facd-4b75-8e94-0f3ad63f79f3",
    "_uuid": "d96e23b597cdbcc1d13f4fa7b2051c4515b1c2b4"
   },
   "outputs": [
    {
     "name": "stdout",
     "output_type": "stream",
     "text": [
      "Wall time: 2min 37s\n"
     ]
    }
   ],
   "source": [
    "%%time\n",
    "X_train = cv.fit_transform(train_raw_content)"
   ]
  },
  {
   "cell_type": "code",
   "execution_count": 11,
   "metadata": {
    "_cell_guid": "370036a0-1b59-46d3-b1d2-ba6f22400e7a",
    "_uuid": "aa5f327814464d01eb6addefd13e510e28a0bb67"
   },
   "outputs": [
    {
     "name": "stdout",
     "output_type": "stream",
     "text": [
      "Wall time: 1min 14s\n"
     ]
    }
   ],
   "source": [
    "%%time\n",
    "X_test = cv.transform(test_raw_content)"
   ]
  },
  {
   "cell_type": "code",
   "execution_count": 12,
   "metadata": {
    "_cell_guid": "873abee7-442d-49df-931e-7e59d0c990b9",
    "_uuid": "fc837f60e80e595839ff1cb0b0e97bb7c8232f17"
   },
   "outputs": [
    {
     "data": {
      "text/plain": [
       "((62313, 50000), (34645, 50000))"
      ]
     },
     "execution_count": 12,
     "metadata": {},
     "output_type": "execute_result"
    }
   ],
   "source": [
    "X_train.shape, X_test.shape"
   ]
  },
  {
   "cell_type": "markdown",
   "metadata": {
    "_cell_guid": "9927589b-52e8-4779-88e9-0d68e06d5233",
    "_uuid": "bb2ce6a072594f15d0e6165f6dc1b95a16f2e282"
   },
   "source": [
    "Read targets from file."
   ]
  },
  {
   "cell_type": "code",
   "execution_count": 13,
   "metadata": {
    "_cell_guid": "4110961a-e9c7-49cb-8254-6a8ef3ebaf9d",
    "_uuid": "436102b8f71ce57efbe26a72ea32ae201629f8e0",
    "collapsed": true
   },
   "outputs": [],
   "source": [
    "train_target = pd.read_csv(os.path.join(PATH_TO_DATA, 'train_log1p_recommends.csv'), \n",
    "                           index_col='id')"
   ]
  },
  {
   "cell_type": "code",
   "execution_count": 14,
   "metadata": {
    "_cell_guid": "98d188dc-a207-46a2-a895-739712c778cd",
    "_uuid": "7a4d7f5b14479c2de41641c985a23bd74c468b83",
    "scrolled": true
   },
   "outputs": [
    {
     "data": {
      "text/plain": [
       "(62313, 1)"
      ]
     },
     "execution_count": 14,
     "metadata": {},
     "output_type": "execute_result"
    }
   ],
   "source": [
    "train_target.shape"
   ]
  },
  {
   "cell_type": "code",
   "execution_count": 18,
   "metadata": {},
   "outputs": [
    {
     "data": {
      "text/plain": [
       "<62313x50000 sparse matrix of type '<class 'numpy.int64'>'\n",
       "\twith 33479333 stored elements in Compressed Sparse Row format>"
      ]
     },
     "execution_count": 18,
     "metadata": {},
     "output_type": "execute_result"
    }
   ],
   "source": [
    "X_train"
   ]
  },
  {
   "cell_type": "code",
   "execution_count": 16,
   "metadata": {
    "_cell_guid": "a7c8da46-715f-4b8b-bbc9-50b158aab78d",
    "_uuid": "5077b30518fea62218c98a3a02b14dcac19112ce",
    "collapsed": true
   },
   "outputs": [],
   "source": [
    "y_train = train_target['log_recommends'].values"
   ]
  },
  {
   "cell_type": "markdown",
   "metadata": {
    "_cell_guid": "baca6a37-5b08-4a8c-b405-783a1ce13d34",
    "_uuid": "3404a2c96aada745215025eaf04e5c510098d2e8"
   },
   "source": [
    "Make a 30%-holdout set. "
   ]
  },
  {
   "cell_type": "code",
   "execution_count": 17,
   "metadata": {
    "_cell_guid": "819ccd8d-33c3-4714-8dbf-c886c019d2e2",
    "_uuid": "2958f3005056ce5d56911a5edc1d8486eba789a1",
    "collapsed": true
   },
   "outputs": [],
   "source": [
    "train_part_size = int(0.7 * train_target.shape[0])\n",
    "X_train_part = X_train[:train_part_size, :]\n",
    "y_train_part = y_train[:train_part_size]\n",
    "X_valid =  X_train[train_part_size:, :]\n",
    "y_valid = y_train[train_part_size:]"
   ]
  },
  {
   "cell_type": "markdown",
   "metadata": {
    "_cell_guid": "49f43af6-0081-430c-ba4c-ed20e803553b",
    "_uuid": "3be18a01734b95c4ed79d45b8d60b04cd48a74e6"
   },
   "source": [
    "Now we are ready to fit a linear model."
   ]
  },
  {
   "cell_type": "code",
   "execution_count": 19,
   "metadata": {
    "_cell_guid": "14957c67-8989-44ce-b411-051bfe49e2be",
    "_uuid": "49f162fa4c0c775db9cc9491ccc935d992709abe",
    "collapsed": true
   },
   "outputs": [],
   "source": [
    "from sklearn.linear_model import Ridge"
   ]
  },
  {
   "cell_type": "code",
   "execution_count": 20,
   "metadata": {
    "_cell_guid": "af0cf153-869a-44bc-90ab-d502f4d49dec",
    "_uuid": "63a64b164c1c323d9a71dd56beb5c55732a9df00",
    "collapsed": true
   },
   "outputs": [],
   "source": [
    "ridge = Ridge(random_state=17)"
   ]
  },
  {
   "cell_type": "code",
   "execution_count": 21,
   "metadata": {
    "_cell_guid": "106400fa-4ca2-4eae-966f-0398f2fc3e2a",
    "_uuid": "9dab2f98d5caddda453f80e4d1be835d4c542f8a"
   },
   "outputs": [
    {
     "name": "stdout",
     "output_type": "stream",
     "text": [
      "Wall time: 4min 47s\n"
     ]
    },
    {
     "data": {
      "text/plain": [
       "Ridge(alpha=1.0, copy_X=True, fit_intercept=True, max_iter=None,\n",
       "   normalize=False, random_state=17, solver='auto', tol=0.001)"
      ]
     },
     "execution_count": 21,
     "metadata": {},
     "output_type": "execute_result"
    }
   ],
   "source": [
    "%%time\n",
    "ridge.fit(X_train_part, y_train_part);"
   ]
  },
  {
   "cell_type": "code",
   "execution_count": 22,
   "metadata": {
    "_cell_guid": "81d72242-e201-4a96-9572-6bf816d772ac",
    "_uuid": "95d7bf69d473fa33a5a688d3c22f14d0c1944cb7",
    "collapsed": true
   },
   "outputs": [],
   "source": [
    "ridge_pred = ridge.predict(X_valid)"
   ]
  },
  {
   "cell_type": "markdown",
   "metadata": {
    "_cell_guid": "27841398-b988-4df1-8d5a-0d439fce7703",
    "_uuid": "21beec2c7186d8f6a93a0cdb3c95838d066292ec"
   },
   "source": [
    "Let's plot predictions and targets for the holdout set. Recall that these are #recommendations (= #claps) of Medium articles with the `np.log1p` transformation."
   ]
  },
  {
   "cell_type": "code",
   "execution_count": 24,
   "metadata": {
    "_cell_guid": "a2487849-80f2-4786-97aa-172ddf2782e5",
    "_uuid": "ae68ecea606621471e7bfed5a68448b43b676e2e"
   },
   "outputs": [
    {
     "data": {
      "image/png": "[encoded data removed]",
      "text/plain": [
       "<matplotlib.figure.Figure at 0x1369d9c5780>"
      ]
     },
     "metadata": {},
     "output_type": "display_data"
    }
   ],
   "source": [
    "plt.hist(y_valid, bins=30, alpha=.5, color='blue', label='true', range=(0,10));\n",
    "plt.hist(ridge_pred, bins=30, alpha=.5, color='green', label='pred', range=(0,10));\n",
    "plt.legend();"
   ]
  },
  {
   "cell_type": "markdown",
   "metadata": {
    "_cell_guid": "ca0efa6a-ebca-4496-8a2e-0d99f97b2d00",
    "_uuid": "e1a7b075e9cc292e6e9772f5bbfcc90dfb9186b1"
   },
   "source": [
    "As we can see, the prediction is far from perfect, and we get MAE $\\approx$ 1.3 that corresponds to $\\approx$ 2.7 error in #recommendations."
   ]
  },
  {
   "cell_type": "code",
   "execution_count": 27,
   "metadata": {
    "_cell_guid": "58b14c8b-ba67-43b3-bb41-1fd3e1dd6071",
    "_uuid": "651bc8958bd1bd38a1c18c2444648e5e076e2cbf"
   },
   "outputs": [
    {
     "data": {
      "text/plain": [
       "(1.3060947121324362, 5.765593576161411)"
      ]
     },
     "execution_count": 27,
     "metadata": {},
     "output_type": "execute_result"
    }
   ],
   "source": [
    "valid_mae = mean_absolute_error(y_valid, ridge_pred)\n",
    "valid_mae, np.expm1(valid_mae)"
   ]
  },
  {
   "cell_type": "markdown",
   "metadata": {
    "_cell_guid": "e1253943-fcd1-4df9-b740-cf2cf719b8ba",
    "_uuid": "41bf4f23f385fa1f677394828578cf1994d2d0e0"
   },
   "source": [
    "Finally, train the model on the full accessible training set, make predictions for the test set and form a submission file. "
   ]
  },
  {
   "cell_type": "code",
   "execution_count": null,
   "metadata": {
    "_cell_guid": "03ac15c3-7022-4156-ae35-e9cc38daffd4",
    "_uuid": "c0e28441751c62dd796b029c59dc3c88e6473c6c",
    "collapsed": true
   },
   "outputs": [],
   "source": [
    "%%time\n",
    "ridge.fit(X_train, y_train);"
   ]
  },
  {
   "cell_type": "code",
   "execution_count": null,
   "metadata": {
    "_cell_guid": "84871bdd-9acc-418c-9e14-ba773962fda2",
    "_uuid": "0d6c45e96e16ce82c18d02fec143c0470536792d",
    "collapsed": true
   },
   "outputs": [],
   "source": [
    "%%time\n",
    "ridge_test_pred = ridge.predict(X_test)"
   ]
  },
  {
   "cell_type": "code",
   "execution_count": 26,
   "metadata": {
    "_cell_guid": "c9a2a2c7-e033-411e-921f-6ea814c0323e",
    "_uuid": "bdf4928c1ef8be25f50d4293849745353e4c5f90",
    "collapsed": true
   },
   "outputs": [],
   "source": [
    "def write_submission_file(prediction, filename,\n",
    "    path_to_sample=os.path.join(PATH_TO_DATA, 'sample_submission.csv')):\n",
    "    submission = pd.read_csv(path_to_sample, index_col='id')\n",
    "    \n",
    "    submission['log_recommends'] = prediction\n",
    "    submission.to_csv(filename)"
   ]
  },
  {
   "cell_type": "code",
   "execution_count": null,
   "metadata": {
    "_cell_guid": "feda5e9a-09d5-4c11-8c56-29c2e99c1ec2",
    "_uuid": "80583fd5a7aadc53a5fce658404719805908539b",
    "collapsed": true
   },
   "outputs": [],
   "source": [
    "write_submission_file(prediction=ridge_test_pred, \n",
    "                      filename='first_ridge.csv')"
   ]
  },
  {
   "cell_type": "code",
   "execution_count": null,
   "metadata": {
    "collapsed": true
   },
   "outputs": [],
   "source": []
  },
  {
   "cell_type": "markdown",
   "metadata": {
    "_cell_guid": "cf4bd078-fc3e-4e16-bdb7-95b40957a012",
    "_uuid": "bdfada7d6b984b1c89c0b68d1b95a135cb93aa2f"
   },
   "source": [
    "With this, you'll get 1.91185 on [public leaderboard](https://www.kaggle.com/c/how-good-is-your-medium-article/leaderboard). This is much higher than our validation MAE. This indicates that the target distribution in test set somewhat differs from that of the training set (recent Medium articles are more popular). This shouldn't confuse us as long as we see a correlation between local improvements and improvements on the leaderboard. "
   ]
  },
  {
   "cell_type": "markdown",
   "metadata": {
    "_cell_guid": "03175b91-3aca-495d-a03d-e81b8b8819da",
    "_uuid": "3a4ec3a8d30a0ac0d5cfe27d911ee742fccecbf2"
   },
   "source": [
    "Some ideas for improvement:\n",
    "- Engineer good features, this is the key to success. Some simple features will be based on publication time, authors, content length and so on\n",
    "- You may not ignore HTML and extract some features from there\n",
    "- You'd better experiment with your validation scheme. You should see a correlation between your local improvements and LB score\n",
    "- Try TF-IDF, ngrams, Word2Vec and GloVe embeddings\n",
    "- Try various NLP techniques like stemming and lemmatization\n",
    "- Tune hyperparameters. In our example, we've left only 50k features and used `C`=1 as a regularization parameter, this can be changed \n",
    "- SGD and Vowpal Wabbit will learn much faster\n",
    "- In our course, we don't cover neural nets. But it's not obliged to use GRUs or LSTMs in this competition. "
   ]
  },
  {
   "cell_type": "code",
   "execution_count": null,
   "metadata": {
    "collapsed": true
   },
   "outputs": [],
   "source": []
  },
  {
   "cell_type": "code",
   "execution_count": 78,
   "metadata": {},
   "outputs": [
    {
     "ename": "AttributeError",
     "evalue": "module 'sklearn.linear_model' has no attribute 'GradientBoostingClassifier'",
     "output_type": "error",
     "traceback": [
      "\u001b[1;31m---------------------------------------------------------------------------\u001b[0m",
      "\u001b[1;31mAttributeError\u001b[0m                            Traceback (most recent call last)",
      "\u001b[1;32m<ipython-input-78-07cd6a3bc613>\u001b[0m in \u001b[0;36m<module>\u001b[1;34m()\u001b[0m\n\u001b[0;32m      1\u001b[0m \u001b[1;32mfrom\u001b[0m \u001b[0msklearn\u001b[0m \u001b[1;32mimport\u001b[0m \u001b[0mlinear_model\u001b[0m\u001b[1;33m\u001b[0m\u001b[0m\n\u001b[1;32m----> 2\u001b[1;33m \u001b[0mclf\u001b[0m \u001b[1;33m=\u001b[0m \u001b[0mlinear_model\u001b[0m\u001b[1;33m.\u001b[0m\u001b[0mGradientBoostingClassifier\u001b[0m \u001b[1;33m(\u001b[0m\u001b[1;33m)\u001b[0m\u001b[1;33m\u001b[0m\u001b[0m\n\u001b[0m\u001b[0;32m      3\u001b[0m \u001b[0mclf\u001b[0m\u001b[1;33m.\u001b[0m\u001b[0mfit\u001b[0m\u001b[1;33m(\u001b[0m\u001b[0mX_train_part\u001b[0m\u001b[1;33m,\u001b[0m \u001b[0my_train_part\u001b[0m\u001b[1;33m)\u001b[0m\u001b[1;33m\u001b[0m\u001b[0m\n",
      "\u001b[1;31mAttributeError\u001b[0m: module 'sklearn.linear_model' has no attribute 'GradientBoostingClassifier'"
     ]
    }
   ],
   "source": [
    "from sklearn import linear_model\n",
    "clf = linear_model.GradientBoostingClassifier ()\n",
    "clf.fit(X_train_part, y_train_part)"
   ]
  },
  {
   "cell_type": "code",
   "execution_count": 76,
   "metadata": {
    "collapsed": true
   },
   "outputs": [],
   "source": [
    "sgd_pred = clf.predict(X_train_part)"
   ]
  },
  {
   "cell_type": "code",
   "execution_count": 58,
   "metadata": {},
   "outputs": [
    {
     "data": {
      "image/png": "[encoded data removed]",
      "text/plain": [
       "<matplotlib.figure.Figure at 0x1369da9f8d0>"
      ]
     },
     "metadata": {},
     "output_type": "display_data"
    }
   ],
   "source": [
    "plt.hist(y_valid, bins=30, alpha=.5, color='blue', label='true', range=(0,10));\n",
    "plt.hist(sgd_pred/1000000000000, bins=30, alpha=.5, color='green', label='pred', range=(0,10));\n",
    "plt.legend();"
   ]
  },
  {
   "cell_type": "code",
   "execution_count": 60,
   "metadata": {},
   "outputs": [
    {
     "data": {
      "text/plain": [
       "array([ 9.01201,  3.49651,  0.69315, ...,  5.45959,  3.73767,  4.72739])"
      ]
     },
     "execution_count": 60,
     "metadata": {},
     "output_type": "execute_result"
    }
   ],
   "source": [
    "y_train_part"
   ]
  },
  {
   "cell_type": "code",
   "execution_count": 77,
   "metadata": {},
   "outputs": [
    {
     "data": {
      "text/plain": [
       "array([  1.40398333e+10,   1.61621066e+12,   1.07032325e+11, ...,\n",
       "        -4.51666251e+11,  -4.64482133e+10,   1.74456485e+11])"
      ]
     },
     "execution_count": 77,
     "metadata": {},
     "output_type": "execute_result"
    }
   ],
   "source": [
    "sgd_pred"
   ]
  },
  {
   "cell_type": "code",
   "execution_count": 38,
   "metadata": {},
   "outputs": [
    {
     "data": {
      "text/plain": [
       "array([ 3.26194404,  3.32099515,  2.57348991, ...,  2.63458605,\n",
       "        3.15779024,  2.77996911])"
      ]
     },
     "execution_count": 38,
     "metadata": {},
     "output_type": "execute_result"
    }
   ],
   "source": [
    "ridge_pred"
   ]
  },
  {
   "cell_type": "code",
   "execution_count": 48,
   "metadata": {},
   "outputs": [
    {
     "data": {
      "text/plain": [
       "(1.8501246303527088, 5.3606121985468134)"
      ]
     },
     "execution_count": 48,
     "metadata": {},
     "output_type": "execute_result"
    }
   ],
   "source": [
    "valid_mae = mean_absolute_error(y_valid, sgd_pred/5000000000000+2)\n",
    "valid_mae, np.expm1(valid_mae)"
   ]
  },
  {
   "cell_type": "code",
   "execution_count": 61,
   "metadata": {
    "collapsed": true
   },
   "outputs": [],
   "source": [
    "from sklearn.preprocessing import StandardScaler"
   ]
  },
  {
   "cell_type": "code",
   "execution_count": 66,
   "metadata": {},
   "outputs": [
    {
     "data": {
      "text/plain": [
       "StandardScaler(copy=True, with_mean=True, with_std=True)"
      ]
     },
     "execution_count": 66,
     "metadata": {},
     "output_type": "execute_result"
    }
   ],
   "source": [
    "scaler = StandardScaler()\n",
    "scaler.fit(y_train_part.reshape(-1, 1))"
   ]
  },
  {
   "cell_type": "code",
   "execution_count": 65,
   "metadata": {},
   "outputs": [
    {
     "data": {
      "text/plain": [
       "array([[ 9.01201],\n",
       "       [ 3.49651],\n",
       "       [ 0.69315],\n",
       "       ..., \n",
       "       [ 5.45959],\n",
       "       [ 3.73767],\n",
       "       [ 4.72739]])"
      ]
     },
     "execution_count": 65,
     "metadata": {},
     "output_type": "execute_result"
    }
   ],
   "source": [
    "y_train_part.reshape(-1, 1)"
   ]
  },
  {
   "cell_type": "code",
   "execution_count": 68,
   "metadata": {},
   "outputs": [],
   "source": [
    "sgd_pred_scaled = scaler.transform(sgd_pred.reshape(-1, 1))"
   ]
  },
  {
   "cell_type": "code",
   "execution_count": 69,
   "metadata": {},
   "outputs": [
    {
     "data": {
      "image/png": "[encoded data removed]",
      "text/plain": [
       "<matplotlib.figure.Figure at 0x1369db70a20>"
      ]
     },
     "metadata": {},
     "output_type": "display_data"
    }
   ],
   "source": [
    "plt.hist(y_valid, bins=30, alpha=.5, color='blue', label='true', range=(0,10));\n",
    "plt.hist(sgd_pred_scaled, bins=30, alpha=.5, color='green', label='pred', range=(0,10));\n",
    "plt.legend();"
   ]
  },
  {
   "cell_type": "code",
   "execution_count": 71,
   "metadata": {},
   "outputs": [
    {
     "data": {
      "text/plain": [
       "array([[ -1.36440859e+11],\n",
       "       [ -1.12201615e+11],\n",
       "       [  2.79538510e+11],\n",
       "       ..., \n",
       "       [  2.81371192e+10],\n",
       "       [  4.25761413e+11],\n",
       "       [ -5.48483369e+10]])"
      ]
     },
     "execution_count": 71,
     "metadata": {},
     "output_type": "execute_result"
    }
   ],
   "source": [
    "sgd_pred_scaled"
   ]
  },
  {
   "cell_type": "code",
   "execution_count": 72,
   "metadata": {},
   "outputs": [
    {
     "data": {
      "text/plain": [
       "array([ -2.72312934e+11,  -2.23935493e+11,   5.57911703e+11, ...,\n",
       "         5.61569427e+10,   8.49747946e+11,  -1.09468027e+11])"
      ]
     },
     "execution_count": 72,
     "metadata": {},
     "output_type": "execute_result"
    }
   ],
   "source": [
    "sgd_pred"
   ]
  },
  {
   "cell_type": "code",
   "execution_count": 75,
   "metadata": {},
   "outputs": [
    {
     "data": {
      "text/plain": [
       "22004148229.823185"
      ]
     },
     "execution_count": 75,
     "metadata": {},
     "output_type": "execute_result"
    }
   ],
   "source": [
    "y_train_part.mean()"
   ]
  },
  {
   "cell_type": "code",
   "execution_count": 84,
   "metadata": {},
   "outputs": [],
   "source": [
    "import numpy as np\n",
    "from catboost import Pool, CatBoostRegressor"
   ]
  },
  {
   "cell_type": "code",
   "execution_count": 83,
   "metadata": {},
   "outputs": [
    {
     "name": "stdout",
     "output_type": "stream",
     "text": [
      "Collecting catboost\n",
      "  Downloading catboost-0.6.3-cp36-none-win_amd64.whl (25.4MB)\n",
      "Requirement already satisfied: six in c:\\programdata\\anaconda3\\lib\\site-packages (from catboost)\n",
      "Requirement already satisfied: numpy in c:\\programdata\\anaconda3\\lib\\site-packages (from catboost)\n",
      "Installing collected packages: catboost\n",
      "Successfully installed catboost-0.6.3\n"
     ]
    },
    {
     "name": "stderr",
     "output_type": "stream",
     "text": [
      "You are using pip version 9.0.1, however version 9.0.3 is available.\n",
      "You should consider upgrading via the 'python -m pip install --upgrade pip' command.\n"
     ]
    }
   ],
   "source": [
    "!pip install catboost"
   ]
  },
  {
   "cell_type": "code",
   "execution_count": 87,
   "metadata": {},
   "outputs": [
    {
     "ename": "CatboostError",
     "evalue": "Invalid data type=<class 'scipy.sparse.csr.csr_matrix'>: data must be list(), np.ndarray(), DataFrame(), Series() or filename str().",
     "output_type": "error",
     "traceback": [
      "\u001b[1;31m---------------------------------------------------------------------------\u001b[0m",
      "\u001b[1;31mCatboostError\u001b[0m                             Traceback (most recent call last)",
      "\u001b[1;32m<ipython-input-87-44f358853d33>\u001b[0m in \u001b[0;36m<module>\u001b[1;34m()\u001b[0m\n\u001b[0;32m      2\u001b[0m \u001b[0mmodel\u001b[0m \u001b[1;33m=\u001b[0m \u001b[0mCatBoostRegressor\u001b[0m\u001b[1;33m(\u001b[0m\u001b[0miterations\u001b[0m\u001b[1;33m=\u001b[0m\u001b[1;36m2\u001b[0m\u001b[1;33m,\u001b[0m \u001b[0mdepth\u001b[0m\u001b[1;33m=\u001b[0m\u001b[1;36m2\u001b[0m\u001b[1;33m,\u001b[0m \u001b[0mlearning_rate\u001b[0m\u001b[1;33m=\u001b[0m\u001b[1;36m1\u001b[0m\u001b[1;33m,\u001b[0m \u001b[0mloss_function\u001b[0m\u001b[1;33m=\u001b[0m\u001b[1;34m'RMSE'\u001b[0m\u001b[1;33m)\u001b[0m\u001b[1;33m\u001b[0m\u001b[0m\n\u001b[0;32m      3\u001b[0m \u001b[1;31m#train the model\u001b[0m\u001b[1;33m\u001b[0m\u001b[1;33m\u001b[0m\u001b[0m\n\u001b[1;32m----> 4\u001b[1;33m \u001b[0mmodel\u001b[0m\u001b[1;33m.\u001b[0m\u001b[0mfit\u001b[0m\u001b[1;33m(\u001b[0m\u001b[0mX_train_part\u001b[0m\u001b[1;33m,\u001b[0m \u001b[0my_train_part\u001b[0m\u001b[1;33m)\u001b[0m\u001b[1;33m\u001b[0m\u001b[0m\n\u001b[0m",
      "\u001b[1;32mC:\\ProgramData\\Anaconda3\\lib\\site-packages\\catboost\\core.py\u001b[0m in \u001b[0;36mfit\u001b[1;34m(self, X, y, cat_features, sample_weight, baseline, use_best_model, eval_set, verbose, logging_level, plot, column_description)\u001b[0m\n\u001b[0;32m   1825\u001b[0m         \u001b[0mmodel\u001b[0m \u001b[1;33m:\u001b[0m \u001b[0mCatBoost\u001b[0m\u001b[1;33m\u001b[0m\u001b[0m\n\u001b[0;32m   1826\u001b[0m         \"\"\"\n\u001b[1;32m-> 1827\u001b[1;33m         \u001b[1;32mreturn\u001b[0m \u001b[0mself\u001b[0m\u001b[1;33m.\u001b[0m\u001b[0m_fit\u001b[0m\u001b[1;33m(\u001b[0m\u001b[0mX\u001b[0m\u001b[1;33m,\u001b[0m \u001b[0my\u001b[0m\u001b[1;33m,\u001b[0m \u001b[0mcat_features\u001b[0m\u001b[1;33m,\u001b[0m \u001b[1;32mNone\u001b[0m\u001b[1;33m,\u001b[0m \u001b[0msample_weight\u001b[0m\u001b[1;33m,\u001b[0m \u001b[1;32mNone\u001b[0m\u001b[1;33m,\u001b[0m \u001b[1;32mNone\u001b[0m\u001b[1;33m,\u001b[0m \u001b[0mbaseline\u001b[0m\u001b[1;33m,\u001b[0m \u001b[0muse_best_model\u001b[0m\u001b[1;33m,\u001b[0m \u001b[0meval_set\u001b[0m\u001b[1;33m,\u001b[0m \u001b[0mverbose\u001b[0m\u001b[1;33m,\u001b[0m \u001b[0mlogging_level\u001b[0m\u001b[1;33m,\u001b[0m \u001b[0mplot\u001b[0m\u001b[1;33m,\u001b[0m \u001b[0mcolumn_description\u001b[0m\u001b[1;33m)\u001b[0m\u001b[1;33m\u001b[0m\u001b[0m\n\u001b[0m\u001b[0;32m   1828\u001b[0m \u001b[1;33m\u001b[0m\u001b[0m\n\u001b[0;32m   1829\u001b[0m     \u001b[1;32mdef\u001b[0m \u001b[0mpredict\u001b[0m\u001b[1;33m(\u001b[0m\u001b[0mself\u001b[0m\u001b[1;33m,\u001b[0m \u001b[0mdata\u001b[0m\u001b[1;33m,\u001b[0m \u001b[0mntree_start\u001b[0m\u001b[1;33m=\u001b[0m\u001b[1;36m0\u001b[0m\u001b[1;33m,\u001b[0m \u001b[0mntree_end\u001b[0m\u001b[1;33m=\u001b[0m\u001b[1;36m0\u001b[0m\u001b[1;33m,\u001b[0m \u001b[0mthread_count\u001b[0m\u001b[1;33m=\u001b[0m\u001b[1;33m-\u001b[0m\u001b[1;36m1\u001b[0m\u001b[1;33m,\u001b[0m \u001b[0mverbose\u001b[0m\u001b[1;33m=\u001b[0m\u001b[1;32mNone\u001b[0m\u001b[1;33m)\u001b[0m\u001b[1;33m:\u001b[0m\u001b[1;33m\u001b[0m\u001b[0m\n",
      "\u001b[1;32mC:\\ProgramData\\Anaconda3\\lib\\site-packages\\catboost\\core.py\u001b[0m in \u001b[0;36m_fit\u001b[1;34m(self, X, y, cat_features, pairs, sample_weight, group_id, pairs_weight, baseline, use_best_model, eval_set, verbose, logging_level, plot, column_description)\u001b[0m\n\u001b[0;32m    662\u001b[0m             \u001b[0mparams\u001b[0m\u001b[1;33m[\u001b[0m\u001b[1;34m'use_best_model'\u001b[0m\u001b[1;33m]\u001b[0m \u001b[1;33m=\u001b[0m \u001b[0muse_best_model\u001b[0m\u001b[1;33m\u001b[0m\u001b[0m\n\u001b[0;32m    663\u001b[0m \u001b[1;33m\u001b[0m\u001b[0m\n\u001b[1;32m--> 664\u001b[1;33m         \u001b[0mtrain_pool\u001b[0m \u001b[1;33m=\u001b[0m \u001b[0m_build_train_pool\u001b[0m\u001b[1;33m(\u001b[0m\u001b[0mX\u001b[0m\u001b[1;33m,\u001b[0m \u001b[0my\u001b[0m\u001b[1;33m,\u001b[0m \u001b[0mcat_features\u001b[0m\u001b[1;33m,\u001b[0m \u001b[0mpairs\u001b[0m\u001b[1;33m,\u001b[0m \u001b[0msample_weight\u001b[0m\u001b[1;33m,\u001b[0m \u001b[0mgroup_id\u001b[0m\u001b[1;33m,\u001b[0m \u001b[0mpairs_weight\u001b[0m\u001b[1;33m,\u001b[0m \u001b[0mbaseline\u001b[0m\u001b[1;33m,\u001b[0m \u001b[0mcolumn_description\u001b[0m\u001b[1;33m)\u001b[0m\u001b[1;33m\u001b[0m\u001b[0m\n\u001b[0m\u001b[0;32m    665\u001b[0m         \u001b[1;32mif\u001b[0m \u001b[0mtrain_pool\u001b[0m\u001b[1;33m.\u001b[0m\u001b[0mis_empty_\u001b[0m\u001b[1;33m:\u001b[0m\u001b[1;33m\u001b[0m\u001b[0m\n\u001b[0;32m    666\u001b[0m             \u001b[1;32mraise\u001b[0m \u001b[0mCatboostError\u001b[0m\u001b[1;33m(\u001b[0m\u001b[1;34m\"X is empty.\"\u001b[0m\u001b[1;33m)\u001b[0m\u001b[1;33m\u001b[0m\u001b[0m\n",
      "\u001b[1;32mC:\\ProgramData\\Anaconda3\\lib\\site-packages\\catboost\\core.py\u001b[0m in \u001b[0;36m_build_train_pool\u001b[1;34m(X, y, cat_features, pairs, sample_weight, group_id, pairs_weight, baseline, column_description)\u001b[0m\n\u001b[0;32m    479\u001b[0m             \u001b[1;32mraise\u001b[0m \u001b[0mCatboostError\u001b[0m\u001b[1;33m(\u001b[0m\u001b[1;34m\"y has not initialized in fit(): X is not Pool object, y must be not None in fit().\"\u001b[0m\u001b[1;33m)\u001b[0m\u001b[1;33m\u001b[0m\u001b[0m\n\u001b[0;32m    480\u001b[0m         train_pool = Pool(X, y, cat_features=cat_features, pairs=pairs, weight=sample_weight, group_id=group_id,\n\u001b[1;32m--> 481\u001b[1;33m                  pairs_weight=pairs_weight, baseline=baseline)\n\u001b[0m\u001b[0;32m    482\u001b[0m     \u001b[1;32mreturn\u001b[0m \u001b[0mtrain_pool\u001b[0m\u001b[1;33m\u001b[0m\u001b[0m\n\u001b[0;32m    483\u001b[0m \u001b[1;33m\u001b[0m\u001b[0m\n",
      "\u001b[1;32mC:\\ProgramData\\Anaconda3\\lib\\site-packages\\catboost\\core.py\u001b[0m in \u001b[0;36m__init__\u001b[1;34m(self, data, label, cat_features, column_description, pairs, delimiter, has_header, weight, group_id, pairs_weight, baseline, feature_names, thread_count)\u001b[0m\n\u001b[0;32m    166\u001b[0m         \"\"\"\n\u001b[0;32m    167\u001b[0m         \u001b[1;32mif\u001b[0m \u001b[0mdata\u001b[0m \u001b[1;32mis\u001b[0m \u001b[1;32mnot\u001b[0m \u001b[1;32mNone\u001b[0m\u001b[1;33m:\u001b[0m\u001b[1;33m\u001b[0m\u001b[0m\n\u001b[1;32m--> 168\u001b[1;33m             \u001b[0mself\u001b[0m\u001b[1;33m.\u001b[0m\u001b[0m_check_data_type\u001b[0m\u001b[1;33m(\u001b[0m\u001b[0mdata\u001b[0m\u001b[1;33m)\u001b[0m\u001b[1;33m\u001b[0m\u001b[0m\n\u001b[0m\u001b[0;32m    169\u001b[0m             \u001b[0mself\u001b[0m\u001b[1;33m.\u001b[0m\u001b[0m_check_data_empty\u001b[0m\u001b[1;33m(\u001b[0m\u001b[0mdata\u001b[0m\u001b[1;33m)\u001b[0m\u001b[1;33m\u001b[0m\u001b[0m\n\u001b[0;32m    170\u001b[0m             \u001b[1;32mif\u001b[0m \u001b[0mpairs\u001b[0m \u001b[1;32mis\u001b[0m \u001b[1;32mnot\u001b[0m \u001b[1;32mNone\u001b[0m \u001b[1;32mand\u001b[0m \u001b[0misinstance\u001b[0m\u001b[1;33m(\u001b[0m\u001b[0mdata\u001b[0m\u001b[1;33m,\u001b[0m \u001b[0mSTRING_TYPES\u001b[0m\u001b[1;33m)\u001b[0m \u001b[1;33m!=\u001b[0m \u001b[0misinstance\u001b[0m\u001b[1;33m(\u001b[0m\u001b[0mpairs\u001b[0m\u001b[1;33m,\u001b[0m \u001b[0mSTRING_TYPES\u001b[0m\u001b[1;33m)\u001b[0m\u001b[1;33m:\u001b[0m\u001b[1;33m\u001b[0m\u001b[0m\n",
      "\u001b[1;32mC:\\ProgramData\\Anaconda3\\lib\\site-packages\\catboost\\core.py\u001b[0m in \u001b[0;36m_check_data_type\u001b[1;34m(self, data)\u001b[0m\n\u001b[0;32m    242\u001b[0m         \"\"\"\n\u001b[0;32m    243\u001b[0m         \u001b[1;32mif\u001b[0m \u001b[1;32mnot\u001b[0m \u001b[0misinstance\u001b[0m\u001b[1;33m(\u001b[0m\u001b[0mdata\u001b[0m\u001b[1;33m,\u001b[0m \u001b[1;33m(\u001b[0m\u001b[0mSTRING_TYPES\u001b[0m\u001b[1;33m,\u001b[0m \u001b[0mARRAY_TYPES\u001b[0m\u001b[1;33m)\u001b[0m\u001b[1;33m)\u001b[0m\u001b[1;33m:\u001b[0m\u001b[1;33m\u001b[0m\u001b[0m\n\u001b[1;32m--> 244\u001b[1;33m             \u001b[1;32mraise\u001b[0m \u001b[0mCatboostError\u001b[0m\u001b[1;33m(\u001b[0m\u001b[1;34m\"Invalid data type={}: data must be list(), np.ndarray(), DataFrame(), Series() or filename str().\"\u001b[0m\u001b[1;33m.\u001b[0m\u001b[0mformat\u001b[0m\u001b[1;33m(\u001b[0m\u001b[0mtype\u001b[0m\u001b[1;33m(\u001b[0m\u001b[0mdata\u001b[0m\u001b[1;33m)\u001b[0m\u001b[1;33m)\u001b[0m\u001b[1;33m)\u001b[0m\u001b[1;33m\u001b[0m\u001b[0m\n\u001b[0m\u001b[0;32m    245\u001b[0m \u001b[1;33m\u001b[0m\u001b[0m\n\u001b[0;32m    246\u001b[0m     \u001b[1;32mdef\u001b[0m \u001b[0m_check_data_empty\u001b[0m\u001b[1;33m(\u001b[0m\u001b[0mself\u001b[0m\u001b[1;33m,\u001b[0m \u001b[0mdata\u001b[0m\u001b[1;33m)\u001b[0m\u001b[1;33m:\u001b[0m\u001b[1;33m\u001b[0m\u001b[0m\n",
      "\u001b[1;31mCatboostError\u001b[0m: Invalid data type=<class 'scipy.sparse.csr.csr_matrix'>: data must be list(), np.ndarray(), DataFrame(), Series() or filename str()."
     ]
    }
   ],
   "source": [
    "# specify the training parameters \n",
    "model = CatBoostRegressor(iterations=2, depth=2, learning_rate=1, loss_function='RMSE')\n",
    "#train the model\n",
    "model.fit(X_train_part, y_train_part)"
   ]
  },
  {
   "cell_type": "code",
   "execution_count": 89,
   "metadata": {},
   "outputs": [
    {
     "data": {
      "text/plain": [
       "<43619x50000 sparse matrix of type '<class 'numpy.int64'>'\n",
       "\twith 23399117 stored elements in Compressed Sparse Row format>"
      ]
     },
     "execution_count": 89,
     "metadata": {},
     "output_type": "execute_result"
    }
   ],
   "source": [
    "X_train_part"
   ]
  },
  {
   "cell_type": "code",
   "execution_count": 90,
   "metadata": {},
   "outputs": [
    {
     "data": {
      "text/plain": [
       "array([ 9.01201,  3.49651,  0.69315, ...,  5.45959,  3.73767,  4.72739])"
      ]
     },
     "execution_count": 90,
     "metadata": {},
     "output_type": "execute_result"
    }
   ],
   "source": [
    "y_train_part"
   ]
  },
  {
   "cell_type": "code",
   "execution_count": 95,
   "metadata": {},
   "outputs": [
    {
     "name": "stdout",
     "output_type": "stream",
     "text": [
      "Collecting xgboost\n",
      "  Using cached xgboost-0.7.post4.tar.gz\n"
     ]
    },
    {
     "name": "stderr",
     "output_type": "stream",
     "text": [
      "No files/directories in C:\\Users\\AGILED~1\\AppData\\Local\\Temp\\pip-build-rnrv46qh\\xgboost\\pip-egg-info (from PKG-INFO)\n",
      "You are using pip version 9.0.1, however version 9.0.3 is available.\n",
      "You should consider upgrading via the 'python -m pip install --upgrade pip' command.\n"
     ]
    }
   ],
   "source": [
    "!pip install --upgrade xgboost"
   ]
  },
  {
   "cell_type": "code",
   "execution_count": 100,
   "metadata": {},
   "outputs": [],
   "source": [
    "from xgboost import XGBRegressor"
   ]
  },
  {
   "cell_type": "code",
   "execution_count": null,
   "metadata": {
    "collapsed": true
   },
   "outputs": [],
   "source": [
    "XGBRegressor"
   ]
  },
  {
   "cell_type": "code",
   "execution_count": 99,
   "metadata": {},
   "outputs": [
    {
     "name": "stdout",
     "output_type": "stream",
     "text": [
      "Processing c:\\users\\agiledeveloper\\xgboost-0.7-cp36-cp36m-win_amd64.whl\n",
      "Requirement already satisfied: scipy in c:\\programdata\\anaconda3\\lib\\site-packages (from xgboost==0.7)\n",
      "Requirement already satisfied: numpy in c:\\programdata\\anaconda3\\lib\\site-packages (from xgboost==0.7)\n",
      "Installing collected packages: xgboost\n",
      "Successfully installed xgboost-0.7\n"
     ]
    },
    {
     "name": "stderr",
     "output_type": "stream",
     "text": [
      "You are using pip version 9.0.1, however version 9.0.3 is available.\n",
      "You should consider upgrading via the 'python -m pip install --upgrade pip' command.\n"
     ]
    }
   ],
   "source": [
    "!pip install xgboost-0.7-cp36-cp36m-win_amd64.whl"
   ]
  },
  {
   "cell_type": "code",
   "execution_count": 101,
   "metadata": {},
   "outputs": [
    {
     "data": {
      "text/plain": [
       "XGBRegressor(base_score=0.5, booster='gbtree', colsample_bylevel=1,\n",
       "       colsample_bytree=1, gamma=0, learning_rate=0.1, max_delta_step=0,\n",
       "       max_depth=3, min_child_weight=1, missing=None, n_estimators=100,\n",
       "       n_jobs=1, nthread=None, objective='reg:linear', random_state=0,\n",
       "       reg_alpha=0, reg_lambda=1, scale_pos_weight=1, seed=None,\n",
       "       silent=True, subsample=1)"
      ]
     },
     "execution_count": 101,
     "metadata": {},
     "output_type": "execute_result"
    }
   ],
   "source": [
    "# specify the training parameters \n",
    "model = XGBRegressor()\n",
    "#train the model\n",
    "model.fit(X_train_part, y_train_part)"
   ]
  },
  {
   "cell_type": "code",
   "execution_count": 102,
   "metadata": {
    "collapsed": true
   },
   "outputs": [],
   "source": [
    "xgb_pred = model.predict(X_valid)"
   ]
  },
  {
   "cell_type": "code",
   "execution_count": 103,
   "metadata": {},
   "outputs": [
    {
     "data": {
      "image/png": "[encoded data removed]",
      "text/plain": [
       "<matplotlib.figure.Figure at 0x1369b8a5cc0>"
      ]
     },
     "metadata": {},
     "output_type": "display_data"
    }
   ],
   "source": [
    "plt.hist(y_valid, bins=30, alpha=.5, color='blue', label='true', range=(0,10));\n",
    "plt.hist(xgb_pred, bins=30, alpha=.5, color='green', label='pred', range=(0,10));\n",
    "plt.legend();"
   ]
  },
  {
   "cell_type": "code",
   "execution_count": 104,
   "metadata": {},
   "outputs": [
    {
     "data": {
      "image/png": "[encoded data removed]",
      "text/plain": [
       "<matplotlib.figure.Figure at 0x13693bf7c18>"
      ]
     },
     "metadata": {},
     "output_type": "display_data"
    }
   ],
   "source": [
    "plt.hist(y_valid, bins=30, alpha=.5, color='blue', label='true', range=(0,10));\n",
    "plt.hist(ridge_pred, bins=30, alpha=.5, color='green', label='pred', range=(0,10));\n",
    "plt.legend();"
   ]
  },
  {
   "cell_type": "code",
   "execution_count": 105,
   "metadata": {},
   "outputs": [
    {
     "data": {
      "text/plain": [
       "(1.2545164972503908, 2.506142734799627)"
      ]
     },
     "execution_count": 105,
     "metadata": {},
     "output_type": "execute_result"
    }
   ],
   "source": [
    "valid_mae = mean_absolute_error(y_valid, xgb_pred)\n",
    "valid_mae, np.expm1(valid_mae)"
   ]
  },
  {
   "cell_type": "code",
   "execution_count": 107,
   "metadata": {
    "collapsed": true
   },
   "outputs": [],
   "source": [
    "model.fit(X_train, y_train);"
   ]
  },
  {
   "cell_type": "code",
   "execution_count": 108,
   "metadata": {
    "collapsed": true
   },
   "outputs": [],
   "source": [
    "xgb_test_pred = model.predict(X_test)"
   ]
  },
  {
   "cell_type": "code",
   "execution_count": 106,
   "metadata": {
    "collapsed": true
   },
   "outputs": [],
   "source": [
    "def write_submission_file(prediction, filename,\n",
    "    path_to_sample=os.path.join(PATH_TO_DATA, 'sample_submission.csv')):\n",
    "    submission = pd.read_csv(path_to_sample, index_col='id')\n",
    "    \n",
    "    submission['log_recommends'] = prediction\n",
    "    submission.to_csv(filename)\n"
   ]
  },
  {
   "cell_type": "code",
   "execution_count": 157,
   "metadata": {},
   "outputs": [],
   "source": [
    "write_submission_file(prediction=xgb_test_predh, \n",
    "                      filename='xgbh.csv')"
   ]
  },
  {
   "cell_type": "code",
   "execution_count": 113,
   "metadata": {
    "collapsed": true
   },
   "outputs": [],
   "source": [
    "from sklearn.metrics import accuracy_score"
   ]
  },
  {
   "cell_type": "code",
   "execution_count": 152,
   "metadata": {
    "collapsed": true
   },
   "outputs": [],
   "source": [
    "write_submission_file(pred2, \n",
    "                      'pred_hack.csv')"
   ]
  },
  {
   "cell_type": "code",
   "execution_count": 125,
   "metadata": {
    "collapsed": true
   },
   "outputs": [],
   "source": [
    "zeros=np.zeros_like(y_train)"
   ]
  },
  {
   "cell_type": "code",
   "execution_count": 126,
   "metadata": {},
   "outputs": [
    {
     "data": {
      "text/plain": [
       "(3.0515385982058318, 20.147857459420791)"
      ]
     },
     "execution_count": 126,
     "metadata": {},
     "output_type": "execute_result"
    }
   ],
   "source": [
    "valid_mae = mean_absolute_error(y_train, zeros)\n",
    "valid_mae, np.expm1(valid_mae)"
   ]
  },
  {
   "cell_type": "code",
   "execution_count": 119,
   "metadata": {},
   "outputs": [
    {
     "data": {
      "image/png": "[encoded data removed]",
      "text/plain": [
       "<matplotlib.figure.Figure at 0x13693109860>"
      ]
     },
     "metadata": {},
     "output_type": "display_data"
    }
   ],
   "source": [
    "plt.hist(y_valid, bins=30, alpha=.5, color='blue', label='true', range=(0,10));\n",
    "plt.hist(zeros, bins=30, alpha=.5, color='green', label='pred', range=(0,10));\n",
    "plt.legend();"
   ]
  },
  {
   "cell_type": "code",
   "execution_count": 122,
   "metadata": {},
   "outputs": [
    {
     "data": {
      "text/plain": [
       "148973.5"
      ]
     },
     "execution_count": 122,
     "metadata": {},
     "output_type": "execute_result"
    }
   ],
   "source": [
    "4.3*xgb_test_pred.shape[0]"
   ]
  },
  {
   "cell_type": "code",
   "execution_count": 326,
   "metadata": {},
   "outputs": [
    {
     "data": {
      "text/plain": [
       "3.1261232230480589"
      ]
     },
     "execution_count": 326,
     "metadata": {},
     "output_type": "execute_result"
    }
   ],
   "source": [
    "xgb_test_pred.sum()/xgb_test_pred.shape[0]"
   ]
  },
  {
   "cell_type": "code",
   "execution_count": null,
   "metadata": {
    "collapsed": true
   },
   "outputs": [],
   "source": []
  },
  {
   "cell_type": "code",
   "execution_count": 394,
   "metadata": {
    "collapsed": true
   },
   "outputs": [],
   "source": [
    "xgb_test_predh=xgb_test_pred*4.3/3.1261232230480589"
   ]
  },
  {
   "cell_type": "code",
   "execution_count": null,
   "metadata": {
    "collapsed": true
   },
   "outputs": [],
   "source": []
  },
  {
   "cell_type": "code",
   "execution_count": 395,
   "metadata": {},
   "outputs": [
    {
     "data": {
      "text/plain": [
       "4.3000004510030303"
      ]
     },
     "execution_count": 395,
     "metadata": {},
     "output_type": "execute_result"
    }
   ],
   "source": [
    "xgb_test_predh.sum()/xgb_test_pred.shape[0]"
   ]
  },
  {
   "cell_type": "code",
   "execution_count": null,
   "metadata": {
    "collapsed": true
   },
   "outputs": [],
   "source": [
    "xgb_test_predh=xgb_test_predh*4.3/3.1261232230480589"
   ]
  },
  {
   "cell_type": "code",
   "execution_count": 124,
   "metadata": {},
   "outputs": [
    {
     "data": {
      "image/png": "[encoded data removed]",
      "text/plain": [
       "<matplotlib.figure.Figure at 0x1369ba86908>"
      ]
     },
     "metadata": {},
     "output_type": "display_data"
    }
   ],
   "source": [
    "plt.hist(y_train, bins=30, alpha=.5, color='blue', label='true', range=(0,10));\n",
    "plt.legend();"
   ]
  },
  {
   "cell_type": "code",
   "execution_count": 130,
   "metadata": {
    "collapsed": true
   },
   "outputs": [],
   "source": [
    "y_pred = y_train * 148973.5 / 186939"
   ]
  },
  {
   "cell_type": "code",
   "execution_count": 131,
   "metadata": {},
   "outputs": [
    {
     "data": {
      "image/png": "[encoded data removed]",
      "text/plain": [
       "<matplotlib.figure.Figure at 0x1369db7c588>"
      ]
     },
     "metadata": {},
     "output_type": "display_data"
    }
   ],
   "source": [
    "plt.hist(y_pred, bins=30, alpha=.5, color='blue', label='true', range=(0,10));\n",
    "plt.legend();"
   ]
  },
  {
   "cell_type": "code",
   "execution_count": 132,
   "metadata": {},
   "outputs": [
    {
     "data": {
      "text/plain": [
       "190150.52467000001"
      ]
     },
     "execution_count": 132,
     "metadata": {},
     "output_type": "execute_result"
    }
   ],
   "source": [
    "y_train.sum()"
   ]
  },
  {
   "cell_type": "code",
   "execution_count": 133,
   "metadata": {},
   "outputs": [
    {
     "data": {
      "text/plain": [
       "151532.79511993885"
      ]
     },
     "execution_count": 133,
     "metadata": {},
     "output_type": "execute_result"
    }
   ],
   "source": [
    "y_pred.sum()"
   ]
  },
  {
   "cell_type": "code",
   "execution_count": 134,
   "metadata": {},
   "outputs": [
    {
     "data": {
      "image/png": "[encoded data removed]",
      "text/plain": [
       "<matplotlib.figure.Figure at 0x1369dad8278>"
      ]
     },
     "metadata": {},
     "output_type": "display_data"
    }
   ],
   "source": [
    "plt.hist(xgb_test_pred, bins=30, alpha=.5, color='blue', label='true', range=(0,10));\n",
    "plt.legend();"
   ]
  },
  {
   "cell_type": "code",
   "execution_count": 135,
   "metadata": {},
   "outputs": [
    {
     "name": "stdout",
     "output_type": "stream",
     "text": [
      "Wall time: 0 ns\n"
     ]
    }
   ],
   "source": [
    "%time\n",
    "model2 = XGBRegressor()\n",
    "model2.fit(X_train, y_pred);"
   ]
  },
  {
   "cell_type": "code",
   "execution_count": 139,
   "metadata": {
    "collapsed": true
   },
   "outputs": [],
   "source": [
    "pred2 = model2.predict(X_test)"
   ]
  },
  {
   "cell_type": "code",
   "execution_count": 140,
   "metadata": {},
   "outputs": [
    {
     "data": {
      "image/png": "[encoded data removed]",
      "text/plain": [
       "<matplotlib.figure.Figure at 0x1369bcf6710>"
      ]
     },
     "metadata": {},
     "output_type": "display_data"
    }
   ],
   "source": [
    "plt.hist(pred2, bins=30, alpha=.5, color='blue', label='true', range=(0,10));\n",
    "plt.legend();"
   ]
  },
  {
   "cell_type": "code",
   "execution_count": 151,
   "metadata": {},
   "outputs": [
    {
     "data": {
      "text/plain": [
       "86309.023"
      ]
     },
     "execution_count": 151,
     "metadata": {},
     "output_type": "execute_result"
    }
   ],
   "source": [
    "pred2.sum()"
   ]
  },
  {
   "cell_type": "code",
   "execution_count": null,
   "metadata": {
    "collapsed": true
   },
   "outputs": [],
   "source": []
  },
  {
   "cell_type": "code",
   "execution_count": 141,
   "metadata": {},
   "outputs": [
    {
     "data": {
      "image/png": "[encoded data removed]",
      "text/plain": [
       "<matplotlib.figure.Figure at 0x1369252a0b8>"
      ]
     },
     "metadata": {},
     "output_type": "display_data"
    }
   ],
   "source": [
    "plt.hist(y_train, bins=30, alpha=.5, color='blue', label='true', range=(0,10));\n",
    "plt.legend();"
   ]
  },
  {
   "cell_type": "code",
   "execution_count": 145,
   "metadata": {},
   "outputs": [
    {
     "data": {
      "text/plain": [
       "0.69314718055994529"
      ]
     },
     "execution_count": 145,
     "metadata": {},
     "output_type": "execute_result"
    }
   ],
   "source": [
    "np.log(2)"
   ]
  },
  {
   "cell_type": "code",
   "execution_count": 148,
   "metadata": {},
   "outputs": [
    {
     "data": {
      "text/plain": [
       "2.0"
      ]
     },
     "execution_count": 148,
     "metadata": {},
     "output_type": "execute_result"
    }
   ],
   "source": [
    "np.exp(0.69314718055994529)"
   ]
  },
  {
   "cell_type": "code",
   "execution_count": 149,
   "metadata": {
    "collapsed": true
   },
   "outputs": [],
   "source": [
    "y_exp = np.exp(y_train)"
   ]
  },
  {
   "cell_type": "code",
   "execution_count": 150,
   "metadata": {},
   "outputs": [
    {
     "data": {
      "image/png": "[encoded data removed]",
      "text/plain": [
       "<matplotlib.figure.Figure at 0x1368d3896d8>"
      ]
     },
     "metadata": {},
     "output_type": "display_data"
    }
   ],
   "source": [
    "plt.hist(y_exp, bins=30, alpha=.5, color='blue', label='true', range=(0,10));\n",
    "plt.legend();"
   ]
  },
  {
   "cell_type": "code",
   "execution_count": null,
   "metadata": {
    "collapsed": true
   },
   "outputs": [],
   "source": []
  },
  {
   "cell_type": "code",
   "execution_count": null,
   "metadata": {
    "collapsed": true
   },
   "outputs": [],
   "source": []
  },
  {
   "cell_type": "code",
   "execution_count": 184,
   "metadata": {
    "collapsed": true
   },
   "outputs": [],
   "source": [
    "train_part_size = int(0.7 * train_target.shape[0])\n",
    "X_train_time_part = X_train_time[:train_part_size, :]\n",
    "X_time_valid =  X_train_time[train_part_size:, :]"
   ]
  },
  {
   "cell_type": "code",
   "execution_count": 185,
   "metadata": {},
   "outputs": [
    {
     "data": {
      "text/plain": [
       "XGBRegressor(base_score=0.5, booster='gbtree', colsample_bylevel=1,\n",
       "       colsample_bytree=1, gamma=0, learning_rate=0.1, max_delta_step=0,\n",
       "       max_depth=3, min_child_weight=1, missing=None, n_estimators=100,\n",
       "       n_jobs=1, nthread=None, objective='reg:linear', random_state=0,\n",
       "       reg_alpha=0, reg_lambda=1, scale_pos_weight=1, seed=None,\n",
       "       silent=True, subsample=1)"
      ]
     },
     "execution_count": 185,
     "metadata": {},
     "output_type": "execute_result"
    }
   ],
   "source": [
    "model = XGBRegressor()\n",
    "#train the model\n",
    "model.fit(X_train_time_part, y_train_part)"
   ]
  },
  {
   "cell_type": "code",
   "execution_count": 186,
   "metadata": {
    "collapsed": true
   },
   "outputs": [],
   "source": [
    "xgb_time_pred = model.predict(X_time_valid)"
   ]
  },
  {
   "cell_type": "code",
   "execution_count": 187,
   "metadata": {},
   "outputs": [
    {
     "data": {
      "text/plain": [
       "(2.0371261487405898, 6.6685392599976652)"
      ]
     },
     "execution_count": 187,
     "metadata": {},
     "output_type": "execute_result"
    }
   ],
   "source": [
    "valid_mae = mean_absolute_error(y_valid, xgb_time_pred)\n",
    "valid_mae, np.expm1(valid_mae)"
   ]
  },
  {
   "cell_type": "code",
   "execution_count": 188,
   "metadata": {},
   "outputs": [
    {
     "data": {
      "text/plain": [
       "StandardScaler(copy=True, with_mean=True, with_std=True)"
      ]
     },
     "execution_count": 188,
     "metadata": {},
     "output_type": "execute_result"
    }
   ],
   "source": [
    "scaler = StandardScaler()\n",
    "scaler.fit(np.reshape(_timestamps,(-1, 1)))"
   ]
  },
  {
   "cell_type": "code",
   "execution_count": null,
   "metadata": {
    "collapsed": true
   },
   "outputs": [],
   "source": []
  },
  {
   "cell_type": "code",
   "execution_count": null,
   "metadata": {
    "collapsed": true
   },
   "outputs": [],
   "source": []
  },
  {
   "cell_type": "code",
   "execution_count": null,
   "metadata": {
    "collapsed": true
   },
   "outputs": [],
   "source": []
  },
  {
   "cell_type": "code",
   "execution_count": null,
   "metadata": {
    "collapsed": true
   },
   "outputs": [],
   "source": []
  },
  {
   "cell_type": "code",
   "execution_count": 189,
   "metadata": {
    "collapsed": true
   },
   "outputs": [],
   "source": [
    "X_train_time_s = csr_matrix(hstack([X_train, \n",
    "                             scaler.transform(np.reshape(_timestamps,(-1, 1)))]))"
   ]
  },
  {
   "cell_type": "code",
   "execution_count": 190,
   "metadata": {
    "collapsed": true
   },
   "outputs": [],
   "source": [
    "train_part_size = int(0.7 * train_target.shape[0])\n",
    "X_train_time_s_part = X_train_time_s[:train_part_size, :]\n",
    "X_time_s_valid =  X_train_time_s[train_part_size:, :]"
   ]
  },
  {
   "cell_type": "code",
   "execution_count": 191,
   "metadata": {},
   "outputs": [
    {
     "name": "stdout",
     "output_type": "stream",
     "text": [
      "Wall time: 0 ns\n"
     ]
    },
    {
     "data": {
      "text/plain": [
       "XGBRegressor(base_score=0.5, booster='gbtree', colsample_bylevel=1,\n",
       "       colsample_bytree=1, gamma=0, learning_rate=0.1, max_delta_step=0,\n",
       "       max_depth=3, min_child_weight=1, missing=None, n_estimators=100,\n",
       "       n_jobs=1, nthread=None, objective='reg:linear', random_state=0,\n",
       "       reg_alpha=0, reg_lambda=1, scale_pos_weight=1, seed=None,\n",
       "       silent=True, subsample=1)"
      ]
     },
     "execution_count": 191,
     "metadata": {},
     "output_type": "execute_result"
    }
   ],
   "source": [
    "%time\n",
    "model.fit(X_train_time_s_part, y_train_part)"
   ]
  },
  {
   "cell_type": "code",
   "execution_count": 192,
   "metadata": {
    "collapsed": true
   },
   "outputs": [],
   "source": [
    "xgb_time_s_pred = model.predict(X_time_s_valid)"
   ]
  },
  {
   "cell_type": "code",
   "execution_count": 193,
   "metadata": {},
   "outputs": [
    {
     "data": {
      "text/plain": [
       "(2.0545991659453584, 6.8037092532279715)"
      ]
     },
     "execution_count": 193,
     "metadata": {},
     "output_type": "execute_result"
    }
   ],
   "source": [
    "valid_mae = mean_absolute_error(y_valid, xgb_time_s_pred)\n",
    "valid_mae, np.expm1(valid_mae)"
   ]
  },
  {
   "cell_type": "code",
   "execution_count": 196,
   "metadata": {},
   "outputs": [
    {
     "data": {
      "text/plain": [
       "array([[ 1.28610066],\n",
       "       [-2.28025562],\n",
       "       [-2.2802285 ],\n",
       "       ..., \n",
       "       [ 1.55011145],\n",
       "       [ 1.55011652],\n",
       "       [ 1.55011906]])"
      ]
     },
     "execution_count": 196,
     "metadata": {},
     "output_type": "execute_result"
    }
   ],
   "source": [
    "scaler.transform(np.reshape(_timestamps,(-1, 1)))"
   ]
  },
  {
   "cell_type": "code",
   "execution_count": 199,
   "metadata": {},
   "outputs": [],
   "source": [
    "dt= pd.to_datetime(_timestamps,unit='ms')"
   ]
  },
  {
   "cell_type": "code",
   "execution_count": 202,
   "metadata": {},
   "outputs": [
    {
     "data": {
      "text/plain": [
       "Timestamp('1970-01-18 14:14:46.969258')"
      ]
     },
     "execution_count": 202,
     "metadata": {},
     "output_type": "execute_result"
    }
   ],
   "source": [
    "dt.max()"
   ]
  },
  {
   "cell_type": "code",
   "execution_count": 203,
   "metadata": {},
   "outputs": [
    {
     "data": {
      "text/plain": [
       "Timestamp('1970-01-18 14:02:15.833265')"
      ]
     },
     "execution_count": 203,
     "metadata": {},
     "output_type": "execute_result"
    }
   ],
   "source": [
    "dt.min()"
   ]
  },
  {
   "cell_type": "code",
   "execution_count": null,
   "metadata": {
    "collapsed": true
   },
   "outputs": [],
   "source": []
  },
  {
   "cell_type": "code",
   "execution_count": 214,
   "metadata": {},
   "outputs": [
    {
     "ename": "TypeError",
     "evalue": "no supported conversion for types: (dtype('int64'), dtype('O'))",
     "output_type": "error",
     "traceback": [
      "\u001b[1;31m---------------------------------------------------------------------------\u001b[0m",
      "\u001b[1;31mTypeError\u001b[0m                                 Traceback (most recent call last)",
      "\u001b[1;32m<ipython-input-214-f867a694b739>\u001b[0m in \u001b[0;36m<module>\u001b[1;34m()\u001b[0m\n\u001b[1;32m----> 1\u001b[1;33m \u001b[0mX_train_dates\u001b[0m \u001b[1;33m=\u001b[0m \u001b[0mcsr_matrix\u001b[0m\u001b[1;33m(\u001b[0m\u001b[0mhstack\u001b[0m\u001b[1;33m(\u001b[0m\u001b[1;33m[\u001b[0m\u001b[0mX_train\u001b[0m\u001b[1;33m,\u001b[0m \u001b[0mnp\u001b[0m\u001b[1;33m.\u001b[0m\u001b[0mreshape\u001b[0m\u001b[1;33m(\u001b[0m\u001b[0mdates\u001b[0m\u001b[1;33m,\u001b[0m\u001b[1;33m(\u001b[0m\u001b[1;33m-\u001b[0m\u001b[1;36m1\u001b[0m\u001b[1;33m,\u001b[0m \u001b[1;36m1\u001b[0m\u001b[1;33m)\u001b[0m\u001b[1;33m)\u001b[0m\u001b[1;33m]\u001b[0m\u001b[1;33m)\u001b[0m\u001b[1;33m)\u001b[0m\u001b[1;33m\u001b[0m\u001b[0m\n\u001b[0m",
      "\u001b[1;32mC:\\ProgramData\\Anaconda3\\lib\\site-packages\\scipy\\sparse\\construct.py\u001b[0m in \u001b[0;36mhstack\u001b[1;34m(blocks, format, dtype)\u001b[0m\n\u001b[0;32m    456\u001b[0m \u001b[1;33m\u001b[0m\u001b[0m\n\u001b[0;32m    457\u001b[0m     \"\"\"\n\u001b[1;32m--> 458\u001b[1;33m     \u001b[1;32mreturn\u001b[0m \u001b[0mbmat\u001b[0m\u001b[1;33m(\u001b[0m\u001b[1;33m[\u001b[0m\u001b[0mblocks\u001b[0m\u001b[1;33m]\u001b[0m\u001b[1;33m,\u001b[0m \u001b[0mformat\u001b[0m\u001b[1;33m=\u001b[0m\u001b[0mformat\u001b[0m\u001b[1;33m,\u001b[0m \u001b[0mdtype\u001b[0m\u001b[1;33m=\u001b[0m\u001b[0mdtype\u001b[0m\u001b[1;33m)\u001b[0m\u001b[1;33m\u001b[0m\u001b[0m\n\u001b[0m\u001b[0;32m    459\u001b[0m \u001b[1;33m\u001b[0m\u001b[0m\n\u001b[0;32m    460\u001b[0m \u001b[1;33m\u001b[0m\u001b[0m\n",
      "\u001b[1;32mC:\\ProgramData\\Anaconda3\\lib\\site-packages\\scipy\\sparse\\construct.py\u001b[0m in \u001b[0;36mbmat\u001b[1;34m(blocks, format, dtype)\u001b[0m\n\u001b[0;32m    592\u001b[0m     \u001b[1;32mif\u001b[0m \u001b[0mdtype\u001b[0m \u001b[1;32mis\u001b[0m \u001b[1;32mNone\u001b[0m\u001b[1;33m:\u001b[0m\u001b[1;33m\u001b[0m\u001b[0m\n\u001b[0;32m    593\u001b[0m         \u001b[0mall_dtypes\u001b[0m \u001b[1;33m=\u001b[0m \u001b[1;33m[\u001b[0m\u001b[0mblk\u001b[0m\u001b[1;33m.\u001b[0m\u001b[0mdtype\u001b[0m \u001b[1;32mfor\u001b[0m \u001b[0mblk\u001b[0m \u001b[1;32min\u001b[0m \u001b[0mblocks\u001b[0m\u001b[1;33m[\u001b[0m\u001b[0mblock_mask\u001b[0m\u001b[1;33m]\u001b[0m\u001b[1;33m]\u001b[0m\u001b[1;33m\u001b[0m\u001b[0m\n\u001b[1;32m--> 594\u001b[1;33m         \u001b[0mdtype\u001b[0m \u001b[1;33m=\u001b[0m \u001b[0mupcast\u001b[0m\u001b[1;33m(\u001b[0m\u001b[1;33m*\u001b[0m\u001b[0mall_dtypes\u001b[0m\u001b[1;33m)\u001b[0m \u001b[1;32mif\u001b[0m \u001b[0mall_dtypes\u001b[0m \u001b[1;32melse\u001b[0m \u001b[1;32mNone\u001b[0m\u001b[1;33m\u001b[0m\u001b[0m\n\u001b[0m\u001b[0;32m    595\u001b[0m \u001b[1;33m\u001b[0m\u001b[0m\n\u001b[0;32m    596\u001b[0m     \u001b[0mrow_offsets\u001b[0m \u001b[1;33m=\u001b[0m \u001b[0mnp\u001b[0m\u001b[1;33m.\u001b[0m\u001b[0mappend\u001b[0m\u001b[1;33m(\u001b[0m\u001b[1;36m0\u001b[0m\u001b[1;33m,\u001b[0m \u001b[0mnp\u001b[0m\u001b[1;33m.\u001b[0m\u001b[0mcumsum\u001b[0m\u001b[1;33m(\u001b[0m\u001b[0mbrow_lengths\u001b[0m\u001b[1;33m)\u001b[0m\u001b[1;33m)\u001b[0m\u001b[1;33m\u001b[0m\u001b[0m\n",
      "\u001b[1;32mC:\\ProgramData\\Anaconda3\\lib\\site-packages\\scipy\\sparse\\sputils.py\u001b[0m in \u001b[0;36mupcast\u001b[1;34m(*args)\u001b[0m\n\u001b[0;32m     49\u001b[0m             \u001b[1;32mreturn\u001b[0m \u001b[0mt\u001b[0m\u001b[1;33m\u001b[0m\u001b[0m\n\u001b[0;32m     50\u001b[0m \u001b[1;33m\u001b[0m\u001b[0m\n\u001b[1;32m---> 51\u001b[1;33m     \u001b[1;32mraise\u001b[0m \u001b[0mTypeError\u001b[0m\u001b[1;33m(\u001b[0m\u001b[1;34m'no supported conversion for types: %r'\u001b[0m \u001b[1;33m%\u001b[0m \u001b[1;33m(\u001b[0m\u001b[0margs\u001b[0m\u001b[1;33m,\u001b[0m\u001b[1;33m)\u001b[0m\u001b[1;33m)\u001b[0m\u001b[1;33m\u001b[0m\u001b[0m\n\u001b[0m\u001b[0;32m     52\u001b[0m \u001b[1;33m\u001b[0m\u001b[0m\n\u001b[0;32m     53\u001b[0m \u001b[1;33m\u001b[0m\u001b[0m\n",
      "\u001b[1;31mTypeError\u001b[0m: no supported conversion for types: (dtype('int64'), dtype('O'))"
     ]
    }
   ],
   "source": [
    "X_train_dates = csr_matrix(hstack([X_train, np.reshape(dates,(-1, 1))]))"
   ]
  },
  {
   "cell_type": "code",
   "execution_count": 215,
   "metadata": {},
   "outputs": [
    {
     "data": {
      "text/plain": [
       "[Timestamp('2012-08-13 22:54:53.510000'),\n",
       " Timestamp('2015-08-03 07:44:50.331000'),\n",
       " Timestamp('2017-02-05 13:08:17.410000'),\n",
       " Timestamp('2017-05-06 08:16:30.776000'),\n",
       " Timestamp('2017-06-04 14:46:25.772000'),\n",
       " Timestamp('2017-04-02 16:21:15.171000'),\n",
       " Timestamp('2016-08-15 04:16:02.103000'),\n",
       " Timestamp('2015-01-14 21:31:07.568000'),\n",
       " Timestamp('2014-02-11 04:11:54.771000'),\n",
       " Timestamp('2015-10-25 02:58:05.551000'),\n",
       " Timestamp('2016-08-15 15:31:13.601000'),\n",
       " Timestamp('2016-08-09 21:01:06.303000'),\n",
       " Timestamp('2016-09-08 15:47:57.336000'),\n",
       " Timestamp('2016-09-30 18:05:35.950000'),\n",
       " Timestamp('2017-06-27 15:49:22.909000'),\n",
       " Timestamp('2015-07-13 06:52:44.618000'),\n",
       " Timestamp('2017-05-01 13:22:43.785000'),\n",
       " Timestamp('2016-08-31 17:11:24.263000'),\n",
       " Timestamp('2017-06-30 07:55:55.103000'),\n",
       " Timestamp('2016-12-13 23:29:35.556000'),\n",
       " Timestamp('2016-01-27 22:19:05.027000'),\n",
       " Timestamp('2016-12-14 01:15:02.122000'),\n",
       " Timestamp('2016-09-05 22:02:40.326000'),\n",
       " Timestamp('2016-12-13 17:59:40.527000'),\n",
       " Timestamp('2017-05-02 17:28:39.120000'),\n",
       " Timestamp('2016-08-30 23:43:24.940000'),\n",
       " Timestamp('2017-04-26 02:50:29.511000'),\n",
       " Timestamp('2016-06-18 06:54:10.331000'),\n",
       " Timestamp('2016-05-17 17:52:00.960000'),\n",
       " Timestamp('2017-04-17 16:29:28.306000'),\n",
       " Timestamp('2016-03-25 22:30:24.890000'),\n",
       " Timestamp('2017-04-28 14:08:38.672000'),\n",
       " Timestamp('2012-08-13 22:57:17.248000'),\n",
       " Timestamp('2017-05-01 14:58:38.634000'),\n",
       " Timestamp('2015-12-18 01:28:25.084000'),\n",
       " Timestamp('2016-11-10 15:03:03.592000'),\n",
       " Timestamp('2016-10-28 18:53:43.265000'),\n",
       " Timestamp('2017-02-10 16:55:48.719000'),\n",
       " Timestamp('2017-05-19 21:05:14.680000'),\n",
       " Timestamp('2017-03-08 09:57:18.677000'),\n",
       " Timestamp('2015-09-28 19:00:10.843000'),\n",
       " Timestamp('2014-10-14 05:29:31.684000'),\n",
       " Timestamp('2017-03-09 15:50:02.475000'),\n",
       " Timestamp('2016-11-16 19:00:35.786000'),\n",
       " Timestamp('2017-03-22 19:57:20.505000'),\n",
       " Timestamp('2017-05-11 16:00:18.123000'),\n",
       " Timestamp('2017-03-04 13:52:09.744000'),\n",
       " Timestamp('2016-09-28 21:48:56.057000'),\n",
       " Timestamp('2015-03-11 10:36:48.430000'),\n",
       " Timestamp('2017-06-01 04:10:48.815000'),\n",
       " Timestamp('2017-03-28 12:51:52.511000'),\n",
       " Timestamp('2015-11-04 22:21:24.123000'),\n",
       " Timestamp('2016-10-12 19:19:15.126000'),\n",
       " Timestamp('2015-02-12 23:15:35.892000'),\n",
       " Timestamp('2016-09-09 13:19:56.323000'),\n",
       " Timestamp('2016-08-29 03:17:42.338000'),\n",
       " Timestamp('2017-04-04 16:02:16.587000'),\n",
       " Timestamp('2017-02-07 16:28:49.649000'),\n",
       " Timestamp('2014-10-08 04:06:36.120000'),\n",
       " Timestamp('2016-10-21 22:31:52.440000'),\n",
       " Timestamp('2016-09-28 18:44:24.308000'),\n",
       " Timestamp('2016-07-28 13:56:19.024000'),\n",
       " Timestamp('2016-08-04 15:09:22.089000'),\n",
       " Timestamp('2017-05-22 09:41:58.660000'),\n",
       " Timestamp('2014-11-11 13:58:54.551000'),\n",
       " Timestamp('2017-02-23 07:41:01.592000'),\n",
       " Timestamp('2016-06-29 17:13:47.773000'),\n",
       " Timestamp('2016-08-15 19:10:52'),\n",
       " Timestamp('2016-05-29 16:32:51.752000'),\n",
       " Timestamp('2017-03-31 13:43:01.072000'),\n",
       " Timestamp('2017-06-12 14:01:15.156000'),\n",
       " Timestamp('2017-05-23 09:45:28.650000'),\n",
       " Timestamp('2017-01-16 00:00:00'),\n",
       " Timestamp('2017-02-28 11:05:11.601000'),\n",
       " Timestamp('2015-11-17 21:40:25.911000'),\n",
       " Timestamp('2017-05-16 21:15:45.066000'),\n",
       " Timestamp('2016-02-26 18:01:24.447000'),\n",
       " Timestamp('2017-05-17 19:00:09.296000'),\n",
       " Timestamp('2017-03-27 14:22:05.697000'),\n",
       " Timestamp('2017-04-09 15:07:43.600000'),\n",
       " Timestamp('2016-04-09 02:08:39.102000'),\n",
       " Timestamp('2017-03-02 18:39:59.501000'),\n",
       " Timestamp('2017-05-08 16:59:15.629000'),\n",
       " Timestamp('2017-01-29 02:48:32.202000'),\n",
       " Timestamp('2017-05-30 17:18:19.254000'),\n",
       " Timestamp('2017-02-01 15:02:00.532000'),\n",
       " Timestamp('2017-03-13 13:32:00.502000'),\n",
       " Timestamp('2017-06-28 12:24:52.693000'),\n",
       " Timestamp('2016-11-30 08:36:59.556000'),\n",
       " Timestamp('2016-12-22 17:16:56.607000'),\n",
       " Timestamp('2016-09-28 13:01:03.369000'),\n",
       " Timestamp('2017-03-08 17:21:01.738000'),\n",
       " Timestamp('2014-05-24 10:54:36.434000'),\n",
       " Timestamp('2017-04-28 12:49:04.596000'),\n",
       " Timestamp('2017-06-13 11:09:13.307000'),\n",
       " Timestamp('2016-05-12 19:40:22.041000'),\n",
       " Timestamp('2017-06-25 14:09:25.563000'),\n",
       " Timestamp('2017-03-29 14:43:43.558000'),\n",
       " Timestamp('2016-12-26 20:53:02.862000'),\n",
       " Timestamp('2017-01-04 18:40:55.481000'),\n",
       " Timestamp('2017-02-23 10:03:22.188000'),\n",
       " Timestamp('2017-02-23 10:12:40.691000'),\n",
       " Timestamp('2017-02-23 10:10:09.257000'),\n",
       " Timestamp('2017-02-23 09:52:55.602000'),\n",
       " Timestamp('2016-07-08 18:54:02.011000'),\n",
       " Timestamp('2017-04-28 11:38:22.752000'),\n",
       " Timestamp('2017-01-21 02:39:12.003000'),\n",
       " Timestamp('2017-04-09 12:26:06.627000'),\n",
       " Timestamp('2016-08-07 04:14:25.003000'),\n",
       " Timestamp('2017-04-14 21:53:34.176000'),\n",
       " Timestamp('2017-03-02 16:57:49.635000'),\n",
       " Timestamp('2017-06-16 16:02:53'),\n",
       " Timestamp('2017-03-28 07:10:45.648000'),\n",
       " Timestamp('2017-06-07 13:00:45'),\n",
       " Timestamp('2016-12-07 16:18:27'),\n",
       " Timestamp('2015-11-09 19:27:17.491000'),\n",
       " Timestamp('2016-11-02 22:48:43.610000'),\n",
       " Timestamp('2016-04-30 14:54:55.429000'),\n",
       " Timestamp('2016-11-19 16:09:37'),\n",
       " Timestamp('2016-09-17 16:10:23.243000'),\n",
       " Timestamp('2014-12-05 17:41:44.303000'),\n",
       " Timestamp('2013-12-16 10:35:18.830000'),\n",
       " Timestamp('2014-03-13 01:12:29.822000'),\n",
       " Timestamp('2017-01-04 10:58:43.496000'),\n",
       " Timestamp('2017-01-28 05:59:23.268000'),\n",
       " Timestamp('2017-05-26 18:55:25.374000'),\n",
       " Timestamp('2016-09-01 11:09:55.929000'),\n",
       " Timestamp('2016-09-29 22:47:44.949000'),\n",
       " Timestamp('2017-05-15 09:56:47.453000'),\n",
       " Timestamp('2017-04-22 19:08:54.818000'),\n",
       " Timestamp('2014-12-23 00:57:34.546000'),\n",
       " Timestamp('2017-04-15 13:46:25.383000'),\n",
       " Timestamp('2017-04-22 13:38:19.233000'),\n",
       " Timestamp('2015-09-08 12:57:13.910000'),\n",
       " Timestamp('2017-03-21 08:57:00.736000'),\n",
       " Timestamp('2016-07-22 15:03:49'),\n",
       " Timestamp('2017-04-09 19:15:48'),\n",
       " Timestamp('2017-03-11 18:23:52.147000'),\n",
       " Timestamp('2017-04-25 09:45:49.448000'),\n",
       " Timestamp('2016-04-10 16:39:42.283000'),\n",
       " Timestamp('2017-04-29 15:47:32.487000'),\n",
       " Timestamp('2016-12-11 21:29:00.890000'),\n",
       " Timestamp('2016-10-30 22:29:53.186000'),\n",
       " Timestamp('2016-05-03 04:59:07.832000'),\n",
       " Timestamp('2017-02-27 18:22:43.330000'),\n",
       " Timestamp('2017-03-02 19:17:32.754000'),\n",
       " Timestamp('2015-11-12 12:50:17.679000'),\n",
       " Timestamp('2017-03-22 04:47:01.109000'),\n",
       " Timestamp('2017-03-21 20:24:45.786000'),\n",
       " Timestamp('2017-02-21 23:29:59'),\n",
       " Timestamp('2016-05-26 13:36:56.643000'),\n",
       " Timestamp('2017-02-02 08:22:21.885000'),\n",
       " Timestamp('2017-02-23 12:31:23.743000'),\n",
       " Timestamp('2017-02-08 23:47:51.913000'),\n",
       " Timestamp('2016-02-23 16:41:26.981000'),\n",
       " Timestamp('2017-04-12 12:01:17'),\n",
       " Timestamp('2017-04-19 07:12:45.810000'),\n",
       " Timestamp('2017-06-28 05:56:45'),\n",
       " Timestamp('2017-05-23 08:44:36.059000'),\n",
       " Timestamp('2016-03-24 00:02:10.634000'),\n",
       " Timestamp('2017-05-04 00:05:25.984000'),\n",
       " Timestamp('2016-11-24 02:04:01.541000'),\n",
       " Timestamp('2017-02-15 17:26:22.452000'),\n",
       " Timestamp('2017-05-16 17:02:10.086000'),\n",
       " Timestamp('2017-03-22 09:45:23.404000'),\n",
       " Timestamp('2017-01-27 17:46:52.895000'),\n",
       " Timestamp('2015-12-31 21:16:42.824000'),\n",
       " Timestamp('2016-07-03 23:00:58.533000'),\n",
       " Timestamp('2016-07-23 17:42:44.276000'),\n",
       " Timestamp('2016-12-18 19:15:25.677000'),\n",
       " Timestamp('2012-01-11 00:41:00'),\n",
       " Timestamp('2016-09-14 18:16:30.226000'),\n",
       " Timestamp('2016-01-06 13:24:23.860000'),\n",
       " Timestamp('2017-06-28 08:57:01.379000'),\n",
       " Timestamp('2017-01-13 08:11:05.361000'),\n",
       " Timestamp('2016-01-30 05:56:48.175000'),\n",
       " Timestamp('2016-05-20 22:49:29.013000'),\n",
       " Timestamp('2017-05-17 15:05:30.976000'),\n",
       " Timestamp('2017-06-26 05:19:26.313000'),\n",
       " Timestamp('2017-03-24 16:08:12.616000'),\n",
       " Timestamp('2017-04-22 21:41:29.101000'),\n",
       " Timestamp('2017-06-30 01:36:48.922000'),\n",
       " Timestamp('2017-06-14 09:59:23.393000'),\n",
       " Timestamp('2017-04-25 23:16:42.996000'),\n",
       " Timestamp('2016-02-29 09:50:40.719000'),\n",
       " Timestamp('2016-07-26 05:28:42.083000'),\n",
       " Timestamp('2016-02-29 03:37:18.937000'),\n",
       " Timestamp('2016-01-10 16:38:44.691000'),\n",
       " Timestamp('2015-01-24 19:17:27.718000'),\n",
       " Timestamp('2017-01-07 16:58:01.487000'),\n",
       " Timestamp('2016-07-19 23:53:49.167000'),\n",
       " Timestamp('2017-04-18 21:23:11.195000'),\n",
       " Timestamp('2017-05-16 21:01:49.003000'),\n",
       " Timestamp('2015-07-22 08:22:01.367000'),\n",
       " Timestamp('2015-07-12 18:31:47.728000'),\n",
       " Timestamp('2017-01-03 16:08:54.229000'),\n",
       " Timestamp('2017-01-30 06:51:20.515000'),\n",
       " Timestamp('2015-08-18 03:20:33.920000'),\n",
       " Timestamp('2017-02-09 12:45:42.084000'),\n",
       " Timestamp('2017-04-21 19:01:17.497000'),\n",
       " Timestamp('2017-03-01 15:32:01.435000'),\n",
       " Timestamp('2017-06-28 17:52:41.282000'),\n",
       " Timestamp('2017-01-20 08:06:41.383000'),\n",
       " Timestamp('2016-11-04 14:17:13.267000'),\n",
       " Timestamp('2017-03-29 12:23:54.371000'),\n",
       " Timestamp('2014-08-11 02:53:20.274000'),\n",
       " Timestamp('2017-03-31 07:58:09.995000'),\n",
       " Timestamp('2016-06-27 14:59:13'),\n",
       " Timestamp('2016-08-30 02:41:12.182000'),\n",
       " Timestamp('2016-04-02 23:22:53.977000'),\n",
       " Timestamp('2015-09-14 17:45:29.953000'),\n",
       " Timestamp('2017-01-16 00:25:21.448000'),\n",
       " Timestamp('2016-12-13 04:34:37.561000'),\n",
       " Timestamp('2017-03-29 22:47:18.759000'),\n",
       " Timestamp('2016-05-01 22:33:27.646000'),\n",
       " Timestamp('2014-03-19 17:00:43'),\n",
       " Timestamp('2013-07-24 21:31:56'),\n",
       " Timestamp('2017-04-17 03:27:06.755000'),\n",
       " Timestamp('2017-06-13 20:50:21.872000'),\n",
       " Timestamp('2016-03-04 17:09:53.980000'),\n",
       " Timestamp('2016-10-17 21:59:30.503000'),\n",
       " Timestamp('2017-05-16 18:56:01.215000'),\n",
       " Timestamp('2017-05-15 13:51:46.696000'),\n",
       " Timestamp('2017-02-01 18:06:49.081000'),\n",
       " Timestamp('2015-07-13 12:04:23.774000'),\n",
       " Timestamp('2015-11-16 10:22:40.893000'),\n",
       " Timestamp('2017-01-05 01:29:26.189000'),\n",
       " Timestamp('2017-04-13 17:01:01.338000'),\n",
       " Timestamp('2016-10-24 18:22:33.220000'),\n",
       " Timestamp('2017-04-23 13:26:56.175000'),\n",
       " Timestamp('2017-02-16 18:05:05.684000'),\n",
       " Timestamp('2016-07-30 14:01:02.837000'),\n",
       " Timestamp('2017-05-01 09:01:01.424000'),\n",
       " Timestamp('2017-01-29 10:10:53.941000'),\n",
       " Timestamp('2016-08-08 15:17:56.070000'),\n",
       " Timestamp('2015-04-06 20:37:11.827000'),\n",
       " Timestamp('2015-08-02 23:41:50.813000'),\n",
       " Timestamp('2016-06-01 17:06:10.732000'),\n",
       " Timestamp('2017-05-03 19:22:35.070000'),\n",
       " Timestamp('2016-10-14 18:44:48.108000'),\n",
       " Timestamp('2017-05-03 13:17:17.418000'),\n",
       " Timestamp('2016-05-12 22:02:24.771000'),\n",
       " Timestamp('2017-04-27 22:29:04.869000'),\n",
       " Timestamp('2017-03-13 16:53:05.914000'),\n",
       " Timestamp('2017-03-27 03:53:45.218000'),\n",
       " Timestamp('2017-03-29 00:53:09.508000'),\n",
       " Timestamp('2017-03-24 13:52:25.167000'),\n",
       " Timestamp('2017-02-02 17:13:41.824000'),\n",
       " Timestamp('2016-09-19 22:49:46.409000'),\n",
       " Timestamp('2016-07-22 20:39:31.927000'),\n",
       " Timestamp('2016-10-21 10:15:14.326000'),\n",
       " Timestamp('2016-11-09 12:45:47.565000'),\n",
       " Timestamp('2017-04-17 04:20:51.627000'),\n",
       " Timestamp('2016-06-27 17:48:22.742000'),\n",
       " Timestamp('2016-11-11 01:39:26.400000'),\n",
       " Timestamp('2016-07-27 03:00:49.506000'),\n",
       " Timestamp('2015-12-17 20:25:34.858000'),\n",
       " Timestamp('2015-11-06 02:02:26.080000'),\n",
       " Timestamp('2016-05-25 16:09:22.492000'),\n",
       " Timestamp('2017-01-06 17:23:04.632000'),\n",
       " Timestamp('2017-02-10 13:19:40.218000'),\n",
       " Timestamp('2016-09-22 09:00:00'),\n",
       " Timestamp('2016-06-24 21:41:43.329000'),\n",
       " Timestamp('2017-05-18 09:00:59'),\n",
       " Timestamp('2015-09-08 14:52:20.594000'),\n",
       " Timestamp('2017-02-09 09:00:20'),\n",
       " Timestamp('2017-02-17 09:00:24'),\n",
       " Timestamp('2017-06-05 04:47:19.385000'),\n",
       " Timestamp('2017-04-05 05:12:38.571000'),\n",
       " Timestamp('2017-06-13 18:22:25.610000'),\n",
       " Timestamp('2016-02-25 23:59:28.297000'),\n",
       " Timestamp('2017-06-09 08:12:55.818000'),\n",
       " Timestamp('2016-09-06 06:48:24'),\n",
       " Timestamp('2017-05-30 11:50:17'),\n",
       " Timestamp('2017-03-27 23:38:08.707000'),\n",
       " Timestamp('2017-03-11 03:17:38.889000'),\n",
       " Timestamp('2016-10-13 10:22:04.398000'),\n",
       " Timestamp('2015-07-20 21:42:04.656000'),\n",
       " Timestamp('2015-01-11 15:16:58.834000'),\n",
       " Timestamp('2017-04-28 20:19:52.723000'),\n",
       " Timestamp('2017-02-01 18:48:15.604000'),\n",
       " Timestamp('2015-01-05 16:51:33.290000'),\n",
       " Timestamp('2016-03-01 19:29:39.894000'),\n",
       " Timestamp('2016-02-05 19:30:53.201000'),\n",
       " Timestamp('2016-02-04 19:43:32.084000'),\n",
       " Timestamp('2015-01-25 20:24:18.495000'),\n",
       " Timestamp('2017-05-18 23:33:11.617000'),\n",
       " Timestamp('2015-12-21 16:56:24.515000'),\n",
       " Timestamp('2017-05-23 12:30:37'),\n",
       " Timestamp('2015-09-28 17:12:01.051000'),\n",
       " Timestamp('2016-11-19 20:26:17.650000'),\n",
       " Timestamp('2016-10-13 12:23:27.457000'),\n",
       " Timestamp('2017-05-11 12:07:28.672000'),\n",
       " Timestamp('2017-06-28 00:03:09.597000'),\n",
       " Timestamp('2016-07-11 06:27:36.944000'),\n",
       " Timestamp('2016-10-01 19:49:09.208000'),\n",
       " Timestamp('2017-01-23 06:35:48.493000'),\n",
       " Timestamp('2016-03-05 19:00:37.175000'),\n",
       " Timestamp('2017-06-11 17:28:06.780000'),\n",
       " Timestamp('2017-06-03 10:23:00'),\n",
       " Timestamp('2017-06-12 06:15:36.252000'),\n",
       " Timestamp('2015-07-10 01:58:25.748000'),\n",
       " Timestamp('2015-09-26 00:07:27.193000'),\n",
       " Timestamp('2015-07-10 03:48:40.771000'),\n",
       " Timestamp('2017-06-29 14:31:00.815000'),\n",
       " Timestamp('2017-04-05 14:45:20.542000'),\n",
       " Timestamp('2017-01-08 12:56:03.803000'),\n",
       " Timestamp('2017-05-30 17:27:46.087000'),\n",
       " Timestamp('2017-05-14 12:24:18.157000'),\n",
       " Timestamp('2014-07-07 18:52:16.626000'),\n",
       " Timestamp('2014-11-01 09:06:37.742000'),\n",
       " Timestamp('2017-04-23 15:06:17.507000'),\n",
       " Timestamp('2014-08-20 02:28:56.563000'),\n",
       " Timestamp('2016-10-31 19:25:42.475000'),\n",
       " Timestamp('2016-12-05 07:29:13.731000'),\n",
       " Timestamp('2017-01-08 04:29:59.046000'),\n",
       " Timestamp('2015-12-31 17:23:17.138000'),\n",
       " Timestamp('2016-03-22 15:03:59.856000'),\n",
       " Timestamp('2016-06-27 17:03:09.603000'),\n",
       " Timestamp('2017-02-24 06:05:34.545000'),\n",
       " Timestamp('2016-06-03 13:27:44.056000'),\n",
       " Timestamp('2015-04-21 01:23:11.937000'),\n",
       " Timestamp('2015-11-05 01:47:03.828000'),\n",
       " Timestamp('2017-04-17 15:55:31.751000'),\n",
       " Timestamp('2016-10-10 22:11:32.193000'),\n",
       " Timestamp('2017-05-04 21:01:01.757000'),\n",
       " Timestamp('2017-03-14 04:56:31.038000'),\n",
       " Timestamp('2017-03-16 11:29:36.409000'),\n",
       " Timestamp('2017-03-13 12:36:19.794000'),\n",
       " Timestamp('2017-04-19 20:40:49.250000'),\n",
       " Timestamp('2016-07-04 09:31:38.340000'),\n",
       " Timestamp('2016-11-25 06:56:54.811000'),\n",
       " Timestamp('2016-01-31 13:43:37.614000'),\n",
       " Timestamp('2017-03-28 09:06:31.883000'),\n",
       " Timestamp('2017-01-18 09:03:04.993000'),\n",
       " Timestamp('2017-01-26 11:20:36.940000'),\n",
       " Timestamp('2016-09-30 18:16:27.083000'),\n",
       " Timestamp('2017-06-23 21:37:00.707000'),\n",
       " Timestamp('2017-01-28 06:15:17.506000'),\n",
       " Timestamp('2016-03-03 21:00:32.312000'),\n",
       " Timestamp('2016-06-06 20:32:55.163000'),\n",
       " Timestamp('2017-05-02 03:01:01.205000'),\n",
       " Timestamp('2017-02-27 07:37:21.634000'),\n",
       " Timestamp('2017-03-29 18:27:51.340000'),\n",
       " Timestamp('2016-05-06 09:00:18.481000'),\n",
       " Timestamp('2016-05-06 20:03:37.485000'),\n",
       " Timestamp('2016-04-06 07:58:38.283000'),\n",
       " Timestamp('2017-04-23 20:43:08.654000'),\n",
       " Timestamp('2016-04-08 11:07:31'),\n",
       " Timestamp('2017-05-31 19:47:51.162000'),\n",
       " Timestamp('2017-04-20 11:02:31.073000'),\n",
       " Timestamp('2016-12-02 17:12:18.320000'),\n",
       " Timestamp('2017-06-11 13:35:40.252000'),\n",
       " Timestamp('2017-03-02 22:26:03.457000'),\n",
       " Timestamp('2017-05-03 17:00:00.255000'),\n",
       " Timestamp('2016-04-09 16:49:08.896000'),\n",
       " Timestamp('2016-03-12 00:05:15.432000'),\n",
       " Timestamp('2017-04-06 07:01:08.012000'),\n",
       " Timestamp('2016-04-27 15:46:52.728000'),\n",
       " Timestamp('2016-08-02 14:19:38.402000'),\n",
       " Timestamp('2017-03-20 12:47:10.568000'),\n",
       " Timestamp('2016-08-26 04:38:38.317000'),\n",
       " Timestamp('2017-03-23 18:00:57'),\n",
       " Timestamp('2017-04-25 15:05:25.366000'),\n",
       " Timestamp('2017-03-29 17:31:51.757000'),\n",
       " Timestamp('2016-11-14 00:01:14.378000'),\n",
       " Timestamp('2016-12-13 08:25:24'),\n",
       " Timestamp('2017-04-04 13:18:03.885000'),\n",
       " Timestamp('2016-07-06 08:45:56'),\n",
       " Timestamp('2017-05-30 14:33:47.932000'),\n",
       " Timestamp('2015-11-02 05:53:02.167000'),\n",
       " Timestamp('2016-09-01 00:01:43.423000'),\n",
       " Timestamp('2016-03-23 21:37:58.894000'),\n",
       " Timestamp('2016-07-11 09:53:40.992000'),\n",
       " Timestamp('2015-09-04 00:37:01.307000'),\n",
       " Timestamp('2017-01-02 15:00:00'),\n",
       " Timestamp('2016-12-16 20:31:41.148000'),\n",
       " Timestamp('2017-04-04 05:32:16.385000'),\n",
       " Timestamp('2017-04-20 15:33:35.269000'),\n",
       " Timestamp('2017-04-25 23:38:09.475000'),\n",
       " Timestamp('2017-03-15 09:37:55.085000'),\n",
       " Timestamp('2017-03-12 02:13:04.989000'),\n",
       " Timestamp('2015-03-31 17:17:26.693000'),\n",
       " Timestamp('2016-12-29 17:18:16.308000'),\n",
       " Timestamp('2017-01-30 15:10:32.556000'),\n",
       " Timestamp('2017-04-28 15:45:31.557000'),\n",
       " Timestamp('2015-06-24 16:14:12.779000'),\n",
       " Timestamp('2014-07-15 16:07:03'),\n",
       " Timestamp('2017-01-23 15:50:11.246000'),\n",
       " Timestamp('2016-09-19 13:57:11.482000'),\n",
       " Timestamp('2015-12-10 00:47:38.658000'),\n",
       " Timestamp('2016-09-21 02:50:30.389000'),\n",
       " Timestamp('2017-05-25 08:41:18.868000'),\n",
       " Timestamp('2016-01-04 16:02:00'),\n",
       " Timestamp('2015-03-11 14:40:13.875000'),\n",
       " Timestamp('2016-10-04 19:01:02.968000'),\n",
       " Timestamp('2015-08-10 00:16:26.511000'),\n",
       " Timestamp('2016-08-20 20:23:43.933000'),\n",
       " Timestamp('2016-02-12 10:58:12.388000'),\n",
       " Timestamp('2016-08-02 03:52:23.529000'),\n",
       " Timestamp('2016-07-14 19:04:27.003000'),\n",
       " Timestamp('2015-10-29 10:12:01.479000'),\n",
       " Timestamp('2016-02-07 18:50:07.583000'),\n",
       " Timestamp('2016-01-18 08:57:28.905000'),\n",
       " Timestamp('2016-02-07 12:57:15.319000'),\n",
       " Timestamp('2017-06-06 17:50:49.893000'),\n",
       " Timestamp('2017-01-28 16:45:27.021000'),\n",
       " Timestamp('2016-01-07 21:13:28.838000'),\n",
       " Timestamp('2015-12-31 21:56:39'),\n",
       " Timestamp('2015-01-20 05:30:39.744000'),\n",
       " Timestamp('2016-07-17 07:29:25.571000'),\n",
       " Timestamp('2016-06-01 21:12:50.119000'),\n",
       " Timestamp('2016-04-30 17:01:01.335000'),\n",
       " Timestamp('2016-12-16 15:51:30.195000'),\n",
       " Timestamp('2016-12-28 14:02:33.587000'),\n",
       " Timestamp('2016-12-01 19:53:25.332000'),\n",
       " Timestamp('2016-12-22 04:05:28.817000'),\n",
       " Timestamp('2017-04-19 12:56:10.751000'),\n",
       " Timestamp('2015-12-10 23:33:30.866000'),\n",
       " Timestamp('2016-12-14 19:22:18.150000'),\n",
       " Timestamp('2015-11-04 21:16:31.141000'),\n",
       " Timestamp('2016-06-09 21:22:25.057000'),\n",
       " Timestamp('2017-03-09 11:13:25.413000'),\n",
       " Timestamp('2017-01-23 02:25:14.509000'),\n",
       " Timestamp('2016-04-23 00:18:57.195000'),\n",
       " Timestamp('2015-04-03 01:03:17.927000'),\n",
       " Timestamp('2015-12-13 00:12:09.634000'),\n",
       " Timestamp('2016-09-15 05:37:36.389000'),\n",
       " Timestamp('2016-02-21 14:23:27.916000'),\n",
       " Timestamp('2017-02-23 12:02:00.829000'),\n",
       " Timestamp('2016-01-26 15:05:52.547000'),\n",
       " Timestamp('2015-01-03 05:57:10.032000'),\n",
       " Timestamp('2017-03-28 12:52:01.419000'),\n",
       " Timestamp('2016-10-24 14:45:10.770000'),\n",
       " Timestamp('2016-03-02 20:00:52'),\n",
       " Timestamp('2017-01-17 12:09:52.631000'),\n",
       " Timestamp('2015-01-27 12:10:20.095000'),\n",
       " Timestamp('2016-12-06 16:54:13.922000'),\n",
       " Timestamp('2017-02-27 21:01:02.392000'),\n",
       " Timestamp('2017-04-02 15:53:11'),\n",
       " Timestamp('2017-03-22 15:34:56.784000'),\n",
       " Timestamp('2016-09-08 14:34:59.464000'),\n",
       " Timestamp('2017-01-16 12:59:32'),\n",
       " Timestamp('2014-11-20 09:21:59.466000'),\n",
       " Timestamp('2014-11-13 21:59:07.598000'),\n",
       " Timestamp('2016-01-22 15:55:48.969000'),\n",
       " Timestamp('2017-05-21 03:53:06.263000'),\n",
       " Timestamp('2017-05-29 23:37:44.568000'),\n",
       " Timestamp('2017-02-02 14:18:07.217000'),\n",
       " Timestamp('2015-10-25 19:23:00.605000'),\n",
       " Timestamp('2017-01-18 00:47:21.711000'),\n",
       " Timestamp('2017-01-03 16:03:01.435000'),\n",
       " Timestamp('2016-12-31 18:33:25.523000'),\n",
       " Timestamp('2017-03-23 07:58:24.575000'),\n",
       " Timestamp('2016-03-21 18:16:05.815000'),\n",
       " Timestamp('2016-10-16 11:00:59'),\n",
       " Timestamp('2016-10-12 11:17:38'),\n",
       " Timestamp('2016-11-07 14:40:15.414000'),\n",
       " Timestamp('2017-03-23 03:31:55.392000'),\n",
       " Timestamp('2017-04-28 15:33:53.924000'),\n",
       " Timestamp('2016-02-29 16:39:44.710000'),\n",
       " Timestamp('2017-02-01 18:36:36.711000'),\n",
       " Timestamp('2017-05-31 22:38:28.533000'),\n",
       " Timestamp('2016-09-21 10:28:30.035000'),\n",
       " Timestamp('2016-11-06 15:32:20.459000'),\n",
       " Timestamp('2017-02-28 00:42:43.097000'),\n",
       " Timestamp('2017-04-13 14:26:05.136000'),\n",
       " Timestamp('2017-04-09 16:33:50.713000'),\n",
       " Timestamp('2016-09-21 19:48:46.719000'),\n",
       " Timestamp('2016-12-21 21:55:49.859000'),\n",
       " Timestamp('2017-03-02 12:01:08.546000'),\n",
       " Timestamp('2015-07-29 04:14:23.081000'),\n",
       " Timestamp('2016-06-09 06:24:55.894000'),\n",
       " Timestamp('2015-11-23 19:16:45.315000'),\n",
       " Timestamp('2017-03-23 14:31:21.908000'),\n",
       " Timestamp('2016-04-23 21:02:19.691000'),\n",
       " Timestamp('2017-01-27 17:02:20.922000'),\n",
       " Timestamp('2016-11-21 05:32:15.406000'),\n",
       " Timestamp('2017-05-16 17:38:58.590000'),\n",
       " Timestamp('2017-02-13 18:38:58.827000'),\n",
       " Timestamp('2015-06-29 16:35:16.493000'),\n",
       " Timestamp('2017-05-16 17:38:06.002000'),\n",
       " Timestamp('2017-06-28 12:26:36.525000'),\n",
       " Timestamp('2016-12-02 17:37:21.899000'),\n",
       " Timestamp('2012-10-23 13:40:15'),\n",
       " Timestamp('2016-04-29 14:13:20.910000'),\n",
       " Timestamp('2017-04-04 14:55:04.209000'),\n",
       " Timestamp('2017-03-31 13:56:16.514000'),\n",
       " Timestamp('2016-11-22 18:44:45.661000'),\n",
       " Timestamp('2013-12-04 21:26:17.827000'),\n",
       " Timestamp('2016-11-01 21:24:09.380000'),\n",
       " Timestamp('2015-04-07 14:25:25.221000'),\n",
       " Timestamp('2015-12-20 05:34:15.880000'),\n",
       " Timestamp('2017-05-24 15:28:36.202000'),\n",
       " Timestamp('2016-06-09 18:00:04.448000'),\n",
       " Timestamp('2017-06-21 14:11:14.164000'),\n",
       " Timestamp('2016-02-15 19:42:02.808000'),\n",
       " Timestamp('2016-10-03 12:17:55.195000'),\n",
       " Timestamp('2016-12-13 17:12:06.484000'),\n",
       " Timestamp('2017-03-25 16:55:48.623000'),\n",
       " Timestamp('2017-04-21 20:55:09.645000'),\n",
       " Timestamp('2017-01-20 16:23:07'),\n",
       " Timestamp('2017-02-07 08:03:52'),\n",
       " Timestamp('2017-01-19 13:57:02.980000'),\n",
       " Timestamp('2016-06-17 13:51:01.542000'),\n",
       " Timestamp('2017-05-31 13:51:00.559000'),\n",
       " Timestamp('2017-03-02 14:53:31.201000'),\n",
       " Timestamp('2016-06-12 23:45:54'),\n",
       " Timestamp('2016-09-20 09:01:01.916000'),\n",
       " Timestamp('2016-12-21 10:44:26.542000'),\n",
       " Timestamp('2017-01-19 13:16:51.079000'),\n",
       " Timestamp('2017-03-21 20:57:32.817000'),\n",
       " Timestamp('2012-03-22 12:02:00'),\n",
       " Timestamp('2015-12-13 17:22:54.201000'),\n",
       " Timestamp('2015-10-08 01:57:24.748000'),\n",
       " Timestamp('2016-02-08 15:25:43.582000'),\n",
       " Timestamp('2016-08-21 22:04:46.809000'),\n",
       " Timestamp('2014-05-26 19:27:18.980000'),\n",
       " Timestamp('2017-03-17 10:08:07.199000'),\n",
       " Timestamp('2017-04-25 08:49:17'),\n",
       " Timestamp('2016-12-09 18:38:33.266000'),\n",
       " Timestamp('2016-07-25 16:37:31.438000'),\n",
       " Timestamp('2017-03-14 12:09:39.191000'),\n",
       " Timestamp('2017-03-10 15:56:56.676000'),\n",
       " Timestamp('2017-03-02 19:51:08.356000'),\n",
       " Timestamp('2016-01-02 00:25:54.636000'),\n",
       " Timestamp('2017-03-01 00:37:51'),\n",
       " Timestamp('2015-10-29 02:04:22.622000'),\n",
       " Timestamp('2017-01-22 23:13:22'),\n",
       " Timestamp('2016-08-26 05:15:55.808000'),\n",
       " Timestamp('2016-08-25 01:34:58.221000'),\n",
       " Timestamp('2016-04-28 23:27:28.842000'),\n",
       " Timestamp('2016-02-21 16:26:31.721000'),\n",
       " Timestamp('2015-12-20 23:09:25.445000'),\n",
       " Timestamp('2016-02-06 23:36:50.647000'),\n",
       " Timestamp('2016-08-24 01:02:19.300000'),\n",
       " Timestamp('2017-02-21 20:09:51.330000'),\n",
       " Timestamp('2016-05-18 21:14:11.271000'),\n",
       " Timestamp('2016-03-02 23:38:38.679000'),\n",
       " Timestamp('2017-01-25 21:44:21.837000'),\n",
       " Timestamp('2017-06-11 15:01:01.189000'),\n",
       " Timestamp('2017-01-18 18:07:17.583000'),\n",
       " Timestamp('2017-01-29 23:58:45.442000'),\n",
       " Timestamp('2016-10-04 15:46:23.472000'),\n",
       " Timestamp('2016-10-25 18:35:14.314000'),\n",
       " Timestamp('2017-01-17 17:11:41.671000'),\n",
       " Timestamp('2016-12-30 05:10:43.729000'),\n",
       " Timestamp('2015-09-16 19:39:34.149000'),\n",
       " Timestamp('2017-06-19 13:01:13.146000'),\n",
       " Timestamp('2016-07-31 07:14:52.344000'),\n",
       " Timestamp('2017-05-01 11:35:16.390000'),\n",
       " Timestamp('2016-07-07 19:48:04.567000'),\n",
       " Timestamp('2017-01-17 19:35:23.551000'),\n",
       " Timestamp('2016-12-20 19:42:38.494000'),\n",
       " Timestamp('2017-06-03 13:31:53.685000'),\n",
       " Timestamp('2017-04-04 06:06:53.935000'),\n",
       " Timestamp('2017-02-14 17:49:24.573000'),\n",
       " Timestamp('2016-11-28 05:37:08.624000'),\n",
       " Timestamp('2016-04-25 17:02:44.693000'),\n",
       " Timestamp('2016-12-18 19:00:49.490000'),\n",
       " Timestamp('2017-01-02 13:02:00.689000'),\n",
       " Timestamp('2016-09-12 17:48:57.879000'),\n",
       " Timestamp('2017-01-22 13:02:00.900000'),\n",
       " Timestamp('2017-01-23 13:02:01.722000'),\n",
       " Timestamp('2016-10-23 18:22:22'),\n",
       " Timestamp('2015-05-15 00:46:12.748000'),\n",
       " Timestamp('2017-01-16 13:02:00.456000'),\n",
       " Timestamp('2017-05-22 17:34:39.124000'),\n",
       " Timestamp('2017-04-23 23:04:26.533000'),\n",
       " Timestamp('2017-05-30 12:57:09.962000'),\n",
       " Timestamp('2017-05-25 16:49:02.944000'),\n",
       " Timestamp('2017-05-09 18:14:57.060000'),\n",
       " Timestamp('2016-12-19 16:33:24.878000'),\n",
       " Timestamp('2017-03-19 21:11:16.961000'),\n",
       " Timestamp('2016-02-24 20:37:51.034000'),\n",
       " Timestamp('2016-03-17 20:59:30.540000'),\n",
       " Timestamp('2015-08-19 16:48:12.635000'),\n",
       " Timestamp('2017-05-09 01:40:08.383000'),\n",
       " Timestamp('2016-04-11 05:46:02.543000'),\n",
       " Timestamp('2016-04-17 19:17:44.065000'),\n",
       " Timestamp('2016-03-03 21:51:13.027000'),\n",
       " Timestamp('2015-06-02 07:41:00.178000'),\n",
       " Timestamp('2015-05-19 06:12:12.429000'),\n",
       " Timestamp('2015-09-04 17:31:40.399000'),\n",
       " Timestamp('2017-04-10 23:02:32.650000'),\n",
       " Timestamp('2015-09-09 21:36:00.026000'),\n",
       " Timestamp('2015-09-11 01:20:56.316000'),\n",
       " Timestamp('2016-07-29 15:25:58.806000'),\n",
       " Timestamp('2017-03-03 11:13:26.963000'),\n",
       " Timestamp('2017-06-05 21:11:25.498000'),\n",
       " Timestamp('2016-10-28 16:33:06.897000'),\n",
       " Timestamp('2015-12-18 10:34:57.336000'),\n",
       " Timestamp('2016-12-09 10:01:41.655000'),\n",
       " Timestamp('2016-01-28 12:41:08.673000'),\n",
       " Timestamp('2016-01-09 15:17:42.555000'),\n",
       " Timestamp('2015-10-07 05:18:03.642000'),\n",
       " Timestamp('2016-08-01 14:35:25.608000'),\n",
       " Timestamp('2016-12-06 14:04:16.481000'),\n",
       " Timestamp('2016-02-25 20:47:51.540000'),\n",
       " Timestamp('2017-04-11 03:24:32.348000'),\n",
       " Timestamp('2017-03-12 06:28:54.093000'),\n",
       " Timestamp('2017-02-14 12:35:51.865000'),\n",
       " Timestamp('2014-10-15 11:27:37.847000'),\n",
       " Timestamp('2017-01-26 18:45:27.613000'),\n",
       " Timestamp('2016-11-09 15:51:08.444000'),\n",
       " Timestamp('2016-11-07 12:57:53.311000'),\n",
       " Timestamp('2016-09-05 10:52:39.552000'),\n",
       " Timestamp('2016-10-01 15:17:20.122000'),\n",
       " Timestamp('2017-06-29 17:31:23.196000'),\n",
       " Timestamp('2017-06-15 06:37:15.079000'),\n",
       " Timestamp('2017-03-24 15:02:42.238000'),\n",
       " Timestamp('2016-11-11 01:22:50.518000'),\n",
       " Timestamp('2016-11-10 22:37:23.280000'),\n",
       " Timestamp('2016-12-24 09:47:00.117000'),\n",
       " Timestamp('2016-09-15 09:01:02.965000'),\n",
       " Timestamp('2016-10-18 17:31:38.505000'),\n",
       " Timestamp('2016-08-08 01:13:27.727000'),\n",
       " Timestamp('2016-10-17 20:36:17.036000'),\n",
       " Timestamp('2016-10-17 20:46:26.740000'),\n",
       " Timestamp('2017-04-14 13:29:59.214000'),\n",
       " Timestamp('2017-03-29 14:04:06.758000'),\n",
       " Timestamp('2016-10-10 09:01:02.134000'),\n",
       " Timestamp('2017-03-28 06:35:03.992000'),\n",
       " Timestamp('2016-09-26 05:39:15.387000'),\n",
       " Timestamp('2016-09-16 21:06:38.318000'),\n",
       " Timestamp('2017-02-02 17:55:26.994000'),\n",
       " Timestamp('2017-05-01 03:12:13.683000'),\n",
       " Timestamp('2017-01-26 17:37:24.798000'),\n",
       " Timestamp('2017-05-17 17:15:06.355000'),\n",
       " Timestamp('2017-05-06 21:36:21.522000'),\n",
       " Timestamp('2015-03-04 20:35:38.713000'),\n",
       " Timestamp('2017-04-17 22:22:56.004000'),\n",
       " Timestamp('2017-05-27 14:04:46.360000'),\n",
       " Timestamp('2016-09-12 17:33:28.433000'),\n",
       " Timestamp('2014-11-05 05:28:38.969000'),\n",
       " Timestamp('2017-01-22 16:10:45.360000'),\n",
       " Timestamp('2017-05-24 13:57:49.005000'),\n",
       " Timestamp('2015-11-30 21:15:44.394000'),\n",
       " Timestamp('2015-12-28 19:17:35.131000'),\n",
       " Timestamp('2016-12-21 07:59:20.692000'),\n",
       " Timestamp('2016-12-21 06:33:19.989000'),\n",
       " Timestamp('2016-12-28 23:18:22.154000'),\n",
       " Timestamp('2016-06-30 13:00:51.216000'),\n",
       " Timestamp('2016-12-06 20:29:19.890000'),\n",
       " Timestamp('2017-06-22 14:26:02.239000'),\n",
       " Timestamp('2017-03-30 02:44:17.195000'),\n",
       " Timestamp('2017-02-28 21:46:22.259000'),\n",
       " Timestamp('2017-06-12 16:02:02.648000'),\n",
       " Timestamp('2017-06-02 00:04:01.233000'),\n",
       " Timestamp('2017-02-27 03:03:15.460000'),\n",
       " Timestamp('2017-04-27 13:14:40.686000'),\n",
       " Timestamp('2016-11-07 18:40:23.339000'),\n",
       " Timestamp('2016-01-31 06:04:43'),\n",
       " Timestamp('2017-06-07 19:21:24.873000'),\n",
       " Timestamp('2016-04-08 16:51:01.002000'),\n",
       " Timestamp('2016-04-21 16:00:53'),\n",
       " Timestamp('2016-04-28 16:00:32'),\n",
       " Timestamp('2017-04-14 16:27:08.465000'),\n",
       " Timestamp('2014-12-17 17:30:41'),\n",
       " Timestamp('2014-09-25 18:30:01'),\n",
       " Timestamp('2014-11-12 18:45:51'),\n",
       " Timestamp('2016-03-05 14:02:50.720000'),\n",
       " Timestamp('2017-03-18 15:14:56.469000'),\n",
       " Timestamp('2017-01-10 05:32:00.741000'),\n",
       " Timestamp('2017-04-29 19:16:38.238000'),\n",
       " Timestamp('2017-04-05 08:32:52.128000'),\n",
       " Timestamp('2017-02-26 09:30:19.999000'),\n",
       " Timestamp('2017-01-18 04:22:59.867000'),\n",
       " Timestamp('2017-05-11 20:07:03.574000'),\n",
       " Timestamp('2017-05-16 00:07:56.334000'),\n",
       " Timestamp('2017-02-19 16:58:33.247000'),\n",
       " Timestamp('2016-10-28 20:55:47.603000'),\n",
       " Timestamp('2016-12-06 02:23:12.828000'),\n",
       " Timestamp('2016-05-28 22:54:04.538000'),\n",
       " Timestamp('2017-03-14 10:02:01.899000'),\n",
       " Timestamp('2016-04-19 09:56:01.714000'),\n",
       " Timestamp('2017-04-21 14:03:43.122000'),\n",
       " Timestamp('2015-08-26 18:36:41.279000'),\n",
       " Timestamp('2017-06-30 02:54:40.501000'),\n",
       " Timestamp('2016-09-19 14:18:50.351000'),\n",
       " Timestamp('2016-02-25 01:51:52.691000'),\n",
       " Timestamp('2017-04-20 07:44:16.012000'),\n",
       " Timestamp('2016-09-13 09:02:35.387000'),\n",
       " Timestamp('2016-08-01 16:49:34.230000'),\n",
       " Timestamp('2017-01-05 15:31:13.524000'),\n",
       " Timestamp('2016-10-19 13:01:02.407000'),\n",
       " Timestamp('2017-03-24 15:17:45.464000'),\n",
       " Timestamp('2015-08-29 21:33:32.083000'),\n",
       " Timestamp('2017-04-22 10:01:02.036000'),\n",
       " Timestamp('2016-10-28 13:01:02.867000'),\n",
       " Timestamp('2016-02-21 11:22:51.991000'),\n",
       " Timestamp('2017-05-30 16:05:16.151000'),\n",
       " Timestamp('2016-10-24 05:01:06.977000'),\n",
       " Timestamp('2017-02-17 13:22:05.140000'),\n",
       " Timestamp('2015-09-21 11:51:23.622000'),\n",
       " Timestamp('2017-05-15 16:01:01.009000'),\n",
       " Timestamp('2017-02-28 21:38:23.026000'),\n",
       " Timestamp('2017-02-03 20:20:10.599000'),\n",
       " Timestamp('2016-08-22 19:12:21.719000'),\n",
       " Timestamp('2016-10-17 09:59:20.268000'),\n",
       " Timestamp('2016-06-20 14:59:44.471000'),\n",
       " Timestamp('2017-03-07 11:41:03.942000'),\n",
       " Timestamp('2017-01-26 20:57:12.996000'),\n",
       " Timestamp('2017-06-23 15:45:18.606000'),\n",
       " Timestamp('2017-02-17 20:35:54.496000'),\n",
       " Timestamp('2016-07-26 04:40:41'),\n",
       " Timestamp('2015-09-11 17:34:40.523000'),\n",
       " Timestamp('2016-08-04 04:17:53'),\n",
       " Timestamp('2017-04-17 16:30:02.007000'),\n",
       " Timestamp('2016-11-06 02:20:24.052000'),\n",
       " Timestamp('2016-03-17 14:32:05.148000'),\n",
       " Timestamp('2015-12-17 03:27:28.620000'),\n",
       " Timestamp('2016-05-11 08:22:26.562000'),\n",
       " Timestamp('2017-03-04 15:56:33.051000'),\n",
       " Timestamp('2015-03-11 15:21:37.485000'),\n",
       " Timestamp('2016-07-08 12:06:07.641000'),\n",
       " Timestamp('2017-04-06 21:52:39.617000'),\n",
       " Timestamp('2015-09-08 08:32:35.461000'),\n",
       " Timestamp('2016-02-10 07:11:44.138000'),\n",
       " Timestamp('2016-06-24 19:48:59.023000'),\n",
       " Timestamp('2016-08-30 18:52:26.987000'),\n",
       " Timestamp('2017-03-09 13:45:16.804000'),\n",
       " Timestamp('2016-08-12 04:09:17.783000'),\n",
       " Timestamp('2015-07-20 23:58:32.710000'),\n",
       " Timestamp('2017-05-16 01:03:37.304000'),\n",
       " Timestamp('2016-06-01 17:10:15.884000'),\n",
       " Timestamp('2016-06-11 17:17:08.186000'),\n",
       " Timestamp('2016-05-25 20:37:13.048000'),\n",
       " Timestamp('2017-01-19 06:57:05.253000'),\n",
       " Timestamp('2016-06-09 15:32:34.789000'),\n",
       " Timestamp('2016-09-19 06:40:34.850000'),\n",
       " Timestamp('2017-03-07 11:17:09.283000'),\n",
       " Timestamp('2016-10-25 19:38:09.653000'),\n",
       " Timestamp('2016-10-25 20:09:24.576000'),\n",
       " Timestamp('2016-10-20 02:41:44.604000'),\n",
       " Timestamp('2017-02-17 19:41:21.192000'),\n",
       " Timestamp('2017-04-09 13:32:25.947000'),\n",
       " Timestamp('2017-03-18 16:40:50.716000'),\n",
       " Timestamp('2017-03-17 17:00:56.278000'),\n",
       " Timestamp('2016-06-30 12:33:34.705000'),\n",
       " Timestamp('2017-02-04 18:50:10.370000'),\n",
       " Timestamp('2015-01-22 21:58:35.763000'),\n",
       " Timestamp('2016-10-30 01:18:43.620000'),\n",
       " Timestamp('2017-04-20 11:41:29.828000'),\n",
       " Timestamp('2017-05-22 18:40:23.864000'),\n",
       " Timestamp('2016-11-30 08:15:00'),\n",
       " Timestamp('2016-04-18 23:00:48'),\n",
       " Timestamp('2016-06-15 14:57:03.466000'),\n",
       " Timestamp('2016-09-21 10:15:15'),\n",
       " Timestamp('2017-05-05 09:53:28.587000'),\n",
       " Timestamp('2017-05-18 16:40:47.217000'),\n",
       " Timestamp('2016-09-09 09:48:18.344000'),\n",
       " Timestamp('2017-04-24 03:25:25.591000'),\n",
       " Timestamp('2017-06-13 14:50:39.150000'),\n",
       " Timestamp('2017-04-13 17:13:18.522000'),\n",
       " Timestamp('2017-04-25 14:55:41.719000'),\n",
       " Timestamp('2016-05-10 10:59:16.358000'),\n",
       " Timestamp('2016-06-13 00:51:31.111000'),\n",
       " Timestamp('2017-01-17 20:05:58.682000'),\n",
       " Timestamp('2013-10-28 01:52:25'),\n",
       " Timestamp('2017-04-23 01:34:24.407000'),\n",
       " Timestamp('2017-02-23 15:56:57.833000'),\n",
       " Timestamp('2016-08-09 00:36:02.463000'),\n",
       " Timestamp('2016-04-02 17:06:31'),\n",
       " Timestamp('2016-04-26 15:21:56'),\n",
       " Timestamp('2017-06-06 18:05:40.752000'),\n",
       " Timestamp('2016-09-10 11:07:45.555000'),\n",
       " Timestamp('2017-04-06 09:07:01.777000'),\n",
       " Timestamp('2016-12-14 16:24:33.681000'),\n",
       " Timestamp('2016-02-16 14:35:04.988000'),\n",
       " Timestamp('2016-07-02 14:56:58'),\n",
       " Timestamp('2015-09-22 00:40:13.353000'),\n",
       " Timestamp('2015-10-06 01:46:36.545000'),\n",
       " Timestamp('2016-07-30 04:50:43.198000'),\n",
       " Timestamp('2017-05-21 13:54:21.178000'),\n",
       " Timestamp('2016-03-18 18:06:51.373000'),\n",
       " Timestamp('2017-02-09 04:31:05.304000'),\n",
       " Timestamp('2017-01-07 04:21:38.749000'),\n",
       " Timestamp('2015-05-19 16:03:20.226000'),\n",
       " Timestamp('2016-11-26 03:45:21.135000'),\n",
       " Timestamp('2016-05-12 14:52:54.949000'),\n",
       " Timestamp('2016-10-26 12:35:07'),\n",
       " Timestamp('2017-04-28 10:58:05.688000'),\n",
       " Timestamp('2014-02-07 15:10:41.490000'),\n",
       " Timestamp('2016-05-10 17:45:47.161000'),\n",
       " Timestamp('2017-04-13 07:22:44.218000'),\n",
       " Timestamp('2016-08-22 18:38:14.881000'),\n",
       " Timestamp('2017-06-19 19:05:13.208000'),\n",
       " Timestamp('2017-06-23 10:40:08.065000'),\n",
       " Timestamp('2015-05-22 13:09:09.365000'),\n",
       " Timestamp('2017-06-28 05:18:19.272000'),\n",
       " Timestamp('2017-06-25 09:31:22.339000'),\n",
       " Timestamp('2017-05-30 06:19:44.232000'),\n",
       " Timestamp('2017-06-01 18:37:37.501000'),\n",
       " Timestamp('2017-04-20 15:05:13.177000'),\n",
       " Timestamp('2017-06-04 18:26:53.692000'),\n",
       " Timestamp('2016-04-06 17:24:57.085000'),\n",
       " Timestamp('2017-03-21 16:06:23.608000'),\n",
       " Timestamp('2016-06-30 10:47:22.198000'),\n",
       " Timestamp('2017-05-19 12:32:02.396000'),\n",
       " Timestamp('2017-02-23 15:36:08.066000'),\n",
       " Timestamp('2017-04-21 16:08:08.914000'),\n",
       " Timestamp('2017-05-05 15:23:30.235000'),\n",
       " Timestamp('2015-10-31 21:04:52.261000'),\n",
       " Timestamp('2015-10-30 04:27:00.511000'),\n",
       " Timestamp('2015-12-02 02:34:28.800000'),\n",
       " Timestamp('2017-06-05 18:28:59.841000'),\n",
       " Timestamp('2016-09-15 14:23:17.335000'),\n",
       " Timestamp('2015-10-31 16:32:41.260000'),\n",
       " Timestamp('2017-05-01 20:40:23.223000'),\n",
       " Timestamp('2016-11-25 01:29:09.271000'),\n",
       " Timestamp('2016-05-17 07:46:01.278000'),\n",
       " Timestamp('2015-09-23 07:11:49.687000'),\n",
       " Timestamp('2017-03-11 15:02:01.802000'),\n",
       " Timestamp('2017-06-30 03:37:31.688000'),\n",
       " Timestamp('2017-06-29 05:54:15.150000'),\n",
       " Timestamp('2015-05-09 18:39:32.928000'),\n",
       " Timestamp('2016-12-15 14:45:56.866000'),\n",
       " Timestamp('2017-06-06 12:34:15.622000'),\n",
       " Timestamp('2017-05-19 12:06:01.102000'),\n",
       " Timestamp('2015-07-18 12:39:14.001000'),\n",
       " Timestamp('2016-01-09 09:23:29.210000'),\n",
       " Timestamp('2017-06-29 13:49:46.948000'),\n",
       " Timestamp('2016-04-28 15:42:31.278000'),\n",
       " Timestamp('2017-01-30 15:32:00.434000'),\n",
       " Timestamp('2016-07-18 19:26:57.487000'),\n",
       " Timestamp('2016-09-21 13:30:08'),\n",
       " Timestamp('2016-12-26 07:46:55.115000'),\n",
       " Timestamp('2016-03-24 07:55:22.900000'),\n",
       " Timestamp('2016-07-22 14:04:08.164000'),\n",
       " Timestamp('2016-06-29 05:22:48.226000'),\n",
       " Timestamp('2016-07-22 11:18:54.706000'),\n",
       " Timestamp('2016-07-28 14:15:09.984000'),\n",
       " Timestamp('2016-12-30 16:53:16.999000'),\n",
       " Timestamp('2017-05-15 17:14:42.921000'),\n",
       " Timestamp('2017-01-09 06:43:49.875000'),\n",
       " Timestamp('2016-10-02 23:40:29.962000'),\n",
       " Timestamp('2017-04-21 06:07:57.828000'),\n",
       " Timestamp('2017-05-23 17:27:02.981000'),\n",
       " Timestamp('2014-01-10 17:15:32.398000'),\n",
       " Timestamp('2014-04-02 17:48:45.849000'),\n",
       " Timestamp('2015-10-12 12:18:16.753000'),\n",
       " Timestamp('2015-12-28 15:52:26.598000'),\n",
       " Timestamp('2015-12-28 15:42:31.083000'),\n",
       " Timestamp('2017-03-16 18:55:56.534000'),\n",
       " Timestamp('2016-02-08 15:05:43.921000'),\n",
       " Timestamp('2017-01-17 22:43:05.720000'),\n",
       " Timestamp('2016-07-27 20:12:54.724000'),\n",
       " Timestamp('2017-04-21 16:40:13.590000'),\n",
       " Timestamp('2017-03-09 05:10:17.240000'),\n",
       " Timestamp('2017-02-01 17:01:29.492000'),\n",
       " Timestamp('2016-11-20 05:49:55.091000'),\n",
       " Timestamp('2017-03-17 19:48:58.107000'),\n",
       " Timestamp('2017-03-29 23:10:33.989000'),\n",
       " Timestamp('2016-08-25 14:01:02.427000'),\n",
       " Timestamp('2017-04-19 20:24:23.112000'),\n",
       " Timestamp('2016-08-02 14:01:01.670000'),\n",
       " Timestamp('2017-02-24 03:12:48.507000'),\n",
       " Timestamp('2015-08-31 15:16:15.419000'),\n",
       " Timestamp('2016-08-23 14:01:01.819000'),\n",
       " Timestamp('2016-12-02 10:59:44.193000'),\n",
       " Timestamp('2017-04-20 09:51:09.735000'),\n",
       " Timestamp('2015-07-10 09:23:05.542000'),\n",
       " Timestamp('2016-03-27 18:18:14.545000'),\n",
       " Timestamp('2016-09-05 22:17:25.415000'),\n",
       " Timestamp('2014-09-25 21:28:45.046000'),\n",
       " Timestamp('2017-05-11 20:38:40.971000'),\n",
       " Timestamp('2015-12-31 12:35:48.978000'),\n",
       " Timestamp('2015-08-25 17:30:26.816000'),\n",
       " Timestamp('2016-02-12 14:59:10.334000'),\n",
       " Timestamp('2016-12-27 17:52:28.408000'),\n",
       " Timestamp('2017-02-24 18:47:54.240000'),\n",
       " Timestamp('2017-05-01 14:35:59.997000'),\n",
       " Timestamp('2016-12-13 13:57:14.612000'),\n",
       " Timestamp('2017-04-09 14:25:09.027000'),\n",
       " Timestamp('2016-12-15 21:13:07.552000'),\n",
       " Timestamp('2016-09-21 13:00:07.750000'),\n",
       " Timestamp('2017-02-06 16:39:05.258000'),\n",
       " Timestamp('2016-06-11 15:27:21.372000'),\n",
       " Timestamp('2016-11-16 20:14:01.120000'),\n",
       " Timestamp('2016-10-07 22:36:32.123000'),\n",
       " Timestamp('2016-07-20 13:17:11'),\n",
       " Timestamp('2015-10-20 16:24:07.114000'),\n",
       " Timestamp('2016-03-01 19:29:29.117000'),\n",
       " Timestamp('2016-12-05 18:39:16.717000'),\n",
       " Timestamp('2017-01-13 16:37:20.959000'),\n",
       " Timestamp('2016-07-03 00:31:22.778000'),\n",
       " Timestamp('2016-12-16 20:53:29.933000'),\n",
       " Timestamp('2017-06-28 14:38:50.857000'),\n",
       " Timestamp('2015-11-16 04:07:12.167000'),\n",
       " Timestamp('2015-07-16 21:22:42.503000'),\n",
       " Timestamp('2016-06-06 22:49:38.288000'),\n",
       " Timestamp('2015-12-09 17:25:30.441000'),\n",
       " Timestamp('2017-02-17 22:59:23.369000'),\n",
       " Timestamp('2017-04-12 10:35:43.726000'),\n",
       " Timestamp('2017-01-31 16:53:45.195000'),\n",
       " Timestamp('2016-01-05 22:00:22.412000'),\n",
       " Timestamp('2017-04-20 16:26:01.981000'),\n",
       " Timestamp('2017-06-22 08:18:05.558000'),\n",
       " Timestamp('2016-02-16 15:12:58.589000'),\n",
       " Timestamp('2015-12-07 16:29:20.390000'),\n",
       " Timestamp('2015-01-14 14:14:36'),\n",
       " Timestamp('2015-12-25 04:01:04.749000'),\n",
       " Timestamp('2017-06-23 17:24:23.913000'),\n",
       " Timestamp('2017-04-13 18:38:03.772000'),\n",
       " Timestamp('2017-03-10 21:54:42.246000'),\n",
       " Timestamp('2016-02-07 20:52:50.556000'),\n",
       " Timestamp('2015-11-08 18:49:42.561000'),\n",
       " Timestamp('2016-03-27 18:16:18.648000'),\n",
       " Timestamp('2017-03-08 01:10:42.150000'),\n",
       " Timestamp('2017-04-07 07:31:26'),\n",
       " Timestamp('2016-04-10 04:51:41.386000'),\n",
       " Timestamp('2016-07-28 02:01:51.339000'),\n",
       " Timestamp('2016-09-23 10:46:45.306000'),\n",
       " Timestamp('2016-02-09 16:31:14.749000'),\n",
       " Timestamp('2014-11-19 17:16:53.640000'),\n",
       " Timestamp('2016-12-13 15:42:35.912000'),\n",
       " Timestamp('2015-10-21 13:43:10.652000'),\n",
       " Timestamp('2016-08-05 16:07:32.202000'),\n",
       " Timestamp('2017-05-08 11:51:43.731000'),\n",
       " Timestamp('2015-10-08 13:00:06.302000'),\n",
       " Timestamp('2016-07-02 18:26:41.930000'),\n",
       " Timestamp('2016-03-16 18:14:11.585000'),\n",
       " Timestamp('2016-04-09 01:39:43.714000'),\n",
       " Timestamp('2016-10-19 05:24:43.122000'),\n",
       " Timestamp('2017-01-10 11:13:19.220000'),\n",
       " Timestamp('2016-03-11 13:27:54.484000'),\n",
       " Timestamp('2017-03-30 00:07:55.139000'),\n",
       " Timestamp('2017-04-24 11:44:23.847000'),\n",
       " Timestamp('2016-11-06 19:46:33.625000'),\n",
       " Timestamp('2017-06-13 12:44:38.984000'),\n",
       " Timestamp('2017-01-10 10:06:28.407000'),\n",
       " Timestamp('2017-01-31 15:27:10'),\n",
       " Timestamp('2017-05-11 18:23:39.109000'),\n",
       " Timestamp('2016-10-17 19:32:01.922000'),\n",
       " Timestamp('2017-05-10 16:01:47.744000'),\n",
       " Timestamp('2016-01-14 03:32:44'),\n",
       " Timestamp('2017-06-07 03:16:56.725000'),\n",
       " Timestamp('2016-10-31 21:36:13.981000'),\n",
       " Timestamp('2016-12-07 21:06:24.055000'),\n",
       " Timestamp('2016-08-25 20:48:11.434000'),\n",
       " Timestamp('2017-03-08 21:58:44.827000'),\n",
       " Timestamp('2016-06-14 03:53:58.465000'),\n",
       " Timestamp('2016-01-04 14:56:48.935000'),\n",
       " Timestamp('2016-07-23 14:05:27.067000'),\n",
       " Timestamp('2016-12-31 03:45:51.799000'),\n",
       " Timestamp('2016-05-31 12:31:42.856000'),\n",
       " Timestamp('2017-02-20 13:41:20.706000'),\n",
       " Timestamp('2017-04-20 09:41:08.458000'),\n",
       " Timestamp('2016-09-30 13:45:37.892000'),\n",
       " Timestamp('2016-10-01 13:01:02.390000'),\n",
       " Timestamp('2016-09-12 11:37:21.830000'),\n",
       " Timestamp('2016-08-22 14:32:37.824000'),\n",
       " Timestamp('2016-08-18 20:14:33.968000'),\n",
       " Timestamp('2016-09-08 10:42:59.929000'),\n",
       " Timestamp('2016-10-09 01:54:59.985000'),\n",
       " Timestamp('2017-05-17 23:23:42.796000'),\n",
       " Timestamp('2016-08-27 14:38:50.315000'),\n",
       " Timestamp('2017-01-31 13:22:41.864000'),\n",
       " Timestamp('2017-04-19 15:31:07.312000'),\n",
       " Timestamp('2016-09-05 18:22:45.430000'),\n",
       " Timestamp('2016-06-30 08:19:03.277000'),\n",
       " Timestamp('2015-09-14 21:58:20.048000'),\n",
       " Timestamp('2016-06-13 22:44:37.229000'),\n",
       " Timestamp('2015-11-26 19:21:39.919000'),\n",
       " Timestamp('2016-06-16 08:23:13.946000'),\n",
       " Timestamp('2016-02-16 20:21:58.968000'),\n",
       " Timestamp('2015-09-14 21:57:07.586000'),\n",
       " Timestamp('2017-03-16 23:27:18.749000'),\n",
       " Timestamp('2016-06-17 17:52:49.929000'),\n",
       " Timestamp('2016-08-09 04:40:24.205000'),\n",
       " Timestamp('2016-03-11 23:21:09.781000'),\n",
       " Timestamp('2017-02-22 01:26:22.080000'),\n",
       " Timestamp('2016-08-29 01:29:21.251000'),\n",
       " Timestamp('2015-11-14 08:07:53.500000'),\n",
       " Timestamp('2015-02-03 20:36:35.119000'),\n",
       " Timestamp('2017-06-16 01:47:17.741000'),\n",
       " Timestamp('2017-06-16 09:18:53.126000'),\n",
       " Timestamp('2017-06-25 06:45:50.477000'),\n",
       " Timestamp('2015-07-02 16:33:14.379000'),\n",
       " Timestamp('2017-05-30 02:22:20.336000'),\n",
       " Timestamp('2017-06-12 21:04:05.303000'),\n",
       " Timestamp('2017-06-24 10:48:29.702000'),\n",
       " Timestamp('2017-03-06 15:07:58.872000'),\n",
       " Timestamp('2014-04-11 23:34:39.810000'),\n",
       " Timestamp('2014-06-09 01:34:30.053000'),\n",
       " Timestamp('2017-05-24 14:48:02.454000'),\n",
       " Timestamp('2016-01-01 23:12:35.321000'),\n",
       " Timestamp('2016-12-12 03:40:24.895000'),\n",
       " Timestamp('2016-12-11 21:56:12.709000'),\n",
       " Timestamp('2016-12-22 08:58:05.118000'),\n",
       " Timestamp('2017-06-24 18:55:43.918000'),\n",
       " Timestamp('2016-12-04 03:26:27.180000'),\n",
       " Timestamp('2017-06-25 09:16:47.402000'),\n",
       " Timestamp('2016-10-07 17:47:01.838000'),\n",
       " Timestamp('2015-11-16 04:36:43.626000'),\n",
       " Timestamp('2015-11-16 06:55:53.280000'),\n",
       " Timestamp('2017-05-09 14:09:45.872000'),\n",
       " Timestamp('2017-05-21 23:27:02.946000'),\n",
       " Timestamp('2017-05-25 22:36:31.681000'),\n",
       " ...]"
      ]
     },
     "execution_count": 215,
     "metadata": {},
     "output_type": "execute_result"
    }
   ],
   "source": [
    "dates"
   ]
  },
  {
   "cell_type": "code",
   "execution_count": 216,
   "metadata": {},
   "outputs": [
    {
     "data": {
      "text/plain": [
       "array([ 9.01201,  3.49651,  0.69315, ...,  3.55535,  1.09861,  4.43082])"
      ]
     },
     "execution_count": 216,
     "metadata": {},
     "output_type": "execute_result"
    }
   ],
   "source": [
    "y_train"
   ]
  },
  {
   "cell_type": "code",
   "execution_count": 217,
   "metadata": {
    "collapsed": true
   },
   "outputs": [],
   "source": [
    "df = pd.DataFrame(\n",
    "    {'date': dates,\n",
    "     'y': y_train\n",
    "    })"
   ]
  },
  {
   "cell_type": "code",
   "execution_count": 218,
   "metadata": {},
   "outputs": [
    {
     "data": {
      "text/html": [
       "<div>\n",
       "<style>\n",
       "    .dataframe thead tr:only-child th {\n",
       "        text-align: right;\n",
       "    }\n",
       "\n",
       "    .dataframe thead th {\n",
       "        text-align: left;\n",
       "    }\n",
       "\n",
       "    .dataframe tbody tr th {\n",
       "        vertical-align: top;\n",
       "    }\n",
       "</style>\n",
       "<table border=\"1\" class=\"dataframe\">\n",
       "  <thead>\n",
       "    <tr style=\"text-align: right;\">\n",
       "      <th></th>\n",
       "      <th>date</th>\n",
       "      <th>y</th>\n",
       "    </tr>\n",
       "  </thead>\n",
       "  <tbody>\n",
       "    <tr>\n",
       "      <th>0</th>\n",
       "      <td>2012-08-13 22:54:53.510</td>\n",
       "      <td>9.01201</td>\n",
       "    </tr>\n",
       "    <tr>\n",
       "      <th>1</th>\n",
       "      <td>2015-08-03 07:44:50.331</td>\n",
       "      <td>3.49651</td>\n",
       "    </tr>\n",
       "    <tr>\n",
       "      <th>2</th>\n",
       "      <td>2017-02-05 13:08:17.410</td>\n",
       "      <td>0.69315</td>\n",
       "    </tr>\n",
       "    <tr>\n",
       "      <th>3</th>\n",
       "      <td>2017-05-06 08:16:30.776</td>\n",
       "      <td>1.38629</td>\n",
       "    </tr>\n",
       "    <tr>\n",
       "      <th>4</th>\n",
       "      <td>2017-06-04 14:46:25.772</td>\n",
       "      <td>1.94591</td>\n",
       "    </tr>\n",
       "  </tbody>\n",
       "</table>\n",
       "</div>"
      ],
      "text/plain": [
       "                     date        y\n",
       "0 2012-08-13 22:54:53.510  9.01201\n",
       "1 2015-08-03 07:44:50.331  3.49651\n",
       "2 2017-02-05 13:08:17.410  0.69315\n",
       "3 2017-05-06 08:16:30.776  1.38629\n",
       "4 2017-06-04 14:46:25.772  1.94591"
      ]
     },
     "execution_count": 218,
     "metadata": {},
     "output_type": "execute_result"
    }
   ],
   "source": [
    "df.head()"
   ]
  },
  {
   "cell_type": "code",
   "execution_count": 219,
   "metadata": {
    "collapsed": true
   },
   "outputs": [],
   "source": [
    "df['months_count'] = df['date'].apply(lambda ts: 12 * ts.year + ts.month)"
   ]
  },
  {
   "cell_type": "code",
   "execution_count": 226,
   "metadata": {
    "collapsed": true
   },
   "outputs": [],
   "source": [
    "df['year'] = df['date'].apply(lambda ts: ts.year)"
   ]
  },
  {
   "cell_type": "code",
   "execution_count": 249,
   "metadata": {
    "collapsed": true
   },
   "outputs": [],
   "source": [
    "df['month'] = df['date'].apply(lambda ts: ts.month)"
   ]
  },
  {
   "cell_type": "code",
   "execution_count": 230,
   "metadata": {},
   "outputs": [
    {
     "data": {
      "text/plain": [
       "<matplotlib.axes._subplots.AxesSubplot at 0x136a88d6320>"
      ]
     },
     "execution_count": 230,
     "metadata": {},
     "output_type": "execute_result"
    },
    {
     "data": {
      "image/png": "[encoded data removed]",
      "text/plain": [
       "<matplotlib.figure.Figure at 0x136a161bc50>"
      ]
     },
     "metadata": {},
     "output_type": "display_data"
    }
   ],
   "source": [
    "sns.countplot(x=\"year\", data=df)"
   ]
  },
  {
   "cell_type": "code",
   "execution_count": 228,
   "metadata": {},
   "outputs": [
    {
     "data": {
      "text/plain": [
       "<matplotlib.axes._subplots.AxesSubplot at 0x136a1feb630>"
      ]
     },
     "execution_count": 228,
     "metadata": {},
     "output_type": "execute_result"
    },
    {
     "data": {
      "image/png": "[encoded data removed]",
      "text/plain": [
       "<matplotlib.figure.Figure at 0x136a20666a0>"
      ]
     },
     "metadata": {},
     "output_type": "display_data"
    }
   ],
   "source": [
    "sns.barplot(x=\"year\", y=\"y\", data=df, estimator=sum)"
   ]
  },
  {
   "cell_type": "code",
   "execution_count": 221,
   "metadata": {
    "collapsed": true
   },
   "outputs": [],
   "source": [
    "%matplotlib inline\n",
    "from matplotlib import pyplot as plt\n",
    "import seaborn as sns"
   ]
  },
  {
   "cell_type": "code",
   "execution_count": 256,
   "metadata": {},
   "outputs": [
    {
     "data": {
      "image/png": "[encoded data removed]",
      "text/plain": [
       "<matplotlib.figure.Figure at 0x136c70ea908>"
      ]
     },
     "metadata": {},
     "output_type": "display_data"
    }
   ],
   "source": [
    "df[df[\"year\"]<2021].groupby(['month'])['y'].mean().plot(kind='bar')\n",
    "\n",
    "plt.show()"
   ]
  },
  {
   "cell_type": "code",
   "execution_count": 253,
   "metadata": {},
   "outputs": [],
   "source": [
    "df['day_of_week'] = df['date'].apply(lambda ts: ts.weekday())"
   ]
  },
  {
   "cell_type": "code",
   "execution_count": 257,
   "metadata": {},
   "outputs": [
    {
     "data": {
      "image/png": "[encoded data removed]",
      "text/plain": [
       "<matplotlib.figure.Figure at 0x136c6bf5630>"
      ]
     },
     "metadata": {},
     "output_type": "display_data"
    }
   ],
   "source": [
    "df[df[\"year\"]<2021].groupby(['day_of_week'])['y'].mean().plot(kind='bar')\n",
    "\n",
    "plt.show()"
   ]
  },
  {
   "cell_type": "code",
   "execution_count": 258,
   "metadata": {},
   "outputs": [
    {
     "data": {
      "text/plain": [
       "<matplotlib.axes._subplots.AxesSubplot at 0x136c6ed2be0>"
      ]
     },
     "execution_count": 258,
     "metadata": {},
     "output_type": "execute_result"
    },
    {
     "data": {
      "image/png": "[encoded data removed]",
      "text/plain": [
       "<matplotlib.figure.Figure at 0x136c6be3128>"
      ]
     },
     "metadata": {},
     "output_type": "display_data"
    }
   ],
   "source": [
    "sns.countplot(x=\"day_of_week\", data=df)"
   ]
  },
  {
   "cell_type": "code",
   "execution_count": 286,
   "metadata": {},
   "outputs": [],
   "source": [
    "df['has_image']= df['image'].isnull() == False"
   ]
  },
  {
   "cell_type": "code",
   "execution_count": null,
   "metadata": {
    "collapsed": true
   },
   "outputs": [],
   "source": []
  },
  {
   "cell_type": "code",
   "execution_count": 287,
   "metadata": {},
   "outputs": [
    {
     "data": {
      "image/png": "[encoded data removed]",
      "text/plain": [
       "<matplotlib.figure.Figure at 0x13690e600b8>"
      ]
     },
     "metadata": {},
     "output_type": "display_data"
    }
   ],
   "source": [
    "df.groupby(['has_image'])['y'].mean().plot(kind='bar')\n",
    "\n",
    "plt.show()"
   ]
  },
  {
   "cell_type": "code",
   "execution_count": 299,
   "metadata": {},
   "outputs": [],
   "source": [
    "X_train_image = csr_matrix(hstack([X_train, df['has_image'].astype(int).values.reshape(-1, 1)]))"
   ]
  },
  {
   "cell_type": "code",
   "execution_count": 298,
   "metadata": {},
   "outputs": [
    {
     "data": {
      "text/plain": [
       "array([False, False,  True, ...,  True,  True,  True], dtype=bool)"
      ]
     },
     "execution_count": 298,
     "metadata": {},
     "output_type": "execute_result"
    }
   ],
   "source": [
    "df['has_image'].values"
   ]
  },
  {
   "cell_type": "code",
   "execution_count": null,
   "metadata": {
    "collapsed": true
   },
   "outputs": [],
   "source": []
  },
  {
   "cell_type": "code",
   "execution_count": null,
   "metadata": {
    "collapsed": true
   },
   "outputs": [],
   "source": []
  },
  {
   "cell_type": "code",
   "execution_count": 300,
   "metadata": {
    "collapsed": true
   },
   "outputs": [],
   "source": [
    "train_part_size = int(0.7 * train_target.shape[0])\n",
    "X_train_image_part = X_train_image[:train_part_size, :]\n",
    "X_train_image_valid =  X_train_image[train_part_size:, :]"
   ]
  },
  {
   "cell_type": "code",
   "execution_count": 302,
   "metadata": {},
   "outputs": [
    {
     "name": "stdout",
     "output_type": "stream",
     "text": [
      "Wall time: 4min 10s\n"
     ]
    },
    {
     "data": {
      "text/plain": [
       "XGBRegressor(base_score=0.5, booster='gbtree', colsample_bylevel=1,\n",
       "       colsample_bytree=1, gamma=0, learning_rate=0.1, max_delta_step=0,\n",
       "       max_depth=3, min_child_weight=1, missing=None, n_estimators=100,\n",
       "       n_jobs=1, nthread=None, objective='reg:linear', random_state=0,\n",
       "       reg_alpha=0, reg_lambda=1, scale_pos_weight=1, seed=None,\n",
       "       silent=True, subsample=1)"
      ]
     },
     "execution_count": 302,
     "metadata": {},
     "output_type": "execute_result"
    }
   ],
   "source": [
    "%%time\n",
    "model.fit(X_train_image_part, y_train_part)"
   ]
  },
  {
   "cell_type": "code",
   "execution_count": 303,
   "metadata": {
    "collapsed": true
   },
   "outputs": [],
   "source": [
    "xgb_image_pred = model.predict(X_train_image_valid)"
   ]
  },
  {
   "cell_type": "code",
   "execution_count": 305,
   "metadata": {},
   "outputs": [
    {
     "data": {
      "text/plain": [
       "(1.2502912374655322, 2.4913596241371376)"
      ]
     },
     "execution_count": 305,
     "metadata": {},
     "output_type": "execute_result"
    }
   ],
   "source": [
    "valid_mae = mean_absolute_error(y_valid, xgb_image_pred)\n",
    "valid_mae, np.expm1(valid_mae)"
   ]
  },
  {
   "cell_type": "code",
   "execution_count": 307,
   "metadata": {},
   "outputs": [
    {
     "name": "stdout",
     "output_type": "stream",
     "text": [
      "Wall time: 5min 53s\n"
     ]
    },
    {
     "data": {
      "text/plain": [
       "XGBRegressor(base_score=0.5, booster='gbtree', colsample_bylevel=1,\n",
       "       colsample_bytree=1, gamma=0, learning_rate=0.1, max_delta_step=0,\n",
       "       max_depth=3, min_child_weight=1, missing=None, n_estimators=100,\n",
       "       n_jobs=1, nthread=None, objective='reg:linear', random_state=0,\n",
       "       reg_alpha=0, reg_lambda=1, scale_pos_weight=1, seed=None,\n",
       "       silent=True, subsample=1)"
      ]
     },
     "execution_count": 307,
     "metadata": {},
     "output_type": "execute_result"
    }
   ],
   "source": [
    "%%time\n",
    "model.fit(X_train_image, y_train);"
   ]
  },
  {
   "cell_type": "code",
   "execution_count": 308,
   "metadata": {},
   "outputs": [
    {
     "data": {
      "application/vnd.jupyter.widget-view+json": {
       "model_id": "6b494fc90b334ed19cd4b3ce763d12de",
       "version_major": 2,
       "version_minor": 0
      },
      "text/plain": [
       "A Jupyter Widget"
      ]
     },
     "metadata": {},
     "output_type": "display_data"
    },
    {
     "name": "stdout",
     "output_type": "stream",
     "text": [
      "\n"
     ]
    }
   ],
   "source": [
    "images_test = get_image(os.path.join(PATH_TO_DATA,'test.json'))"
   ]
  },
  {
   "cell_type": "code",
   "execution_count": 319,
   "metadata": {},
   "outputs": [
    {
     "data": {
      "text/plain": [
       "(array([0, 1]), array([32711,  1934], dtype=int64))"
      ]
     },
     "execution_count": 319,
     "metadata": {},
     "output_type": "execute_result"
    }
   ],
   "source": [
    "np.unique(pd.isnull(images_test).astype(int), return_counts=True)"
   ]
  },
  {
   "cell_type": "code",
   "execution_count": null,
   "metadata": {
    "collapsed": true
   },
   "outputs": [],
   "source": []
  },
  {
   "cell_type": "code",
   "execution_count": null,
   "metadata": {
    "collapsed": true
   },
   "outputs": [],
   "source": [
    "images"
   ]
  },
  {
   "cell_type": "code",
   "execution_count": 320,
   "metadata": {
    "collapsed": true
   },
   "outputs": [],
   "source": [
    "X_test_image = csr_matrix(hstack([X_test, np.reshape(pd.isnull(images_test).astype(int),(-1, 1))]))"
   ]
  },
  {
   "cell_type": "code",
   "execution_count": 321,
   "metadata": {
    "collapsed": true
   },
   "outputs": [],
   "source": [
    "xgb_image_pred = model.predict(X_test_image)"
   ]
  },
  {
   "cell_type": "code",
   "execution_count": null,
   "metadata": {
    "collapsed": true
   },
   "outputs": [],
   "source": []
  },
  {
   "cell_type": "code",
   "execution_count": null,
   "metadata": {
    "collapsed": true
   },
   "outputs": [],
   "source": []
  },
  {
   "cell_type": "code",
   "execution_count": null,
   "metadata": {
    "collapsed": true
   },
   "outputs": [],
   "source": []
  },
  {
   "cell_type": "code",
   "execution_count": null,
   "metadata": {
    "collapsed": true
   },
   "outputs": [],
   "source": []
  },
  {
   "cell_type": "code",
   "execution_count": null,
   "metadata": {
    "collapsed": true
   },
   "outputs": [],
   "source": []
  },
  {
   "cell_type": "code",
   "execution_count": 322,
   "metadata": {},
   "outputs": [
    {
     "data": {
      "text/plain": [
       "2.9863975230913553"
      ]
     },
     "execution_count": 322,
     "metadata": {},
     "output_type": "execute_result"
    }
   ],
   "source": [
    "xgb_image_pred.sum()/xgb_image_pred.shape[0]"
   ]
  },
  {
   "cell_type": "code",
   "execution_count": null,
   "metadata": {
    "collapsed": true
   },
   "outputs": [],
   "source": []
  },
  {
   "cell_type": "code",
   "execution_count": 375,
   "metadata": {
    "collapsed": true
   },
   "outputs": [],
   "source": [
    "xgb_image_pred_h=xgb_image_pred*4.33328/2.9863975230913553"
   ]
  },
  {
   "cell_type": "code",
   "execution_count": 376,
   "metadata": {},
   "outputs": [
    {
     "data": {
      "text/plain": [
       "4.3332799646413624"
      ]
     },
     "execution_count": 376,
     "metadata": {},
     "output_type": "execute_result"
    }
   ],
   "source": [
    "xgb_image_pred_h.sum()/xgb_image_pred.shape[0]"
   ]
  },
  {
   "cell_type": "code",
   "execution_count": 377,
   "metadata": {
    "collapsed": true
   },
   "outputs": [],
   "source": [
    "write_submission_file(prediction=xgb_image_pred_h, \n",
    "                      filename='xgb_image_pred_h.csv')"
   ]
  },
  {
   "cell_type": "code",
   "execution_count": null,
   "metadata": {
    "collapsed": true
   },
   "outputs": [],
   "source": [
    "write_submission_file(prediction=xgb_test_predh, \n",
    "                      filename='xgb_h2.csv')"
   ]
  },
  {
   "cell_type": "code",
   "execution_count": null,
   "metadata": {
    "collapsed": true
   },
   "outputs": [],
   "source": []
  },
  {
   "cell_type": "code",
   "execution_count": 335,
   "metadata": {},
   "outputs": [],
   "source": [
    "def get_author(path_to_inp_json_file):\n",
    "    output_list = []\n",
    "    with open(path_to_inp_json_file, encoding='utf-8') as inp_file:\n",
    "        for line in tqdm_notebook(inp_file):\n",
    "       #     print(line)\n",
    "            json_data = read_json_line(line)\n",
    "            content = json_data['author']['url']\n",
    "          #  print(content)\n",
    "            #content_no_html_tags = strip_tags(content)\n",
    "            output_list.append(content)\n",
    "           # return output_list\n",
    "    return output_list;\n"
   ]
  },
  {
   "cell_type": "code",
   "execution_count": 336,
   "metadata": {},
   "outputs": [
    {
     "data": {
      "application/vnd.jupyter.widget-view+json": {
       "model_id": "fe24307b60b54f82a0c795d89cdedc59",
       "version_major": 2,
       "version_minor": 0
      },
      "text/plain": [
       "A Jupyter Widget"
      ]
     },
     "metadata": {},
     "output_type": "display_data"
    },
    {
     "name": "stdout",
     "output_type": "stream",
     "text": [
      "\n"
     ]
    }
   ],
   "source": [
    "authors_train = get_author((os.path.join(PATH_TO_DATA,'train.json')))"
   ]
  },
  {
   "cell_type": "code",
   "execution_count": 337,
   "metadata": {
    "collapsed": true
   },
   "outputs": [],
   "source": [
    "df[\"authors\"]=authors_train"
   ]
  },
  {
   "cell_type": "code",
   "execution_count": 338,
   "metadata": {
    "scrolled": true
   },
   "outputs": [
    {
     "data": {
      "text/plain": [
       "https://medium.com/@warisboring                     305\n",
       "https://medium.com/@jonwestenberg                   195\n",
       "https://medium.com/@jaltucher                       115\n",
       "https://medium.com/@startswithabang                 112\n",
       "https://medium.com/@larrykim                        105\n",
       "https://medium.com/@dariusforoux                    104\n",
       "https://jw-webmagazine.com/@naho617mi                93\n",
       "https://medium.com/@alltopstartups                   92\n",
       "https://medium.com/@_ericelliott                     87\n",
       "https://medium.com/@jspector                         78\n",
       "https://medium.com/@benjaminhardy                    72\n",
       "https://medium.com/@ObamaWhiteHouse                  70\n",
       "https://medium.com/@NetflixTechBlog                  69\n",
       "https://medium.com/@chrisdconnors                    64\n",
       "https://medium.com/@nancypong                        62\n",
       "https://medium.com/@helena                           57\n",
       "https://medium.com/@TheAwl                           57\n",
       "https://medium.com/@joulee                           55\n",
       "https://medium.com/@mbrancaglione                    53\n",
       "https://medium.com/@jeffjarvis                       52\n",
       "https://medium.com/@weforum                          52\n",
       "https://medium.com/@skooloflife                      50\n",
       "https://medium.com/@mjgault                          49\n",
       "https://medium.com/@wheatonbrando                    47\n",
       "https://medium.com/@wynlim                           47\n",
       "https://medium.com/@vanschneider                     46\n",
       "https://medium.com/@animacionservicioseducativos     46\n",
       "https://medium.com/@caityjohnstone                   45\n",
       "https://medium.com/@edans                            45\n",
       "https://medium.com/@ellekaplan                       45\n",
       "                                                   ... \n",
       "https://medium.com/@maheshwar.ligade                  1\n",
       "https://medium.com/@CheckinStory                      1\n",
       "https://medium.com/@kollab.space                      1\n",
       "https://medium.com/@EnergyNewsSA                      1\n",
       "https://medium.com/@saada                             1\n",
       "https://medium.com/@chrissyfarr                       1\n",
       "https://medium.com/@DerekHandova                      1\n",
       "https://medium.com/@lasinovola                        1\n",
       "https://medium.com/@francescamari                     1\n",
       "https://medium.com/@albertogcatalan                   1\n",
       "https://jtbd.info/@Designamyte                        1\n",
       "https://medium.com/@cegay                             1\n",
       "https://medium.com/@nschsravanthi                     1\n",
       "https://medium.com/@lmsanchez                         1\n",
       "https://medium.com/@frankiepangilinan                 1\n",
       "https://medium.com/@telalarainelove                   1\n",
       "https://medium.com/@michaelcjoseph                    1\n",
       "https://medium.com/@justynagolawska                   1\n",
       "https://medium.com/@sinistra_europa                   1\n",
       "https://hackernoon.com/@AlanMarsden                   1\n",
       "https://medium.com/@vladsoriano                       1\n",
       "https://medium.com/@applidium                         1\n",
       "https://medium.com/@oli.wennell                       1\n",
       "https://medium.com/@InstintoViajante                  1\n",
       "https://medium.com/@Irenelasso7                       1\n",
       "https://medium.com/@oliviadillingham                  1\n",
       "https://medium.com/@imlauraramos                      1\n",
       "https://medium.com/@uxpin                             1\n",
       "https://medium.com/@fabiodisconzi                     1\n",
       "https://medium.com/@md_ray                            1\n",
       "Name: authors, Length: 32182, dtype: int64"
      ]
     },
     "execution_count": 338,
     "metadata": {},
     "output_type": "execute_result"
    }
   ],
   "source": [
    "df[\"authors\"].value_counts()"
   ]
  },
  {
   "cell_type": "code",
   "execution_count": 340,
   "metadata": {},
   "outputs": [
    {
     "ename": "KeyboardInterrupt",
     "evalue": "",
     "output_type": "error",
     "traceback": [
      "\u001b[1;31m---------------------------------------------------------------------------\u001b[0m",
      "\u001b[1;31mKeyboardInterrupt\u001b[0m                         Traceback (most recent call last)",
      "\u001b[1;32m<ipython-input-340-6e058531eb63>\u001b[0m in \u001b[0;36m<module>\u001b[1;34m()\u001b[0m\n\u001b[0;32m      1\u001b[0m \u001b[0mdf\u001b[0m\u001b[1;33m.\u001b[0m\u001b[0mgroupby\u001b[0m\u001b[1;33m(\u001b[0m\u001b[1;33m[\u001b[0m\u001b[1;34m'authors'\u001b[0m\u001b[1;33m]\u001b[0m\u001b[1;33m)\u001b[0m\u001b[1;33m[\u001b[0m\u001b[1;34m'y'\u001b[0m\u001b[1;33m]\u001b[0m\u001b[1;33m.\u001b[0m\u001b[0mmean\u001b[0m\u001b[1;33m(\u001b[0m\u001b[1;33m)\u001b[0m\u001b[1;33m.\u001b[0m\u001b[0mplot\u001b[0m\u001b[1;33m(\u001b[0m\u001b[0mkind\u001b[0m\u001b[1;33m=\u001b[0m\u001b[1;34m'bar'\u001b[0m\u001b[1;33m)\u001b[0m\u001b[1;33m\u001b[0m\u001b[0m\n\u001b[0;32m      2\u001b[0m \u001b[1;33m\u001b[0m\u001b[0m\n\u001b[1;32m----> 3\u001b[1;33m \u001b[0mplt\u001b[0m\u001b[1;33m.\u001b[0m\u001b[0mshow\u001b[0m\u001b[1;33m(\u001b[0m\u001b[1;33m)\u001b[0m\u001b[1;33m\u001b[0m\u001b[0m\n\u001b[0m",
      "\u001b[1;32mC:\\ProgramData\\Anaconda3\\lib\\site-packages\\matplotlib\\pyplot.py\u001b[0m in \u001b[0;36mshow\u001b[1;34m(*args, **kw)\u001b[0m\n\u001b[0;32m    249\u001b[0m     \"\"\"\n\u001b[0;32m    250\u001b[0m     \u001b[1;32mglobal\u001b[0m \u001b[0m_show\u001b[0m\u001b[1;33m\u001b[0m\u001b[0m\n\u001b[1;32m--> 251\u001b[1;33m     \u001b[1;32mreturn\u001b[0m \u001b[0m_show\u001b[0m\u001b[1;33m(\u001b[0m\u001b[1;33m*\u001b[0m\u001b[0margs\u001b[0m\u001b[1;33m,\u001b[0m \u001b[1;33m**\u001b[0m\u001b[0mkw\u001b[0m\u001b[1;33m)\u001b[0m\u001b[1;33m\u001b[0m\u001b[0m\n\u001b[0m\u001b[0;32m    252\u001b[0m \u001b[1;33m\u001b[0m\u001b[0m\n\u001b[0;32m    253\u001b[0m \u001b[1;33m\u001b[0m\u001b[0m\n",
      "\u001b[1;32mC:\\ProgramData\\Anaconda3\\lib\\site-packages\\ipykernel\\pylab\\backend_inline.py\u001b[0m in \u001b[0;36mshow\u001b[1;34m(close, block)\u001b[0m\n\u001b[0;32m     34\u001b[0m     \u001b[1;32mtry\u001b[0m\u001b[1;33m:\u001b[0m\u001b[1;33m\u001b[0m\u001b[0m\n\u001b[0;32m     35\u001b[0m         \u001b[1;32mfor\u001b[0m \u001b[0mfigure_manager\u001b[0m \u001b[1;32min\u001b[0m \u001b[0mGcf\u001b[0m\u001b[1;33m.\u001b[0m\u001b[0mget_all_fig_managers\u001b[0m\u001b[1;33m(\u001b[0m\u001b[1;33m)\u001b[0m\u001b[1;33m:\u001b[0m\u001b[1;33m\u001b[0m\u001b[0m\n\u001b[1;32m---> 36\u001b[1;33m             \u001b[0mdisplay\u001b[0m\u001b[1;33m(\u001b[0m\u001b[0mfigure_manager\u001b[0m\u001b[1;33m.\u001b[0m\u001b[0mcanvas\u001b[0m\u001b[1;33m.\u001b[0m\u001b[0mfigure\u001b[0m\u001b[1;33m)\u001b[0m\u001b[1;33m\u001b[0m\u001b[0m\n\u001b[0m\u001b[0;32m     37\u001b[0m     \u001b[1;32mfinally\u001b[0m\u001b[1;33m:\u001b[0m\u001b[1;33m\u001b[0m\u001b[0m\n\u001b[0;32m     38\u001b[0m         \u001b[0mshow\u001b[0m\u001b[1;33m.\u001b[0m\u001b[0m_to_draw\u001b[0m \u001b[1;33m=\u001b[0m \u001b[1;33m[\u001b[0m\u001b[1;33m]\u001b[0m\u001b[1;33m\u001b[0m\u001b[0m\n",
      "\u001b[1;32mC:\\ProgramData\\Anaconda3\\lib\\site-packages\\IPython\\core\\display.py\u001b[0m in \u001b[0;36mdisplay\u001b[1;34m(include, exclude, metadata, transient, display_id, *objs, **kwargs)\u001b[0m\n\u001b[0;32m    300\u001b[0m             \u001b[0mpublish_display_data\u001b[0m\u001b[1;33m(\u001b[0m\u001b[0mdata\u001b[0m\u001b[1;33m=\u001b[0m\u001b[0mobj\u001b[0m\u001b[1;33m,\u001b[0m \u001b[0mmetadata\u001b[0m\u001b[1;33m=\u001b[0m\u001b[0mmetadata\u001b[0m\u001b[1;33m,\u001b[0m \u001b[1;33m**\u001b[0m\u001b[0mkwargs\u001b[0m\u001b[1;33m)\u001b[0m\u001b[1;33m\u001b[0m\u001b[0m\n\u001b[0;32m    301\u001b[0m         \u001b[1;32melse\u001b[0m\u001b[1;33m:\u001b[0m\u001b[1;33m\u001b[0m\u001b[0m\n\u001b[1;32m--> 302\u001b[1;33m             \u001b[0mformat_dict\u001b[0m\u001b[1;33m,\u001b[0m \u001b[0mmd_dict\u001b[0m \u001b[1;33m=\u001b[0m \u001b[0mformat\u001b[0m\u001b[1;33m(\u001b[0m\u001b[0mobj\u001b[0m\u001b[1;33m,\u001b[0m \u001b[0minclude\u001b[0m\u001b[1;33m=\u001b[0m\u001b[0minclude\u001b[0m\u001b[1;33m,\u001b[0m \u001b[0mexclude\u001b[0m\u001b[1;33m=\u001b[0m\u001b[0mexclude\u001b[0m\u001b[1;33m)\u001b[0m\u001b[1;33m\u001b[0m\u001b[0m\n\u001b[0m\u001b[0;32m    303\u001b[0m             \u001b[1;32mif\u001b[0m \u001b[1;32mnot\u001b[0m \u001b[0mformat_dict\u001b[0m\u001b[1;33m:\u001b[0m\u001b[1;33m\u001b[0m\u001b[0m\n\u001b[0;32m    304\u001b[0m                 \u001b[1;31m# nothing to display (e.g. _ipython_display_ took over)\u001b[0m\u001b[1;33m\u001b[0m\u001b[1;33m\u001b[0m\u001b[0m\n",
      "\u001b[1;32mC:\\ProgramData\\Anaconda3\\lib\\site-packages\\IPython\\core\\formatters.py\u001b[0m in \u001b[0;36mformat\u001b[1;34m(self, obj, include, exclude)\u001b[0m\n\u001b[0;32m    169\u001b[0m             \u001b[0mmd\u001b[0m \u001b[1;33m=\u001b[0m \u001b[1;32mNone\u001b[0m\u001b[1;33m\u001b[0m\u001b[0m\n\u001b[0;32m    170\u001b[0m             \u001b[1;32mtry\u001b[0m\u001b[1;33m:\u001b[0m\u001b[1;33m\u001b[0m\u001b[0m\n\u001b[1;32m--> 171\u001b[1;33m                 \u001b[0mdata\u001b[0m \u001b[1;33m=\u001b[0m \u001b[0mformatter\u001b[0m\u001b[1;33m(\u001b[0m\u001b[0mobj\u001b[0m\u001b[1;33m)\u001b[0m\u001b[1;33m\u001b[0m\u001b[0m\n\u001b[0m\u001b[0;32m    172\u001b[0m             \u001b[1;32mexcept\u001b[0m\u001b[1;33m:\u001b[0m\u001b[1;33m\u001b[0m\u001b[0m\n\u001b[0;32m    173\u001b[0m                 \u001b[1;31m# FIXME: log the exception\u001b[0m\u001b[1;33m\u001b[0m\u001b[1;33m\u001b[0m\u001b[0m\n",
      "\u001b[1;32m<decorator-gen-9>\u001b[0m in \u001b[0;36m__call__\u001b[1;34m(self, obj)\u001b[0m\n",
      "\u001b[1;32mC:\\ProgramData\\Anaconda3\\lib\\site-packages\\IPython\\core\\formatters.py\u001b[0m in \u001b[0;36mcatch_format_error\u001b[1;34m(method, self, *args, **kwargs)\u001b[0m\n\u001b[0;32m    213\u001b[0m     \u001b[1;34m\"\"\"show traceback on failed format call\"\"\"\u001b[0m\u001b[1;33m\u001b[0m\u001b[0m\n\u001b[0;32m    214\u001b[0m     \u001b[1;32mtry\u001b[0m\u001b[1;33m:\u001b[0m\u001b[1;33m\u001b[0m\u001b[0m\n\u001b[1;32m--> 215\u001b[1;33m         \u001b[0mr\u001b[0m \u001b[1;33m=\u001b[0m \u001b[0mmethod\u001b[0m\u001b[1;33m(\u001b[0m\u001b[0mself\u001b[0m\u001b[1;33m,\u001b[0m \u001b[1;33m*\u001b[0m\u001b[0margs\u001b[0m\u001b[1;33m,\u001b[0m \u001b[1;33m**\u001b[0m\u001b[0mkwargs\u001b[0m\u001b[1;33m)\u001b[0m\u001b[1;33m\u001b[0m\u001b[0m\n\u001b[0m\u001b[0;32m    216\u001b[0m     \u001b[1;32mexcept\u001b[0m \u001b[0mNotImplementedError\u001b[0m\u001b[1;33m:\u001b[0m\u001b[1;33m\u001b[0m\u001b[0m\n\u001b[0;32m    217\u001b[0m         \u001b[1;31m# don't warn on NotImplementedErrors\u001b[0m\u001b[1;33m\u001b[0m\u001b[1;33m\u001b[0m\u001b[0m\n",
      "\u001b[1;32mC:\\ProgramData\\Anaconda3\\lib\\site-packages\\IPython\\core\\formatters.py\u001b[0m in \u001b[0;36m__call__\u001b[1;34m(self, obj)\u001b[0m\n\u001b[0;32m    330\u001b[0m                 \u001b[1;32mpass\u001b[0m\u001b[1;33m\u001b[0m\u001b[0m\n\u001b[0;32m    331\u001b[0m             \u001b[1;32melse\u001b[0m\u001b[1;33m:\u001b[0m\u001b[1;33m\u001b[0m\u001b[0m\n\u001b[1;32m--> 332\u001b[1;33m                 \u001b[1;32mreturn\u001b[0m \u001b[0mprinter\u001b[0m\u001b[1;33m(\u001b[0m\u001b[0mobj\u001b[0m\u001b[1;33m)\u001b[0m\u001b[1;33m\u001b[0m\u001b[0m\n\u001b[0m\u001b[0;32m    333\u001b[0m             \u001b[1;31m# Finally look for special method names\u001b[0m\u001b[1;33m\u001b[0m\u001b[1;33m\u001b[0m\u001b[0m\n\u001b[0;32m    334\u001b[0m             \u001b[0mmethod\u001b[0m \u001b[1;33m=\u001b[0m \u001b[0mget_real_method\u001b[0m\u001b[1;33m(\u001b[0m\u001b[0mobj\u001b[0m\u001b[1;33m,\u001b[0m \u001b[0mself\u001b[0m\u001b[1;33m.\u001b[0m\u001b[0mprint_method\u001b[0m\u001b[1;33m)\u001b[0m\u001b[1;33m\u001b[0m\u001b[0m\n",
      "\u001b[1;32mC:\\ProgramData\\Anaconda3\\lib\\site-packages\\IPython\\core\\pylabtools.py\u001b[0m in \u001b[0;36m<lambda>\u001b[1;34m(fig)\u001b[0m\n\u001b[0;32m    235\u001b[0m \u001b[1;33m\u001b[0m\u001b[0m\n\u001b[0;32m    236\u001b[0m     \u001b[1;32mif\u001b[0m \u001b[1;34m'png'\u001b[0m \u001b[1;32min\u001b[0m \u001b[0mformats\u001b[0m\u001b[1;33m:\u001b[0m\u001b[1;33m\u001b[0m\u001b[0m\n\u001b[1;32m--> 237\u001b[1;33m         \u001b[0mpng_formatter\u001b[0m\u001b[1;33m.\u001b[0m\u001b[0mfor_type\u001b[0m\u001b[1;33m(\u001b[0m\u001b[0mFigure\u001b[0m\u001b[1;33m,\u001b[0m \u001b[1;32mlambda\u001b[0m \u001b[0mfig\u001b[0m\u001b[1;33m:\u001b[0m \u001b[0mprint_figure\u001b[0m\u001b[1;33m(\u001b[0m\u001b[0mfig\u001b[0m\u001b[1;33m,\u001b[0m \u001b[1;34m'png'\u001b[0m\u001b[1;33m,\u001b[0m \u001b[1;33m**\u001b[0m\u001b[0mkwargs\u001b[0m\u001b[1;33m)\u001b[0m\u001b[1;33m)\u001b[0m\u001b[1;33m\u001b[0m\u001b[0m\n\u001b[0m\u001b[0;32m    238\u001b[0m     \u001b[1;32mif\u001b[0m \u001b[1;34m'retina'\u001b[0m \u001b[1;32min\u001b[0m \u001b[0mformats\u001b[0m \u001b[1;32mor\u001b[0m \u001b[1;34m'png2x'\u001b[0m \u001b[1;32min\u001b[0m \u001b[0mformats\u001b[0m\u001b[1;33m:\u001b[0m\u001b[1;33m\u001b[0m\u001b[0m\n\u001b[0;32m    239\u001b[0m         \u001b[0mpng_formatter\u001b[0m\u001b[1;33m.\u001b[0m\u001b[0mfor_type\u001b[0m\u001b[1;33m(\u001b[0m\u001b[0mFigure\u001b[0m\u001b[1;33m,\u001b[0m \u001b[1;32mlambda\u001b[0m \u001b[0mfig\u001b[0m\u001b[1;33m:\u001b[0m \u001b[0mretina_figure\u001b[0m\u001b[1;33m(\u001b[0m\u001b[0mfig\u001b[0m\u001b[1;33m,\u001b[0m \u001b[1;33m**\u001b[0m\u001b[0mkwargs\u001b[0m\u001b[1;33m)\u001b[0m\u001b[1;33m)\u001b[0m\u001b[1;33m\u001b[0m\u001b[0m\n",
      "\u001b[1;32mC:\\ProgramData\\Anaconda3\\lib\\site-packages\\IPython\\core\\pylabtools.py\u001b[0m in \u001b[0;36mprint_figure\u001b[1;34m(fig, fmt, bbox_inches, **kwargs)\u001b[0m\n\u001b[0;32m    119\u001b[0m \u001b[1;33m\u001b[0m\u001b[0m\n\u001b[0;32m    120\u001b[0m     \u001b[0mbytes_io\u001b[0m \u001b[1;33m=\u001b[0m \u001b[0mBytesIO\u001b[0m\u001b[1;33m(\u001b[0m\u001b[1;33m)\u001b[0m\u001b[1;33m\u001b[0m\u001b[0m\n\u001b[1;32m--> 121\u001b[1;33m     \u001b[0mfig\u001b[0m\u001b[1;33m.\u001b[0m\u001b[0mcanvas\u001b[0m\u001b[1;33m.\u001b[0m\u001b[0mprint_figure\u001b[0m\u001b[1;33m(\u001b[0m\u001b[0mbytes_io\u001b[0m\u001b[1;33m,\u001b[0m \u001b[1;33m**\u001b[0m\u001b[0mkw\u001b[0m\u001b[1;33m)\u001b[0m\u001b[1;33m\u001b[0m\u001b[0m\n\u001b[0m\u001b[0;32m    122\u001b[0m     \u001b[0mdata\u001b[0m \u001b[1;33m=\u001b[0m \u001b[0mbytes_io\u001b[0m\u001b[1;33m.\u001b[0m\u001b[0mgetvalue\u001b[0m\u001b[1;33m(\u001b[0m\u001b[1;33m)\u001b[0m\u001b[1;33m\u001b[0m\u001b[0m\n\u001b[0;32m    123\u001b[0m     \u001b[1;32mif\u001b[0m \u001b[0mfmt\u001b[0m \u001b[1;33m==\u001b[0m \u001b[1;34m'svg'\u001b[0m\u001b[1;33m:\u001b[0m\u001b[1;33m\u001b[0m\u001b[0m\n",
      "\u001b[1;32mC:\\ProgramData\\Anaconda3\\lib\\site-packages\\matplotlib\\backend_bases.py\u001b[0m in \u001b[0;36mprint_figure\u001b[1;34m(self, filename, dpi, facecolor, edgecolor, orientation, format, **kwargs)\u001b[0m\n\u001b[0;32m   2206\u001b[0m                     \u001b[0morientation\u001b[0m\u001b[1;33m=\u001b[0m\u001b[0morientation\u001b[0m\u001b[1;33m,\u001b[0m\u001b[1;33m\u001b[0m\u001b[0m\n\u001b[0;32m   2207\u001b[0m                     \u001b[0mdryrun\u001b[0m\u001b[1;33m=\u001b[0m\u001b[1;32mTrue\u001b[0m\u001b[1;33m,\u001b[0m\u001b[1;33m\u001b[0m\u001b[0m\n\u001b[1;32m-> 2208\u001b[1;33m                     **kwargs)\n\u001b[0m\u001b[0;32m   2209\u001b[0m                 \u001b[0mrenderer\u001b[0m \u001b[1;33m=\u001b[0m \u001b[0mself\u001b[0m\u001b[1;33m.\u001b[0m\u001b[0mfigure\u001b[0m\u001b[1;33m.\u001b[0m\u001b[0m_cachedRenderer\u001b[0m\u001b[1;33m\u001b[0m\u001b[0m\n\u001b[0;32m   2210\u001b[0m                 \u001b[0mbbox_inches\u001b[0m \u001b[1;33m=\u001b[0m \u001b[0mself\u001b[0m\u001b[1;33m.\u001b[0m\u001b[0mfigure\u001b[0m\u001b[1;33m.\u001b[0m\u001b[0mget_tightbbox\u001b[0m\u001b[1;33m(\u001b[0m\u001b[0mrenderer\u001b[0m\u001b[1;33m)\u001b[0m\u001b[1;33m\u001b[0m\u001b[0m\n",
      "\u001b[1;32mC:\\ProgramData\\Anaconda3\\lib\\site-packages\\matplotlib\\backends\\backend_agg.py\u001b[0m in \u001b[0;36mprint_png\u001b[1;34m(self, filename_or_obj, *args, **kwargs)\u001b[0m\n\u001b[0;32m    505\u001b[0m \u001b[1;33m\u001b[0m\u001b[0m\n\u001b[0;32m    506\u001b[0m     \u001b[1;32mdef\u001b[0m \u001b[0mprint_png\u001b[0m\u001b[1;33m(\u001b[0m\u001b[0mself\u001b[0m\u001b[1;33m,\u001b[0m \u001b[0mfilename_or_obj\u001b[0m\u001b[1;33m,\u001b[0m \u001b[1;33m*\u001b[0m\u001b[0margs\u001b[0m\u001b[1;33m,\u001b[0m \u001b[1;33m**\u001b[0m\u001b[0mkwargs\u001b[0m\u001b[1;33m)\u001b[0m\u001b[1;33m:\u001b[0m\u001b[1;33m\u001b[0m\u001b[0m\n\u001b[1;32m--> 507\u001b[1;33m         \u001b[0mFigureCanvasAgg\u001b[0m\u001b[1;33m.\u001b[0m\u001b[0mdraw\u001b[0m\u001b[1;33m(\u001b[0m\u001b[0mself\u001b[0m\u001b[1;33m)\u001b[0m\u001b[1;33m\u001b[0m\u001b[0m\n\u001b[0m\u001b[0;32m    508\u001b[0m         \u001b[0mrenderer\u001b[0m \u001b[1;33m=\u001b[0m \u001b[0mself\u001b[0m\u001b[1;33m.\u001b[0m\u001b[0mget_renderer\u001b[0m\u001b[1;33m(\u001b[0m\u001b[1;33m)\u001b[0m\u001b[1;33m\u001b[0m\u001b[0m\n\u001b[0;32m    509\u001b[0m         \u001b[0moriginal_dpi\u001b[0m \u001b[1;33m=\u001b[0m \u001b[0mrenderer\u001b[0m\u001b[1;33m.\u001b[0m\u001b[0mdpi\u001b[0m\u001b[1;33m\u001b[0m\u001b[0m\n",
      "\u001b[1;32mC:\\ProgramData\\Anaconda3\\lib\\site-packages\\matplotlib\\backends\\backend_agg.py\u001b[0m in \u001b[0;36mdraw\u001b[1;34m(self)\u001b[0m\n\u001b[0;32m    428\u001b[0m             \u001b[1;32mif\u001b[0m \u001b[0mtoolbar\u001b[0m\u001b[1;33m:\u001b[0m\u001b[1;33m\u001b[0m\u001b[0m\n\u001b[0;32m    429\u001b[0m                 \u001b[0mtoolbar\u001b[0m\u001b[1;33m.\u001b[0m\u001b[0mset_cursor\u001b[0m\u001b[1;33m(\u001b[0m\u001b[0mcursors\u001b[0m\u001b[1;33m.\u001b[0m\u001b[0mWAIT\u001b[0m\u001b[1;33m)\u001b[0m\u001b[1;33m\u001b[0m\u001b[0m\n\u001b[1;32m--> 430\u001b[1;33m             \u001b[0mself\u001b[0m\u001b[1;33m.\u001b[0m\u001b[0mfigure\u001b[0m\u001b[1;33m.\u001b[0m\u001b[0mdraw\u001b[0m\u001b[1;33m(\u001b[0m\u001b[0mself\u001b[0m\u001b[1;33m.\u001b[0m\u001b[0mrenderer\u001b[0m\u001b[1;33m)\u001b[0m\u001b[1;33m\u001b[0m\u001b[0m\n\u001b[0m\u001b[0;32m    431\u001b[0m         \u001b[1;32mfinally\u001b[0m\u001b[1;33m:\u001b[0m\u001b[1;33m\u001b[0m\u001b[0m\n\u001b[0;32m    432\u001b[0m             \u001b[1;32mif\u001b[0m \u001b[0mtoolbar\u001b[0m\u001b[1;33m:\u001b[0m\u001b[1;33m\u001b[0m\u001b[0m\n",
      "\u001b[1;32mC:\\ProgramData\\Anaconda3\\lib\\site-packages\\matplotlib\\artist.py\u001b[0m in \u001b[0;36mdraw_wrapper\u001b[1;34m(artist, renderer, *args, **kwargs)\u001b[0m\n\u001b[0;32m     53\u001b[0m                 \u001b[0mrenderer\u001b[0m\u001b[1;33m.\u001b[0m\u001b[0mstart_filter\u001b[0m\u001b[1;33m(\u001b[0m\u001b[1;33m)\u001b[0m\u001b[1;33m\u001b[0m\u001b[0m\n\u001b[0;32m     54\u001b[0m \u001b[1;33m\u001b[0m\u001b[0m\n\u001b[1;32m---> 55\u001b[1;33m             \u001b[1;32mreturn\u001b[0m \u001b[0mdraw\u001b[0m\u001b[1;33m(\u001b[0m\u001b[0martist\u001b[0m\u001b[1;33m,\u001b[0m \u001b[0mrenderer\u001b[0m\u001b[1;33m,\u001b[0m \u001b[1;33m*\u001b[0m\u001b[0margs\u001b[0m\u001b[1;33m,\u001b[0m \u001b[1;33m**\u001b[0m\u001b[0mkwargs\u001b[0m\u001b[1;33m)\u001b[0m\u001b[1;33m\u001b[0m\u001b[0m\n\u001b[0m\u001b[0;32m     56\u001b[0m         \u001b[1;32mfinally\u001b[0m\u001b[1;33m:\u001b[0m\u001b[1;33m\u001b[0m\u001b[0m\n\u001b[0;32m     57\u001b[0m             \u001b[1;32mif\u001b[0m \u001b[0martist\u001b[0m\u001b[1;33m.\u001b[0m\u001b[0mget_agg_filter\u001b[0m\u001b[1;33m(\u001b[0m\u001b[1;33m)\u001b[0m \u001b[1;32mis\u001b[0m \u001b[1;32mnot\u001b[0m \u001b[1;32mNone\u001b[0m\u001b[1;33m:\u001b[0m\u001b[1;33m\u001b[0m\u001b[0m\n",
      "\u001b[1;32mC:\\ProgramData\\Anaconda3\\lib\\site-packages\\matplotlib\\figure.py\u001b[0m in \u001b[0;36mdraw\u001b[1;34m(self, renderer)\u001b[0m\n\u001b[0;32m   1293\u001b[0m \u001b[1;33m\u001b[0m\u001b[0m\n\u001b[0;32m   1294\u001b[0m             mimage._draw_list_compositing_images(\n\u001b[1;32m-> 1295\u001b[1;33m                 renderer, self, artists, self.suppressComposite)\n\u001b[0m\u001b[0;32m   1296\u001b[0m \u001b[1;33m\u001b[0m\u001b[0m\n\u001b[0;32m   1297\u001b[0m             \u001b[0mrenderer\u001b[0m\u001b[1;33m.\u001b[0m\u001b[0mclose_group\u001b[0m\u001b[1;33m(\u001b[0m\u001b[1;34m'figure'\u001b[0m\u001b[1;33m)\u001b[0m\u001b[1;33m\u001b[0m\u001b[0m\n",
      "\u001b[1;32mC:\\ProgramData\\Anaconda3\\lib\\site-packages\\matplotlib\\image.py\u001b[0m in \u001b[0;36m_draw_list_compositing_images\u001b[1;34m(renderer, parent, artists, suppress_composite)\u001b[0m\n\u001b[0;32m    136\u001b[0m     \u001b[1;32mif\u001b[0m \u001b[0mnot_composite\u001b[0m \u001b[1;32mor\u001b[0m \u001b[1;32mnot\u001b[0m \u001b[0mhas_images\u001b[0m\u001b[1;33m:\u001b[0m\u001b[1;33m\u001b[0m\u001b[0m\n\u001b[0;32m    137\u001b[0m         \u001b[1;32mfor\u001b[0m \u001b[0ma\u001b[0m \u001b[1;32min\u001b[0m \u001b[0martists\u001b[0m\u001b[1;33m:\u001b[0m\u001b[1;33m\u001b[0m\u001b[0m\n\u001b[1;32m--> 138\u001b[1;33m             \u001b[0ma\u001b[0m\u001b[1;33m.\u001b[0m\u001b[0mdraw\u001b[0m\u001b[1;33m(\u001b[0m\u001b[0mrenderer\u001b[0m\u001b[1;33m)\u001b[0m\u001b[1;33m\u001b[0m\u001b[0m\n\u001b[0m\u001b[0;32m    139\u001b[0m     \u001b[1;32melse\u001b[0m\u001b[1;33m:\u001b[0m\u001b[1;33m\u001b[0m\u001b[0m\n\u001b[0;32m    140\u001b[0m         \u001b[1;31m# Composite any adjacent images together\u001b[0m\u001b[1;33m\u001b[0m\u001b[1;33m\u001b[0m\u001b[0m\n",
      "\u001b[1;32mC:\\ProgramData\\Anaconda3\\lib\\site-packages\\matplotlib\\artist.py\u001b[0m in \u001b[0;36mdraw_wrapper\u001b[1;34m(artist, renderer, *args, **kwargs)\u001b[0m\n\u001b[0;32m     53\u001b[0m                 \u001b[0mrenderer\u001b[0m\u001b[1;33m.\u001b[0m\u001b[0mstart_filter\u001b[0m\u001b[1;33m(\u001b[0m\u001b[1;33m)\u001b[0m\u001b[1;33m\u001b[0m\u001b[0m\n\u001b[0;32m     54\u001b[0m \u001b[1;33m\u001b[0m\u001b[0m\n\u001b[1;32m---> 55\u001b[1;33m             \u001b[1;32mreturn\u001b[0m \u001b[0mdraw\u001b[0m\u001b[1;33m(\u001b[0m\u001b[0martist\u001b[0m\u001b[1;33m,\u001b[0m \u001b[0mrenderer\u001b[0m\u001b[1;33m,\u001b[0m \u001b[1;33m*\u001b[0m\u001b[0margs\u001b[0m\u001b[1;33m,\u001b[0m \u001b[1;33m**\u001b[0m\u001b[0mkwargs\u001b[0m\u001b[1;33m)\u001b[0m\u001b[1;33m\u001b[0m\u001b[0m\n\u001b[0m\u001b[0;32m     56\u001b[0m         \u001b[1;32mfinally\u001b[0m\u001b[1;33m:\u001b[0m\u001b[1;33m\u001b[0m\u001b[0m\n\u001b[0;32m     57\u001b[0m             \u001b[1;32mif\u001b[0m \u001b[0martist\u001b[0m\u001b[1;33m.\u001b[0m\u001b[0mget_agg_filter\u001b[0m\u001b[1;33m(\u001b[0m\u001b[1;33m)\u001b[0m \u001b[1;32mis\u001b[0m \u001b[1;32mnot\u001b[0m \u001b[1;32mNone\u001b[0m\u001b[1;33m:\u001b[0m\u001b[1;33m\u001b[0m\u001b[0m\n",
      "\u001b[1;32mC:\\ProgramData\\Anaconda3\\lib\\site-packages\\matplotlib\\axes\\_base.py\u001b[0m in \u001b[0;36mdraw\u001b[1;34m(self, renderer, inframe)\u001b[0m\n\u001b[0;32m   2397\u001b[0m             \u001b[0mrenderer\u001b[0m\u001b[1;33m.\u001b[0m\u001b[0mstop_rasterizing\u001b[0m\u001b[1;33m(\u001b[0m\u001b[1;33m)\u001b[0m\u001b[1;33m\u001b[0m\u001b[0m\n\u001b[0;32m   2398\u001b[0m \u001b[1;33m\u001b[0m\u001b[0m\n\u001b[1;32m-> 2399\u001b[1;33m         \u001b[0mmimage\u001b[0m\u001b[1;33m.\u001b[0m\u001b[0m_draw_list_compositing_images\u001b[0m\u001b[1;33m(\u001b[0m\u001b[0mrenderer\u001b[0m\u001b[1;33m,\u001b[0m \u001b[0mself\u001b[0m\u001b[1;33m,\u001b[0m \u001b[0martists\u001b[0m\u001b[1;33m)\u001b[0m\u001b[1;33m\u001b[0m\u001b[0m\n\u001b[0m\u001b[0;32m   2400\u001b[0m \u001b[1;33m\u001b[0m\u001b[0m\n\u001b[0;32m   2401\u001b[0m         \u001b[0mrenderer\u001b[0m\u001b[1;33m.\u001b[0m\u001b[0mclose_group\u001b[0m\u001b[1;33m(\u001b[0m\u001b[1;34m'axes'\u001b[0m\u001b[1;33m)\u001b[0m\u001b[1;33m\u001b[0m\u001b[0m\n",
      "\u001b[1;32mC:\\ProgramData\\Anaconda3\\lib\\site-packages\\matplotlib\\image.py\u001b[0m in \u001b[0;36m_draw_list_compositing_images\u001b[1;34m(renderer, parent, artists, suppress_composite)\u001b[0m\n\u001b[0;32m    136\u001b[0m     \u001b[1;32mif\u001b[0m \u001b[0mnot_composite\u001b[0m \u001b[1;32mor\u001b[0m \u001b[1;32mnot\u001b[0m \u001b[0mhas_images\u001b[0m\u001b[1;33m:\u001b[0m\u001b[1;33m\u001b[0m\u001b[0m\n\u001b[0;32m    137\u001b[0m         \u001b[1;32mfor\u001b[0m \u001b[0ma\u001b[0m \u001b[1;32min\u001b[0m \u001b[0martists\u001b[0m\u001b[1;33m:\u001b[0m\u001b[1;33m\u001b[0m\u001b[0m\n\u001b[1;32m--> 138\u001b[1;33m             \u001b[0ma\u001b[0m\u001b[1;33m.\u001b[0m\u001b[0mdraw\u001b[0m\u001b[1;33m(\u001b[0m\u001b[0mrenderer\u001b[0m\u001b[1;33m)\u001b[0m\u001b[1;33m\u001b[0m\u001b[0m\n\u001b[0m\u001b[0;32m    139\u001b[0m     \u001b[1;32melse\u001b[0m\u001b[1;33m:\u001b[0m\u001b[1;33m\u001b[0m\u001b[0m\n\u001b[0;32m    140\u001b[0m         \u001b[1;31m# Composite any adjacent images together\u001b[0m\u001b[1;33m\u001b[0m\u001b[1;33m\u001b[0m\u001b[0m\n",
      "\u001b[1;32mC:\\ProgramData\\Anaconda3\\lib\\site-packages\\matplotlib\\artist.py\u001b[0m in \u001b[0;36mdraw_wrapper\u001b[1;34m(artist, renderer, *args, **kwargs)\u001b[0m\n\u001b[0;32m     53\u001b[0m                 \u001b[0mrenderer\u001b[0m\u001b[1;33m.\u001b[0m\u001b[0mstart_filter\u001b[0m\u001b[1;33m(\u001b[0m\u001b[1;33m)\u001b[0m\u001b[1;33m\u001b[0m\u001b[0m\n\u001b[0;32m     54\u001b[0m \u001b[1;33m\u001b[0m\u001b[0m\n\u001b[1;32m---> 55\u001b[1;33m             \u001b[1;32mreturn\u001b[0m \u001b[0mdraw\u001b[0m\u001b[1;33m(\u001b[0m\u001b[0martist\u001b[0m\u001b[1;33m,\u001b[0m \u001b[0mrenderer\u001b[0m\u001b[1;33m,\u001b[0m \u001b[1;33m*\u001b[0m\u001b[0margs\u001b[0m\u001b[1;33m,\u001b[0m \u001b[1;33m**\u001b[0m\u001b[0mkwargs\u001b[0m\u001b[1;33m)\u001b[0m\u001b[1;33m\u001b[0m\u001b[0m\n\u001b[0m\u001b[0;32m     56\u001b[0m         \u001b[1;32mfinally\u001b[0m\u001b[1;33m:\u001b[0m\u001b[1;33m\u001b[0m\u001b[0m\n\u001b[0;32m     57\u001b[0m             \u001b[1;32mif\u001b[0m \u001b[0martist\u001b[0m\u001b[1;33m.\u001b[0m\u001b[0mget_agg_filter\u001b[0m\u001b[1;33m(\u001b[0m\u001b[1;33m)\u001b[0m \u001b[1;32mis\u001b[0m \u001b[1;32mnot\u001b[0m \u001b[1;32mNone\u001b[0m\u001b[1;33m:\u001b[0m\u001b[1;33m\u001b[0m\u001b[0m\n",
      "\u001b[1;32mC:\\ProgramData\\Anaconda3\\lib\\site-packages\\matplotlib\\patches.py\u001b[0m in \u001b[0;36mdraw\u001b[1;34m(self, renderer)\u001b[0m\n\u001b[0;32m    564\u001b[0m \u001b[1;33m\u001b[0m\u001b[0m\n\u001b[0;32m    565\u001b[0m         \u001b[0mpath\u001b[0m \u001b[1;33m=\u001b[0m \u001b[0mself\u001b[0m\u001b[1;33m.\u001b[0m\u001b[0mget_path\u001b[0m\u001b[1;33m(\u001b[0m\u001b[1;33m)\u001b[0m\u001b[1;33m\u001b[0m\u001b[0m\n\u001b[1;32m--> 566\u001b[1;33m         \u001b[0mtransform\u001b[0m \u001b[1;33m=\u001b[0m \u001b[0mself\u001b[0m\u001b[1;33m.\u001b[0m\u001b[0mget_transform\u001b[0m\u001b[1;33m(\u001b[0m\u001b[1;33m)\u001b[0m\u001b[1;33m\u001b[0m\u001b[0m\n\u001b[0m\u001b[0;32m    567\u001b[0m         \u001b[0mtpath\u001b[0m \u001b[1;33m=\u001b[0m \u001b[0mtransform\u001b[0m\u001b[1;33m.\u001b[0m\u001b[0mtransform_path_non_affine\u001b[0m\u001b[1;33m(\u001b[0m\u001b[0mpath\u001b[0m\u001b[1;33m)\u001b[0m\u001b[1;33m\u001b[0m\u001b[0m\n\u001b[0;32m    568\u001b[0m         \u001b[0maffine\u001b[0m \u001b[1;33m=\u001b[0m \u001b[0mtransform\u001b[0m\u001b[1;33m.\u001b[0m\u001b[0mget_affine\u001b[0m\u001b[1;33m(\u001b[0m\u001b[1;33m)\u001b[0m\u001b[1;33m\u001b[0m\u001b[0m\n",
      "\u001b[1;32mC:\\ProgramData\\Anaconda3\\lib\\site-packages\\matplotlib\\patches.py\u001b[0m in \u001b[0;36mget_transform\u001b[1;34m(self)\u001b[0m\n\u001b[0;32m    219\u001b[0m         \u001b[0mto\u001b[0m \u001b[0mthe\u001b[0m \u001b[1;33m:\u001b[0m\u001b[1;32mclass\u001b[0m\u001b[1;33m:\u001b[0m\u001b[0;31m`\u001b[0m\u001b[0mPatch\u001b[0m\u001b[0;31m`\u001b[0m\u001b[1;33m.\u001b[0m\u001b[1;33m\u001b[0m\u001b[0m\n\u001b[0;32m    220\u001b[0m         \"\"\"\n\u001b[1;32m--> 221\u001b[1;33m         \u001b[1;32mreturn\u001b[0m \u001b[0mself\u001b[0m\u001b[1;33m.\u001b[0m\u001b[0mget_patch_transform\u001b[0m\u001b[1;33m(\u001b[0m\u001b[1;33m)\u001b[0m \u001b[1;33m+\u001b[0m \u001b[0martist\u001b[0m\u001b[1;33m.\u001b[0m\u001b[0mArtist\u001b[0m\u001b[1;33m.\u001b[0m\u001b[0mget_transform\u001b[0m\u001b[1;33m(\u001b[0m\u001b[0mself\u001b[0m\u001b[1;33m)\u001b[0m\u001b[1;33m\u001b[0m\u001b[0m\n\u001b[0m\u001b[0;32m    222\u001b[0m \u001b[1;33m\u001b[0m\u001b[0m\n\u001b[0;32m    223\u001b[0m     \u001b[1;32mdef\u001b[0m \u001b[0mget_data_transform\u001b[0m\u001b[1;33m(\u001b[0m\u001b[0mself\u001b[0m\u001b[1;33m)\u001b[0m\u001b[1;33m:\u001b[0m\u001b[1;33m\u001b[0m\u001b[0m\n",
      "\u001b[1;32mC:\\ProgramData\\Anaconda3\\lib\\site-packages\\matplotlib\\patches.py\u001b[0m in \u001b[0;36mget_patch_transform\u001b[1;34m(self)\u001b[0m\n\u001b[0;32m    720\u001b[0m \u001b[1;33m\u001b[0m\u001b[0m\n\u001b[0;32m    721\u001b[0m     \u001b[1;32mdef\u001b[0m \u001b[0mget_patch_transform\u001b[0m\u001b[1;33m(\u001b[0m\u001b[0mself\u001b[0m\u001b[1;33m)\u001b[0m\u001b[1;33m:\u001b[0m\u001b[1;33m\u001b[0m\u001b[0m\n\u001b[1;32m--> 722\u001b[1;33m         \u001b[0mself\u001b[0m\u001b[1;33m.\u001b[0m\u001b[0m_update_patch_transform\u001b[0m\u001b[1;33m(\u001b[0m\u001b[1;33m)\u001b[0m\u001b[1;33m\u001b[0m\u001b[0m\n\u001b[0m\u001b[0;32m    723\u001b[0m         \u001b[1;32mreturn\u001b[0m \u001b[0mself\u001b[0m\u001b[1;33m.\u001b[0m\u001b[0m_rect_transform\u001b[0m\u001b[1;33m\u001b[0m\u001b[0m\n\u001b[0;32m    724\u001b[0m \u001b[1;33m\u001b[0m\u001b[0m\n",
      "\u001b[1;32mC:\\ProgramData\\Anaconda3\\lib\\site-packages\\matplotlib\\patches.py\u001b[0m in \u001b[0;36m_update_patch_transform\u001b[1;34m(self)\u001b[0m\n\u001b[0;32m    715\u001b[0m         \u001b[0mbbox\u001b[0m \u001b[1;33m=\u001b[0m \u001b[0mtransforms\u001b[0m\u001b[1;33m.\u001b[0m\u001b[0mBbox\u001b[0m\u001b[1;33m.\u001b[0m\u001b[0mfrom_bounds\u001b[0m\u001b[1;33m(\u001b[0m\u001b[0mx\u001b[0m\u001b[1;33m,\u001b[0m \u001b[0my\u001b[0m\u001b[1;33m,\u001b[0m \u001b[0mwidth\u001b[0m\u001b[1;33m,\u001b[0m \u001b[0mheight\u001b[0m\u001b[1;33m)\u001b[0m\u001b[1;33m\u001b[0m\u001b[0m\n\u001b[0;32m    716\u001b[0m         \u001b[0mrot_trans\u001b[0m \u001b[1;33m=\u001b[0m \u001b[0mtransforms\u001b[0m\u001b[1;33m.\u001b[0m\u001b[0mAffine2D\u001b[0m\u001b[1;33m(\u001b[0m\u001b[1;33m)\u001b[0m\u001b[1;33m\u001b[0m\u001b[0m\n\u001b[1;32m--> 717\u001b[1;33m         \u001b[0mrot_trans\u001b[0m\u001b[1;33m.\u001b[0m\u001b[0mrotate_deg_around\u001b[0m\u001b[1;33m(\u001b[0m\u001b[0mx\u001b[0m\u001b[1;33m,\u001b[0m \u001b[0my\u001b[0m\u001b[1;33m,\u001b[0m \u001b[0mself\u001b[0m\u001b[1;33m.\u001b[0m\u001b[0mangle\u001b[0m\u001b[1;33m)\u001b[0m\u001b[1;33m\u001b[0m\u001b[0m\n\u001b[0m\u001b[0;32m    718\u001b[0m         \u001b[0mself\u001b[0m\u001b[1;33m.\u001b[0m\u001b[0m_rect_transform\u001b[0m \u001b[1;33m=\u001b[0m \u001b[0mtransforms\u001b[0m\u001b[1;33m.\u001b[0m\u001b[0mBboxTransformTo\u001b[0m\u001b[1;33m(\u001b[0m\u001b[0mbbox\u001b[0m\u001b[1;33m)\u001b[0m\u001b[1;33m\u001b[0m\u001b[0m\n\u001b[0;32m    719\u001b[0m         \u001b[0mself\u001b[0m\u001b[1;33m.\u001b[0m\u001b[0m_rect_transform\u001b[0m \u001b[1;33m+=\u001b[0m \u001b[0mrot_trans\u001b[0m\u001b[1;33m\u001b[0m\u001b[0m\n",
      "\u001b[1;32mC:\\ProgramData\\Anaconda3\\lib\\site-packages\\matplotlib\\transforms.py\u001b[0m in \u001b[0;36mrotate_deg_around\u001b[1;34m(self, x, y, degrees)\u001b[0m\n\u001b[0;32m   2036\u001b[0m         \u001b[1;31m# Cast to float to avoid wraparound issues with uint8's\u001b[0m\u001b[1;33m\u001b[0m\u001b[1;33m\u001b[0m\u001b[0m\n\u001b[0;32m   2037\u001b[0m         \u001b[0mx\u001b[0m\u001b[1;33m,\u001b[0m \u001b[0my\u001b[0m \u001b[1;33m=\u001b[0m \u001b[0mfloat\u001b[0m\u001b[1;33m(\u001b[0m\u001b[0mx\u001b[0m\u001b[1;33m)\u001b[0m\u001b[1;33m,\u001b[0m \u001b[0mfloat\u001b[0m\u001b[1;33m(\u001b[0m\u001b[0my\u001b[0m\u001b[1;33m)\u001b[0m\u001b[1;33m\u001b[0m\u001b[0m\n\u001b[1;32m-> 2038\u001b[1;33m         \u001b[1;32mreturn\u001b[0m \u001b[0mself\u001b[0m\u001b[1;33m.\u001b[0m\u001b[0mtranslate\u001b[0m\u001b[1;33m(\u001b[0m\u001b[1;33m-\u001b[0m\u001b[0mx\u001b[0m\u001b[1;33m,\u001b[0m \u001b[1;33m-\u001b[0m\u001b[0my\u001b[0m\u001b[1;33m)\u001b[0m\u001b[1;33m.\u001b[0m\u001b[0mrotate_deg\u001b[0m\u001b[1;33m(\u001b[0m\u001b[0mdegrees\u001b[0m\u001b[1;33m)\u001b[0m\u001b[1;33m.\u001b[0m\u001b[0mtranslate\u001b[0m\u001b[1;33m(\u001b[0m\u001b[0mx\u001b[0m\u001b[1;33m,\u001b[0m \u001b[0my\u001b[0m\u001b[1;33m)\u001b[0m\u001b[1;33m\u001b[0m\u001b[0m\n\u001b[0m\u001b[0;32m   2039\u001b[0m \u001b[1;33m\u001b[0m\u001b[0m\n\u001b[0;32m   2040\u001b[0m     \u001b[1;32mdef\u001b[0m \u001b[0mtranslate\u001b[0m\u001b[1;33m(\u001b[0m\u001b[0mself\u001b[0m\u001b[1;33m,\u001b[0m \u001b[0mtx\u001b[0m\u001b[1;33m,\u001b[0m \u001b[0mty\u001b[0m\u001b[1;33m)\u001b[0m\u001b[1;33m:\u001b[0m\u001b[1;33m\u001b[0m\u001b[0m\n",
      "\u001b[1;32mC:\\ProgramData\\Anaconda3\\lib\\site-packages\\matplotlib\\transforms.py\u001b[0m in \u001b[0;36mtranslate\u001b[1;34m(self, tx, ty)\u001b[0m\n\u001b[0;32m   2048\u001b[0m         translate_mtx = np.array(\n\u001b[0;32m   2049\u001b[0m             [[1.0, 0.0, tx], [0.0, 1.0, ty], [0.0, 0.0, 1.0]], float)\n\u001b[1;32m-> 2050\u001b[1;33m         \u001b[0mself\u001b[0m\u001b[1;33m.\u001b[0m\u001b[0m_mtx\u001b[0m \u001b[1;33m=\u001b[0m \u001b[0mnp\u001b[0m\u001b[1;33m.\u001b[0m\u001b[0mdot\u001b[0m\u001b[1;33m(\u001b[0m\u001b[0mtranslate_mtx\u001b[0m\u001b[1;33m,\u001b[0m \u001b[0mself\u001b[0m\u001b[1;33m.\u001b[0m\u001b[0m_mtx\u001b[0m\u001b[1;33m)\u001b[0m\u001b[1;33m\u001b[0m\u001b[0m\n\u001b[0m\u001b[0;32m   2051\u001b[0m         \u001b[0mself\u001b[0m\u001b[1;33m.\u001b[0m\u001b[0minvalidate\u001b[0m\u001b[1;33m(\u001b[0m\u001b[1;33m)\u001b[0m\u001b[1;33m\u001b[0m\u001b[0m\n\u001b[0;32m   2052\u001b[0m         \u001b[1;32mreturn\u001b[0m \u001b[0mself\u001b[0m\u001b[1;33m\u001b[0m\u001b[0m\n",
      "\u001b[1;31mKeyboardInterrupt\u001b[0m: "
     ]
    }
   ],
   "source": [
    "df.groupby(['authors'])['y'].mean().head().plot(kind='bar')\n",
    "\n",
    "plt.show()"
   ]
  },
  {
   "cell_type": "code",
   "execution_count": 342,
   "metadata": {},
   "outputs": [
    {
     "data": {
      "text/plain": [
       "<matplotlib.axes._subplots.AxesSubplot at 0x1381d74b240>"
      ]
     },
     "execution_count": 342,
     "metadata": {},
     "output_type": "execute_result"
    },
    {
     "data": {
      "image/png": "[encoded data removed]",
      "text/plain": [
       "<matplotlib.figure.Figure at 0x137e58adf98>"
      ]
     },
     "metadata": {},
     "output_type": "display_data"
    }
   ],
   "source": [
    "sns.countplot(x=\"y\", data=df[df[\"y\"]<2])"
   ]
  },
  {
   "cell_type": "code",
   "execution_count": 348,
   "metadata": {},
   "outputs": [
    {
     "data": {
      "text/plain": [
       "authors\n",
       "https://1927-the-diary-of-myles-thomas.espn.com/@1927dmtTeam      1.05935\n",
       "https://1927-the-diary-of-myles-thomas.espn.com/@MylesThomas27    2.52493\n",
       "https://42hire.com/@GusRazzetti                                   4.89784\n",
       "https://42hire.com/@danielvlopes                                  3.78419\n",
       "https://42hire.com/@marieburns                                    2.39790\n",
       "Name: y, dtype: float64"
      ]
     },
     "execution_count": 348,
     "metadata": {},
     "output_type": "execute_result"
    }
   ],
   "source": [
    "df.groupby(['authors'])['y'].mean().head()"
   ]
  },
  {
   "cell_type": "code",
   "execution_count": 349,
   "metadata": {},
   "outputs": [
    {
     "data": {
      "application/vnd.jupyter.widget-view+json": {
       "model_id": "dcab4274241549b9b6693083de717dbb",
       "version_major": 2,
       "version_minor": 0
      },
      "text/plain": [
       "A Jupyter Widget"
      ]
     },
     "metadata": {},
     "output_type": "display_data"
    },
    {
     "name": "stdout",
     "output_type": "stream",
     "text": [
      "\n"
     ]
    }
   ],
   "source": [
    "authors_test = get_author((os.path.join(PATH_TO_DATA,'test.json')))"
   ]
  },
  {
   "cell_type": "code",
   "execution_count": 351,
   "metadata": {},
   "outputs": [
    {
     "data": {
      "text/plain": [
       "pandas.core.series.Series"
      ]
     },
     "execution_count": 351,
     "metadata": {},
     "output_type": "execute_result"
    }
   ],
   "source": [
    "type(df[\"authors\"])"
   ]
  },
  {
   "cell_type": "code",
   "execution_count": 360,
   "metadata": {},
   "outputs": [
    {
     "data": {
      "text/plain": [
       "(32182,)"
      ]
     },
     "execution_count": 360,
     "metadata": {},
     "output_type": "execute_result"
    }
   ],
   "source": [
    "df[\"authors\"].value_counts().shape"
   ]
  },
  {
   "cell_type": "code",
   "execution_count": 359,
   "metadata": {},
   "outputs": [
    {
     "data": {
      "text/plain": [
       "(62313, 9)"
      ]
     },
     "execution_count": 359,
     "metadata": {},
     "output_type": "execute_result"
    }
   ],
   "source": [
    "df.shape"
   ]
  },
  {
   "cell_type": "code",
   "execution_count": 358,
   "metadata": {},
   "outputs": [
    {
     "data": {
      "text/plain": [
       "(62313, 50000)"
      ]
     },
     "execution_count": 358,
     "metadata": {},
     "output_type": "execute_result"
    }
   ],
   "source": [
    "X_train.shape"
   ]
  },
  {
   "cell_type": "code",
   "execution_count": 364,
   "metadata": {},
   "outputs": [
    {
     "data": {
      "text/plain": [
       "62313"
      ]
     },
     "execution_count": 364,
     "metadata": {},
     "output_type": "execute_result"
    }
   ],
   "source": [
    "df[\"authors\"].shape[0]"
   ]
  },
  {
   "cell_type": "code",
   "execution_count": 401,
   "metadata": {
    "collapsed": true
   },
   "outputs": [],
   "source": [
    "X_train_author = csr_matrix(hstack([X_train, csr_matrix(pd.get_dummies(df[\"authors\"]))]))"
   ]
  },
  {
   "cell_type": "code",
   "execution_count": null,
   "metadata": {
    "collapsed": true
   },
   "outputs": [],
   "source": [
    "X_test_author = csr_matrix(hstack([X_train, csr_matrix(pd.get_dummies(df[\"authors\"]))]))"
   ]
  },
  {
   "cell_type": "code",
   "execution_count": 400,
   "metadata": {},
   "outputs": [
    {
     "data": {
      "text/plain": [
       "<62313x32182 sparse matrix of type '<class 'numpy.uint8'>'\n",
       "\twith 62313 stored elements in Compressed Sparse Row format>"
      ]
     },
     "execution_count": 400,
     "metadata": {},
     "output_type": "execute_result"
    }
   ],
   "source": [
    "csr_matrix(pd.get_dummies(df[\"authors\"]))"
   ]
  },
  {
   "cell_type": "code",
   "execution_count": 402,
   "metadata": {},
   "outputs": [
    {
     "data": {
      "text/plain": [
       "(62313, 82182)"
      ]
     },
     "execution_count": 402,
     "metadata": {},
     "output_type": "execute_result"
    }
   ],
   "source": [
    "X_train_author.shape"
   ]
  },
  {
   "cell_type": "code",
   "execution_count": null,
   "metadata": {
    "collapsed": true
   },
   "outputs": [],
   "source": []
  },
  {
   "cell_type": "code",
   "execution_count": 368,
   "metadata": {
    "scrolled": true
   },
   "outputs": [],
   "source": [
    "authors_flatten = df[\"authors\"].values.flatten()"
   ]
  },
  {
   "cell_type": "code",
   "execution_count": null,
   "metadata": {
    "collapsed": true
   },
   "outputs": [],
   "source": []
  },
  {
   "cell_type": "code",
   "execution_count": null,
   "metadata": {
    "collapsed": true
   },
   "outputs": [],
   "source": []
  },
  {
   "cell_type": "code",
   "execution_count": null,
   "metadata": {
    "collapsed": true
   },
   "outputs": [],
   "source": []
  },
  {
   "cell_type": "code",
   "execution_count": null,
   "metadata": {
    "collapsed": true
   },
   "outputs": [],
   "source": []
  },
  {
   "cell_type": "code",
   "execution_count": 356,
   "metadata": {},
   "outputs": [
    {
     "data": {
      "text/plain": [
       "str"
      ]
     },
     "execution_count": 356,
     "metadata": {},
     "output_type": "execute_result"
    }
   ],
   "source": [
    "type(df[\"authors\"][0])"
   ]
  },
  {
   "cell_type": "code",
   "execution_count": null,
   "metadata": {
    "collapsed": true
   },
   "outputs": [],
   "source": []
  },
  {
   "cell_type": "code",
   "execution_count": null,
   "metadata": {
    "collapsed": true
   },
   "outputs": [],
   "source": []
  },
  {
   "cell_type": "code",
   "execution_count": 378,
   "metadata": {},
   "outputs": [
    {
     "data": {
      "text/plain": [
       "array([ 9.01201,  3.49651,  0.69315, ...,  3.55535,  1.09861,  4.43082])"
      ]
     },
     "execution_count": 378,
     "metadata": {},
     "output_type": "execute_result"
    }
   ],
   "source": [
    "y_train"
   ]
  },
  {
   "cell_type": "code",
   "execution_count": 374,
   "metadata": {},
   "outputs": [
    {
     "data": {
      "text/plain": [
       "array([ 3.66986609,  3.52842331,  2.60187292, ...,  2.93503284,\n",
       "        3.05119348,  3.6636343 ], dtype=float32)"
      ]
     },
     "execution_count": 374,
     "metadata": {},
     "output_type": "execute_result"
    }
   ],
   "source": [
    "xgb_test_pred"
   ]
  },
  {
   "cell_type": "code",
   "execution_count": null,
   "metadata": {
    "collapsed": true
   },
   "outputs": [],
   "source": []
  },
  {
   "cell_type": "code",
   "execution_count": 388,
   "metadata": {
    "collapsed": true
   },
   "outputs": [],
   "source": [
    "def to_log_value(item):\n",
    "    return np.log(np.round(np.exp(item)))"
   ]
  },
  {
   "cell_type": "code",
   "execution_count": 382,
   "metadata": {},
   "outputs": [
    {
     "data": {
      "text/plain": [
       "39.246649989505435"
      ]
     },
     "execution_count": 382,
     "metadata": {},
     "output_type": "execute_result"
    }
   ],
   "source": [
    "np.exp(3.66986609)"
   ]
  },
  {
   "cell_type": "code",
   "execution_count": 385,
   "metadata": {},
   "outputs": [
    {
     "data": {
      "text/plain": [
       "3.0"
      ]
     },
     "execution_count": 385,
     "metadata": {},
     "output_type": "execute_result"
    }
   ],
   "source": [
    "np.round(2.6)"
   ]
  },
  {
   "cell_type": "code",
   "execution_count": 387,
   "metadata": {},
   "outputs": [
    {
     "data": {
      "text/plain": [
       "1.0986122886681098"
      ]
     },
     "execution_count": 387,
     "metadata": {},
     "output_type": "execute_result"
    }
   ],
   "source": [
    "np.log(3)"
   ]
  },
  {
   "cell_type": "code",
   "execution_count": 392,
   "metadata": {
    "collapsed": true
   },
   "outputs": [],
   "source": [
    "xgb_test_pred_log = list(map(to_log_value, xgb_test_pred))"
   ]
  },
  {
   "cell_type": "code",
   "execution_count": 396,
   "metadata": {
    "collapsed": true
   },
   "outputs": [],
   "source": [
    "xgb_test_predh_log = list(map(to_log_value, xgb_test_predh))"
   ]
  },
  {
   "cell_type": "code",
   "execution_count": 397,
   "metadata": {
    "collapsed": true
   },
   "outputs": [],
   "source": [
    "write_submission_file(prediction=xgb_test_predh_log, \n",
    "                      filename='xgb_test_predh_log.csv')"
   ]
  },
  {
   "cell_type": "code",
   "execution_count": null,
   "metadata": {
    "collapsed": true
   },
   "outputs": [],
   "source": []
  },
  {
   "cell_type": "code",
   "execution_count": null,
   "metadata": {
    "collapsed": true
   },
   "outputs": [],
   "source": []
  },
  {
   "cell_type": "code",
   "execution_count": 405,
   "metadata": {
    "collapsed": true
   },
   "outputs": [],
   "source": [
    "train_part_size = int(0.7 * train_target.shape[0])\n",
    "X_train_author_part = X_train_author[:train_part_size, :]\n",
    "X_train_author_valid =  X_train_author[train_part_size:, :]"
   ]
  },
  {
   "cell_type": "code",
   "execution_count": null,
   "metadata": {
    "collapsed": true
   },
   "outputs": [],
   "source": []
  },
  {
   "cell_type": "code",
   "execution_count": null,
   "metadata": {
    "collapsed": true
   },
   "outputs": [],
   "source": []
  },
  {
   "cell_type": "code",
   "execution_count": null,
   "metadata": {
    "collapsed": true
   },
   "outputs": [],
   "source": []
  },
  {
   "cell_type": "code",
   "execution_count": null,
   "metadata": {
    "collapsed": true
   },
   "outputs": [],
   "source": []
  },
  {
   "cell_type": "code",
   "execution_count": 406,
   "metadata": {},
   "outputs": [
    {
     "name": "stdout",
     "output_type": "stream",
     "text": [
      "Wall time: 4min 18s\n"
     ]
    },
    {
     "data": {
      "text/plain": [
       "XGBRegressor(base_score=0.5, booster='gbtree', colsample_bylevel=1,\n",
       "       colsample_bytree=1, gamma=0, learning_rate=0.1, max_delta_step=0,\n",
       "       max_depth=3, min_child_weight=1, missing=None, n_estimators=100,\n",
       "       n_jobs=1, nthread=None, objective='reg:linear', random_state=0,\n",
       "       reg_alpha=0, reg_lambda=1, scale_pos_weight=1, seed=None,\n",
       "       silent=True, subsample=1)"
      ]
     },
     "execution_count": 406,
     "metadata": {},
     "output_type": "execute_result"
    }
   ],
   "source": [
    "%%time\n",
    "model.fit(X_train_author_part, y_train_part);"
   ]
  },
  {
   "cell_type": "code",
   "execution_count": 407,
   "metadata": {
    "collapsed": true
   },
   "outputs": [],
   "source": [
    "X_train_author_pred = model.predict(X_train_author_valid)"
   ]
  },
  {
   "cell_type": "code",
   "execution_count": 408,
   "metadata": {},
   "outputs": [
    {
     "data": {
      "text/plain": [
       "(1.2545363152006899, 2.5062122200506121)"
      ]
     },
     "execution_count": 408,
     "metadata": {},
     "output_type": "execute_result"
    }
   ],
   "source": [
    "valid_mae = mean_absolute_error(y_valid, X_train_author_pred)\n",
    "valid_mae, np.expm1(valid_mae)"
   ]
  },
  {
   "cell_type": "code",
   "execution_count": 409,
   "metadata": {},
   "outputs": [
    {
     "data": {
      "image/png": "[encoded data removed]",
      "text/plain": [
       "<matplotlib.figure.Figure at 0x137e385bf60>"
      ]
     },
     "metadata": {},
     "output_type": "display_data"
    }
   ],
   "source": [
    "plt.hist(y_valid, bins=30, alpha=.5, color='blue', label='true', range=(0,10));\n",
    "plt.hist(X_train_author_pred, bins=30, alpha=.5, color='green', label='pred', range=(0,10));\n",
    "plt.legend();"
   ]
  },
  {
   "cell_type": "code",
   "execution_count": null,
   "metadata": {
    "collapsed": true
   },
   "outputs": [],
   "source": []
  }
 ],
 "metadata": {
  "kernelspec": {
   "display_name": "Python 3",
   "language": "python",
   "name": "python3"
  },
  "language_info": {
   "codemirror_mode": {
    "name": "ipython",
    "version": 3
   },
   "file_extension": ".py",
   "mimetype": "text/x-python",
   "name": "python",
   "nbconvert_exporter": "python",
   "pygments_lexer": "ipython3",
   "version": "3.6.3"
  }
 },
 "nbformat": 4,
 "nbformat_minor": 1
}
