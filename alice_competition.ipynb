{
 "cells": [
  {
   "cell_type": "code",
   "execution_count": 1,
   "metadata": {
    "collapsed": true
   },
   "outputs": [],
   "source": [
    "import pickle\n",
    "import numpy as np\n",
    "import pandas as pd\n",
    "from scipy.sparse import csr_matrix, hstack\n",
    "from sklearn.preprocessing import StandardScaler\n",
    "from sklearn.metrics import roc_auc_score\n",
    "from sklearn.linear_model import LogisticRegression\n",
    "%matplotlib inline\n",
    "from matplotlib import pyplot as plt\n",
    "import seaborn as sns"
   ]
  },
  {
   "cell_type": "code",
   "execution_count": 4,
   "metadata": {},
   "outputs": [],
   "source": [
    "# загрузим обучающую и тестовую выборки\n",
    "train_df = pd.read_csv('../../data/train_sessions.csv',\n",
    "                       index_col='session_id')\n",
    "test_df = pd.read_csv('../../data/test_sessions.csv',\n",
    "                      index_col='session_id')\n",
    "\n",
    "# приведем колонки time1, ..., time10 к временному формату\n",
    "times = ['time%s' % i for i in range(1, 11)]\n",
    "train_df[times] = train_df[times].apply(pd.to_datetime)\n",
    "test_df[times] = test_df[times].apply(pd.to_datetime)\n",
    "\n",
    "# отсортируем данные по времени\n",
    "train_df = train_df.sort_values(by='time1')"
   ]
  },
  {
   "cell_type": "code",
   "execution_count": 5,
   "metadata": {},
   "outputs": [
    {
     "name": "stdout",
     "output_type": "stream",
     "text": [
      "всего сайтов: 48371\n"
     ]
    },
    {
     "data": {
      "text/html": [
       "<div>\n",
       "<style>\n",
       "    .dataframe thead tr:only-child th {\n",
       "        text-align: right;\n",
       "    }\n",
       "\n",
       "    .dataframe thead th {\n",
       "        text-align: left;\n",
       "    }\n",
       "\n",
       "    .dataframe tbody tr th {\n",
       "        vertical-align: top;\n",
       "    }\n",
       "</style>\n",
       "<table border=\"1\" class=\"dataframe\">\n",
       "  <thead>\n",
       "    <tr style=\"text-align: right;\">\n",
       "      <th></th>\n",
       "      <th>site</th>\n",
       "    </tr>\n",
       "  </thead>\n",
       "  <tbody>\n",
       "    <tr>\n",
       "      <th>25075</th>\n",
       "      <td>www.abmecatronique.com</td>\n",
       "    </tr>\n",
       "    <tr>\n",
       "      <th>13997</th>\n",
       "      <td>groups.live.com</td>\n",
       "    </tr>\n",
       "    <tr>\n",
       "      <th>42436</th>\n",
       "      <td>majeureliguefootball.wordpress.com</td>\n",
       "    </tr>\n",
       "    <tr>\n",
       "      <th>30911</th>\n",
       "      <td>cdt46.media.tourinsoft.eu</td>\n",
       "    </tr>\n",
       "    <tr>\n",
       "      <th>8104</th>\n",
       "      <td>www.hdwallpapers.eu</td>\n",
       "    </tr>\n",
       "  </tbody>\n",
       "</table>\n",
       "</div>"
      ],
      "text/plain": [
       "                                     site\n",
       "25075              www.abmecatronique.com\n",
       "13997                     groups.live.com\n",
       "42436  majeureliguefootball.wordpress.com\n",
       "30911           cdt46.media.tourinsoft.eu\n",
       "8104                  www.hdwallpapers.eu"
      ]
     },
     "execution_count": 5,
     "metadata": {},
     "output_type": "execute_result"
    }
   ],
   "source": [
    "# приведем колонки site1, ..., site10 к целочисленному формату и заменим пропуски нулями\n",
    "sites = ['site%s' % i for i in range(1, 11)]\n",
    "train_df[sites] = train_df[sites].fillna(0).astype('int')\n",
    "test_df[sites] = test_df[sites].fillna(0).astype('int')\n",
    "\n",
    "# загрузим словарик сайтов\n",
    "with open(r\"../../data/site_dic.pkl\", \"rb\") as input_file:\n",
    "    site_dict = pickle.load(input_file)\n",
    "\n",
    "# датафрейм словарика сайтов\n",
    "sites_dict_df = pd.DataFrame(list(site_dict.keys()), \n",
    "                          index=list(site_dict.values()), \n",
    "                          columns=['site'])\n",
    "\n",
    "print(u'всего сайтов:', sites_dict_df.shape[0])\n",
    "\n",
    "sites_dict_df.head()"
   ]
  },
  {
   "cell_type": "code",
   "execution_count": 6,
   "metadata": {
    "collapsed": true
   },
   "outputs": [],
   "source": [
    "# наша целевая переменная\n",
    "y_train = train_df['target']\n",
    "\n",
    "# объединенная таблица исходных данных\n",
    "full_df = pd.concat([train_df.drop('target', axis=1), test_df])\n",
    "\n",
    "# индекс, по которому будем отделять обучающую выборку от тестовой\n",
    "idx_split = train_df.shape[0]\n",
    "\n",
    "sites = ['site%d' % i for i in range(1, 11)]\n",
    "\n",
    "full_sites = full_df[sites]\n",
    "\n",
    "# последовательность с индексами\n",
    "sites_flatten = full_sites.values.flatten()\n",
    "\n",
    "# искомая матрица\n",
    "full_sites_sparse = csr_matrix(([1] * sites_flatten.shape[0],\n",
    "                                sites_flatten,\n",
    "                                range(0, sites_flatten.shape[0] + 10, 10)))[:, 1:]\n",
    "\n",
    "X_train_sparse = full_sites_sparse[:idx_split]\n",
    "X_test_sparse = full_sites_sparse[idx_split:]"
   ]
  },
  {
   "cell_type": "code",
   "execution_count": 7,
   "metadata": {
    "collapsed": true
   },
   "outputs": [],
   "source": [
    "from sklearn.model_selection import train_test_split, GridSearchCV"
   ]
  },
  {
   "cell_type": "code",
   "execution_count": 6,
   "metadata": {
    "collapsed": true
   },
   "outputs": [],
   "source": [
    "def get_auc_lr_valid(X, y, C=1.0, ratio = 0.9, seed=17):\n",
    "    '''\n",
    "    X, y – выборка\n",
    "    ratio – в каком отношении поделить выборку\n",
    "    C, seed – коэф-т регуляризации и random_state \n",
    "              логистической регрессии\n",
    "    '''\n",
    " #   train_len = int(ratio * X.shape[0])\n",
    " #   X_train = X[:train_len, :]\n",
    " #   X_valid = X[train_len:, :]\n",
    " #   y_train = y[:train_len]\n",
    "#    y_valid = y[train_len:]\n",
    "    X_train, X_valid, y_train, y_valid = train_test_split(X, y, test_size=1-ratio,random_state=seed)\n",
    "    logit = LogisticRegression(C=C, n_jobs=-1, random_state=seed)\n",
    "    \n",
    "    logit.fit(X_train, y_train)\n",
    "    \n",
    "    valid_pred = logit.predict_proba(X_valid)[:, 1]\n",
    "    \n",
    "    return roc_auc_score(y_valid, valid_pred)"
   ]
  },
  {
   "cell_type": "code",
   "execution_count": 7,
   "metadata": {},
   "outputs": [
    {
     "data": {
      "text/plain": [
       "0.96433761440091936"
      ]
     },
     "execution_count": 7,
     "metadata": {},
     "output_type": "execute_result"
    }
   ],
   "source": [
    "get_auc_lr_valid(X_train_sparse, y_train, ratio = 0.9)"
   ]
  },
  {
   "cell_type": "code",
   "execution_count": 8,
   "metadata": {
    "collapsed": true
   },
   "outputs": [],
   "source": [
    "# функция для записи прогнозов в файл\n",
    "def write_to_submission_file(predicted_labels, out_file,\n",
    "                             target='target', index_label=\"session_id\"):\n",
    "    predicted_df = pd.DataFrame(predicted_labels,\n",
    "                                index = np.arange(1, predicted_labels.shape[0] + 1),\n",
    "                                columns=[target])\n",
    "    predicted_df.to_csv(out_file, index_label=index_label)"
   ]
  },
  {
   "cell_type": "code",
   "execution_count": 9,
   "metadata": {
    "collapsed": true
   },
   "outputs": [],
   "source": [
    "new_feat_train = pd.DataFrame(index=train_df.index)\n",
    "new_feat_test = pd.DataFrame(index=test_df.index)"
   ]
  },
  {
   "cell_type": "code",
   "execution_count": 11,
   "metadata": {
    "collapsed": true
   },
   "outputs": [],
   "source": [
    "new_feat_train['alice_tminutes'] = train_df['time1'].apply(lambda ts: 1 if (ts.hour*60+ts.minute >= 723 and ts.hour*60+ts.minute <=832) or (ts.hour*60+ts.minute >= 954 and ts.hour*60+ts.minute <=1100) else 0)\n",
    "new_feat_test['alice_tminutes'] = test_df['time1'].apply(lambda ts: 1 if (ts.hour*60+ts.minute >= 723 and ts.hour*60+ts.minute <=832) or (ts.hour*60+ts.minute >= 954 and ts.hour*60+ts.minute <=1100) else 0)\n"
   ]
  },
  {
   "cell_type": "code",
   "execution_count": 11,
   "metadata": {
    "collapsed": true
   },
   "outputs": [],
   "source": [
    "X_train_sparse_alicemin = csr_matrix(hstack([X_train_sparse, \n",
    "                             new_feat_train['alice_tminutes'].values.reshape(-1, 1)]))\n",
    "X_test_sparse_alicemin  = csr_matrix(hstack([X_test_sparse, \n",
    "                             new_feat_test['alice_tminutes'].values.reshape(-1, 1)]))"
   ]
  },
  {
   "cell_type": "code",
   "execution_count": 12,
   "metadata": {},
   "outputs": [
    {
     "data": {
      "text/plain": [
       "0.98650035989731588"
      ]
     },
     "execution_count": 12,
     "metadata": {},
     "output_type": "execute_result"
    }
   ],
   "source": [
    "get_auc_lr_valid(X_train_sparse_alicemin, y_train)"
   ]
  },
  {
   "cell_type": "code",
   "execution_count": 12,
   "metadata": {},
   "outputs": [],
   "source": [
    "new_feat_train['alice_tminutes2'] = train_df['time1'].apply(lambda ts: 1 if (ts.hour*60+ts.minute >= 723 and ts.hour*60+ts.minute <=832) or (ts.hour*60+ts.minute >= 954 and ts.hour*60+ts.minute <=1100) or (ts.hour*60+ts.minute >= 548 and ts.hour*60+ts.minute <=559) else 0)\n",
    "new_feat_test['alice_tminutes2'] = test_df['time1'].apply(lambda ts: 1 if (ts.hour*60+ts.minute >= 723 and ts.hour*60+ts.minute <=832) or (ts.hour*60+ts.minute >= 954 and ts.hour*60+ts.minute <=1100) or (ts.hour*60+ts.minute >= 548 and ts.hour*60+ts.minute <=559) else 0)\n"
   ]
  },
  {
   "cell_type": "code",
   "execution_count": 14,
   "metadata": {
    "collapsed": true
   },
   "outputs": [],
   "source": [
    "X_train_sparse_alicemin2 = csr_matrix(hstack([X_train_sparse, \n",
    "                             new_feat_train['alice_tminutes2'].values.reshape(-1, 1)]))\n",
    "X_test_sparse_alicemin2  = csr_matrix(hstack([X_test_sparse, \n",
    "                             new_feat_test['alice_tminutes2'].values.reshape(-1, 1)]))"
   ]
  },
  {
   "cell_type": "code",
   "execution_count": 16,
   "metadata": {},
   "outputs": [
    {
     "data": {
      "text/plain": [
       "0.98708576028395223"
      ]
     },
     "execution_count": 16,
     "metadata": {},
     "output_type": "execute_result"
    }
   ],
   "source": [
    "get_auc_lr_valid(X_train_sparse_alicemin2, y_train)"
   ]
  },
  {
   "cell_type": "code",
   "execution_count": 13,
   "metadata": {
    "collapsed": true
   },
   "outputs": [],
   "source": [
    "new_feat_train['day0'] = train_df['time1'].apply(lambda ts: 1 if ts.weekday()==0 else 0)\n",
    "new_feat_test['day0'] = test_df['time1'].apply(lambda ts: 1 if ts.weekday()==0 else 0)\n",
    "\n",
    "new_feat_train['day1'] = train_df['time1'].apply(lambda ts: 1 if ts.weekday()==1 else 0)\n",
    "new_feat_test['day1'] = test_df['time1'].apply(lambda ts: 1 if ts.weekday()==1 else 0)\n",
    "\n",
    "new_feat_train['day2'] = train_df['time1'].apply(lambda ts: 1 if ts.weekday()==2 else 0)\n",
    "new_feat_test['day2'] = test_df['time1'].apply(lambda ts: 1 if ts.weekday()==2 else 0)\n",
    "\n",
    "new_feat_train['day3'] = train_df['time1'].apply(lambda ts: 1 if ts.weekday()==3 else 0)\n",
    "new_feat_test['day3'] = test_df['time1'].apply(lambda ts: 1 if ts.weekday()==3 else 0)\n",
    "\n",
    "new_feat_train['day4'] = train_df['time1'].apply(lambda ts: 1 if ts.weekday()==4 else 0)\n",
    "new_feat_test['day4'] = test_df['time1'].apply(lambda ts: 1 if ts.weekday()==4 else 0)\n",
    "\n",
    "new_feat_train['day5'] = train_df['time1'].apply(lambda ts: 1 if ts.weekday()==5 else 0)\n",
    "new_feat_test['day5'] = test_df['time1'].apply(lambda ts: 1 if ts.weekday()==5 else 0)"
   ]
  },
  {
   "cell_type": "code",
   "execution_count": 18,
   "metadata": {
    "collapsed": true
   },
   "outputs": [],
   "source": [
    "X_train_sparse_alicemin2_dayall = csr_matrix(hstack([X_train_sparse_alicemin2, \n",
    "                            new_feat_train['day0'].values.reshape(-1, 1),\n",
    "                            new_feat_train['day1'].values.reshape(-1, 1),\n",
    "                            new_feat_train['day2'].values.reshape(-1, 1),\n",
    "                            new_feat_train['day3'].values.reshape(-1, 1),\n",
    "                            new_feat_train['day4'].values.reshape(-1, 1),\n",
    "                            new_feat_train['day5'].values.reshape(-1, 1)\n",
    "                                                                                  ]\n",
    "                                                      ))\n",
    "X_test_sparse_alicemin2_dayall = csr_matrix(hstack([X_test_sparse_alicemin2, \n",
    "                            new_feat_test['day0'].values.reshape(-1, 1),\n",
    "                            new_feat_test['day1'].values.reshape(-1, 1),\n",
    "                            new_feat_test['day2'].values.reshape(-1, 1),\n",
    "                            new_feat_test['day3'].values.reshape(-1, 1),\n",
    "                            new_feat_test['day4'].values.reshape(-1, 1),\n",
    "                            new_feat_test['day5'].values.reshape(-1, 1)\n",
    "                                                                                 ]\n",
    "                                                      ))"
   ]
  },
  {
   "cell_type": "code",
   "execution_count": 19,
   "metadata": {},
   "outputs": [
    {
     "data": {
      "text/plain": [
       "0.9910118176175845"
      ]
     },
     "execution_count": 19,
     "metadata": {},
     "output_type": "execute_result"
    }
   ],
   "source": [
    "get_auc_lr_valid(X_train_sparse_alicemin2_dayall, y_train)"
   ]
  },
  {
   "cell_type": "code",
   "execution_count": 20,
   "metadata": {},
   "outputs": [
    {
     "data": {
      "text/plain": [
       "0.9910118176175845"
      ]
     },
     "execution_count": 20,
     "metadata": {},
     "output_type": "execute_result"
    }
   ],
   "source": [
    "get_auc_lr_valid(X_train_sparse_alicemin2_dayall, y_train, ratio=0.9)"
   ]
  },
  {
   "cell_type": "code",
   "execution_count": 14,
   "metadata": {
    "collapsed": true
   },
   "outputs": [],
   "source": [
    "new_feat_train['alice_morning_minutes'] = train_df['time1'].apply(lambda ts: 1 if (ts.hour*60+ts.minute >= 548 and ts.hour*60+ts.minute <=559) else 0)\n",
    "new_feat_test['alice_morning_minutes'] = test_df['time1'].apply(lambda ts: 1 if (ts.hour*60+ts.minute >= 548 and ts.hour*60+ts.minute <=559) else 0)\n"
   ]
  },
  {
   "cell_type": "code",
   "execution_count": 30,
   "metadata": {
    "collapsed": true
   },
   "outputs": [],
   "source": [
    "X_train_sparse_alicemin2_dayall_morningMinutes = csr_matrix(hstack([X_train_sparse_alicemin2_dayall, \n",
    "                             new_feat_train['alice_morning_minutes'].values.reshape(-1, 1)]))\n",
    "X_test_sparse_alicemin2_dayall_morningMinutes = csr_matrix(hstack([X_test_sparse_alicemin2_dayall, \n",
    "                             new_feat_test['alice_morning_minutes'].values.reshape(-1, 1)]))"
   ]
  },
  {
   "cell_type": "code",
   "execution_count": 24,
   "metadata": {},
   "outputs": [
    {
     "data": {
      "text/plain": [
       "0.99119403526923877"
      ]
     },
     "execution_count": 24,
     "metadata": {},
     "output_type": "execute_result"
    }
   ],
   "source": [
    "get_auc_lr_valid(X_train_sparse_alicemin2_dayall_morningMinutes, y_train, ratio=0.9)"
   ]
  },
  {
   "cell_type": "code",
   "execution_count": 28,
   "metadata": {
    "collapsed": true
   },
   "outputs": [],
   "source": [
    "train_df['months_count'] = train_df['time1'].apply(lambda ts: 12 * ts.year + ts.month)\n",
    "test_df['months_count'] = test_df['time1'].apply(lambda ts: 12 * ts.year + ts.month)"
   ]
  },
  {
   "cell_type": "code",
   "execution_count": null,
   "metadata": {
    "collapsed": true
   },
   "outputs": [],
   "source": []
  },
  {
   "cell_type": "code",
   "execution_count": 31,
   "metadata": {
    "collapsed": true
   },
   "outputs": [],
   "source": []
  },
  {
   "cell_type": "code",
   "execution_count": 32,
   "metadata": {},
   "outputs": [
    {
     "data": {
      "text/plain": [
       "0.99287326517974273"
      ]
     },
     "execution_count": 32,
     "metadata": {},
     "output_type": "execute_result"
    }
   ],
   "source": [
    "get_auc_lr_valid(X_train_sparse_alicemin2_dayall_alicem3, y_train, ratio=0.9)"
   ]
  },
  {
   "cell_type": "code",
   "execution_count": 34,
   "metadata": {},
   "outputs": [
    {
     "data": {
      "text/html": [
       "<div>\n",
       "<style>\n",
       "    .dataframe thead tr:only-child th {\n",
       "        text-align: right;\n",
       "    }\n",
       "\n",
       "    .dataframe thead th {\n",
       "        text-align: left;\n",
       "    }\n",
       "\n",
       "    .dataframe tbody tr th {\n",
       "        vertical-align: top;\n",
       "    }\n",
       "</style>\n",
       "<table border=\"1\" class=\"dataframe\">\n",
       "  <thead>\n",
       "    <tr style=\"text-align: right;\">\n",
       "      <th></th>\n",
       "      <th>alice_tminutes</th>\n",
       "      <th>alice_tminutes2</th>\n",
       "      <th>day0</th>\n",
       "      <th>day1</th>\n",
       "      <th>day2</th>\n",
       "      <th>day3</th>\n",
       "      <th>day4</th>\n",
       "      <th>day5</th>\n",
       "      <th>alice_morning_minutes</th>\n",
       "      <th>months_count</th>\n",
       "      <th>alice_month_24165</th>\n",
       "      <th>alice_month_24167</th>\n",
       "      <th>alice_month_24169</th>\n",
       "    </tr>\n",
       "    <tr>\n",
       "      <th>session_id</th>\n",
       "      <th></th>\n",
       "      <th></th>\n",
       "      <th></th>\n",
       "      <th></th>\n",
       "      <th></th>\n",
       "      <th></th>\n",
       "      <th></th>\n",
       "      <th></th>\n",
       "      <th></th>\n",
       "      <th></th>\n",
       "      <th></th>\n",
       "      <th></th>\n",
       "      <th></th>\n",
       "    </tr>\n",
       "  </thead>\n",
       "  <tbody>\n",
       "    <tr>\n",
       "      <th>21669</th>\n",
       "      <td>0</td>\n",
       "      <td>0</td>\n",
       "      <td>0</td>\n",
       "      <td>0</td>\n",
       "      <td>0</td>\n",
       "      <td>0</td>\n",
       "      <td>0</td>\n",
       "      <td>1</td>\n",
       "      <td>0</td>\n",
       "      <td>24157</td>\n",
       "      <td>False</td>\n",
       "      <td>False</td>\n",
       "      <td>False</td>\n",
       "    </tr>\n",
       "    <tr>\n",
       "      <th>54843</th>\n",
       "      <td>0</td>\n",
       "      <td>0</td>\n",
       "      <td>0</td>\n",
       "      <td>0</td>\n",
       "      <td>0</td>\n",
       "      <td>0</td>\n",
       "      <td>0</td>\n",
       "      <td>1</td>\n",
       "      <td>0</td>\n",
       "      <td>24157</td>\n",
       "      <td>False</td>\n",
       "      <td>False</td>\n",
       "      <td>False</td>\n",
       "    </tr>\n",
       "    <tr>\n",
       "      <th>77292</th>\n",
       "      <td>0</td>\n",
       "      <td>0</td>\n",
       "      <td>0</td>\n",
       "      <td>0</td>\n",
       "      <td>0</td>\n",
       "      <td>0</td>\n",
       "      <td>0</td>\n",
       "      <td>1</td>\n",
       "      <td>0</td>\n",
       "      <td>24157</td>\n",
       "      <td>False</td>\n",
       "      <td>False</td>\n",
       "      <td>False</td>\n",
       "    </tr>\n",
       "    <tr>\n",
       "      <th>114021</th>\n",
       "      <td>0</td>\n",
       "      <td>0</td>\n",
       "      <td>0</td>\n",
       "      <td>0</td>\n",
       "      <td>0</td>\n",
       "      <td>0</td>\n",
       "      <td>0</td>\n",
       "      <td>1</td>\n",
       "      <td>0</td>\n",
       "      <td>24157</td>\n",
       "      <td>False</td>\n",
       "      <td>False</td>\n",
       "      <td>False</td>\n",
       "    </tr>\n",
       "    <tr>\n",
       "      <th>146670</th>\n",
       "      <td>0</td>\n",
       "      <td>0</td>\n",
       "      <td>0</td>\n",
       "      <td>0</td>\n",
       "      <td>0</td>\n",
       "      <td>0</td>\n",
       "      <td>0</td>\n",
       "      <td>1</td>\n",
       "      <td>0</td>\n",
       "      <td>24157</td>\n",
       "      <td>False</td>\n",
       "      <td>False</td>\n",
       "      <td>False</td>\n",
       "    </tr>\n",
       "  </tbody>\n",
       "</table>\n",
       "</div>"
      ],
      "text/plain": [
       "            alice_tminutes  alice_tminutes2  day0  day1  day2  day3  day4  \\\n",
       "session_id                                                                  \n",
       "21669                    0                0     0     0     0     0     0   \n",
       "54843                    0                0     0     0     0     0     0   \n",
       "77292                    0                0     0     0     0     0     0   \n",
       "114021                   0                0     0     0     0     0     0   \n",
       "146670                   0                0     0     0     0     0     0   \n",
       "\n",
       "            day5  alice_morning_minutes  months_count  alice_month_24165  \\\n",
       "session_id                                                                 \n",
       "21669          1                      0         24157              False   \n",
       "54843          1                      0         24157              False   \n",
       "77292          1                      0         24157              False   \n",
       "114021         1                      0         24157              False   \n",
       "146670         1                      0         24157              False   \n",
       "\n",
       "            alice_month_24167  alice_month_24169  \n",
       "session_id                                        \n",
       "21669                   False              False  \n",
       "54843                   False              False  \n",
       "77292                   False              False  \n",
       "114021                  False              False  \n",
       "146670                  False              False  "
      ]
     },
     "execution_count": 34,
     "metadata": {},
     "output_type": "execute_result"
    }
   ],
   "source": [
    "new_feat_train.head()"
   ]
  },
  {
   "cell_type": "code",
   "execution_count": 15,
   "metadata": {
    "collapsed": true
   },
   "outputs": [],
   "source": [
    "new_feat_train['september'] = train_df['time1'].apply(lambda ts: 1 if ts.month == 9 else 0)\n",
    "new_feat_test['september'] = test_df['time1'].apply(lambda ts: 1 if ts.month == 9 else 0)"
   ]
  },
  {
   "cell_type": "code",
   "execution_count": 84,
   "metadata": {
    "collapsed": true
   },
   "outputs": [],
   "source": [
    "X_train_sparse_alicemin2_dayall_september = csr_matrix(hstack([X_train_sparse_alicemin2_dayall, \n",
    "                             new_feat_train['september'].values.reshape(-1, 1)]\n",
    "                                                      ))\n",
    "X_test_sparse_alicemin2_dayall_september  = csr_matrix(hstack([X_test_sparse_alicemin2_dayall, \n",
    "                              new_feat_test['september'].values.reshape(-1, 1)]\n",
    "                                                      ))"
   ]
  },
  {
   "cell_type": "code",
   "execution_count": null,
   "metadata": {
    "collapsed": true
   },
   "outputs": [],
   "source": []
  },
  {
   "cell_type": "code",
   "execution_count": 38,
   "metadata": {},
   "outputs": [
    {
     "data": {
      "text/plain": [
       "0.99286401466677554"
      ]
     },
     "execution_count": 38,
     "metadata": {},
     "output_type": "execute_result"
    }
   ],
   "source": [
    "get_auc_lr_valid(X_train_sparse_alicemin2_dayall_alicem3_september, y_train, ratio=0.9)"
   ]
  },
  {
   "cell_type": "code",
   "execution_count": 39,
   "metadata": {},
   "outputs": [
    {
     "data": {
      "text/plain": [
       "LogisticRegression(C=1.0, class_weight=None, dual=False, fit_intercept=True,\n",
       "          intercept_scaling=1, max_iter=100, multi_class='ovr', n_jobs=-1,\n",
       "          penalty='l2', random_state=17, solver='liblinear', tol=0.0001,\n",
       "          verbose=0, warm_start=False)"
      ]
     },
     "execution_count": 39,
     "metadata": {},
     "output_type": "execute_result"
    }
   ],
   "source": [
    "logit = LogisticRegression(n_jobs=-1, random_state=17)\n",
    "logit.fit(X_train_sparse_alicemin2_dayall_alicem3, y_train)"
   ]
  },
  {
   "cell_type": "code",
   "execution_count": 41,
   "metadata": {
    "collapsed": true
   },
   "outputs": [],
   "source": [
    "test_pred = logit.predict_proba(X_test_sparse_alicemin2_dayall_alicem3)[:, 1]\n",
    "write_to_submission_file(test_pred, 'X_train_sparse_alicemin2_dayall_alicem3.csv')"
   ]
  },
  {
   "cell_type": "code",
   "execution_count": 44,
   "metadata": {
    "collapsed": true
   },
   "outputs": [],
   "source": [
    "time_split = TimeSeriesSplit(n_splits=10)"
   ]
  },
  {
   "cell_type": "code",
   "execution_count": 46,
   "metadata": {
    "scrolled": true
   },
   "outputs": [
    {
     "name": "stdout",
     "output_type": "stream",
     "text": [
      "Wall time: 1min\n"
     ]
    }
   ],
   "source": [
    "%%time\n",
    "\n",
    "cv_scores = cross_val_score(logit, X_train_sparse_alicemin2_dayall_alicem3, y_train, cv=time_split, \n",
    "                            scoring='roc_auc', n_jobs=2) # hangs with n_jobs > 1, and locally this runs much faster"
   ]
  },
  {
   "cell_type": "code",
   "execution_count": 16,
   "metadata": {
    "collapsed": true
   },
   "outputs": [],
   "source": [
    "# Import libraries and set desired options\n",
    "import numpy as np\n",
    "import pandas as pd\n",
    "from scipy.sparse import hstack\n",
    "from sklearn.feature_extraction.text import CountVectorizer\n",
    "from sklearn.model_selection import TimeSeriesSplit, cross_val_score, GridSearchCV\n",
    "from sklearn.metrics import roc_auc_score\n",
    "from sklearn.linear_model import LogisticRegression"
   ]
  },
  {
   "cell_type": "code",
   "execution_count": 47,
   "metadata": {},
   "outputs": [
    {
     "data": {
      "text/plain": [
       "(array([ 0.91835528,  0.90208338,  0.93181089,  0.97220051,  0.9355704 ,\n",
       "         0.97387076,  0.89001493,  0.96327636,  0.92910777,  0.98050606]),\n",
       " 0.9396796338729283)"
      ]
     },
     "execution_count": 47,
     "metadata": {},
     "output_type": "execute_result"
    }
   ],
   "source": [
    "cv_scores, cv_scores.mean()"
   ]
  },
  {
   "cell_type": "code",
   "execution_count": 48,
   "metadata": {},
   "outputs": [
    {
     "name": "stdout",
     "output_type": "stream",
     "text": [
      "Wall time: 1min 9s\n"
     ]
    }
   ],
   "source": [
    "%%time\n",
    "\n",
    "cv_scores = cross_val_score(logit, X_train_sparse_alicemin2_dayall_alicem3_september, y_train, cv=time_split, \n",
    "                            scoring='roc_auc', n_jobs=-1) # hangs with n_jobs > 1, and locally this runs much faster"
   ]
  },
  {
   "cell_type": "code",
   "execution_count": 49,
   "metadata": {},
   "outputs": [
    {
     "data": {
      "text/plain": [
       "(array([ 0.92372709,  0.90397435,  0.93229476,  0.97240024,  0.93274822,\n",
       "         0.97392226,  0.88915592,  0.96335468,  0.92938396,  0.98052435]),\n",
       " 0.94014858373416565)"
      ]
     },
     "execution_count": 49,
     "metadata": {},
     "output_type": "execute_result"
    }
   ],
   "source": [
    "cv_scores, cv_scores.mean()"
   ]
  },
  {
   "cell_type": "code",
   "execution_count": 85,
   "metadata": {
    "collapsed": true
   },
   "outputs": [],
   "source": [
    "X_train_sparse_alicemin2_dayall_september_morningMinutes = csr_matrix(hstack([X_train_sparse_alicemin2_dayall_september, \n",
    "                             new_feat_train['alice_morning_minutes'].values.reshape(-1, 1)]))\n",
    "X_test_sparse_alicemin2_dayall_september_morningMinutes = csr_matrix(hstack([X_test_sparse_alicemin2_dayall_september, \n",
    "                             new_feat_test['alice_morning_minutes'].values.reshape(-1, 1)]))"
   ]
  },
  {
   "cell_type": "code",
   "execution_count": null,
   "metadata": {
    "collapsed": true
   },
   "outputs": [],
   "source": []
  },
  {
   "cell_type": "code",
   "execution_count": null,
   "metadata": {
    "collapsed": true
   },
   "outputs": [],
   "source": []
  },
  {
   "cell_type": "code",
   "execution_count": 51,
   "metadata": {},
   "outputs": [
    {
     "name": "stdout",
     "output_type": "stream",
     "text": [
      "Wall time: 1min 15s\n"
     ]
    }
   ],
   "source": [
    "%%time\n",
    "\n",
    "cv_scores = cross_val_score(logit, X_train_sparse_alicemin2_dayall_alicem3_september_morningMinutes, y_train, cv=time_split, \n",
    "                            scoring='roc_auc', n_jobs=-1) # hangs with n_jobs > 1, and locally this runs much faster"
   ]
  },
  {
   "cell_type": "code",
   "execution_count": 52,
   "metadata": {},
   "outputs": [
    {
     "data": {
      "text/plain": [
       "(array([ 0.91644317,  0.90382931,  0.93308655,  0.97293213,  0.93392838,\n",
       "         0.97505073,  0.8887795 ,  0.96575999,  0.93118757,  0.98118046]),\n",
       " 0.94021777941825613)"
      ]
     },
     "execution_count": 52,
     "metadata": {},
     "output_type": "execute_result"
    }
   ],
   "source": [
    "cv_scores, cv_scores.mean()"
   ]
  },
  {
   "cell_type": "code",
   "execution_count": 55,
   "metadata": {
    "collapsed": true
   },
   "outputs": [],
   "source": [
    "train_df['start_hour'] = train_df['time1'].apply(lambda ts: ts.hour)\n",
    "test_df['start_hour'] = test_df['time1'].apply(lambda ts: ts.hour)"
   ]
  },
  {
   "cell_type": "code",
   "execution_count": 18,
   "metadata": {
    "collapsed": true
   },
   "outputs": [],
   "source": [
    "train_df['month'] = train_df['time1'].apply(lambda ts: ts.month)\n",
    "test_df['month'] = test_df['time1'].apply(lambda ts: ts.month)"
   ]
  },
  {
   "cell_type": "code",
   "execution_count": 64,
   "metadata": {},
   "outputs": [
    {
     "data": {
      "text/plain": [
       "<matplotlib.axes._subplots.AxesSubplot at 0x185d8ac8>"
      ]
     },
     "execution_count": 64,
     "metadata": {},
     "output_type": "execute_result"
    },
    {
     "data": {
      "image/png": "[encoded data removed]",
      "text/plain": [
       "<matplotlib.figure.Figure at 0x1792e390>"
      ]
     },
     "metadata": {},
     "output_type": "display_data"
    }
   ],
   "source": [
    "sns.countplot(x=\"start_hour\", hue=\"target\", data=train_df[(train_df['target']==1) & (train_df['year']<2014)])"
   ]
  },
  {
   "cell_type": "code",
   "execution_count": 66,
   "metadata": {},
   "outputs": [
    {
     "data": {
      "text/plain": [
       "<matplotlib.axes._subplots.AxesSubplot at 0x1774b9e8>"
      ]
     },
     "execution_count": 66,
     "metadata": {},
     "output_type": "execute_result"
    },
    {
     "data": {
      "image/png": "[encoded data removed]",
      "text/plain": [
       "<matplotlib.figure.Figure at 0x17519860>"
      ]
     },
     "metadata": {},
     "output_type": "display_data"
    }
   ],
   "source": [
    "sns.countplot(x=\"start_hour\", hue=\"target\", data=train_df[(train_df['target']==1) & (train_df['year']==2014)])"
   ]
  },
  {
   "cell_type": "code",
   "execution_count": 71,
   "metadata": {},
   "outputs": [
    {
     "data": {
      "text/plain": [
       "<matplotlib.axes._subplots.AxesSubplot at 0x19ac3160>"
      ]
     },
     "execution_count": 71,
     "metadata": {},
     "output_type": "execute_result"
    },
    {
     "data": {
      "image/png": "[encoded data removed]",
      "text/plain": [
       "<matplotlib.figure.Figure at 0x1a0a5128>"
      ]
     },
     "metadata": {},
     "output_type": "display_data"
    }
   ],
   "source": [
    "sns.countplot(x=\"start_hour\", hue=\"target\", data=train_df[(train_df['target']==1) & (train_df['year']==2013)])"
   ]
  },
  {
   "cell_type": "code",
   "execution_count": 72,
   "metadata": {},
   "outputs": [
    {
     "data": {
      "text/plain": [
       "<matplotlib.axes._subplots.AxesSubplot at 0x1a62add8>"
      ]
     },
     "execution_count": 72,
     "metadata": {},
     "output_type": "execute_result"
    },
    {
     "data": {
      "image/png": "[encoded data removed]",
      "text/plain": [
       "<matplotlib.figure.Figure at 0x12ea6898>"
      ]
     },
     "metadata": {},
     "output_type": "display_data"
    }
   ],
   "source": [
    "sns.countplot(x=\"year\", hue=\"target\", data=train_df)"
   ]
  },
  {
   "cell_type": "code",
   "execution_count": 75,
   "metadata": {},
   "outputs": [
    {
     "data": {
      "text/plain": [
       "<matplotlib.axes._subplots.AxesSubplot at 0x14ff6470>"
      ]
     },
     "execution_count": 75,
     "metadata": {},
     "output_type": "execute_result"
    },
    {
     "data": {
      "image/png": "[encoded data removed]",
      "text/plain": [
       "<matplotlib.figure.Figure at 0x191f4160>"
      ]
     },
     "metadata": {},
     "output_type": "display_data"
    }
   ],
   "source": [
    "sns.countplot(x=\"months_count\", data=test_df)"
   ]
  },
  {
   "cell_type": "code",
   "execution_count": 20,
   "metadata": {},
   "outputs": [
    {
     "data": {
      "text/plain": [
       "<matplotlib.axes._subplots.AxesSubplot at 0x1dc63a50dd8>"
      ]
     },
     "execution_count": 20,
     "metadata": {},
     "output_type": "execute_result"
    },
    {
     "data": {
      "image/png": "[encoded data removed]",
      "text/plain": [
       "<matplotlib.figure.Figure at 0x1dc615cd7b8>"
      ]
     },
     "metadata": {},
     "output_type": "display_data"
    }
   ],
   "source": [
    "sns.countplot(x=\"month\", data=test_df)"
   ]
  },
  {
   "cell_type": "code",
   "execution_count": 80,
   "metadata": {},
   "outputs": [
    {
     "data": {
      "text/plain": [
       "Timestamp('2014-05-01 17:14:03')"
      ]
     },
     "execution_count": 80,
     "metadata": {},
     "output_type": "execute_result"
    }
   ],
   "source": [
    "test_df.time1.min()"
   ]
  },
  {
   "cell_type": "code",
   "execution_count": 88,
   "metadata": {},
   "outputs": [
    {
     "name": "stdout",
     "output_type": "stream",
     "text": [
      "Wall time: 1min 16s\n"
     ]
    }
   ],
   "source": [
    "%%time\n",
    "\n",
    "cv_scores = cross_val_score(logit, X_train_sparse_alicemin2_dayall_september_morningMinutes, y_train, cv=time_split, \n",
    "                            scoring='roc_auc', n_jobs=2) # hangs with n_jobs > 1, and locally this runs much faster"
   ]
  },
  {
   "cell_type": "code",
   "execution_count": 89,
   "metadata": {},
   "outputs": [
    {
     "data": {
      "text/plain": [
       "(array([ 0.91116986,  0.89905979,  0.93087555,  0.97275411,  0.93509801,\n",
       "         0.9753213 ,  0.88548503,  0.96274666,  0.92831253,  0.980911  ]),\n",
       " 0.93817338445561815)"
      ]
     },
     "execution_count": 89,
     "metadata": {},
     "output_type": "execute_result"
    }
   ],
   "source": [
    "cv_scores, cv_scores.mean()"
   ]
  },
  {
   "cell_type": "code",
   "execution_count": 90,
   "metadata": {
    "collapsed": true
   },
   "outputs": [],
   "source": [
    "new_feat_train['day6'] = train_df['time1'].apply(lambda ts: 1 if ts.weekday()==6 else 0)\n",
    "new_feat_test['day6'] = test_df['time1'].apply(lambda ts: 1 if ts.weekday()==6 else 0)"
   ]
  },
  {
   "cell_type": "code",
   "execution_count": 91,
   "metadata": {
    "collapsed": true
   },
   "outputs": [],
   "source": [
    "X_train_sparse_alicemin2_dayall_september_day6 = csr_matrix(hstack([X_train_sparse_alicemin2_dayall_september, \n",
    "                             new_feat_train['day6'].values.reshape(-1, 1)]\n",
    "                                                      ))\n",
    "X_test_sparse_alicemin2_dayall_september_day6  = csr_matrix(hstack([X_test_sparse_alicemin2_dayall_september, \n",
    "                              new_feat_test['day6'].values.reshape(-1, 1)]\n",
    "                                                      ))"
   ]
  },
  {
   "cell_type": "code",
   "execution_count": 92,
   "metadata": {},
   "outputs": [
    {
     "name": "stdout",
     "output_type": "stream",
     "text": [
      "Wall time: 25.8 s\n"
     ]
    }
   ],
   "source": [
    "%%time\n",
    "\n",
    "cv_scores = cross_val_score(logit, X_train_sparse_alicemin2_dayall_september_day6, y_train, cv=time_split, \n",
    "                            scoring='roc_auc', n_jobs=2) # hangs with n_jobs > 1, and locally this runs much faster"
   ]
  },
  {
   "cell_type": "code",
   "execution_count": 93,
   "metadata": {},
   "outputs": [
    {
     "data": {
      "text/plain": [
       "(array([ 0.91645383,  0.896841  ,  0.93593218,  0.97190743,  0.9344251 ,\n",
       "         0.97398632,  0.88387319,  0.96030011,  0.9329658 ,  0.98004079]),\n",
       " 0.93867257453680719)"
      ]
     },
     "execution_count": 93,
     "metadata": {},
     "output_type": "execute_result"
    }
   ],
   "source": [
    "cv_scores, cv_scores.mean()"
   ]
  },
  {
   "cell_type": "code",
   "execution_count": null,
   "metadata": {
    "collapsed": true
   },
   "outputs": [],
   "source": []
  },
  {
   "cell_type": "code",
   "execution_count": 94,
   "metadata": {},
   "outputs": [
    {
     "data": {
      "text/plain": [
       "['56     55      0      0      0      0      0      0      0      0',\n",
       " '   56     55     56     55      0      0      0      0      0      0',\n",
       " '  946    946    951    946    946    945    948    784    949    946',\n",
       " '  945    948    949    948    945    946    947    945    946    946',\n",
       " '  947    950    948    947    950    952    946    951    946    947',\n",
       " '  952    947    953    946    947    946    953    955    946    947',\n",
       " '  953    947    946    953    955    947    953    946    953   1033',\n",
       " '  946    947    954    953    946    954    946    956    957    956',\n",
       " '  946    956    946    946    955    954    946    946    946    948',\n",
       " '  948    946    948    784     49     53    812    982     52     52',\n",
       " '   52     52     52    747    747    747     23    747    568     23',\n",
       " '  513   1116    747     23    747    747     29     49     52     21',\n",
       " ' 4222   3358   4222   3356   4222   3870     21   3870   3358     21',\n",
       " '38667    181     23    181  38667     23    182    181  38667     55',\n",
       " '   56     55    679    676    814     22     39    815    752     50',\n",
       " '  570     23     21   3356     48    222    570    513   1379     21',\n",
       " '  820    820    980     49     56     55     49    784    222     50',\n",
       " '   48     56     55     55      0      0      0      0      0      0',\n",
       " ' 5898   5898   5794     21   5794   5794     21    182     23    181',\n",
       " ' 2570   2570     21     21   1102   1102     23    570    707     21',\n",
       " '   22     39   1102     21   1102   1102   1102     21    177    175',\n",
       " '  177    178    175     48     21     22    176    175    177     55',\n",
       " '   56     55    570    570   1038    847     22    774    570      0',\n",
       " '   56     55      0      0      0      0      0      0      0      0',\n",
       " '   56     55     55   1038     52     53     21   4277     21   4277',\n",
       " ' 4277    342    733    733    733    733    733     23    733    733',\n",
       " '  733     49  17232     50     48     52     23     21    989     38',\n",
       " '  753    532   1020    989   1021   1021     48    990    544     22',\n",
       " '  733    733    733    733    733    733  17232    989  17232     21',\n",
       " '38668    733    733    733    733    733    568     21   1126     52',\n",
       " ' 1127   1127   4279   1126     21    733    733    733    733    733',\n",
       " '   55     56      0      0      0      0      0      0      0      0',\n",
       " '  733    733    733    733    733    733     22     39     38    570',\n",
       " '  733    733    733    177    733    733    733    733    733    733',\n",
       " '  733    733    733    733    733    707     21     50   6803   6803',\n",
       " ' 6803   6803     21     55     56     55    570    733    733    733',\n",
       " '  570    570   1102     75     76     21     52     75    881     75',\n",
       " '   56     55      0      0      0      0      0      0      0      0',\n",
       " '   77     76     75     80    881     76     76     80     80     80',\n",
       " '  784    948    959    948    959    948    959    948    959    948',\n",
       " '   80     80     80     80     80     80    881     80     80     80',\n",
       " '   50     50    753  12386  12385     23  12387   4220  38669  38669',\n",
       " '   22     21    570    570     55     56    570     21     21     38',\n",
       " '  959    948    959    948    948    959    959    948    959    948',\n",
       " '  948    959    948    959      0      0      0      0      0      0',\n",
       " '  242     21    242     21   5898    242     23   5898    242    182',\n",
       " '  242    812    951    947    946    952    945    949    951    953',\n",
       " '  950    948     21    570    951    947    950    947    953    945',\n",
       " '   56     55     56     55      0      0      0      0      0      0',\n",
       " '  952    946    949    948   4087   4087     53     52     52   4087',\n",
       " '   21   4087    513    350    350   4085   1103   1007   1007   1104',\n",
       " ' 1106   1007   1104   1105   1104   1007   4086     23    570     21',\n",
       " ' 1007   1104   1007   1106   1007   1104   1104   1007   1105     56',\n",
       " '  820    820    980     49   1037    812     53     52     52     52',\n",
       " '   55     56     21     21     52     39    812     23    814     22',\n",
       " '  676    679    815    570      0      0      0      0      0      0',\n",
       " '   55    570    812      0      0      0      0      0      0      0',\n",
       " '  848    848      0      0      0      0      0      0      0      0',\n",
       " '   52     53     52     52     21     21   4222   3358   4222   3356',\n",
       " ' 3358     22    570     21     23     56     55     55   3356    784',\n",
       " '  820    820    980    784    784     49   5474   5472     52     53',\n",
       " '  303     52    303    812     21     52     52     57     21     52',\n",
       " '   66    348     48    222     56     55      0      0      0      0',\n",
       " '  222     56     55     55     55    676    679     23     21    812',\n",
       " '  676     23    679     39    815     22    814    570      0      0',\n",
       " '   23    167     66     63      0      0      0      0      0      0',\n",
       " ' 2412   2412      0      0      0      0      0      0      0      0',\n",
       " ' 1547   1547    848    848    848      0      0      0      0      0',\n",
       " '   56     55      0      0      0      0      0      0      0      0',\n",
       " '  848      0      0      0      0      0      0      0      0      0',\n",
       " '  784      0      0      0      0      0      0      0      0      0',\n",
       " '  784     23     52     53     52     52     52     52     52     23',\n",
       " '    2      3     46     47    205     48      3      3     47      3',\n",
       " '   47     50     50     10      8      4   2630      6  37107   2630',\n",
       " '   12     14     14     14     13     56     55     55      7     18',\n",
       " '    7     14    784   2630      6      6     13     14   2630      6',\n",
       " '   21     52     52     52    678    812     21    676     39    679',\n",
       " '   55     56    570     55     22     23    616    677    617    677',\n",
       " '   56     55      0      0      0      0      0      0      0      0',\n",
       " '  570    616    677    616    775    677    570    616     55     56',\n",
       " '  951    947    952    947    952    950    956    946   1033    947',\n",
       " '  953    947    953    955    946    945    946    953    947    953',\n",
       " '  948    946    947    949    957    945    948    945    947    953',\n",
       " '  951    946    945    948    953    957    946    955    953    946',\n",
       " '  946    958    946    946    946    946    946    946    946    946',\n",
       " '  946    951    946    951    946    946    946    946    946    946',\n",
       " '  948    784    948    948     53     52     52     21    989     38',\n",
       " '   56     55      6     13     14   2630      6    950    947    953',\n",
       " '  848      0      0      0      0      0      0      0      0      0',\n",
       " '  952    951    947    953    950    947    953    956    949    946',\n",
       " '  947    948    953    945    956    946    946    947   1033    945',\n",
       " '  953    958    955    948    957    953    947    945    946    947',\n",
       " '  946    945   1033    946    958    958    946   1033    955    946',\n",
       " '  948    946    948    948    222     56     55      0      0      0',\n",
       " '   21    753    532    989   1020   1021     48   1020    544    568',\n",
       " '   55    677    570    616    776    570    677    616    570     49',\n",
       " '  989     56     55     55     23    707     22     21     52    989',\n",
       " '   56     55      0      0      0      0      0      0      0      0',\n",
       " '   21   1021   1020    989    532     29    989     48    990    568',\n",
       " '   21    989    989    532   1020   1021     49     50     48    568',\n",
       " '  568   4208   4208   4208    733    733    733    733    733    733',\n",
       " '  733    733    733    733   4208   4208    733    733    733   4208',\n",
       " ' 6090   6091   6090   5503   6090   5503   6090   5503   6090   5503',\n",
       " '   46   6090     50    753   6090    753   6090     49   6090    570',\n",
       " ' 6090   5505   6092   5507     21   6090     56     55    677    570',\n",
       " '  820    820    980     45     66     67     70     68     69     71',\n",
       " '   69     70     67     71     23   6548  33487      3      3      8',\n",
       " '    8      3      3      4      6   8123     14   8123      8      6',\n",
       " '    7  39278     10   8123      7     12   8123     18     18   2169',\n",
       " '    6   4534   4394     18   4534     18     18   4534     11     18',\n",
       " '   55     56    733    733    733    733    733    733    733    733',\n",
       " ' 6090    784    570    952    949    949    958    946    951    947',\n",
       " ' 3331    784     18     63     63     66     11     18   4534   2634',\n",
       " '39278    784    979      0      0      0      0      0      0      0',\n",
       " '  733    733    733    733    733    733    733    733    733    733',\n",
       " '   56     55     56     55      0      0      0      0      0      0',\n",
       " '  733    733    733    733    733    733    733    989    989   1021',\n",
       " '  946    945    945    948    946    951    947    947    950    945',\n",
       " '  946    955    953    948    953    948    947    946    956    945',\n",
       " '  945    946    947    953   1033    957    947    946    953    953',\n",
       " '  947    946    955    946    953    953    946    946    948    946',\n",
       " '  948    946    946    946    946    946    946    946    946    946',\n",
       " '  946    946    946    948    948    570    950    947    946    949',\n",
       " '   56     55     55      0      0      0      0      0      0      0',\n",
       " '   21   4087     50    543     52   4592   4087   4594   4087   4208',\n",
       " '   21  24083    658    367    655    803    661    660     52    117',\n",
       " '   23  24084    666     32    666    658     23     35    661    658',\n",
       " '  951    948    947    951    945    952    953    677     56     55',\n",
       " '   23    666     52     23  24084     38    666     52    666     52',\n",
       " '   23    803    803     33     45     29    707     38     21    666',\n",
       " '   22    617     39    819     23     52     53     52     21   1007',\n",
       " '   55    570     52     53     52     27     31     21     26     31',\n",
       " '   58     58     59    848      0      0      0      0      0      0',\n",
       " ' 1104   1106   1007   1104   1007   1105   1007   1104   1007   1105',\n",
       " ' 1106   1104    948     49    948   1007   1104   1007   1106   1105',\n",
       " ' 1104   1007     75     76   1007   1104   1007   1105    948     55',\n",
       " '   56     55    167    167     69    167     66     67     70     68',\n",
       " '   71    359     69     70     67    167     71      3    384    167',\n",
       " ' 1007   1104    167   1007   1104   1007   1104   1106   1007   1104',\n",
       " ' 1105     38   1007   1104    948   1106   1007   1104   1105    948',\n",
       " ' 4456    948   4456    948     23     22     21    948    784    784',\n",
       " '   52     34     31     26     35     36     32     31     29     30',\n",
       " '   46     37     29     45     33     27    570     21     38    959',\n",
       " '   63     66    959   1007    959    959   4456    947    952    953',\n",
       " '  947    951   1033    950    946    947    953    950    945    946',\n",
       " '  947    953   1033    948    953    949    945    948    946    947',\n",
       " '  947    953    945    946    947    946    953    945    954    947',\n",
       " '  946    946    947    946    948    946    946    946    946    946',\n",
       " '  946    946    946    946    946    948    946    948    946    946',\n",
       " '  946    946     66     67     69     70     71     71     69      3',\n",
       " ' 6093     21     21    181   1016    181     23   1016   1016    181',\n",
       " '  182     29    197    196    616    570    677     21    570    616',\n",
       " '  820    820    980     49     52    197    196     53     52     49',\n",
       " '   56     55     55     46     50     47      6     13     14   2630',\n",
       " '   29   1104     55     56      0      0      0      0      0      0',\n",
       " '  959     56     55     55    570    570    677    959    570      0',\n",
       " '    6     47      6     13     14   2630     56     55     55      6',\n",
       " '   56     55     55     56     55      0      0      0      0      0',\n",
       " '   21     22     23     22     21     23     63      0      0      0',\n",
       " '   45     63     68     66     70     67     69     67     69     70',\n",
       " '   71     70    167     21     21     22     23     39    676     22',\n",
       " '  784    784      0      0      0      0      0      0      0      0',\n",
       " '  679     21     23    812    676    679     22     21    814     21',\n",
       " '   39    812     23    570    814     22    815    812    812     39',\n",
       " '  815    570     22    812    784     63     66    570     22    812',\n",
       " '  167    167     67     66    359    167     71     68     70     69',\n",
       " '   67     70      3    384    167    167    812     39    812     23',\n",
       " '   39    812     22     23    812     23     22    676     22    679',\n",
       " '  679    812     39    814    676    570     23    812    815    814',\n",
       " '  570     22    815    812    570    812     23     21    812    676',\n",
       " '   39    679     23     66     63      0      0      0      0      0',\n",
       " '  677     55     56     55    570    570    677    570      0      0',\n",
       " '   55     56      0      0      0      0      0      0      0      0',\n",
       " '  820    820    980     49    784     55     56     52     53     21',\n",
       " ' 4088   4088   4087    784    947    946    945    947    946    948',\n",
       " '   55     56     55    570    570    570    677     56     55     55',\n",
       " '   21    188      3     47     46     47    205     48      3     48',\n",
       " '    8     47      3      3     47     50     50      3     10     15',\n",
       " '    8      4     14      6    249     14   4181    249     14     12',\n",
       " '   56     55     56     55     55      0      0      0      0      0',\n",
       " ' 4182    249   4183     23     22     21      3     65    249    268',\n",
       " '  271    167    270    269    167     30    271    273    269      7',\n",
       " '  249     50     49     30    790     32    268     29     35      3',\n",
       " '  792    790    791     46    791    792     46    793    268      8',\n",
       " '  272     33     29   4184     16   4185    274    790    162   4185',\n",
       " ' 4184   1998    167    272   4185    269   1998    793    269     30',\n",
       " '  792     35    131    202    222     37    796     29     33   4184',\n",
       " '   35    272    167   4184   1998   1914   1915   1914     11     64',\n",
       " '  162     37     30     33     45     29     29     50     50    792',\n",
       " '  790     29    790    793    790     29     29   4184   1998   4184',\n",
       " '  272    269     35    793     48     37     33     29     29     29',\n",
       " '  268     29    270    271    790     30    273    268    792     29',\n",
       " '   35      3     37    794    272     29     33      3    274     29',\n",
       " '    3      3      3   4186     48    197      3     10      8     15',\n",
       " '   15   4187   4187     48    222     52     48    796      4      6',\n",
       " '   65    249     12   4188    249     14     14    249     18      7',\n",
       " '   11     16    249     38    784   3346    979     65     14    249',\n",
       " ' 3346   1922     23   4189     21    639   4189     52     52     23',\n",
       " '  950    945    947    950    948    945    953    946    953    946',\n",
       " '  947    949    945    947    946    953    951    945    952    953',\n",
       " '  946    947    946    947    953    957    946    947    953    955',\n",
       " '  958    946    953    946    946   1033    954    957    955    956',\n",
       " '  948    948    948    948    784    949    947    948    947    953',\n",
       " '   45     21     21     22     23     21     23     22     21    733',\n",
       " '  951    948    947    953    952    950    946    957    950    953',\n",
       " '  947    947    957    953    945    946    954    945    948    953',\n",
       " '  947    957    946    953    945    946    955    946    954    945',\n",
       " '  955    958    946   1033    946   1033    955    946    946    946',\n",
       " '  946    946    946    946    948    946    948    946    946    946',\n",
       " '  946    946    946    946    946    784    784     56     55      2',\n",
       " '  733    733     63     21    306    305    306    306     21     21',\n",
       " '   29     23     21     22     39    249   1922     14     56     55',\n",
       " '   66     67     71     70     70     68     69     67     70     71',\n",
       " '  167     66     63    570    570    570     55     56      0      0',\n",
       " '  820    820    980     66     67     71     70     68     69     67',\n",
       " '   70     71    167     63     66    784      0      0      0      0',\n",
       " '   55   1922     23     21    249   1922     14     21     23     38',\n",
       " '    3     46     47     47      3     48    205      3      3     47',\n",
       " '    3     47     50     50     10      8      4   2630  37107      6',\n",
       " ' 2630   2630     14     12     13     14   2630      7      7   2630',\n",
       " '    6     56     55     55      6     13     18     14   2630   7206',\n",
       " '   21    733    733    733    733    733    733    733    733    733',\n",
       " '  733    733    733    733     76     77     75     75     76     23',\n",
       " '   77     23     77     21     75     77     75     52     52     23',\n",
       " '   75     77     76     22     75     75     77    881     75     76',\n",
       " '   80     76     75    881     75     76    881     80     22   1057',\n",
       " ' 1057     77   1057   1057     76     77    881     80    881     80',\n",
       " '  881     77    881     80    881     77    881     80    881    881',\n",
       " '   80     80    881     80    881    881    881     80    881     80',\n",
       " '  881    881     80     77     80     80     80     80     80     80',\n",
       " '   80    881    881    881     80     80    881    881    881     76',\n",
       " '  881     80     80    881    881    881     80    881     80     80',\n",
       " '  881    881    881     80     80    881    881    881    881     80',\n",
       " '   80    881    881    881     80    881    881    881     80     80',\n",
       " '  242    242    182     29   1922     21     21    242    242    182',\n",
       " '  881     80    881    881     80     80     80    733    733    733',\n",
       " '   21     55     56     55     50     46     15      3     47     65',\n",
       " '  570    570    677    570     56     55      0      0      0      0',\n",
       " '   56     55     56     55      0      0      0      0      0      0',\n",
       " '   18     18     18      6     13      6     14   2630      6     56',\n",
       " '  733    733    733    733    733    733    733    733    733    733',\n",
       " '  205     48    167    268    271    273    270     30     50     49',\n",
       " '  790    268     32    792     29    268     35      3    792      8',\n",
       " '   48     37     64     11   1922     29   1919    796     30     33',\n",
       " '   49     53     52     21   2370   2370   2370   2370   2370   2370',\n",
       " '   55     56   2370     55   2370     55   2370    784   2370   2370',\n",
       " ' 2370   2370   2370     49   2370   2370   2370   2370   2370   2370',\n",
       " ' 2370     20     21    747     21    513     23    747     52     23',\n",
       " ' 1116    747     23    747    513    747     22     23    784     21',\n",
       " '  752    222      0      0      0      0      0      0      0      0',\n",
       " '  733    733    733    733    733    733    733    733    733    733',\n",
       " '   55     55     47     50     46     47      6     13     14   2630',\n",
       " '  570    570    570    776     53     52     52     52     21   6094',\n",
       " '  820    820    980    820    820    980      0      0      0      0',\n",
       " '  733    733    733    733    733    733    733    733    733    733',\n",
       " '  733    733    733    733    733    733    733    733    733    733',\n",
       " '  733    733    733    733    733    733    733     21    733    733',\n",
       " '    6     55     56      0      0      0      0      0      0      0',\n",
       " '  733    733    733    733    733    733    733    733    733    733',\n",
       " '  733     21    733    733    733    733    733    733    733    733',\n",
       " ' 6095   6094   3861     22   2870     32     52     35   3187   3863',\n",
       " ' 2543   1643   6096   2538   6096     32   6097     35     29     33',\n",
       " ' 3861   6095     55     56     55   6094     35     33     45     29',\n",
       " '   29     29     33    707    570     21     23     39     52   6098',\n",
       " '   21   6098    784   6098   6098     23     52   6098     22    784',\n",
       " ' 6098   6098    570     21     39   6094   3861   6099   6100   6095',\n",
       " '   56     55      0      0      0      0      0      0      0      0',\n",
       " '  784      0      0      0      0      0      0      0      0      0',\n",
       " '  733    733    733    733    733     75     52     21      0      0',\n",
       " ' 6099   6100   6101   6101   6099     35   1015   6101   6101   6101',\n",
       " '   29     33     29     29     22     29     29     23     23     52',\n",
       " '   49     52     53     55     56    784    784     49     57   1007',\n",
       " '   23     21     52   3861   6094     35   6094     29     33   3861',\n",
       " ' 1007   1008   1007   1008   1007     52     53     52     52     52',\n",
       " ' 6095     35   6102    156     23    322    157   1385    222     21',\n",
       " '  543    678    676     39    679     23    570     29     33     29',\n",
       " '  616    814    617     22    677    677    570     55     56    814',\n",
       " '  222     48     52     52     55     56    814     23     22     39',\n",
       " '  815     38   3346    570    222     48     50     58     58     59',\n",
       " '   48     48    570    570   1007   1008   1007    812     23      0',\n",
       " '  677    677    570    776      0      0      0      0      0      0',\n",
       " '   55     56     55      0      0      0      0      0      0      0',\n",
       " '   56     55     56     55      0      0      0      0      0      0',\n",
       " '   49     52     53     52     52     52     56     52     55     55',\n",
       " '   52     49     21   3350     48     48    961     48     48    961',\n",
       " ' 4329    784    784    979     49     52   1037     53    812     52',\n",
       " '  961   1980   1980   1980     48   1980   1980   1980   1980   4494',\n",
       " ' 1981   1980   1980    543   1980    222   1980    676    679    814',\n",
       " '   39    815     22   1980   1980     48    961   1023    222    202',\n",
       " ' 1023   1024    338    338   1023     23     21   1023   1023   1023',\n",
       " ' 1023   3393   3394     52   3393   3374     48   3393   6618    125',\n",
       " ' 1619    753     32   3393   6618    784    222    677     22    774',\n",
       " '  570     21     21    679    676     23    570    812     39    784',\n",
       " '   52     52     52     56     55     55     49    570     22     23',\n",
       " '   39    812    815    814      0      0      0      0      0      0',\n",
       " '   55     56      0      0      0      0      0      0      0      0',\n",
       " '  784    784      0      0      0      0      0      0      0      0',\n",
       " '   55     56     55     56      0      0      0      0      0      0',\n",
       " '   63     45      0      0      0      0      0      0      0      0',\n",
       " '   56     55     55     56      0      0      0      0      0      0',\n",
       " '  784    784      0      0      0      0      0      0      0      0',\n",
       " ' 1007   1007   1008    197     52    196     53     52      0      0',\n",
       " '  784     48    784     55     56     55     52     52     53     21',\n",
       " '  747    513    747     23    747     23     52    325     50    747',\n",
       " '   23     23    747    513    751    747    747     23     23    747',\n",
       " '  747    747     23   1116     23    323     29     23    747     23',\n",
       " '  322   1049    156    319    324    747     23     23    747    625',\n",
       " '   52     23    747     49     22     21     23    152     21     20',\n",
       " '  784    784    945    946    945    947    946    947    945    948',\n",
       " '   29     21    747     21     23    747     23    753     48   1018',\n",
       " '   21    317   1017   1018    317   1019    320    318    317    315',\n",
       " ' 1018     21  11230  11230     21    752     21     52     21    343',\n",
       " '  820    820    980    784      0      0      0      0      0      0',\n",
       " '  945    946    949    947    947    948    946    949    950    950',\n",
       " '  951    947    946    947    946    952    952    953    946    946',\n",
       " '  954    953    955    953    946    948    956    953    946    953',\n",
       " '  957    958    953    953    954    957    958    957    948    948',\n",
       " '  948    948    959    959    959    948      0      0      0      0',\n",
       " '  784    784    784    784      0      0      0      0      0      0',\n",
       " '  175    175    176    175    343    175    178     48  11231     21',\n",
       " '   38    532  11231    753  11231     48     48    544    343    175',\n",
       " '   56     55      0      0      0      0      0      0      0      0',\n",
       " '  176    568     21    733    733    733    733    733    733   1294',\n",
       " '  784      0      0      0      0      0      0      0      0      0',\n",
       " ' 4105     21     21     23     21  11232  11232     29     21     21',\n",
       " '  544     56     55     55     21    568     21    343    175    175',\n",
       " '  178    733    733    733    733    733    733    733    733    733',\n",
       " '  733     21     21    177    175    175    178    177    175    178',\n",
       " '  176    177     21    733    733    733    733    733     21     21',\n",
       " '   21  11233     30     32  11233  11233     30     35     52  11233',\n",
       " '11233     46  11233  11233  11233     37     33    175     21    177',\n",
       " '  177    175    178     21     22     39   1591     21   1591   1591',\n",
       " '  784     49     52     53     52     49     56     55     22     23',\n",
       " '   29    175    177     21    177    178     21     21    471    471',\n",
       " '   52     52     52    222     21    679    676     23    814    677',\n",
       " '   39    815     22     52     52     50     48     22     23    616',\n",
       " '   21     21   5799     21   5799   5799    566   6880     23    566',\n",
       " '   49    800     52     53     52     49     21     52    812     52',\n",
       " '  617   2415   2414     21     23    617    814     39   2415     22',\n",
       " '   52     56     55     55     21    222    814     23     22     39',\n",
       " '  784    784      0      0      0      0      0      0      0      0',\n",
       " '  566    566     21     22    566    566    566     56     55     55',\n",
       " '  784    784      0      0      0      0      0      0      0      0',\n",
       " '  815    570     50     48    570    570    570     56     55     55',\n",
       " '   21     52     53     21  10690  10690  10690  10690  10690  10690',\n",
       " '  774    616    677    616     55     56   1007   1007   1008    677',\n",
       " '10690     21      0      0      0      0      0      0      0      0',\n",
       " '  784    784     49     52   5472   5047     48     53   5474     52',\n",
       " '   56     55     56     55      0      0      0      0      0      0',\n",
       " '   50  15523     87  15524   1035     23     21     52  15524  15525',\n",
       " '15524     52    303  15525  15526  15523  15523     55     56     55',\n",
       " '   38     23     21     22     23    173     23    707     21    222',\n",
       " '   49     49     55     56    222     50    979     48    959    948',\n",
       " '  570    570    570    812      0      0      0      0      0      0',\n",
       " '   23      0      0      0      0      0      0      0      0      0',\n",
       " '  677    677    677     55     56     55    677      0      0      0',\n",
       " '   56     55    948    959    948    959    948    959     53    196',\n",
       " '   52     53     52     21    812     52     52    815     39    814',\n",
       " '  677    677     56     55     55    677      0      0      0      0',\n",
       " '  570     22     21     23    812      0      0      0      0      0',\n",
       " '   56     55      0      0      0      0      0      0      0      0',\n",
       " '   52    197     52     56     55     55    948    959    948    948',\n",
       " '  959      0      0      0      0      0      0      0      0      0',\n",
       " ' 6725  41475  41475  41476  41476  41476  41476  41475   6725  41475',\n",
       " '41475   6725  41476  41476  41476   6725  41475  41475  41476  41476',\n",
       " ' 6725  41475  41476   6725  41475  41476  41476  41475   6725  41475',\n",
       " ' 6725  41476   6725  41475  41476   6725  41476  41475   6725  41475',\n",
       " '41476  41476  41476   6725  41475  41476  41476  41475   6725  41475',\n",
       " '  820      0      0      0      0      0      0      0      0      0',\n",
       " '  820    820    820    820      0      0      0      0      0      0',\n",
       " '  820      0      0      0      0      0      0      0      0      0',\n",
       " '  820      0      0      0      0      0      0      0      0      0',\n",
       " '   49     23     52     53     52     21    989    989     38    532',\n",
       " '   52     53    197    196    625     56     55     55     55     55',\n",
       " '   23     52     23     52     53    196    197    625     56     55',\n",
       " '  753    989   1020   1021   1021     48     48    990    989     49',\n",
       " '   52     53    196    197    625     23   1035     21     21    229',\n",
       " '   49     56     55     55    532    989     38    753     55   1020',\n",
       " '  544     56     55     55    568     23     22     21    222     50',\n",
       " '  989   1020     55   1021     48     48    990    544     49     52',\n",
       " '  820    820      0      0      0      0      0      0      0      0',\n",
       " '   49    800     55     56     55    222     50     48     23     53',\n",
       " '   45     21     21     22     23     22     23     21     21     21',\n",
       " '  820    820    820    820   1446   1470      0      0      0      0',\n",
       " '   23     53     52     21    177    175    175    177    178    178',\n",
       " '   55     55     55     55     23     52     23     52     52     23',\n",
       " '   48    175    568    176    177    175     22     23     21    707',\n",
       " '   52     53     49     49    304    197     52    196   1037     52',\n",
       " '   21    229    229    229    229     21    229     21    229    229',\n",
       " '  812     52     56     55     52     55     55     57    222     39',\n",
       " '   21  11134  11134    222  11135     21  11135  11135     50     23',\n",
       " '   56     55     55     56     55     55      0      0      0      0',\n",
       " '  676    679    814     23     22    570    815     50     50     48',\n",
       " '   49     53    197     52    196     52    948     55     56    784',\n",
       " '   23     52     23     52     52     52     52     52     52     52',\n",
       " '   21    229     21  18384     21    747     23    747     23    747',\n",
       " '  820    820    980     52     53     52     21    196     52    197',\n",
       " '   52    196     53    197     52     56     55     55    784    784',\n",
       " '   52     53     52     21    982     21    812     52     52     52',\n",
       " '   53     52     52     21    196     52    197     56     55     55',\n",
       " '   23     52     23     52     53    196    197    625     55     56',\n",
       " '  513   1116   1116   2220   2220   2501   2503   2502   2503    747',\n",
       " '   32     23     23    747     52    513     21    229     23     48',\n",
       " '  800     52     55     56     55     55     23     22     21    784',\n",
       " '   48     23     52     23     52     56     55      0      0      0',\n",
       " '   52     52    678     52     22     48    678    678    678    678',\n",
       " '   49    196     53    197     52     55     52     56     55     55',\n",
       " '   48     21    989    989     21   2371    989   1020   1021   2371',\n",
       " '   66     67     69     70     69     71     70     67     69     68',\n",
       " '   55     49     50    784     48    948    959     55     56     55',\n",
       " '   70     71     70    167     63     66    784    784      0      0',\n",
       " '   55     55     55     55   1037    812     52     52     52    812',\n",
       " '   48    197    196     52     55     56     55      0      0      0',\n",
       " '   52     53     21    196     52    197     52     22     23    222',\n",
       " '  820    820    980     70     67     71     66     69     68     69',\n",
       " '  989    753     53   1021     52     56     48    990     55     52',\n",
       " '   48    570    570     21  11158    570     23     21     55     56',\n",
       " '  222     21     39    679    676     23    815    814     22    570',\n",
       " '  812     39   6800    679    812     48      0      0      0      0',\n",
       " '  570     22     23     21    784    784    222     52     21   1102',\n",
       " '   67     70     71    167     63     66    784     21     22     23',\n",
       " '   52    196    197     53     52     55     56     55   4190    753',\n",
       " '  820    820    980     21     22     23     23     22     23     21',\n",
       " '   23     55     23    625    197    196     52     55     55    568',\n",
       " '   55    222     50     48      0      0      0      0      0      0',\n",
       " '   21     63    784  23473  23473     23  23473  23474     21    157',\n",
       " '   52     52     52     21    196     52    197     52     21     52',\n",
       " '  752    229    229     21    229    229    229     21    229     21',\n",
       " '   23     49    570     39    676    812    679     22     23     21',\n",
       " '  982    812     39    812     39     23     23    812     23     23',\n",
       " '  679     39     23    616    616    677    678    617    678    678',\n",
       " '   50    774     48    815     49     49    304     21     30  21276',\n",
       " '   21     50     48     21    177    175    178    175    177     48',\n",
       " '  812     39    676     22    679     39    676    679    812    814',\n",
       " '  568    812     23     52     23    989   1020    989   1021     23',\n",
       " '   23     22    570    814    570     39    815    570    816    812',\n",
       " '  812     22    812     22    570    815    677  22616    677    677',\n",
       " '  222     52     21   1102     52   1102   1102     23     21     22',\n",
       " '   48   4190     48     52    753    202     52     52     49    784',\n",
       " '41475  41476  41476   6725  41475  41476  41475  41475   6725  41476',\n",
       " '  677    678    677    678     21     23     23     21     21     23',\n",
       " '   49     49    513    222     38     23     21   4191   4191     23',\n",
       " '   52     23    679    616     23    677     39     55     56      0',\n",
       " '  820    820    980   1007   1007   1008    167    167    167     71',\n",
       " '  820    820    980     49    800     49    196     52    197     53',\n",
       " '  820    820    980   1007   1008   1007    784    784   1007   1007',\n",
       " '  178     48    177    178    176    177     48      0      0      0',\n",
       " '  989    989     29    532   1020   1021    568     48     55     56',\n",
       " '   23  16302  16875     21    784  23473      0      0      0      0',\n",
       " '   22    677    677    678    677    677    616    570     23    616',\n",
       " '   22    616    617    616    616    812   1529    616     23    617',\n",
       " '  784    784    979     49    222     48     52     53     49     48',\n",
       " '   52    784     55     56     55     50     48    784    222      0',\n",
       " ' 1529    677    616     23     39    306    305    306    570    677',\n",
       " '   70    167     66     67     68     69     70    167     71    359',\n",
       " '   67     69      3    384    167   3346     23   3346    167     38',\n",
       " '   38    784   3346   3346     63     66   4079   4079   4079    951',\n",
       " '21277     38     30     21     46     38    989    532    753  21277',\n",
       " '  989   1020   1021   1021   1020     48  21277    544     37    815',\n",
       " '   20    229     21    229    229     21    229    229     21     23',\n",
       " '   21   4191    784     46     47     47      3     48    205      3',\n",
       " '   21    747     52     23    747    513   1116   2220   1116     53',\n",
       " '   23     39    616    677    570   1529    677    677    570    570',\n",
       " '   52   2502   2503   2501   2503     32     35     29   2501   1643',\n",
       " ' 2504   2502   2276     23     21     35     29    202   2504   2505',\n",
       " '   23     21     21   1980    961   1023    961     21     21     22',\n",
       " '  747   6107     23   2504     29     33    513    747    747     23',\n",
       " '   39   1102     21    242    242     23     38    242     23    182',\n",
       " '  242    242    242     21    182     23    181   2570   2570     56',\n",
       " '  747     23    747    747    747    350    350     56     55     55',\n",
       " '   21    570   8440    961    961    961   1023   1024   1023    961',\n",
       " '  820    820    980     21     22     23     70     68     71     69',\n",
       " '   21     21     22    570   1145     21   1145   1145   1023   1025',\n",
       " '  568    570     23     21     21   1018    317   1017   1018   1017',\n",
       " '  961    961    961    961    961   1980   1980    812   1980     63',\n",
       " '41475   6725  41475  41476   6725  41475  41476  41476  41476  41475',\n",
       " '   67     66     70     69     67     71    167     23     21     22',\n",
       " '   39    812   1981   1980   1981    814   1980   1980    814     21',\n",
       " '   21     22     21     21   4084     23     38   4079     23     30',\n",
       " ' 4079   4079     37     29     37   4084   4079    569   4079   4079',\n",
       " '    3      8      3     47     50     50      3     10      3    249',\n",
       " '  145    569   4079    145      0      0      0      0      0      0',\n",
       " '   65      8    268    271    269    167   1914   1915     30    270',\n",
       " '  791    268     50     49     29    792     30    790   1914     32',\n",
       " '   35    792    268      3    791     46      8     33     29    753',\n",
       " ' 1019    320    315   1018    318   1019    317    815     21     48',\n",
       " '   48     53     52     52   4190    753     48    202     52     49',\n",
       " '   55    747     23    747    322    325     49    342     29    747',\n",
       " '   37    249    249     14      6   4181     14     12   4183    249',\n",
       " '   23    747     23    747   1049   1092    747     23    747    747',\n",
       " '  796     56     55     55      7     11     16      7     64    162',\n",
       " '   63     66    784     58     59     58   1171      3      3      8',\n",
       " '  177    812     39    175    175    177    177    178    177    175',\n",
       " '   23    350   2007     29   2007   2007    747     23     50    350',\n",
       " '  178    176    175    177    175    176     21    177    570     22',\n",
       " '   45     63      0      0      0      0      0      0      0      0',\n",
       " '   55     55     55     55     55    747    747     23    350   1379',\n",
       " '   52   1102   1102     23     21    570     22     39    570     56',\n",
       " '  350     55     55     55     55     55     55     20     21    229',\n",
       " '   30    513     49     49     38     21    784   4191     21     23',\n",
       " '   48   3359     38     56     55     55     50    222   3359   3346',\n",
       " '  229    229    229     21     21  11234  11234     23  11234     55',\n",
       " ' 1008      0      0      0      0      0      0      0      0      0',\n",
       " '  990     21    851    175    851    178    851    175     48     21',\n",
       " '  784   3359   3359   3346   3346   3359   3359   3359   3359   3346',\n",
       " '   55     21  11235   1434     22     38     99    106     30  11235',\n",
       " '  568     23     21     56     55     55      0      0      0      0',\n",
       " '  677    570    812    677    812    677    812    677    570    677',\n",
       " '   21    276    276    338   1981    278    276    338    276   4494',\n",
       " '  181   3253     23    182     23   3253   3253   3253     29    176',\n",
       " '41476  41476  41475  41476   6725  41475  41475  41476   6725   6725',\n",
       " ' 1979   1979     21     21     42     41     26     31     27     32',\n",
       " '  851   3253    181     23    182   3253   3253    181     23    182',\n",
       " '  177    176    175     23     21   1294     21     23     21     21',\n",
       " '  181   4192    181     23   4192    182   4192    181   4191   4191',\n",
       " '  551     38    551  11235    303  11235     46     48     37    752',\n",
       " '  178    175    177    178     21   1980     23     21     21   2397',\n",
       " ' 3253    262    815    570    815     45     21   3772   3772    145',\n",
       " '   29     45  11235     52  11235  11236  11235   1434     52    747',\n",
       " ' 4191    707     22     23     21     21     23    747     23    513',\n",
       " '   23    350    747     23     50     50     23    747   1379    324',\n",
       " '   55     56     55     56     55      0      0      0      0      0',\n",
       " '  981      0      0      0      0      0      0      0      0      0',\n",
       " '  324    747     23    625    625    617    152    747     23    156',\n",
       " '  323    262    747     23     23   1379    747     23    319    747',\n",
       " '  747     23     22     39    747     23    747     23    747     23',\n",
       " '   23   1116     23    747    513     23    747   4191   4191   4191',\n",
       " '   21    117   4642   4643   4642    117     32     30    516     22',\n",
       " '  117     30     30     30     35     29    222     50    516     46',\n",
       " '  117    117     52     48    117     37    117     23     52     33',\n",
       " '   45     29    117    156    117    319     30    117     23    570',\n",
       " '  229     38    989     21    753   1020    989   1021     48    990',\n",
       " '  814    812    570     23   2397    815    812   2397     21     39',\n",
       " '  544    229    229    229    229     21    656    229    229     21',\n",
       " '  812     22     23    570   7842    815    812     38     21   7842',\n",
       " '   21   7842     38   7842   7842     38   7842     39   7842   7842',\n",
       " '41476  41475  41476  41476      0      0      0      0      0      0',\n",
       " '   21   7842   7842   7842     23     22     39   2397     21   1980',\n",
       " '   23     21    752    747     23    747     23    752     56     55',\n",
       " '   21     22    117     39    117    117    117    117    570    117',\n",
       " '   20     21    229    229    229    229    229    229     21    656',\n",
       " '   21    747    747    747     23    747    568   1379    747    747',\n",
       " '   21    989    532    753   1020   1020    989   1021   3012     48',\n",
       " '   48    989     21   1020   1021    989    532   1021    222    544',\n",
       " '  229    229    229     21    568     21    175    177    176    177',\n",
       " '  229    229    229    229    229     21    229   2371     21   2371',\n",
       " '   48    175    178    175    177    178    177     21    747     23',\n",
       " ' 3773   3772     35     21    142   3773     32    125   3772   3772',\n",
       " '  145    177    175    141    175    141   3772   2762    175    177',\n",
       " '  176    175    177    178    178    175   3773    833    314    834',\n",
       " '   29     30     49     30     50   3772     48     37     33    177',\n",
       " '   55     23   1014   1013     21   1013   1015   1013   6103     21',\n",
       " '   56     55     55     45     52    960    961     48     52     52',\n",
       " '   34     26     31     31     26     41     36     35     30     37',\n",
       " '   55     55     49     50     48    784      0      0      0      0',\n",
       " '   38     37     29     31     31     29     42     33     29     21',\n",
       " '   55     56     55     55     55     55     55      0      0      0',\n",
       " '  175   3772     29   1919     39     30     22     21    570    815',\n",
       " '  162     23    812      0      0      0      0      0      0      0',\n",
       " '   21  17940  35254  35254     21      0      0      0      0      0',\n",
       " '  350    350    747     23    747    350    350    752     23     52',\n",
       " '  568    752    747     23    747    747     23     29    752     23',\n",
       " '  820   1446      0      0      0      0      0      0      0      0',\n",
       " '26881  26881     21    570    570   1980   1980    812   1980   1980',\n",
       " '   56     55     55     52     52     22     21     23     56     55',\n",
       " '28173  28174  28173  28173  28173     38     21     21    940     23',\n",
       " '   49    800   4313     53  39279    196     52    175  39280  39281',\n",
       " '   75    197  39282  39283     52  39282  39282  39282   4313   3110',\n",
       " '   23     52    513     50     50     21    851    175    175    851',\n",
       " '  670   6103    669    217    217     23     52    222    341    175',\n",
       " '  851     21    175    178    851     48    851    176     23     21',\n",
       " '  747    157     29     29    747     23    747    747     23    747',\n",
       " ' 4313    516   4314   4315     30   4313    516   4314     48    117',\n",
       " ' 4314     52     48   3110     30    704    704     46    704     46',\n",
       " '39279     52    666    660    661    639   4617    652  39284    658',\n",
       " ' 4271  39284    559    666    558  16862  39284    639  39279    639',\n",
       " ' 3003    559    559  39283    559    559     52     21  39285    759',\n",
       " '  197  39285     37     21   5029   5028  39285   5030   5030   5030',\n",
       " ' 5030  39285     45     55     56     55     39    666    707     22',\n",
       " '  570     39     49    570     50     48    570     56     55      0',\n",
       " '  812    570    677    677    677    812    812    677    677    677',\n",
       " '   23    747   1379     23    747    747    747     23    350    747',\n",
       " '   23     21    222     50     50     48     45     66     67     68',\n",
       " '  747    350     23     23     23    747   1379    747    350     23',\n",
       " '  747    350    229     21     20    229    229     21    229     21',\n",
       " '   23     52     23   2359     23     22    570     23     52     23',\n",
       " '   55     56     45     66     67     69     70     71     68     69',\n",
       " '  117    117    117    117    117    570     56     55    570    570',\n",
       " '  229     21  11235    551     30    752     37     29  11236     56',\n",
       " '    8      3      3   6897      4     14     14      8      6   6898',\n",
       " '  948    959    959    948    167      3    167    384     21     23',\n",
       " ' 3346     53     52     52     52    800     21     23     38    242',\n",
       " '   21     21   4802     23   4803     38     21     22     23     22',\n",
       " ' 6898     14      7     10   1200      3      7     11     15     15',\n",
       " '  176    851    178    178    175    851     21    177    175    175',\n",
       " '   23     21   4804     38     23     21     21    167    268    271',\n",
       " '  167    269    790   1915   1914    270    792   1914    790     30',\n",
       " '  791    268    791     30     32   1914    789    792    793     35',\n",
       " '   29     30      3    796   1915    268    788     67    272     30',\n",
       " ' 4804     70     69     68     71     67    162     71     69      3',\n",
       " '   37    272     30     37     33      3     29   4185      3    269',\n",
       " '    7   6898     12     14   6898     16   6898   6899   6898     14',\n",
       " '  270    271    796      3    268     30    789   1915   9651   1915',\n",
       " '   30    788     29     35    268     29    794    272      3     29',\n",
       " '   30     37      4   9652    272   9652    794      6      8   9653',\n",
       " '    3      4      8     14   9652    272    794   9652      6      8',\n",
       " '    3      4   9652     14   9652   9652      8      7      7    794',\n",
       " '   45     45     45     21     23     21     23   5063    175   5062',\n",
       " '   56     55      0      0      0      0      0      0      0      0',\n",
       " '  272      3     12     10      3   1919     11     16      4   9652',\n",
       " ' 9652   9652      3      8     14     15     11      7     12     16',\n",
       " '   67     70     71     70    167     63     66     55     56     55',\n",
       " ' 1919     45     29     33     18    269   9652     18   9653    269',\n",
       " '  272    272      3     14   9652   9652     65     11     64     63',\n",
       " '13598   1980   3398    570  13598   1980   3398   1980  28480   1980',\n",
       " '   66     29      0      0      0      0      0      0      0      0',\n",
       " '   23     52     23    776     56     55    776    776    776     21',\n",
       " ' 1980    812     21     21     21   1551    570    812     22    570',\n",
       " '   55     55     55     55     22    747     23    513   1379   1379',\n",
       " '  747     23    513    350    350     20     21    229    229    229',\n",
       " ' 6898   6899     21     88   1922     18     21     21     30   6900',\n",
       " '   45    784     45     23     23     21     22     23     22     23',\n",
       " '  812    677    812    677    616    677    570    812    677    570',\n",
       " '  178    177     23     52     20     21    229     21    229    229',\n",
       " '  820    820     45     21     23     23     21     39    982    812',\n",
       " '  229    229    229     21     21  11237  11237  11237    752     56',\n",
       " '  776     23    616    616    677    617    677    679    616    677',\n",
       " '   23     21   2371   2371     23     21   3253    181    182    181',\n",
       " '  202    962     35    962     52     52     50     52     49     46',\n",
       " '   29    962    962    962    962    962     29     35    962     29',\n",
       " '   37     29     21   3346     37   3346   3346     38     23   3346',\n",
       " '   37    962    962     29     35    962    962    962     35     29',\n",
       " ' 3356     38     21   3358   3357   3357   3356     23     21     30',\n",
       " ' 6901    106    896   3346   3358     21     22     39     30     32',\n",
       " ' 6902   6901     35     22     37     39    896   6902     33    569',\n",
       " '  981     66      0      0      0      0      0      0      0      0',\n",
       " '  962    962     35     29    962    962    962    962    962    962',\n",
       " '  962    962    962    962    962    962    962    962    962    962',\n",
       " ' 6903     38     29    569    569   6903   6903     21   6903   6903',\n",
       " '  962    962    962    962    962     37    962    962    962    962',\n",
       " '  962    962    962    962    962    962    962    962    962    962',\n",
       " '  962    962    962    962    962     32     30    812     22    570',\n",
       " ' 6903     88     21     21   6904   4398   6904   6903   6903   4399',\n",
       " ' 6903   4398   4402     21   6903   4399   4398   4400   4399   1033',\n",
       " '   52     23   2360   2360     23     30    352     32     52    202',\n",
       " ' 6903      1   4398   4399   4398   4400   1922   6898      0      0',\n",
       " '  156   2360     35     23   2360     52    131     29   2361     46',\n",
       " ' 2360   2361   2361     37   2361     33     29     45   2361   2361',\n",
       " '   21     63   1547   1547    784    784     73      0      0      0',\n",
       " '  175    175    177    175    177    175    178    177    178    177',\n",
       " '  175    176    177    177    176  19452   2425   2426   2427   2425',\n",
       " '   21     23     39     56     55     55    962     35     29     37',\n",
       " '  812    676    679     39    676    679    812     22     22    814',\n",
       " '   56     55     55    222     23     21     52     53     52     21',\n",
       " '   23    570     23     22    814    812    570    812     22     39',\n",
       " '  815    812     22    812    816    570    616    570    812    815',\n",
       " '   70     71     69     71     67     69     70     23     23     22',\n",
       " '  570    812    616    616    616    616     23     23    616    616',\n",
       " '   49     49     55     56     55    222     50     48      0      0',\n",
       " '   23     39    987    986    988     56     55      0      0      0',\n",
       " ' 2361   2361   2361   2361   2361   2361     22     39   2361   2361',\n",
       " '   21     22     23     21     22   1102     39     22     39   1102',\n",
       " '   67     66    167     67     69     70     71     68     69     67',\n",
       " '   70     70     71     69     29     66     63    270    270    270',\n",
       " ' 1102   1102   1102    570     22     21     23    570   3346    570',\n",
       " '   21    177    175    178    175    178    177     21  18385  18385',\n",
       " ' 3876   3876    570    989     38     21    568   1020    989   1021',\n",
       " '   23     23   2168     23   2168     23     63     66     23    784',\n",
       " ' 1021    990    544    990    544     21     21   4391     23  12375',\n",
       " '  812    570   1980    167    167    167    167    359    384    167',\n",
       " ' 7867   2425   2425   3062   2427   2425   2427   2428   2425   2426',\n",
       " '    1    391  21702    756    756   2428   2427   2425   2425   2427',\n",
       " '  197     53    196     52    625     56     55      0      0      0',\n",
       " ' 2428   2425   2426   2425     76   2426     29    395    140    394',\n",
       " ' 2429   2425    394   3242     42    396    397   2425   2426   2426',\n",
       " '   75   2425  21703   5168   2429     77   5167   5168   2428   5169',\n",
       " '   23     21   4664   5170   2217   5168   2051   4663    936   5168',\n",
       " ' 2458   2458   2428   2428   2428    144    142    141    459   2428',\n",
       " '  570    616     22    812    106    812    812    570    570    816',\n",
       " ' 2361   2361   2361     55     56   2361   2361   2361   2361   2361',\n",
       " ' 2425   2427   2428   2428   2428   2425   2425   2428   2428   2428',\n",
       " '    3   6056     23   1600   1600   6056     38     32     23   6056',\n",
       " '   30   1600   6056     35   6056   6056   1600     29     30   1600',\n",
       " ' 6056     22     22     22     37     37     39     29   4496     29',\n",
       " '   55     56     55     52     53     21     38    989    532    753',\n",
       " '  182     23    242    242     29     29    242     56     55     55',\n",
       " '12375   4391   4391     23     23     21     21     27     26     31',\n",
       " '   23     39     76     39     75     23  28481     76     75     80',\n",
       " '   77     77     80  28481     80     77    812    570  28481  28481',\n",
       " '   22     23     23  39286     23    549     38     30     32  39286',\n",
       " '28481  28481   6056     29   6056     33     29   6056   6056     23',\n",
       " '   35     30     29   6056     29     29     29     29   6056     33',\n",
       " '   55     56     55     55     55     55    986    988    987     56',\n",
       " ' 2426   2425   2426    140    125   2428   2426  21704    465    465',\n",
       " '   38     34     38     41     31     42     21    220   1102   1102',\n",
       " ' 3876     21    940    942     53     52    389    940    388   1359',\n",
       " '   26     31     42     32     22     35   1102     30     31   1102',\n",
       " '   36     31     22     29   1102     37   1102     41     37   3876',\n",
       " '   55     21   1102     21     52   1102   1102     21    181     21',\n",
       " '   55      0      0      0      0      0      0      0      0      0',\n",
       " '   35   6056     29    167     29     37     22     33    359    384',\n",
       " ' 2428   2428   2427   2428   2428   2428   2428   2428   2428   2428',\n",
       " '  167    167   1109   1109    119  28482    812    384     36  28482',\n",
       " ' 1109    151     36  28482  28483   4196     36   1109    119   1980',\n",
       " '  119   1109  28483    119   1109     38   1108  28482     36     22',\n",
       " '   35     29     37    133     30     33     29     37     30     23',\n",
       " '   30     35     22   1980    133     37     29     37    117     30',\n",
       " '  167    167    359    167    167    270    270    270    270    167',\n",
       " '   21     21     29     45     33     29     27     29     23     21',\n",
       " ' 1016   1134    181   1016    182     23   1016     21    181   1134',\n",
       " ' 1980     39     30     22     33     29   1980   1980   1980    305',\n",
       " '   21    181    242     21     21    106     99    747  30285   2377',\n",
       " '  747  30285     23  30285     46    747    639     52    639    747',\n",
       " '   46  30285    639     23     52    639     30  30285     30    513',\n",
       " '  747  30285     37  30285     23    570     22    784     21    784',\n",
       " ' 2428   2428   2425   2428   2428   2427   2428   2428   2428      0',\n",
       " '28708     22     23  28708     23     23     52     22     23    752',\n",
       " '  812    677    812    677    812    570    774    677    812    677',\n",
       " ' 2361   2361   2361   2361   2361   2361   2361   2361   2361   2360',\n",
       " '   23     23    752     23    617     52     23     23    752     23',\n",
       " '  752     39    747     23    513    747    747     23    747     23',\n",
       " '  989   1021   1020   1020     48   1021    544     21     21    242',\n",
       " '  752     23     23     23     23    752     23    752    752     23',\n",
       " '  747    350    747     23     23    751    350    350    350    752',\n",
       " '  718    306    270    721    717    720    719    570   1980   1980',\n",
       " '  752     23    752     23     23    752     23    752    752     52',\n",
       " '  270  32480  22776    167  32480  32481  22776  32480    167   2590',\n",
       " '   23  28708  28708     23  39287     23    752  39287  39287  39287',\n",
       " '32480     23   2589   2589   2589    390    940   2589    941    942',\n",
       " '  940    941    942    942    941    940   2589    940    941    942',\n",
       " '  941   2589   2589    319     29     32     30     22     35     22',\n",
       " '   23    242    242    182     29    568     23     23     21     21',\n",
       " '   39     30     29     30     22     22     39     22     37     22',\n",
       " '   37     22    270    270    270    270    270    270     29    167',\n",
       " '   33    167    167    167    167    362    363    360    364    360',\n",
       " '  167    363    364    362    363    167    360    364    362    167',\n",
       " '    3    167    384    167    167    363    167    363    167    363',\n",
       " '  812     22     99    812     99     99    812     99     22    677',\n",
       " '  167    167    363    362    364    360    363    384    167    362',\n",
       " '  360    363    167    167    167    167    364    363  32482   2427',\n",
       " '  139    609  32483   3285  32484    702  32485   3554   8119  32486',\n",
       " '  167    363   9493  32487   1800    363    167    167    363    167',\n",
       " '  167    167    102     38  32484   1434    106    728  32484    896',\n",
       " '  612  32484    109   1434  32484    107    105   4616    105    102',\n",
       " '  103     99    106    102    106  32484    109    102    113     22',\n",
       " '  105    109    896     39    109    102     22    105     29    113',\n",
       " '   55     56     55   4313   3110    516   4314    516   4315     30',\n",
       " '  570    570    570    197    196     55     56     53     52     52',\n",
       " ' 4314    117   4314    704   3110    704     23     37     29     22',\n",
       " '   23     21     50    963    963    963    963    963    963    963',\n",
       " '   35    516     32  32484     39  32484    270    270    270    270',\n",
       " '  270    167    270    167    167   3749    139    836  14426    138',\n",
       " '   21  18386    106     99    106     99  18386     52     53    196',\n",
       " '   30  14429   3100  14428   3775    836    138    139   3749   3775',\n",
       " '  836     37   3749    125   3749   3749   8085  14430    142    459',\n",
       " '  677    677    678    677    678     22    677     23     22     22',\n",
       " '  144    141  14430    392    139   3749    148     35   3777   3778',\n",
       " ' 3749     30     29     22     39     22     30    836    836    836',\n",
       " '   23    812    677     99     22    616    616    616    677    616',\n",
       " '  677    570    570     23    677    677    776     23    677    570',\n",
       " ' 3749    167    384      3    167    148   3749     33    270    270',\n",
       " '  616    570    812    677    617    678    677    812     99     99',\n",
       " '   48     52     22     52    984    984     23     21     39     22',\n",
       " '  270    270     29     33    270    167    167    167    167    167',\n",
       " '  196    197    570    322    117    117     56     55     55    570',\n",
       " ' 3253     29   3253     21     56     55     55    196    197     52',\n",
       " ' 2360     23     23     53     52     30    319    352     35     32',\n",
       " '   38    500    507    506    504    505    502    503    500    503',\n",
       " '  156     29     23     30     33     29     23     29     23     35',\n",
       " '  501    507     38    167    503  32488    506    622  32488    621',\n",
       " '32489  32490  32489    509    504    503    508  32488  32491     35',\n",
       " '  500    502    501    503     22  32491    506    256    503   1107',\n",
       " '   35    511    256    503    506    500     22  32491    502  32491',\n",
       " '  508     22     39     30    513     22   6831    151    502    500',\n",
       " '  501   2388    503     39    503    502    514    518    157    500',\n",
       " ' 1049    325    324    262     23     23     35     29     29     29',\n",
       " '  516     30     37    117     29  32491    162     39     22     37',\n",
       " '  963    963    963     23    570     21    963    963    963    962',\n",
       " '  946    948    951    950    946    948    945    946    946    949',\n",
       " '  945    947    946    945    951    953    945    947    946    953',\n",
       " '  946    947    952    957    953    947    946    958    953    946',\n",
       " ' 5768    681    338    681    704    681   5768    182    745    704',\n",
       " '  812     99     99     99    812     99    812     99     99     99',\n",
       " '32490    341  32490   2338   1919     37     37  32488     30   1919',\n",
       " '  947    958    946    953    947    946    953    957    947   1033',\n",
       " '  681     32     30    681    516     35    117    516     30     46',\n",
       " '  953    958    946    947    946    958    946   1033    946    958',\n",
       " '   21     21    568    989   1020    568   1021     21    989     21',\n",
       " '  946    954    948    948    946    946    946    946    946    946',\n",
       " '   33     37     23     35     23     29   2361     23    131     35',\n",
       " '  946    946    946    946    951    948    948    570    747     23',\n",
       " '  681     33     29    202     52   5858     37     52     21     21',\n",
       " '  322     23     29   2361   2361     37   2361     33     29     29',\n",
       " '32488     29     33    621  32489  32490  32489  32491     35     29',\n",
       " '  989    568   1020   1021    532    568    948    959     23     21',\n",
       " '  962     35     29    962    962    962     35     29    962    962',\n",
       " '   33     29    500    256    756  32492   1094    756   1094    500',\n",
       " ' 4594   4592     48   4594   4594    989     21    989   1021    532',\n",
       " '   35     29     32     37    962    962    962     35     29    962',\n",
       " '  500     37    167    167      3     22     33     29  32488  32488',\n",
       " '  812   1980   1980   1980   1980   3346   3346   1980    812   3347',\n",
       " ' 2360   2361     33    987    988    986   2361   2361   2361   2361',\n",
       " ' 1020   1021     22     39    568    568   4267     21   4267     21',\n",
       " '  621     30  32490  32489     35     32  32491  32489   1919     22',\n",
       " '  962     35     29    963    963     37     23    707    570     21',\n",
       " '   37     30  32488    621     33     29  32490  32489  32489  32491',\n",
       " '   35     37  32488     33     22     29    621     23  32489     23',\n",
       " '  812     22    812    616    812    616    570    616    616    617',\n",
       " '   52   1037    812     53     52     52     56     55     55     52',\n",
       " '   21   2281   2281     85     48     52  13168     21    679    676',\n",
       " '   30  32490     23     35  32491     22    319    319    117    384',\n",
       " '  197    625    722    722    722    722    722     52     22     52',\n",
       " '  570    812    570    812     99     99     23    616     99     99',\n",
       " '  167     37    167  32493  32493    490  32493    167  32493  32494',\n",
       " ' 2361     22   2361     22     22     22   2361     39   2361   2361',\n",
       " ' 7584   3887  32335   7584   7584   8746  32335   7584  32335   7584',\n",
       " ' 8746  32495    117   7584     29   1919     33   7584   7584    167',\n",
       " '   52     53     21   5406   5406   5406   5406   5406     21   5404',\n",
       " ' 5406   5404   5404   5406   5406   5404   5404   5406   5406   5404',\n",
       " ' 5406   5404   5406   5406   5404   5404   5406   5406   5404   5406',\n",
       " ' 5404   5404   5406   5406   5404   5406   5404   5406   5406   5406',\n",
       " '  722     22     39   7188   7187   7188   1995   7188   1994    890',\n",
       " ' 5406   5406   5406   5406   5406   5406   5406   5406   5406   5406',\n",
       " '   85    388   1359   1122   1359     85   4329   1373   3848    797',\n",
       " ' 5406   5406   5406   5406   5406   5406   5406   5406   5406   5406',\n",
       " ' 5406   5406   5406   5406   5406   5406   5406     23     21     56',\n",
       " ' 5898   5898   5898     23   1228     21   1229     21   1102     21',\n",
       " ' 2361   2361   2361     23     56     55     22    570      0      0',\n",
       " '   56     55     48     48    202     21    513     23   4191    784',\n",
       " '   30   7584   7584      3    167    384    167    167    167    363',\n",
       " ' 1980   1980   1980    812    812   3347   1980   1980   1980   1980',\n",
       " '   23    814     39    815     22    570    570    812      0      0',\n",
       " '   99    812     99     99     99     99     99    812     99    812',\n",
       " '   55     56      0      0      0      0      0      0      0      0',\n",
       " '   23    784     56     55     55   4313    516   3110   4314    117',\n",
       " '   22    570    570    677    677    816    812     39    676    677',\n",
       " '   55     55     55    988    986    987      0      0      0      0',\n",
       " '  896   7188    896    896   7188   7188   1995   1994   1995   1995',\n",
       " '   99     99     99    776     99    812     99    816     99     99',\n",
       " '   55     55     57     49     52     53     52     52     52    800',\n",
       " '  988    986    987      0      0      0      0      0      0      0',\n",
       " ' 1995   1995   1995    896   1995    896   7188    896   7188   7188',\n",
       " ' 1980   1980   3347   1980   1980   1980   1980    815    812     21',\n",
       " ' 3849    942    617    940    941     52     52     21     52     52',\n",
       " ' 7188   7188   7188   7188   7188   7188     45     52     23    656',\n",
       " '  948    959     56     55     55    945    952    945    948    957',\n",
       " '   56     55     55     55     56      0      0      0      0      0',\n",
       " '  962    962     29     35    962     35     29    962    962    962',\n",
       " '  962    962    962    962    962    962    962    962    962    962',\n",
       " '  962    962    962    962    962    962    962    962    962     37',\n",
       " '  959    948    948    959      0      0      0      0      0      0',\n",
       " '28484  28484    570     21     30     38  28484  28484     32  28484',\n",
       " '   99     99     99     99     99     99     99     99     99     99',\n",
       " '   35     29     33     29  28484     30  28484     35    812     29',\n",
       " ' 1980   1980   1980     37     33     29     30  28484  28484  28484',\n",
       " '  962     35    962    962     29    962    962    962    962    962',\n",
       " '  962    962    962    962    962    962    962    962    962    962',\n",
       " '  962    962    962    962    962    962    962    962    962    962',\n",
       " '  962    962    962    962    962     37    962    962    962    962',\n",
       " '  962    962    962    962    962    962    962    962    962    962',\n",
       " '   29     35     33     29    812     21  28485     37  28485    812',\n",
       " '  962    962    962    962    962    962    962    962    962    962',\n",
       " '  962    962    962    962    962    962    962    962    962    962',\n",
       " '  962    962    962    962    962    962    962    962    962    962',\n",
       " ' 1102   1102     23    707     21     56     55     55      0      0',\n",
       " '  962    962    962    962    962    962    962    962    962    962',\n",
       " '   53     52     21     38    989    753   1020    989   1021   1021',\n",
       " '  962    962    962    962    962    962    962    962    962     30',\n",
       " '   48    544     21    989    989   1020   1021     21  25218     30',\n",
       " '  167    167      3    167    167    167    167    363    167    363',\n",
       " '  362    360    363    167    362    500    609    606    766    167',\n",
       " '  363  32496  22705    337   1548  32497    340    167  32498    363',\n",
       " '  384      3    167    167    167    167    363    167    363    363',\n",
       " ' 1798    362    364    384    167    360    363    363    362    360',\n",
       " '  167    363    364    363    360    362    167    364    167    363',\n",
       " '  167    363    167    167    363    167    167    362    363    167',\n",
       " '  360    364    362    364    167    360    363    363    167    167',\n",
       " '   46  25218     46     21    106     38    303    551     30   1434',\n",
       " '  363    364    360    362    167    363    360    364    362    167',\n",
       " '  360    363    362    364    167    363    167    167    363    362',\n",
       " '  962     35    962     29    962     35    962     29    962    962',\n",
       " '  363    167    360    364    167    363    167    360    362    364',\n",
       " '  363    363    167    167    167    167    363    167    167    362',\n",
       " '   99    812     99     99     99    570     99     99     99     99',\n",
       " '   23     52     23     52     23     52     23   1018   1017    317',\n",
       " '11235     22     99    551     56     55     55     37    568    990',\n",
       " '   45     21     20     21     23     22     23     21    812     22',\n",
       " ' 1017   1019    318    317      0      0      0      0      0      0',\n",
       " '  962    962    962    962    962    962    962    962    962    962',\n",
       " ' 3729   7412   9587   8060    384    167   3729    363    687  32499',\n",
       " '32500    655  32501    684  32502  32503    363    167    363    363',\n",
       " '  962    962    962    962    962    962    962    962    962    962',\n",
       " '   39    812     21    812     23     39     23     22    812    812',\n",
       " '  363    167    363    363    167    363    363    167    167    167',\n",
       " '  962    962    962    962    962     37    962    962    962    962',\n",
       " '  676     22    679     22     39    676    679     22    812    812',\n",
       " '  364    167    362    360    363    364    360    362    167    363',\n",
       " '   23     52     23   3480   3480    677     23     21   3480     39',\n",
       " '  962    962    962    962    962    962    962     35     29    962',\n",
       " '  363    364    360    362    167    139      3    384    167    656',\n",
       " '  766    139    500  14869    167    363    363    363    363    167',\n",
       " '   23    570    814    814    815    812    570    812     22    815',\n",
       " '   29     45   1434  11235  11236     52  11235     52    568     23',\n",
       " '  167    139    363   2427  32304    167    363    363    363    167',\n",
       " '  962     35     29     37     55     56     55     39     23     23',\n",
       " '  167    363    363    270    270    167    167    270    270    270',\n",
       " '  774    677     63     66    677    677    677    812     22    774',\n",
       " '   21    570      0      0      0      0      0      0      0      0',\n",
       " '   23   1379   1379     21     38    989    753    989   1021   1020',\n",
       " '  679     22    677    616     23     49     52     53     52    800',\n",
       " '   52     52     52     21    678    679    676     39    677     23',\n",
       " '   21  25219     35     29     30  25219  25219  25219  25219  25219',\n",
       " ' 1021     48    544     55     56     55    752    568     48    990',\n",
       " '   22     21    616     52     52     53     52    800     21    676',\n",
       " '   21   5898   5898     38     21   9691    175   9691    175     21',\n",
       " '  175   9691    178    176    989   1020    989   9691     21   1021',\n",
       " '  568    989    175   1021    532    175   9691     21    568     23',\n",
       " '   55     55     55     55     55     55     55    196    197    625',\n",
       " '   99     99     99    570    776     99    812     99     99     99',\n",
       " '  707    677     39     23    988    987    986     23     52     23',\n",
       " '25219     37  25220     22     39     29     33     32      0      0',\n",
       " ' 1922    784     71   6905   6905     71     14   1922   6898     65',\n",
       " '   52    197    196     53    625      0      0      0      0      0',\n",
       " '   52     52     52     52     56     21    570     22     39     23',\n",
       " '   52     52    676    679   5932    229     21    814     23    815',\n",
       " '  946    948    951    945    948    958    946    945    949    956',\n",
       " '  950    947    951    949    945    946    950    946    953    947',\n",
       " '  946    953    947    953    946    947    947    953    946    946',\n",
       " '  947    953    953    946    947    954    947    946    953    957',\n",
       " '  946    947    946    948    948    948    948    784      0      0',\n",
       " '   23     21    989     21   1021    989     21     21  35776  35776',\n",
       " '   55     56     55    948    959    948    959      0      0      0',\n",
       " '  812    812   6801     52     53   6801     21   6801     21    812',\n",
       " '  812    616     23     23    679     21    616    812    676     39',\n",
       " '   99    816     99     99     99     99     99     99     99     99',\n",
       " '  812    774     21    812    570     21     21    812    812     73',\n",
       " '   52     52   5933     21   5933   5933    812     39     23    679',\n",
       " '   55     56     55    800    784      0      0      0      0      0',\n",
       " '   21     21     21   1021    989   1021     21   9691   9691    175',\n",
       " '28854  35776  35776  35776  35776  35776  35776  35776    570     39',\n",
       " '  677     39    678     23    676    679      0      0      0      0',\n",
       " '  812      0      0      0      0      0      0      0      0      0',\n",
       " '   39   1038     22    847    774    570     21   5933    196    197',\n",
       " '  178   9691     21    989    989   1021    568    568   3346   3346',\n",
       " '  616    677    617    570    677    570    678      0      0      0',\n",
       " '   21     21    707     23    570     21    197    196      0      0',\n",
       " ' 1037    812    676     39    812    679    676    679     39    812',\n",
       " '   99     99     99     99     99     99     99    812     99     21',\n",
       " '   22      0      0      0      0      0      0      0      0      0',\n",
       " '  814     23     22    812     23     22    816    815     39    812',\n",
       " '  815     22     22   9908   1903     30   1903   4238   9908     37',\n",
       " '  722    722    812    812      0      0      0      0      0      0',\n",
       " '   23     39    229     21    940    941    942   5932    679    676',\n",
       " '  812      0      0      0      0      0      0      0      0      0',\n",
       " ' 5932   6800      0      0      0      0      0      0      0      0',\n",
       " '   22     37    812   1547   1547   1547     29     45    106   1921',\n",
       " '  820    820     45     21     21     23     21     23     21    106',\n",
       " ' 6897   1922      0      0      0      0      0      0      0      0',\n",
       " ' 3359      0      0      0      0      0      0      0      0      0',\n",
       " ' 1921   1921   1921   1921   1921   2425  19452   2426   2427   2425',\n",
       " ' 4314   4315    516     30     48   4314   3110    704    704    704',\n",
       " '   23     37     23   2155     23     38   2155    145   2156   2155',\n",
       " ' 3062   2427   2426   2428   2427   2425   2427   2425  21705    399',\n",
       " '  399  11333   2426  11333   2425   2425   2426    395    394    394',\n",
       " '  140    396    397   2426   3106   3634   2376   2426   3634   3106',\n",
       " ' 2428   2428   2428   2428   2428   2428   2428   2428   3106     21',\n",
       " ' 4802     23   4803     38   4804     38   4802   4804   4804     21',\n",
       " '   29   2156   2155   2155     22     23     23     23     23  18598',\n",
       " ' 1035     23     21     21     22     23     21     22      2      3',\n",
       " '   23   2428     22     23     21   2428   2428   2428   2428   2428',\n",
       " '   21     22     21    570    570     22     21   9894    102   1036',\n",
       " ' 1903    106    106    106     21     22     21    229     22     21',\n",
       " ' 9894     76     30   4616     22   9894     75     77      1    103',\n",
       " '  106     22     37    105     75     22     37    102    113     39',\n",
       " '   77     99    103    106     22    102     39     22    103     39',\n",
       " '   21     23     21   9901    102   9894   9894     30     76    105',\n",
       " '  102   9894     99   9895     45     29   9894   9894     99     99',\n",
       " '   22     23     45     21     23     22   4804   4804     63   4804',\n",
       " '  270    167    167    167    360    363    364    362    362    167',\n",
       " '  364    360    363    167    360    362    364    363      3    384',\n",
       " '  167    363    167    167    167    167    363    167    363    167',\n",
       " '37616  20058     21     23      3  20058  20058      3      3      4',\n",
       " '  360    364    362    384    363    167    360    362    364    167',\n",
       " '  363    167    363    363    167    167    363    362    360    167',\n",
       " '  364    363    363    167    362    363    360    364    362    363',\n",
       " '   22   9894     75     99   4616    103     37    106     22    105',\n",
       " ' 2428   2428   2428   2428   2428   2428     21     38   2428   2428',\n",
       " '  106     75     39    103   9894     77     75     39    113    102',\n",
       " '  364    167    360    167    362    360    364    363    362    167',\n",
       " '   37    102     22   9894   9895   9894     76    879     80     76',\n",
       " '  784      0      0      0      0      0      0      0      0      0',\n",
       " '  360    363    363    363    167    360    364    362    270    270',\n",
       " '  270    270    270    270    270    270    270    167   1548    167',\n",
       " '   56     55     55      0      0      0      0      0      0      0',\n",
       " ' 1548   1548   1548    270    270    270    270    270    270    270',\n",
       " '   39    102     80    879     77    879     80     80    879    879',\n",
       " '  568  18598  18598     32     35     29  18598  18598  18598     30',\n",
       " '   77    879     80     77     80    879    879     75     77     77',\n",
       " '20058      5      6  20058      5      7  20058      8      5      7',\n",
       " ' 2155     22     39     37   2155     37     39     33     29  18598',\n",
       " ...]"
      ]
     },
     "execution_count": 94,
     "metadata": {},
     "output_type": "execute_result"
    }
   ],
   "source": [
    "column_sites = ['site'+str(i) for i in range(1, 11)]\n",
    "train_df[column_sites].to_string(index=False, header=False, na_rep='').split('\\n')"
   ]
  },
  {
   "cell_type": "code",
   "execution_count": null,
   "metadata": {
    "collapsed": true
   },
   "outputs": [],
   "source": []
  },
  {
   "cell_type": "code",
   "execution_count": 23,
   "metadata": {
    "collapsed": true
   },
   "outputs": [],
   "source": [
    "site=[\"site%s\" % i for i in range(1, 11)]\n",
    "full_df = pd.concat([train_df.drop('target', axis=1), test_df])\n",
    "idx=train_df.shape[0]\n",
    "full_df[site]=full_df[site].fillna(float(0))"
   ]
  },
  {
   "cell_type": "code",
   "execution_count": 97,
   "metadata": {
    "collapsed": true
   },
   "outputs": [],
   "source": [
    "full_df['str0']=full_df[site].apply(lambda x: str( \" \".join([str(a) for a in x.values if a != 0])), axis=1)"
   ]
  },
  {
   "cell_type": "code",
   "execution_count": 26,
   "metadata": {
    "collapsed": true
   },
   "outputs": [],
   "source": [
    "import warnings\n",
    "warnings.filterwarnings('ignore')\n",
    "%matplotlib inline\n",
    "from matplotlib import pyplot as plt\n",
    "import seaborn as sns\n",
    "import os\n",
    "import numpy as np\n",
    "import pandas as pd\n",
    "from scipy.sparse import csr_matrix, hstack\n",
    "from sklearn.preprocessing import StandardScaler, OneHotEncoder\n",
    "from sklearn.model_selection import StratifiedKFold\n",
    "from sklearn.metrics import roc_auc_score\n",
    "from sklearn.linear_model import LogisticRegression, LogisticRegressionCV\n",
    "from sklearn.feature_extraction.text import TfidfVectorizer, CountVectorizer, TfidfTransformer\n",
    "from sklearn.tree import DecisionTreeClassifier\n",
    "from sklearn.model_selection import GridSearchCV, StratifiedKFold\n",
    "from sklearn.metrics import roc_auc_score\n",
    "from sklearn.ensemble import RandomForestClassifier\n",
    "from collections import Counter\n",
    "import pickle\n",
    "from sklearn.pipeline import Pipeline"
   ]
  },
  {
   "cell_type": "code",
   "execution_count": 28,
   "metadata": {
    "collapsed": true
   },
   "outputs": [],
   "source": [
    "y = train_df['target']"
   ]
  },
  {
   "cell_type": "code",
   "execution_count": 102,
   "metadata": {
    "scrolled": true
   },
   "outputs": [
    {
     "ename": "KeyboardInterrupt",
     "evalue": "",
     "output_type": "error",
     "traceback": [
      "\u001b[1;31m---------------------------------------------------------------------------\u001b[0m",
      "\u001b[1;31mKeyboardInterrupt\u001b[0m                         Traceback (most recent call last)",
      "\u001b[1;32m<ipython-input-102-847477591205>\u001b[0m in \u001b[0;36m<module>\u001b[1;34m()\u001b[0m\n\u001b[0;32m      2\u001b[0m \u001b[0mpipeline0\u001b[0m\u001b[1;33m.\u001b[0m\u001b[0mfit\u001b[0m\u001b[1;33m(\u001b[0m\u001b[0mfull_df\u001b[0m\u001b[1;33m[\u001b[0m\u001b[1;34m'str0'\u001b[0m\u001b[1;33m]\u001b[0m\u001b[1;33m[\u001b[0m\u001b[1;33m:\u001b[0m\u001b[0midx\u001b[0m\u001b[1;33m]\u001b[0m\u001b[1;33m.\u001b[0m\u001b[0mravel\u001b[0m\u001b[1;33m(\u001b[0m\u001b[1;33m)\u001b[0m\u001b[1;33m,\u001b[0m\u001b[0my\u001b[0m\u001b[1;33m)\u001b[0m\u001b[1;33m\u001b[0m\u001b[0m\n\u001b[0;32m      3\u001b[0m \u001b[1;33m\u001b[0m\u001b[0m\n\u001b[1;32m----> 4\u001b[1;33m \u001b[0mX_train0\u001b[0m \u001b[1;33m=\u001b[0m \u001b[0mpipeline0\u001b[0m\u001b[1;33m.\u001b[0m\u001b[0mtransform\u001b[0m\u001b[1;33m(\u001b[0m\u001b[0mfull_df\u001b[0m\u001b[1;33m[\u001b[0m\u001b[1;34m'str0'\u001b[0m\u001b[1;33m]\u001b[0m\u001b[1;33m[\u001b[0m\u001b[1;33m:\u001b[0m\u001b[0midx\u001b[0m\u001b[1;33m]\u001b[0m\u001b[1;33m.\u001b[0m\u001b[0mravel\u001b[0m\u001b[1;33m(\u001b[0m\u001b[1;33m)\u001b[0m\u001b[1;33m)\u001b[0m\u001b[1;33m\u001b[0m\u001b[0m\n\u001b[0m\u001b[0;32m      5\u001b[0m \u001b[0mX_test0\u001b[0m \u001b[1;33m=\u001b[0m \u001b[0mpipeline0\u001b[0m\u001b[1;33m.\u001b[0m\u001b[0mtransform\u001b[0m\u001b[1;33m(\u001b[0m\u001b[0mfull_df\u001b[0m\u001b[1;33m[\u001b[0m\u001b[1;34m'str0'\u001b[0m\u001b[1;33m]\u001b[0m\u001b[1;33m[\u001b[0m\u001b[0midx\u001b[0m\u001b[1;33m:\u001b[0m\u001b[1;33m]\u001b[0m\u001b[1;33m.\u001b[0m\u001b[0mravel\u001b[0m\u001b[1;33m(\u001b[0m\u001b[1;33m)\u001b[0m\u001b[1;33m)\u001b[0m\u001b[1;33m\u001b[0m\u001b[0m\n",
      "\u001b[1;32mC:\\Anaconda2\\lib\\site-packages\\sklearn\\pipeline.pyc\u001b[0m in \u001b[0;36m_transform\u001b[1;34m(self, X)\u001b[0m\n\u001b[0;32m    443\u001b[0m         \u001b[1;32mfor\u001b[0m \u001b[0mname\u001b[0m\u001b[1;33m,\u001b[0m \u001b[0mtransform\u001b[0m \u001b[1;32min\u001b[0m \u001b[0mself\u001b[0m\u001b[1;33m.\u001b[0m\u001b[0msteps\u001b[0m\u001b[1;33m:\u001b[0m\u001b[1;33m\u001b[0m\u001b[0m\n\u001b[0;32m    444\u001b[0m             \u001b[1;32mif\u001b[0m \u001b[0mtransform\u001b[0m \u001b[1;32mis\u001b[0m \u001b[1;32mnot\u001b[0m \u001b[0mNone\u001b[0m\u001b[1;33m:\u001b[0m\u001b[1;33m\u001b[0m\u001b[0m\n\u001b[1;32m--> 445\u001b[1;33m                 \u001b[0mXt\u001b[0m \u001b[1;33m=\u001b[0m \u001b[0mtransform\u001b[0m\u001b[1;33m.\u001b[0m\u001b[0mtransform\u001b[0m\u001b[1;33m(\u001b[0m\u001b[0mXt\u001b[0m\u001b[1;33m)\u001b[0m\u001b[1;33m\u001b[0m\u001b[0m\n\u001b[0m\u001b[0;32m    446\u001b[0m         \u001b[1;32mreturn\u001b[0m \u001b[0mXt\u001b[0m\u001b[1;33m\u001b[0m\u001b[0m\n\u001b[0;32m    447\u001b[0m \u001b[1;33m\u001b[0m\u001b[0m\n",
      "\u001b[1;32mC:\\Anaconda2\\lib\\site-packages\\sklearn\\feature_extraction\\text.pyc\u001b[0m in \u001b[0;36mtransform\u001b[1;34m(self, raw_documents, copy)\u001b[0m\n\u001b[0;32m   1378\u001b[0m         \u001b[0mcheck_is_fitted\u001b[0m\u001b[1;33m(\u001b[0m\u001b[0mself\u001b[0m\u001b[1;33m,\u001b[0m \u001b[1;34m'_tfidf'\u001b[0m\u001b[1;33m,\u001b[0m \u001b[1;34m'The tfidf vector is not fitted'\u001b[0m\u001b[1;33m)\u001b[0m\u001b[1;33m\u001b[0m\u001b[0m\n\u001b[0;32m   1379\u001b[0m \u001b[1;33m\u001b[0m\u001b[0m\n\u001b[1;32m-> 1380\u001b[1;33m         \u001b[0mX\u001b[0m \u001b[1;33m=\u001b[0m \u001b[0msuper\u001b[0m\u001b[1;33m(\u001b[0m\u001b[0mTfidfVectorizer\u001b[0m\u001b[1;33m,\u001b[0m \u001b[0mself\u001b[0m\u001b[1;33m)\u001b[0m\u001b[1;33m.\u001b[0m\u001b[0mtransform\u001b[0m\u001b[1;33m(\u001b[0m\u001b[0mraw_documents\u001b[0m\u001b[1;33m)\u001b[0m\u001b[1;33m\u001b[0m\u001b[0m\n\u001b[0m\u001b[0;32m   1381\u001b[0m         \u001b[1;32mreturn\u001b[0m \u001b[0mself\u001b[0m\u001b[1;33m.\u001b[0m\u001b[0m_tfidf\u001b[0m\u001b[1;33m.\u001b[0m\u001b[0mtransform\u001b[0m\u001b[1;33m(\u001b[0m\u001b[0mX\u001b[0m\u001b[1;33m,\u001b[0m \u001b[0mcopy\u001b[0m\u001b[1;33m=\u001b[0m\u001b[0mFalse\u001b[0m\u001b[1;33m)\u001b[0m\u001b[1;33m\u001b[0m\u001b[0m\n",
      "\u001b[1;32mC:\\Anaconda2\\lib\\site-packages\\sklearn\\feature_extraction\\text.pyc\u001b[0m in \u001b[0;36mtransform\u001b[1;34m(self, raw_documents)\u001b[0m\n\u001b[0;32m    891\u001b[0m \u001b[1;33m\u001b[0m\u001b[0m\n\u001b[0;32m    892\u001b[0m         \u001b[1;31m# use the same matrix-building strategy as fit_transform\u001b[0m\u001b[1;33m\u001b[0m\u001b[1;33m\u001b[0m\u001b[0m\n\u001b[1;32m--> 893\u001b[1;33m         \u001b[0m_\u001b[0m\u001b[1;33m,\u001b[0m \u001b[0mX\u001b[0m \u001b[1;33m=\u001b[0m \u001b[0mself\u001b[0m\u001b[1;33m.\u001b[0m\u001b[0m_count_vocab\u001b[0m\u001b[1;33m(\u001b[0m\u001b[0mraw_documents\u001b[0m\u001b[1;33m,\u001b[0m \u001b[0mfixed_vocab\u001b[0m\u001b[1;33m=\u001b[0m\u001b[0mTrue\u001b[0m\u001b[1;33m)\u001b[0m\u001b[1;33m\u001b[0m\u001b[0m\n\u001b[0m\u001b[0;32m    894\u001b[0m         \u001b[1;32mif\u001b[0m \u001b[0mself\u001b[0m\u001b[1;33m.\u001b[0m\u001b[0mbinary\u001b[0m\u001b[1;33m:\u001b[0m\u001b[1;33m\u001b[0m\u001b[0m\n\u001b[0;32m    895\u001b[0m             \u001b[0mX\u001b[0m\u001b[1;33m.\u001b[0m\u001b[0mdata\u001b[0m\u001b[1;33m.\u001b[0m\u001b[0mfill\u001b[0m\u001b[1;33m(\u001b[0m\u001b[1;36m1\u001b[0m\u001b[1;33m)\u001b[0m\u001b[1;33m\u001b[0m\u001b[0m\n",
      "\u001b[1;32mC:\\Anaconda2\\lib\\site-packages\\sklearn\\feature_extraction\\text.pyc\u001b[0m in \u001b[0;36m_count_vocab\u001b[1;34m(self, raw_documents, fixed_vocab)\u001b[0m\n\u001b[0;32m    760\u001b[0m         \u001b[1;32mfor\u001b[0m \u001b[0mdoc\u001b[0m \u001b[1;32min\u001b[0m \u001b[0mraw_documents\u001b[0m\u001b[1;33m:\u001b[0m\u001b[1;33m\u001b[0m\u001b[0m\n\u001b[0;32m    761\u001b[0m             \u001b[0mfeature_counter\u001b[0m \u001b[1;33m=\u001b[0m \u001b[1;33m{\u001b[0m\u001b[1;33m}\u001b[0m\u001b[1;33m\u001b[0m\u001b[0m\n\u001b[1;32m--> 762\u001b[1;33m             \u001b[1;32mfor\u001b[0m \u001b[0mfeature\u001b[0m \u001b[1;32min\u001b[0m \u001b[0manalyze\u001b[0m\u001b[1;33m(\u001b[0m\u001b[0mdoc\u001b[0m\u001b[1;33m)\u001b[0m\u001b[1;33m:\u001b[0m\u001b[1;33m\u001b[0m\u001b[0m\n\u001b[0m\u001b[0;32m    763\u001b[0m                 \u001b[1;32mtry\u001b[0m\u001b[1;33m:\u001b[0m\u001b[1;33m\u001b[0m\u001b[0m\n\u001b[0;32m    764\u001b[0m                     \u001b[0mfeature_idx\u001b[0m \u001b[1;33m=\u001b[0m \u001b[0mvocabulary\u001b[0m\u001b[1;33m[\u001b[0m\u001b[0mfeature\u001b[0m\u001b[1;33m]\u001b[0m\u001b[1;33m\u001b[0m\u001b[0m\n",
      "\u001b[1;32mC:\\Anaconda2\\lib\\site-packages\\sklearn\\feature_extraction\\text.pyc\u001b[0m in \u001b[0;36m<lambda>\u001b[1;34m(doc)\u001b[0m\n\u001b[0;32m    239\u001b[0m \u001b[1;33m\u001b[0m\u001b[0m\n\u001b[0;32m    240\u001b[0m             return lambda doc: self._word_ngrams(\n\u001b[1;32m--> 241\u001b[1;33m                 tokenize(preprocess(self.decode(doc))), stop_words)\n\u001b[0m\u001b[0;32m    242\u001b[0m \u001b[1;33m\u001b[0m\u001b[0m\n\u001b[0;32m    243\u001b[0m         \u001b[1;32melse\u001b[0m\u001b[1;33m:\u001b[0m\u001b[1;33m\u001b[0m\u001b[0m\n",
      "\u001b[1;32mC:\\Anaconda2\\lib\\site-packages\\sklearn\\feature_extraction\\text.pyc\u001b[0m in \u001b[0;36m_word_ngrams\u001b[1;34m(self, tokens, stop_words)\u001b[0m\n\u001b[0;32m    138\u001b[0m             for n in xrange(min_n,\n\u001b[0;32m    139\u001b[0m                             min(max_n + 1, n_original_tokens + 1)):\n\u001b[1;32m--> 140\u001b[1;33m                 \u001b[1;32mfor\u001b[0m \u001b[0mi\u001b[0m \u001b[1;32min\u001b[0m \u001b[0mxrange\u001b[0m\u001b[1;33m(\u001b[0m\u001b[0mn_original_tokens\u001b[0m \u001b[1;33m-\u001b[0m \u001b[0mn\u001b[0m \u001b[1;33m+\u001b[0m \u001b[1;36m1\u001b[0m\u001b[1;33m)\u001b[0m\u001b[1;33m:\u001b[0m\u001b[1;33m\u001b[0m\u001b[0m\n\u001b[0m\u001b[0;32m    141\u001b[0m                     \u001b[0mtokens\u001b[0m\u001b[1;33m.\u001b[0m\u001b[0mappend\u001b[0m\u001b[1;33m(\u001b[0m\u001b[1;34m\" \"\u001b[0m\u001b[1;33m.\u001b[0m\u001b[0mjoin\u001b[0m\u001b[1;33m(\u001b[0m\u001b[0moriginal_tokens\u001b[0m\u001b[1;33m[\u001b[0m\u001b[0mi\u001b[0m\u001b[1;33m:\u001b[0m \u001b[0mi\u001b[0m \u001b[1;33m+\u001b[0m \u001b[0mn\u001b[0m\u001b[1;33m]\u001b[0m\u001b[1;33m)\u001b[0m\u001b[1;33m)\u001b[0m\u001b[1;33m\u001b[0m\u001b[0m\n\u001b[0;32m    142\u001b[0m \u001b[1;33m\u001b[0m\u001b[0m\n",
      "\u001b[1;31mKeyboardInterrupt\u001b[0m: "
     ]
    }
   ],
   "source": [
    "pipeline0 = Pipeline([(\"vectorize\", TfidfVectorizer(ngram_range=(1, 3), max_features=100000)), (\"tfidf\", TfidfTransformer())])\n",
    "pipeline0.fit(full_df['str0'][:idx].ravel(),y)\n",
    "\n",
    "X_train0 = pipeline0.transform(full_df['str0'][:idx].ravel())\n",
    "X_test0 = pipeline0.transform(full_df['str0'][idx:].ravel())"
   ]
  },
  {
   "cell_type": "code",
   "execution_count": null,
   "metadata": {
    "collapsed": true
   },
   "outputs": [],
   "source": []
  },
  {
   "cell_type": "code",
   "execution_count": 21,
   "metadata": {
    "collapsed": true
   },
   "outputs": [],
   "source": [
    "with open('../../data/site_dic.pkl', \"rb\") as inp_file:\n",
    "    site_dic = pickle.load(inp_file)\n",
    "\n",
    "inv_site_dic = {v: k for k, v in site_dic.items()}\n",
    "inv_site_dic.update({0: ''})"
   ]
  },
  {
   "cell_type": "code",
   "execution_count": null,
   "metadata": {
    "collapsed": true
   },
   "outputs": [],
   "source": []
  },
  {
   "cell_type": "code",
   "execution_count": null,
   "metadata": {
    "collapsed": true
   },
   "outputs": [],
   "source": []
  },
  {
   "cell_type": "code",
   "execution_count": null,
   "metadata": {
    "collapsed": true
   },
   "outputs": [],
   "source": []
  },
  {
   "cell_type": "code",
   "execution_count": null,
   "metadata": {
    "collapsed": true
   },
   "outputs": [],
   "source": []
  },
  {
   "cell_type": "code",
   "execution_count": 24,
   "metadata": {},
   "outputs": [],
   "source": [
    "full_df['str']=full_df[site].apply(lambda x: \" \".join( [inv_site_dic[a] for a in x.values if a != 0]), axis=1)\n",
    "full_df['str']=full_df['str'].apply(lambda x: x.replace('.', ' '))"
   ]
  },
  {
   "cell_type": "code",
   "execution_count": 29,
   "metadata": {},
   "outputs": [
    {
     "name": "stdout",
     "output_type": "stream",
     "text": [
      "Wall time: 1min 21s\n"
     ]
    }
   ],
   "source": [
    "%%time\n",
    "pipeline = Pipeline([(\"vectorize\", TfidfVectorizer(ngram_range=(1, 3), max_features=100000)), (\"tfidf\", TfidfTransformer())])\n",
    "pipeline.fit(full_df['str'][:idx].ravel(),y)\n",
    "\n",
    "X_train = pipeline.transform(full_df['str'][:idx].ravel())\n",
    "X_test = pipeline.transform(full_df['str'][idx:].ravel())"
   ]
  },
  {
   "cell_type": "code",
   "execution_count": 109,
   "metadata": {},
   "outputs": [
    {
     "data": {
      "text/plain": [
       "<253561x100000 sparse matrix of type '<type 'numpy.float64'>'\n",
       "\twith 10782248 stored elements in Compressed Sparse Row format>"
      ]
     },
     "execution_count": 109,
     "metadata": {},
     "output_type": "execute_result"
    }
   ],
   "source": []
  },
  {
   "cell_type": "code",
   "execution_count": 110,
   "metadata": {},
   "outputs": [
    {
     "name": "stdout",
     "output_type": "stream",
     "text": [
      "Wall time: 2min 4s\n"
     ]
    }
   ],
   "source": [
    "%%time\n",
    "\n",
    "cv_scores = cross_val_score(logit, X_train, y_train, cv=time_split, \n",
    "                            scoring='roc_auc', n_jobs=2) # hangs with n_jobs > 1, and locally this runs much faster"
   ]
  },
  {
   "cell_type": "code",
   "execution_count": 111,
   "metadata": {},
   "outputs": [
    {
     "data": {
      "text/plain": [
       "(array([ 0.78775387,  0.65327624,  0.86849087,  0.94255134,  0.83400806,\n",
       "         0.86883177,  0.90653312,  0.88133506,  0.92016224,  0.92841155]),\n",
       " 0.85913541173136654)"
      ]
     },
     "execution_count": 111,
     "metadata": {},
     "output_type": "execute_result"
    }
   ],
   "source": [
    "cv_scores, cv_scores.mean()"
   ]
  },
  {
   "cell_type": "code",
   "execution_count": 113,
   "metadata": {},
   "outputs": [
    {
     "data": {
      "text/plain": [
       "0.96117249982623942"
      ]
     },
     "execution_count": 113,
     "metadata": {},
     "output_type": "execute_result"
    }
   ],
   "source": [
    "get_auc_lr_valid(X_train, y_train, ratio=0.7)"
   ]
  },
  {
   "cell_type": "code",
   "execution_count": 30,
   "metadata": {
    "collapsed": true
   },
   "outputs": [],
   "source": [
    "X_train_tfidf_alicemin2 = csr_matrix(hstack([X_train, \n",
    "                             new_feat_train['alice_tminutes2'].values.reshape(-1, 1)]))\n",
    "X_test_tfidf_alicemin2  = csr_matrix(hstack([X_test, \n",
    "                             new_feat_test['alice_tminutes2'].values.reshape(-1, 1)]))"
   ]
  },
  {
   "cell_type": "code",
   "execution_count": 115,
   "metadata": {},
   "outputs": [
    {
     "name": "stdout",
     "output_type": "stream",
     "text": [
      "Wall time: 1min 41s\n"
     ]
    }
   ],
   "source": [
    "%%time\n",
    "\n",
    "cv_scores = cross_val_score(logit, X_train_tfidf_alicemin2, y_train, cv=time_split, \n",
    "                            scoring='roc_auc', n_jobs=2) # hangs with n_jobs > 1, and locally this runs much faster"
   ]
  },
  {
   "cell_type": "code",
   "execution_count": 116,
   "metadata": {},
   "outputs": [
    {
     "data": {
      "text/plain": [
       "(array([ 0.89829926,  0.87260569,  0.9513416 ,  0.94842278,  0.94549648,\n",
       "         0.95119351,  0.84022791,  0.95368611,  0.97250591,  0.96702898]),\n",
       " 0.93008082297696004)"
      ]
     },
     "execution_count": 116,
     "metadata": {},
     "output_type": "execute_result"
    }
   ],
   "source": [
    "cv_scores, cv_scores.mean()"
   ]
  },
  {
   "cell_type": "code",
   "execution_count": null,
   "metadata": {
    "collapsed": true
   },
   "outputs": [],
   "source": []
  },
  {
   "cell_type": "code",
   "execution_count": 31,
   "metadata": {
    "collapsed": true
   },
   "outputs": [],
   "source": [
    "from xgboost import XGBRegressor"
   ]
  },
  {
   "cell_type": "code",
   "execution_count": 32,
   "metadata": {
    "collapsed": true
   },
   "outputs": [],
   "source": [
    "xgbmodel = XGBRegressor()"
   ]
  },
  {
   "cell_type": "code",
   "execution_count": 37,
   "metadata": {
    "collapsed": true
   },
   "outputs": [],
   "source": [
    "time_split = TimeSeriesSplit(n_splits=10)"
   ]
  },
  {
   "cell_type": "code",
   "execution_count": 33,
   "metadata": {
    "collapsed": true
   },
   "outputs": [],
   "source": [
    "time_split_3 = TimeSeriesSplit(n_splits=3)"
   ]
  },
  {
   "cell_type": "code",
   "execution_count": 36,
   "metadata": {},
   "outputs": [
    {
     "ename": "NameError",
     "evalue": "name 'time_split' is not defined",
     "output_type": "error",
     "traceback": [
      "\u001b[1;31m---------------------------------------------------------------------------\u001b[0m",
      "\u001b[1;31mNameError\u001b[0m                                 Traceback (most recent call last)",
      "\u001b[1;32m<timed exec>\u001b[0m in \u001b[0;36m<module>\u001b[1;34m()\u001b[0m\n",
      "\u001b[1;31mNameError\u001b[0m: name 'time_split' is not defined"
     ]
    }
   ],
   "source": [
    "%%time\n",
    "\n",
    "cv_scores = cross_val_score(xgbmodel, X_train_tfidf_alicemin2, y_train, cv=time_split_3, \n",
    "                            scoring='roc_auc', n_jobs=2) # hangs with n_jobs > 1, and locally this runs much faster"
   ]
  },
  {
   "cell_type": "code",
   "execution_count": 35,
   "metadata": {},
   "outputs": [
    {
     "data": {
      "text/plain": [
       "(array([ 0.86326632,  0.90499984,  0.92253625]), 0.89693413731495519)"
      ]
     },
     "execution_count": 35,
     "metadata": {},
     "output_type": "execute_result"
    }
   ],
   "source": [
    "cv_scores, cv_scores.mean()"
   ]
  },
  {
   "cell_type": "code",
   "execution_count": 38,
   "metadata": {},
   "outputs": [
    {
     "name": "stdout",
     "output_type": "stream",
     "text": [
      "Wall time: 16min 52s\n"
     ]
    }
   ],
   "source": [
    "%%time\n",
    "\n",
    "cv_scores = cross_val_score(xgbmodel, X_train_tfidf_alicemin2, y_train, cv=time_split, \n",
    "                            scoring='roc_auc', n_jobs=2) # hangs with n_jobs > 1, and locally this runs much faster"
   ]
  },
  {
   "cell_type": "code",
   "execution_count": 39,
   "metadata": {},
   "outputs": [
    {
     "data": {
      "text/plain": [
       "(array([ 0.67617086,  0.83829413,  0.92386525,  0.95371999,  0.87800586,\n",
       "         0.93211837,  0.87948405,  0.93704494,  0.92003284,  0.89931427]),\n",
       " 0.8838050543977628)"
      ]
     },
     "execution_count": 39,
     "metadata": {},
     "output_type": "execute_result"
    }
   ],
   "source": [
    "cv_scores, cv_scores.mean()"
   ]
  },
  {
   "cell_type": "code",
   "execution_count": null,
   "metadata": {
    "collapsed": true
   },
   "outputs": [],
   "source": []
  },
  {
   "cell_type": "code",
   "execution_count": null,
   "metadata": {
    "collapsed": true
   },
   "outputs": [],
   "source": []
  },
  {
   "cell_type": "code",
   "execution_count": null,
   "metadata": {
    "collapsed": true
   },
   "outputs": [],
   "source": []
  },
  {
   "cell_type": "code",
   "execution_count": 117,
   "metadata": {
    "collapsed": true
   },
   "outputs": [],
   "source": [
    "X_train_tfidf_alicemin2_dayall = csr_matrix(hstack([X_train_tfidf_alicemin2, \n",
    "                            new_feat_train['day0'].values.reshape(-1, 1),\n",
    "                            new_feat_train['day1'].values.reshape(-1, 1),\n",
    "                            new_feat_train['day2'].values.reshape(-1, 1),\n",
    "                            new_feat_train['day3'].values.reshape(-1, 1),\n",
    "                            new_feat_train['day4'].values.reshape(-1, 1),\n",
    "                            new_feat_train['day5'].values.reshape(-1, 1),\n",
    "                            new_feat_train['day6'].values.reshape(-1, 1)\n",
    "                                                                                  ]\n",
    "                                                      ))\n",
    "X_test_tfidf_alicemin2_dayall = csr_matrix(hstack([X_test_tfidf_alicemin2, \n",
    "                            new_feat_test['day0'].values.reshape(-1, 1),\n",
    "                            new_feat_test['day1'].values.reshape(-1, 1),\n",
    "                            new_feat_test['day2'].values.reshape(-1, 1),\n",
    "                            new_feat_test['day3'].values.reshape(-1, 1),\n",
    "                            new_feat_test['day4'].values.reshape(-1, 1),\n",
    "                            new_feat_test['day5'].values.reshape(-1, 1),\n",
    "                            new_feat_test['day6'].values.reshape(-1, 1)\n",
    "                                                                                 ]\n",
    "                                                      ))"
   ]
  },
  {
   "cell_type": "code",
   "execution_count": 118,
   "metadata": {},
   "outputs": [
    {
     "name": "stdout",
     "output_type": "stream",
     "text": [
      "Wall time: 2min 10s\n"
     ]
    }
   ],
   "source": [
    "%%time\n",
    "\n",
    "cv_scores = cross_val_score(logit, X_train_tfidf_alicemin2_dayall, y_train, cv=time_split, \n",
    "                            scoring='roc_auc', n_jobs=2) # hangs with n_jobs > 1, and locally this runs much faster"
   ]
  },
  {
   "cell_type": "code",
   "execution_count": 119,
   "metadata": {},
   "outputs": [
    {
     "data": {
      "text/plain": [
       "(array([ 0.89635226,  0.91144186,  0.91014797,  0.95966958,  0.96374129,\n",
       "         0.96929532,  0.85957648,  0.96527855,  0.83974961,  0.97863498]),\n",
       " 0.92538878914689437)"
      ]
     },
     "execution_count": 119,
     "metadata": {},
     "output_type": "execute_result"
    }
   ],
   "source": [
    "cv_scores, cv_scores.mean()"
   ]
  },
  {
   "cell_type": "code",
   "execution_count": 120,
   "metadata": {
    "collapsed": true
   },
   "outputs": [],
   "source": [
    "X_train_tfidf_alicemin2_dayall_morningMinutes = csr_matrix(hstack([X_train_tfidf_alicemin2_dayall, \n",
    "                             new_feat_train['alice_morning_minutes'].values.reshape(-1, 1)]))\n",
    "X_test_tfidf_alicemin2_dayall_morningMinutes = csr_matrix(hstack([X_test_tfidf_alicemin2_dayall, \n",
    "                             new_feat_test['alice_morning_minutes'].values.reshape(-1, 1)]))"
   ]
  },
  {
   "cell_type": "code",
   "execution_count": 121,
   "metadata": {},
   "outputs": [
    {
     "name": "stdout",
     "output_type": "stream",
     "text": [
      "Wall time: 2min 5s\n"
     ]
    }
   ],
   "source": [
    "%%time\n",
    "\n",
    "cv_scores = cross_val_score(logit, X_train_tfidf_alicemin2_dayall_morningMinutes, y_train, cv=time_split, \n",
    "                            scoring='roc_auc', n_jobs=2) # hangs with n_jobs > 1, and locally this runs much faster"
   ]
  },
  {
   "cell_type": "code",
   "execution_count": 122,
   "metadata": {},
   "outputs": [
    {
     "data": {
      "text/plain": [
       "(array([ 0.87720677,  0.91227852,  0.91142162,  0.95972602,  0.96470756,\n",
       "         0.9708378 ,  0.85991751,  0.96699789,  0.84538225,  0.97927064]),\n",
       " 0.92477465942309356)"
      ]
     },
     "execution_count": 122,
     "metadata": {},
     "output_type": "execute_result"
    }
   ],
   "source": [
    "cv_scores, cv_scores.mean()"
   ]
  },
  {
   "cell_type": "code",
   "execution_count": 123,
   "metadata": {
    "collapsed": true
   },
   "outputs": [],
   "source": [
    "X_train_tfidf_alicemin2_day3 = csr_matrix(hstack([X_train_tfidf_alicemin2, \n",
    "                            new_feat_train['day0'].values.reshape(-1, 1),\n",
    "                            new_feat_train['day1'].values.reshape(-1, 1),\n",
    "                            new_feat_train['day4'].values.reshape(-1, 1)\n",
    "                                                                                  ]\n",
    "                                                      ))\n",
    "X_test_tfidf_alicemin2_day3 = csr_matrix(hstack([X_test_tfidf_alicemin2, \n",
    "                            new_feat_test['day0'].values.reshape(-1, 1),\n",
    "                            new_feat_test['day1'].values.reshape(-1, 1),\n",
    "                            new_feat_test['day4'].values.reshape(-1, 1)\n",
    "                                                                                 ]\n",
    "                                                      ))"
   ]
  },
  {
   "cell_type": "code",
   "execution_count": 124,
   "metadata": {},
   "outputs": [
    {
     "name": "stdout",
     "output_type": "stream",
     "text": [
      "Wall time: 2min 8s\n"
     ]
    }
   ],
   "source": [
    "%%time\n",
    "\n",
    "cv_scores = cross_val_score(logit, X_train_tfidf_alicemin2_day3, y_train, cv=time_split, \n",
    "                            scoring='roc_auc', n_jobs=2) # hangs with n_jobs > 1, and locally this runs much faster"
   ]
  },
  {
   "cell_type": "code",
   "execution_count": 125,
   "metadata": {},
   "outputs": [
    {
     "data": {
      "text/plain": [
       "(array([ 0.85500557,  0.89218816,  0.94724231,  0.94813946,  0.93803453,\n",
       "         0.96676856,  0.80106909,  0.96456595,  0.96764676,  0.97982519]),\n",
       " 0.92604855840577116)"
      ]
     },
     "execution_count": 125,
     "metadata": {},
     "output_type": "execute_result"
    }
   ],
   "source": [
    "cv_scores, cv_scores.mean()"
   ]
  },
  {
   "cell_type": "code",
   "execution_count": null,
   "metadata": {
    "collapsed": true
   },
   "outputs": [],
   "source": []
  },
  {
   "cell_type": "code",
   "execution_count": null,
   "metadata": {
    "collapsed": true
   },
   "outputs": [],
   "source": [
    "# наша целевая переменная\n",
    "y_train = train_df['target']\n",
    "\n",
    "# объединенная таблица исходных данных\n",
    "full_df = pd.concat([train_df.drop('target', axis=1), test_df])\n",
    "\n",
    "# индекс, по которому будем отделять обучающую выборку от тестовой\n",
    "idx_split = train_df.shape[0]\n",
    "\n",
    "sites = ['site%d' % i for i in range(1, 11)]\n",
    "\n",
    "full_sites = full_df[sites]\n",
    "\n",
    "# последовательность с индексами\n",
    "sites_flatten = full_sites.values.flatten()\n",
    "\n",
    "# искомая матрица\n",
    "full_sites_sparse = csr_matrix(([1] * sites_flatten.shape[0],\n",
    "                                sites_flatten,\n",
    "                                range(0, sites_flatten.shape[0] + 10, 10)))[:, 1:]\n",
    "\n",
    "X_train_sparse = full_sites_sparse[:idx_split]\n",
    "X_test_sparse = full_sites_sparse[idx_split:]"
   ]
  },
  {
   "cell_type": "code",
   "execution_count": 126,
   "metadata": {},
   "outputs": [
    {
     "data": {
      "text/plain": [
       "(253561, 48371)"
      ]
     },
     "execution_count": 126,
     "metadata": {},
     "output_type": "execute_result"
    }
   ],
   "source": [
    "X_train_sparse.shape"
   ]
  },
  {
   "cell_type": "code",
   "execution_count": 127,
   "metadata": {},
   "outputs": [
    {
     "data": {
      "text/plain": [
       "(253561, 100001)"
      ]
     },
     "execution_count": 127,
     "metadata": {},
     "output_type": "execute_result"
    }
   ],
   "source": [
    "X_train_tfidf_alicemin2.shape"
   ]
  },
  {
   "cell_type": "code",
   "execution_count": 128,
   "metadata": {
    "collapsed": true
   },
   "outputs": [],
   "source": [
    "X_train_tfidf_alicemin2_ids = hstack((X_train_sparse, X_train_tfidf_alicemin2))"
   ]
  },
  {
   "cell_type": "code",
   "execution_count": 129,
   "metadata": {},
   "outputs": [
    {
     "data": {
      "text/plain": [
       "(253561, 148372)"
      ]
     },
     "execution_count": 129,
     "metadata": {},
     "output_type": "execute_result"
    }
   ],
   "source": [
    "X_train_tfidf_alicemin2_ids.shape"
   ]
  },
  {
   "cell_type": "code",
   "execution_count": 130,
   "metadata": {
    "collapsed": true
   },
   "outputs": [],
   "source": [
    "X_test_tfidf_alicemin2_ids = hstack((X_test_sparse, X_test_tfidf_alicemin2))"
   ]
  },
  {
   "cell_type": "code",
   "execution_count": 131,
   "metadata": {},
   "outputs": [
    {
     "name": "stdout",
     "output_type": "stream",
     "text": [
      "Wall time: 2min 34s\n"
     ]
    }
   ],
   "source": [
    "%%time\n",
    "\n",
    "cv_scores = cross_val_score(logit, X_train_tfidf_alicemin2_ids, y_train, cv=time_split, \n",
    "                            scoring='roc_auc', n_jobs=2) # hangs with n_jobs > 1, and locally this runs much faster"
   ]
  },
  {
   "cell_type": "code",
   "execution_count": 132,
   "metadata": {},
   "outputs": [
    {
     "data": {
      "text/plain": [
       "(array([ 0.92068428,  0.85178662,  0.95073216,  0.95737376,  0.94100836,\n",
       "         0.95542052,  0.90649692,  0.94334691,  0.97464443,  0.96558644]),\n",
       " 0.93670803931351421)"
      ]
     },
     "execution_count": 132,
     "metadata": {},
     "output_type": "execute_result"
    }
   ],
   "source": [
    "cv_scores, cv_scores.mean()"
   ]
  },
  {
   "cell_type": "code",
   "execution_count": 133,
   "metadata": {
    "collapsed": true
   },
   "outputs": [],
   "source": [
    "X_train_tfidf_alicemin2_ids_day0 = csr_matrix(hstack([X_train_tfidf_alicemin2_ids, \n",
    "                            new_feat_train['day0'].values.reshape(-1, 1)\n",
    "                                                                                  ]\n",
    "                                                      ))\n",
    "X_test_tfidf_alicemin2_ids_day0 = csr_matrix(hstack([X_test_tfidf_alicemin2_ids, \n",
    "                            new_feat_test['day0'].values.reshape(-1, 1)\n",
    "                                                                                 ]\n",
    "                                                      ))"
   ]
  },
  {
   "cell_type": "code",
   "execution_count": 134,
   "metadata": {},
   "outputs": [
    {
     "name": "stdout",
     "output_type": "stream",
     "text": [
      "Wall time: 3min 27s\n"
     ]
    }
   ],
   "source": [
    "%%time\n",
    "\n",
    "cv_scores = cross_val_score(logit, X_train_tfidf_alicemin2_ids_day0, y_train, cv=time_split, \n",
    "                            scoring='roc_auc', n_jobs=2) # hangs with n_jobs > 1, and locally this runs much faster"
   ]
  },
  {
   "cell_type": "code",
   "execution_count": 135,
   "metadata": {},
   "outputs": [
    {
     "data": {
      "text/plain": [
       "(array([ 0.91892893,  0.85369788,  0.95325148,  0.95696778,  0.94581438,\n",
       "         0.96302465,  0.89478692,  0.95367102,  0.97767895,  0.97348202]),\n",
       " 0.93913040142136839)"
      ]
     },
     "execution_count": 135,
     "metadata": {},
     "output_type": "execute_result"
    }
   ],
   "source": [
    "cv_scores, cv_scores.mean()"
   ]
  },
  {
   "cell_type": "code",
   "execution_count": 136,
   "metadata": {
    "collapsed": true
   },
   "outputs": [],
   "source": [
    "X_train_tfidf_alicemin2_ids_day01 = csr_matrix(hstack([X_train_tfidf_alicemin2_ids_day0, \n",
    "                            new_feat_train['day1'].values.reshape(-1, 1)\n",
    "                                                                                  ]\n",
    "                                                      ))\n",
    "X_test_tfidf_alicemin2_ids_day01 = csr_matrix(hstack([X_test_tfidf_alicemin2_ids_day0, \n",
    "                            new_feat_test['day1'].values.reshape(-1, 1)\n",
    "                                                                                 ]\n",
    "                                                      ))"
   ]
  },
  {
   "cell_type": "code",
   "execution_count": 139,
   "metadata": {},
   "outputs": [
    {
     "name": "stdout",
     "output_type": "stream",
     "text": [
      "Wall time: 3min 48s\n"
     ]
    }
   ],
   "source": [
    "%%time\n",
    "\n",
    "cv_scores = cross_val_score(logit, X_train_tfidf_alicemin2_ids_day01, y_train, cv=time_split, \n",
    "                            scoring='roc_auc', n_jobs=2) # hangs with n_jobs > 1, and locally this runs much faster"
   ]
  },
  {
   "cell_type": "code",
   "execution_count": 140,
   "metadata": {},
   "outputs": [
    {
     "data": {
      "text/plain": [
       "(array([ 0.91880648,  0.84971002,  0.95329867,  0.95622639,  0.94492636,\n",
       "         0.96223507,  0.89253163,  0.95572812,  0.97773912,  0.9771424 ]),\n",
       " 0.93883442599372713)"
      ]
     },
     "execution_count": 140,
     "metadata": {},
     "output_type": "execute_result"
    }
   ],
   "source": [
    "cv_scores, cv_scores.mean()"
   ]
  },
  {
   "cell_type": "code",
   "execution_count": 142,
   "metadata": {},
   "outputs": [
    {
     "data": {
      "text/plain": [
       "LogisticRegression(C=1.0, class_weight=None, dual=False, fit_intercept=True,\n",
       "          intercept_scaling=1, max_iter=100, multi_class='ovr', n_jobs=-1,\n",
       "          penalty='l2', random_state=17, solver='liblinear', tol=0.0001,\n",
       "          verbose=0, warm_start=False)"
      ]
     },
     "execution_count": 142,
     "metadata": {},
     "output_type": "execute_result"
    }
   ],
   "source": [
    "logit.fit(X_train_tfidf_alicemin2_ids_day0, y_train)"
   ]
  },
  {
   "cell_type": "code",
   "execution_count": 143,
   "metadata": {
    "collapsed": true
   },
   "outputs": [],
   "source": [
    "test_pred = logit.predict_proba(X_test_tfidf_alicemin2_ids_day0)[:, 1]\n",
    "write_to_submission_file(test_pred, 'X_test_tfidf_alicemin2_ids_day0.csv')"
   ]
  },
  {
   "cell_type": "code",
   "execution_count": 144,
   "metadata": {
    "collapsed": true
   },
   "outputs": [],
   "source": [
    "X_train_tfidf_alicemin2_ids_dayall = csr_matrix(hstack([X_train_tfidf_alicemin2_ids_day0, \n",
    "                            new_feat_train['day1'].values.reshape(-1, 1),\n",
    "                            new_feat_train['day2'].values.reshape(-1, 1),\n",
    "                            new_feat_train['day3'].values.reshape(-1, 1),\n",
    "                            new_feat_train['day4'].values.reshape(-1, 1),\n",
    "                            new_feat_train['day5'].values.reshape(-1, 1),\n",
    "                            new_feat_train['day6'].values.reshape(-1, 1)\n",
    "                                                                                  ]\n",
    "                                                      ))\n",
    "X_test_tfidf_alicemin2_ids_dayall = csr_matrix(hstack([X_test_tfidf_alicemin2_ids_day0, \n",
    "                            new_feat_test['day1'].values.reshape(-1, 1),\n",
    "                            new_feat_test['day2'].values.reshape(-1, 1),\n",
    "                            new_feat_test['day3'].values.reshape(-1, 1),\n",
    "                            new_feat_test['day4'].values.reshape(-1, 1),\n",
    "                            new_feat_test['day5'].values.reshape(-1, 1),\n",
    "                            new_feat_test['day6'].values.reshape(-1, 1)\n",
    "                                                                                 ]\n",
    "                                                      ))"
   ]
  },
  {
   "cell_type": "code",
   "execution_count": 146,
   "metadata": {
    "collapsed": true
   },
   "outputs": [],
   "source": [
    "X_train_tfidf_alicemin2_ids_dayall_mm_September = csr_matrix(hstack([X_train_tfidf_alicemin2_ids_dayall, \n",
    "                            new_feat_train['alice_morning_minutes'].values.reshape(-1, 1),\n",
    "                            new_feat_train['september'].values.reshape(-1, 1)\n",
    "                                                                                  ]\n",
    "                                                      ))\n",
    "X_test_tfidf_alicemin2_ids_dayall_mm_September = csr_matrix(hstack([X_test_tfidf_alicemin2_ids_dayall, \n",
    "                            new_feat_test['alice_morning_minutes'].values.reshape(-1, 1),\n",
    "                            new_feat_test['september'].values.reshape(-1, 1)\n",
    "                                                                                 ]\n",
    "                                                      ))"
   ]
  },
  {
   "cell_type": "code",
   "execution_count": 147,
   "metadata": {},
   "outputs": [
    {
     "name": "stdout",
     "output_type": "stream",
     "text": [
      "Wall time: 2min 15s\n"
     ]
    }
   ],
   "source": [
    "%%time\n",
    "\n",
    "cv_scores = cross_val_score(logit, X_train_tfidf_alicemin2_ids_dayall_mm_September, y_train, cv=time_split, \n",
    "                            scoring='roc_auc', n_jobs=2) # hangs with n_jobs > 1, and locally this runs much faster"
   ]
  },
  {
   "cell_type": "code",
   "execution_count": 148,
   "metadata": {},
   "outputs": [
    {
     "data": {
      "text/plain": [
       "(array([ 0.90703669,  0.89730642,  0.93967556,  0.97210282,  0.93604137,\n",
       "         0.97586845,  0.88957095,  0.96522935,  0.93560306,  0.98140853]),\n",
       " 0.93998431838193852)"
      ]
     },
     "execution_count": 148,
     "metadata": {},
     "output_type": "execute_result"
    }
   ],
   "source": [
    "cv_scores, cv_scores.mean()"
   ]
  },
  {
   "cell_type": "code",
   "execution_count": 149,
   "metadata": {
    "collapsed": true
   },
   "outputs": [],
   "source": [
    "logit.fit(X_train_tfidf_alicemin2_ids_dayall_mm_September, y_train)\n",
    "test_pred = logit.predict_proba(X_test_tfidf_alicemin2_ids_dayall_mm_September)[:, 1]\n",
    "write_to_submission_file(test_pred, 'X_test_tfidf_alicemin2_ids_dayall_mm_September.csv')"
   ]
  },
  {
   "cell_type": "code",
   "execution_count": 152,
   "metadata": {
    "collapsed": true
   },
   "outputs": [],
   "source": [
    "from catboost import Pool, CatBoostClassifier"
   ]
  },
  {
   "cell_type": "code",
   "execution_count": 154,
   "metadata": {
    "collapsed": true
   },
   "outputs": [],
   "source": [
    "cat = CatBoostClassifier(random_state=17)\n"
   ]
  },
  {
   "cell_type": "code",
   "execution_count": 159,
   "metadata": {},
   "outputs": [
    {
     "ename": "ImportError",
     "evalue": "No module named xgboost",
     "output_type": "error",
     "traceback": [
      "\u001b[1;31m---------------------------------------------------------------------------\u001b[0m",
      "\u001b[1;31mImportError\u001b[0m                               Traceback (most recent call last)",
      "\u001b[1;32m<ipython-input-159-b25935c1568f>\u001b[0m in \u001b[0;36m<module>\u001b[1;34m()\u001b[0m\n\u001b[1;32m----> 1\u001b[1;33m \u001b[1;32mfrom\u001b[0m \u001b[0mxgboost\u001b[0m \u001b[1;32mimport\u001b[0m \u001b[0mXGBRegressor\u001b[0m\u001b[1;33m\u001b[0m\u001b[0m\n\u001b[0m",
      "\u001b[1;31mImportError\u001b[0m: No module named xgboost"
     ]
    }
   ],
   "source": [
    "from xgboost import XGBRegressor"
   ]
  },
  {
   "cell_type": "code",
   "execution_count": 155,
   "metadata": {
    "collapsed": true
   },
   "outputs": [],
   "source": [
    "time_split_3 = TimeSeriesSplit(n_splits=3)"
   ]
  },
  {
   "cell_type": "code",
   "execution_count": 156,
   "metadata": {},
   "outputs": [
    {
     "ename": "JoblibCatboostError",
     "evalue": "JoblibCatboostError\n___________________________________________________________________________\nMultiprocessing exception:\n...........................................................................\nC:\\Anaconda2\\lib\\runpy.py in _run_module_as_main(mod_name='ipykernel_launcher', alter_argv=1)\n    169     pkg_name = mod_name.rpartition('.')[0]\n    170     main_globals = sys.modules[\"__main__\"].__dict__\n    171     if alter_argv:\n    172         sys.argv[0] = fname\n    173     return _run_code(code, main_globals, None,\n--> 174                      \"__main__\", fname, loader, pkg_name)\n        fname = r'C:\\Anaconda2\\lib\\site-packages\\ipykernel_launcher.py'\n        loader = <pkgutil.ImpLoader instance>\n        pkg_name = ''\n    175 \n    176 def run_module(mod_name, init_globals=None,\n    177                run_name=None, alter_sys=False):\n    178     \"\"\"Execute a module's code without importing it\n\n...........................................................................\nC:\\Anaconda2\\lib\\runpy.py in _run_code(code=<code object <module> at 0000000004749CB0, file ...lib\\site-packages\\ipykernel_launcher.py\", line 5>, run_globals={'__builtins__': <module '__builtin__' (built-in)>, '__doc__': 'Entry point for launching an IPython kernel.\\n\\nTh...orts until\\nafter removing the cwd from sys.path.\\n', '__file__': r'C:\\Anaconda2\\lib\\site-packages\\ipykernel_launcher.py', '__loader__': <pkgutil.ImpLoader instance>, '__name__': '__main__', '__package__': '', 'app': <module 'ipykernel.kernelapp' from 'C:\\Anaconda2\\lib\\site-packages\\ipykernel\\kernelapp.pyc'>, 'sys': <module 'sys' (built-in)>}, init_globals=None, mod_name='__main__', mod_fname=r'C:\\Anaconda2\\lib\\site-packages\\ipykernel_launcher.py', mod_loader=<pkgutil.ImpLoader instance>, pkg_name='')\n     67         run_globals.update(init_globals)\n     68     run_globals.update(__name__ = mod_name,\n     69                        __file__ = mod_fname,\n     70                        __loader__ = mod_loader,\n     71                        __package__ = pkg_name)\n---> 72     exec code in run_globals\n        code = <code object <module> at 0000000004749CB0, file ...lib\\site-packages\\ipykernel_launcher.py\", line 5>\n        run_globals = {'__builtins__': <module '__builtin__' (built-in)>, '__doc__': 'Entry point for launching an IPython kernel.\\n\\nTh...orts until\\nafter removing the cwd from sys.path.\\n', '__file__': r'C:\\Anaconda2\\lib\\site-packages\\ipykernel_launcher.py', '__loader__': <pkgutil.ImpLoader instance>, '__name__': '__main__', '__package__': '', 'app': <module 'ipykernel.kernelapp' from 'C:\\Anaconda2\\lib\\site-packages\\ipykernel\\kernelapp.pyc'>, 'sys': <module 'sys' (built-in)>}\n     73     return run_globals\n     74 \n     75 def _run_module_code(code, init_globals=None,\n     76                     mod_name=None, mod_fname=None,\n\n...........................................................................\nC:\\Anaconda2\\lib\\site-packages\\ipykernel_launcher.py in <module>()\n     11     # This is added back by InteractiveShellApp.init_path()\n     12     if sys.path[0] == '':\n     13         del sys.path[0]\n     14 \n     15     from ipykernel import kernelapp as app\n---> 16     app.launch_new_instance()\n     17 \n     18 \n     19 \n     20 \n\n...........................................................................\nC:\\Anaconda2\\lib\\site-packages\\traitlets\\config\\application.py in launch_instance(cls=<class 'ipykernel.kernelapp.IPKernelApp'>, argv=None, **kwargs={})\n    653 \n    654         If a global instance already exists, this reinitializes and starts it\n    655         \"\"\"\n    656         app = cls.instance(**kwargs)\n    657         app.initialize(argv)\n--> 658         app.start()\n        app.start = <bound method IPKernelApp.start of <ipykernel.kernelapp.IPKernelApp object>>\n    659 \n    660 #-----------------------------------------------------------------------------\n    661 # utility functions, for convenience\n    662 #-----------------------------------------------------------------------------\n\n...........................................................................\nC:\\Anaconda2\\lib\\site-packages\\ipykernel\\kernelapp.py in start(self=<ipykernel.kernelapp.IPKernelApp object>)\n    472             return self.subapp.start()\n    473         if self.poller is not None:\n    474             self.poller.start()\n    475         self.kernel.start()\n    476         try:\n--> 477             ioloop.IOLoop.instance().start()\n    478         except KeyboardInterrupt:\n    479             pass\n    480 \n    481 launch_new_instance = IPKernelApp.launch_instance\n\n...........................................................................\nC:\\Anaconda2\\lib\\site-packages\\zmq\\eventloop\\ioloop.py in start(self=<zmq.eventloop.ioloop.ZMQIOLoop object>)\n    172             )\n    173         return loop\n    174     \n    175     def start(self):\n    176         try:\n--> 177             super(ZMQIOLoop, self).start()\n        self.start = <bound method ZMQIOLoop.start of <zmq.eventloop.ioloop.ZMQIOLoop object>>\n    178         except ZMQError as e:\n    179             if e.errno == ETERM:\n    180                 # quietly return on ETERM\n    181                 pass\n\n...........................................................................\nC:\\Anaconda2\\lib\\site-packages\\tornado\\ioloop.py in start(self=<zmq.eventloop.ioloop.ZMQIOLoop object>)\n    883                 self._events.update(event_pairs)\n    884                 while self._events:\n    885                     fd, events = self._events.popitem()\n    886                     try:\n    887                         fd_obj, handler_func = self._handlers[fd]\n--> 888                         handler_func(fd_obj, events)\n        handler_func = <function null_wrapper>\n        fd_obj = <zmq.sugar.socket.Socket object>\n        events = 1\n    889                     except (OSError, IOError) as e:\n    890                         if errno_from_exception(e) == errno.EPIPE:\n    891                             # Happens when the client closes the connection\n    892                             pass\n\n...........................................................................\nC:\\Anaconda2\\lib\\site-packages\\tornado\\stack_context.py in null_wrapper(*args=(<zmq.sugar.socket.Socket object>, 1), **kwargs={})\n    272         # Fast path when there are no active contexts.\n    273         def null_wrapper(*args, **kwargs):\n    274             try:\n    275                 current_state = _state.contexts\n    276                 _state.contexts = cap_contexts[0]\n--> 277                 return fn(*args, **kwargs)\n        args = (<zmq.sugar.socket.Socket object>, 1)\n        kwargs = {}\n    278             finally:\n    279                 _state.contexts = current_state\n    280         null_wrapper._wrapped = True\n    281         return null_wrapper\n\n...........................................................................\nC:\\Anaconda2\\lib\\site-packages\\zmq\\eventloop\\zmqstream.py in _handle_events(self=<zmq.eventloop.zmqstream.ZMQStream object>, fd=<zmq.sugar.socket.Socket object>, events=1)\n    435             # dispatch events:\n    436             if events & IOLoop.ERROR:\n    437                 gen_log.error(\"got POLLERR event on ZMQStream, which doesn't make sense\")\n    438                 return\n    439             if events & IOLoop.READ:\n--> 440                 self._handle_recv()\n        self._handle_recv = <bound method ZMQStream._handle_recv of <zmq.eventloop.zmqstream.ZMQStream object>>\n    441                 if not self.socket:\n    442                     return\n    443             if events & IOLoop.WRITE:\n    444                 self._handle_send()\n\n...........................................................................\nC:\\Anaconda2\\lib\\site-packages\\zmq\\eventloop\\zmqstream.py in _handle_recv(self=<zmq.eventloop.zmqstream.ZMQStream object>)\n    467                 gen_log.error(\"RECV Error: %s\"%zmq.strerror(e.errno))\n    468         else:\n    469             if self._recv_callback:\n    470                 callback = self._recv_callback\n    471                 # self._recv_callback = None\n--> 472                 self._run_callback(callback, msg)\n        self._run_callback = <bound method ZMQStream._run_callback of <zmq.eventloop.zmqstream.ZMQStream object>>\n        callback = <function null_wrapper>\n        msg = [<zmq.sugar.frame.Frame object>, <zmq.sugar.frame.Frame object>, <zmq.sugar.frame.Frame object>, <zmq.sugar.frame.Frame object>, <zmq.sugar.frame.Frame object>, <zmq.sugar.frame.Frame object>, <zmq.sugar.frame.Frame object>]\n    473                 \n    474         # self.update_state()\n    475         \n    476 \n\n...........................................................................\nC:\\Anaconda2\\lib\\site-packages\\zmq\\eventloop\\zmqstream.py in _run_callback(self=<zmq.eventloop.zmqstream.ZMQStream object>, callback=<function null_wrapper>, *args=([<zmq.sugar.frame.Frame object>, <zmq.sugar.frame.Frame object>, <zmq.sugar.frame.Frame object>, <zmq.sugar.frame.Frame object>, <zmq.sugar.frame.Frame object>, <zmq.sugar.frame.Frame object>, <zmq.sugar.frame.Frame object>],), **kwargs={})\n    409         close our socket.\"\"\"\n    410         try:\n    411             # Use a NullContext to ensure that all StackContexts are run\n    412             # inside our blanket exception handler rather than outside.\n    413             with stack_context.NullContext():\n--> 414                 callback(*args, **kwargs)\n        callback = <function null_wrapper>\n        args = ([<zmq.sugar.frame.Frame object>, <zmq.sugar.frame.Frame object>, <zmq.sugar.frame.Frame object>, <zmq.sugar.frame.Frame object>, <zmq.sugar.frame.Frame object>, <zmq.sugar.frame.Frame object>, <zmq.sugar.frame.Frame object>],)\n        kwargs = {}\n    415         except:\n    416             gen_log.error(\"Uncaught exception, closing connection.\",\n    417                           exc_info=True)\n    418             # Close the socket on an uncaught exception from a user callback\n\n...........................................................................\nC:\\Anaconda2\\lib\\site-packages\\tornado\\stack_context.py in null_wrapper(*args=([<zmq.sugar.frame.Frame object>, <zmq.sugar.frame.Frame object>, <zmq.sugar.frame.Frame object>, <zmq.sugar.frame.Frame object>, <zmq.sugar.frame.Frame object>, <zmq.sugar.frame.Frame object>, <zmq.sugar.frame.Frame object>],), **kwargs={})\n    272         # Fast path when there are no active contexts.\n    273         def null_wrapper(*args, **kwargs):\n    274             try:\n    275                 current_state = _state.contexts\n    276                 _state.contexts = cap_contexts[0]\n--> 277                 return fn(*args, **kwargs)\n        args = ([<zmq.sugar.frame.Frame object>, <zmq.sugar.frame.Frame object>, <zmq.sugar.frame.Frame object>, <zmq.sugar.frame.Frame object>, <zmq.sugar.frame.Frame object>, <zmq.sugar.frame.Frame object>, <zmq.sugar.frame.Frame object>],)\n        kwargs = {}\n    278             finally:\n    279                 _state.contexts = current_state\n    280         null_wrapper._wrapped = True\n    281         return null_wrapper\n\n...........................................................................\nC:\\Anaconda2\\lib\\site-packages\\ipykernel\\kernelbase.py in dispatcher(msg=[<zmq.sugar.frame.Frame object>, <zmq.sugar.frame.Frame object>, <zmq.sugar.frame.Frame object>, <zmq.sugar.frame.Frame object>, <zmq.sugar.frame.Frame object>, <zmq.sugar.frame.Frame object>, <zmq.sugar.frame.Frame object>])\n    278         if self.control_stream:\n    279             self.control_stream.on_recv(self.dispatch_control, copy=False)\n    280 \n    281         def make_dispatcher(stream):\n    282             def dispatcher(msg):\n--> 283                 return self.dispatch_shell(stream, msg)\n        msg = [<zmq.sugar.frame.Frame object>, <zmq.sugar.frame.Frame object>, <zmq.sugar.frame.Frame object>, <zmq.sugar.frame.Frame object>, <zmq.sugar.frame.Frame object>, <zmq.sugar.frame.Frame object>, <zmq.sugar.frame.Frame object>]\n    284             return dispatcher\n    285 \n    286         for s in self.shell_streams:\n    287             s.on_recv(make_dispatcher(s), copy=False)\n\n...........................................................................\nC:\\Anaconda2\\lib\\site-packages\\ipykernel\\kernelbase.py in dispatch_shell(self=<ipykernel.ipkernel.IPythonKernel object>, stream=<zmq.eventloop.zmqstream.ZMQStream object>, msg={'buffers': [], 'content': {u'allow_stdin': True, u'code': u\"%%time\\n\\ncv_scores = cross_val_score(cat, X_t...th n_jobs > 1, and locally this runs much faster\", u'silent': False, u'stop_on_error': True, u'store_history': True, u'user_expressions': {}}, 'header': {'date': datetime.datetime(2018, 4, 22, 6, 42, 47, 863000, tzinfo=tzutc()), u'msg_id': u'26D25904CA9D40D086BB07E192AE7CB8', u'msg_type': u'execute_request', u'session': u'B79998034CA04350A3C2C7605EF52F93', u'username': u'username', u'version': u'5.0'}, 'metadata': {}, 'msg_id': u'26D25904CA9D40D086BB07E192AE7CB8', 'msg_type': u'execute_request', 'parent_header': {}})\n    230             self.log.warn(\"Unknown message type: %r\", msg_type)\n    231         else:\n    232             self.log.debug(\"%s: %s\", msg_type, msg)\n    233             self.pre_handler_hook()\n    234             try:\n--> 235                 handler(stream, idents, msg)\n        handler = <bound method IPythonKernel.execute_request of <ipykernel.ipkernel.IPythonKernel object>>\n        stream = <zmq.eventloop.zmqstream.ZMQStream object>\n        idents = ['B79998034CA04350A3C2C7605EF52F93']\n        msg = {'buffers': [], 'content': {u'allow_stdin': True, u'code': u\"%%time\\n\\ncv_scores = cross_val_score(cat, X_t...th n_jobs > 1, and locally this runs much faster\", u'silent': False, u'stop_on_error': True, u'store_history': True, u'user_expressions': {}}, 'header': {'date': datetime.datetime(2018, 4, 22, 6, 42, 47, 863000, tzinfo=tzutc()), u'msg_id': u'26D25904CA9D40D086BB07E192AE7CB8', u'msg_type': u'execute_request', u'session': u'B79998034CA04350A3C2C7605EF52F93', u'username': u'username', u'version': u'5.0'}, 'metadata': {}, 'msg_id': u'26D25904CA9D40D086BB07E192AE7CB8', 'msg_type': u'execute_request', 'parent_header': {}}\n    236             except Exception:\n    237                 self.log.error(\"Exception in message handler:\", exc_info=True)\n    238             finally:\n    239                 self.post_handler_hook()\n\n...........................................................................\nC:\\Anaconda2\\lib\\site-packages\\ipykernel\\kernelbase.py in execute_request(self=<ipykernel.ipkernel.IPythonKernel object>, stream=<zmq.eventloop.zmqstream.ZMQStream object>, ident=['B79998034CA04350A3C2C7605EF52F93'], parent={'buffers': [], 'content': {u'allow_stdin': True, u'code': u\"%%time\\n\\ncv_scores = cross_val_score(cat, X_t...th n_jobs > 1, and locally this runs much faster\", u'silent': False, u'stop_on_error': True, u'store_history': True, u'user_expressions': {}}, 'header': {'date': datetime.datetime(2018, 4, 22, 6, 42, 47, 863000, tzinfo=tzutc()), u'msg_id': u'26D25904CA9D40D086BB07E192AE7CB8', u'msg_type': u'execute_request', u'session': u'B79998034CA04350A3C2C7605EF52F93', u'username': u'username', u'version': u'5.0'}, 'metadata': {}, 'msg_id': u'26D25904CA9D40D086BB07E192AE7CB8', 'msg_type': u'execute_request', 'parent_header': {}})\n    394         if not silent:\n    395             self.execution_count += 1\n    396             self._publish_execute_input(code, parent, self.execution_count)\n    397 \n    398         reply_content = self.do_execute(code, silent, store_history,\n--> 399                                         user_expressions, allow_stdin)\n        user_expressions = {}\n        allow_stdin = True\n    400 \n    401         # Flush output before sending the reply.\n    402         sys.stdout.flush()\n    403         sys.stderr.flush()\n\n...........................................................................\nC:\\Anaconda2\\lib\\site-packages\\ipykernel\\ipkernel.py in do_execute(self=<ipykernel.ipkernel.IPythonKernel object>, code=u\"%%time\\n\\ncv_scores = cross_val_score(cat, X_t...th n_jobs > 1, and locally this runs much faster\", silent=False, store_history=True, user_expressions={}, allow_stdin=True)\n    191 \n    192         self._forward_input(allow_stdin)\n    193 \n    194         reply_content = {}\n    195         try:\n--> 196             res = shell.run_cell(code, store_history=store_history, silent=silent)\n        res = undefined\n        shell.run_cell = <bound method ZMQInteractiveShell.run_cell of <ipykernel.zmqshell.ZMQInteractiveShell object>>\n        code = u\"%%time\\n\\ncv_scores = cross_val_score(cat, X_t...th n_jobs > 1, and locally this runs much faster\"\n        store_history = True\n        silent = False\n    197         finally:\n    198             self._restore_input()\n    199 \n    200         if res.error_before_exec is not None:\n\n...........................................................................\nC:\\Anaconda2\\lib\\site-packages\\ipykernel\\zmqshell.py in run_cell(self=<ipykernel.zmqshell.ZMQInteractiveShell object>, *args=(u\"%%time\\n\\ncv_scores = cross_val_score(cat, X_t...th n_jobs > 1, and locally this runs much faster\",), **kwargs={'silent': False, 'store_history': True})\n    528             )\n    529         self.payload_manager.write_payload(payload)\n    530 \n    531     def run_cell(self, *args, **kwargs):\n    532         self._last_traceback = None\n--> 533         return super(ZMQInteractiveShell, self).run_cell(*args, **kwargs)\n        self.run_cell = <bound method ZMQInteractiveShell.run_cell of <ipykernel.zmqshell.ZMQInteractiveShell object>>\n        args = (u\"%%time\\n\\ncv_scores = cross_val_score(cat, X_t...th n_jobs > 1, and locally this runs much faster\",)\n        kwargs = {'silent': False, 'store_history': True}\n    534 \n    535     def _showtraceback(self, etype, evalue, stb):\n    536         # try to preserve ordering of tracebacks and print statements\n    537         sys.stdout.flush()\n\n...........................................................................\nC:\\Anaconda2\\lib\\site-packages\\IPython\\core\\interactiveshell.py in run_cell(self=<ipykernel.zmqshell.ZMQInteractiveShell object>, raw_cell=u\"%%time\\n\\ncv_scores = cross_val_score(cat, X_t...th n_jobs > 1, and locally this runs much faster\", store_history=True, silent=False, shell_futures=True)\n   2712                 self.displayhook.exec_result = result\n   2713 \n   2714                 # Execute the user code\n   2715                 interactivity = \"none\" if silent else self.ast_node_interactivity\n   2716                 has_raised = self.run_ast_nodes(code_ast.body, cell_name,\n-> 2717                    interactivity=interactivity, compiler=compiler, result=result)\n        interactivity = 'last_expr'\n        compiler = <IPython.core.compilerop.CachingCompiler instance>\n   2718                 \n   2719                 self.last_execution_succeeded = not has_raised\n   2720 \n   2721                 # Reset this so later displayed values do not modify the\n\n...........................................................................\nC:\\Anaconda2\\lib\\site-packages\\IPython\\core\\interactiveshell.py in run_ast_nodes(self=<ipykernel.zmqshell.ZMQInteractiveShell object>, nodelist=[<_ast.Expr object>], cell_name='<ipython-input-156-855cb4505899>', interactivity='last', compiler=<IPython.core.compilerop.CachingCompiler instance>, result=<ExecutionResult object at 46e86940, execution_c..._before_exec=None error_in_exec=None result=None>)\n   2822                     return True\n   2823 \n   2824             for i, node in enumerate(to_run_interactive):\n   2825                 mod = ast.Interactive([node])\n   2826                 code = compiler(mod, cell_name, \"single\")\n-> 2827                 if self.run_code(code, result):\n        self.run_code = <bound method ZMQInteractiveShell.run_code of <ipykernel.zmqshell.ZMQInteractiveShell object>>\n        code = <code object <module> at 0000000019441E30, file \"<ipython-input-156-855cb4505899>\", line 1>\n        result = <ExecutionResult object at 46e86940, execution_c..._before_exec=None error_in_exec=None result=None>\n   2828                     return True\n   2829 \n   2830             # Flush softspace\n   2831             if softspace(sys.stdout, 0):\n\n...........................................................................\nC:\\Anaconda2\\lib\\site-packages\\IPython\\core\\interactiveshell.py in run_code(self=<ipykernel.zmqshell.ZMQInteractiveShell object>, code_obj=<code object <module> at 0000000019441E30, file \"<ipython-input-156-855cb4505899>\", line 1>, result=<ExecutionResult object at 46e86940, execution_c..._before_exec=None error_in_exec=None result=None>)\n   2876         outflag = 1  # happens in more places, so it's easier as default\n   2877         try:\n   2878             try:\n   2879                 self.hooks.pre_run_code_hook()\n   2880                 #rprint('Running code', repr(code_obj)) # dbg\n-> 2881                 exec(code_obj, self.user_global_ns, self.user_ns)\n        code_obj = <code object <module> at 0000000019441E30, file \"<ipython-input-156-855cb4505899>\", line 1>\n        self.user_global_ns = {'CatBoostClassifier': <class 'catboost.core.CatBoostClassifier'>, 'CountVectorizer': <class 'sklearn.feature_extraction.text.CountVectorizer'>, 'Counter': <class 'collections.Counter'>, 'DecisionTreeClassifier': <class 'sklearn.tree.tree.DecisionTreeClassifier'>, 'GridSearchCV': <class 'sklearn.model_selection._search.GridSearchCV'>, 'In': ['', u\"import pickle\\nimport numpy as np\\nimport pand...tlib import pyplot as plt\\nimport seaborn as sns\", u\"# \\u0437\\u0430\\u0433\\u0440\\u0443\\u0437\\u0438\\u...438\\ntrain_df = train_df.sort_values(by='time1')\", u'# \\u043f\\u0440\\u0438\\u0432\\u0435\\u0434\\u0435\\u... sites_dict_df.shape[0])\\n\\nsites_dict_df.head()', u\"# \\u043d\\u0430\\u0448\\u0430 \\u0446\\u0435\\u043b\\...]\\nX_test_sparse = full_sites_sparse[idx_split:]\", u'from sklearn.model_selection import train_test_split, GridSearchCV', u\"def get_auc_lr_valid(X, y, C=1.0, ratio = 0.9,... \\n    return roc_auc_score(y_valid, valid_pred)\", u'get_auc_lr_valid(X_train_sparse, y_train, ratio = 0.9)', u'# \\u0444\\u0443\\u043d\\u043a\\u0446\\u0438\\u044f \\...ted_df.to_csv(out_file, index_label=index_label)', u'new_feat_train = pd.DataFrame(index=train_df.i...ew_feat_test = pd.DataFrame(index=test_df.index)', u\"new_feat_train['alice_tminutes'] = train_df['t... >= 954 and ts.hour*60+ts.minute <=1100) else 0)\", u\"X_train_sparse_alicemin = csr_matrix(hstack([X..._test['alice_tminutes'].values.reshape(-1, 1)]))\", u'get_auc_lr_valid(X_train_sparse_alicemin, y_train)', u\"new_feat_train['alice_tminutes2'] = train_df['...e >= 548 and ts.hour*60+ts.minute <=559) else 0)\", u\"X_train_sparse_alicemin2 = csr_matrix(hstack([...test['alice_tminutes2'].values.reshape(-1, 1)]))\", u'get_auc_lr_valid(X_train_sparse_alicemin, y_train)', u'get_auc_lr_valid(X_train_sparse_alicemin2, y_train)', u\"new_feat_train['day0'] = train_df['time1'].app...'].apply(lambda ts: 1 if ts.weekday()==5 else 0)\", u\"X_train_sparse_alicemin2_dayall = csr_matrix(h...                                              ))\", u'get_auc_lr_valid(X_train_sparse_alicemin2_dayall, y_train)', ...], 'LogisticRegression': <class 'sklearn.linear_model.logistic.LogisticRegression'>, 'LogisticRegressionCV': <class 'sklearn.linear_model.logistic.LogisticRegressionCV'>, 'OneHotEncoder': <class 'sklearn.preprocessing.data.OneHotEncoder'>, 'Out': {3:                                                 ...                         9zouxfza1h.s.ad6media.fr, 7: 0.96433761440091936, 12: 0.98650035989731588, 16: 0.98708576028395223, 19: 0.9910118176175845, 20: 0.9910118176175845, 23: 0.99119403526923877, 24: 0.99119403526923877, 32: 0.99287326517974273, 33:             site1               time1  site2    ...:22       0        24157  \n\n[5 rows x 22 columns], ...}, ...}\n        self.user_ns = {'CatBoostClassifier': <class 'catboost.core.CatBoostClassifier'>, 'CountVectorizer': <class 'sklearn.feature_extraction.text.CountVectorizer'>, 'Counter': <class 'collections.Counter'>, 'DecisionTreeClassifier': <class 'sklearn.tree.tree.DecisionTreeClassifier'>, 'GridSearchCV': <class 'sklearn.model_selection._search.GridSearchCV'>, 'In': ['', u\"import pickle\\nimport numpy as np\\nimport pand...tlib import pyplot as plt\\nimport seaborn as sns\", u\"# \\u0437\\u0430\\u0433\\u0440\\u0443\\u0437\\u0438\\u...438\\ntrain_df = train_df.sort_values(by='time1')\", u'# \\u043f\\u0440\\u0438\\u0432\\u0435\\u0434\\u0435\\u... sites_dict_df.shape[0])\\n\\nsites_dict_df.head()', u\"# \\u043d\\u0430\\u0448\\u0430 \\u0446\\u0435\\u043b\\...]\\nX_test_sparse = full_sites_sparse[idx_split:]\", u'from sklearn.model_selection import train_test_split, GridSearchCV', u\"def get_auc_lr_valid(X, y, C=1.0, ratio = 0.9,... \\n    return roc_auc_score(y_valid, valid_pred)\", u'get_auc_lr_valid(X_train_sparse, y_train, ratio = 0.9)', u'# \\u0444\\u0443\\u043d\\u043a\\u0446\\u0438\\u044f \\...ted_df.to_csv(out_file, index_label=index_label)', u'new_feat_train = pd.DataFrame(index=train_df.i...ew_feat_test = pd.DataFrame(index=test_df.index)', u\"new_feat_train['alice_tminutes'] = train_df['t... >= 954 and ts.hour*60+ts.minute <=1100) else 0)\", u\"X_train_sparse_alicemin = csr_matrix(hstack([X..._test['alice_tminutes'].values.reshape(-1, 1)]))\", u'get_auc_lr_valid(X_train_sparse_alicemin, y_train)', u\"new_feat_train['alice_tminutes2'] = train_df['...e >= 548 and ts.hour*60+ts.minute <=559) else 0)\", u\"X_train_sparse_alicemin2 = csr_matrix(hstack([...test['alice_tminutes2'].values.reshape(-1, 1)]))\", u'get_auc_lr_valid(X_train_sparse_alicemin, y_train)', u'get_auc_lr_valid(X_train_sparse_alicemin2, y_train)', u\"new_feat_train['day0'] = train_df['time1'].app...'].apply(lambda ts: 1 if ts.weekday()==5 else 0)\", u\"X_train_sparse_alicemin2_dayall = csr_matrix(h...                                              ))\", u'get_auc_lr_valid(X_train_sparse_alicemin2_dayall, y_train)', ...], 'LogisticRegression': <class 'sklearn.linear_model.logistic.LogisticRegression'>, 'LogisticRegressionCV': <class 'sklearn.linear_model.logistic.LogisticRegressionCV'>, 'OneHotEncoder': <class 'sklearn.preprocessing.data.OneHotEncoder'>, 'Out': {3:                                                 ...                         9zouxfza1h.s.ad6media.fr, 7: 0.96433761440091936, 12: 0.98650035989731588, 16: 0.98708576028395223, 19: 0.9910118176175845, 20: 0.9910118176175845, 23: 0.99119403526923877, 24: 0.99119403526923877, 32: 0.99287326517974273, 33:             site1               time1  site2    ...:22       0        24157  \n\n[5 rows x 22 columns], ...}, ...}\n   2882             finally:\n   2883                 # Reset our crash handler in place\n   2884                 sys.excepthook = old_excepthook\n   2885         except SystemExit as e:\n\n...........................................................................\nC:\\Anaconda2\\Scripts\\<ipython-input-156-855cb4505899> in <module>()\n----> 1 \n      2 \n      3 \n      4 \n      5 \n      6 get_ipython().run_cell_magic(u'time', u'', u\"\\ncv_scores = cross_val_score(cat, X_train_tfidf_alicemin2_ids_dayall_mm_September, y_train, cv=time_split_3, \\n                            scoring='roc_auc', n_jobs=2) # hangs with n_jobs > 1, and locally this runs much faster\")\n      7 \n      8 \n      9 \n     10 \n\n...........................................................................\nC:\\Anaconda2\\lib\\site-packages\\IPython\\core\\interactiveshell.py in run_cell_magic(self=<ipykernel.zmqshell.ZMQInteractiveShell object>, magic_name=u'time', line=u'', cell=u\"\\ncv_scores = cross_val_score(cat, X_train_tfi...th n_jobs > 1, and locally this runs much faster\")\n   2110             # This will need to be updated if the internal calling logic gets\n   2111             # refactored, or else we'll be expanding the wrong variables.\n   2112             stack_depth = 2\n   2113             magic_arg_s = self.var_expand(line, stack_depth)\n   2114             with self.builtin_trap:\n-> 2115                 result = fn(magic_arg_s, cell)\n        result = undefined\n        fn = <bound method ExecutionMagics.time of <IPython.core.magics.execution.ExecutionMagics object>>\n        magic_arg_s = u''\n        cell = u\"\\ncv_scores = cross_val_score(cat, X_train_tfi...th n_jobs > 1, and locally this runs much faster\"\n   2116             return result\n   2117 \n   2118     def find_line_magic(self, magic_name):\n   2119         \"\"\"Find and return a line magic by name.\n\n...........................................................................\nC:\\Anaconda2\\Scripts\\<decorator-gen-60> in time(self=<IPython.core.magics.execution.ExecutionMagics object>, line=u'', cell=u\"\\ncv_scores = cross_val_score(cat, X_train_tfi...th n_jobs > 1, and locally this runs much faster\", local_ns=None)\n      1 \n----> 2 \n      3 \n      4 \n      5 \n      6 \n      7 \n      8 \n      9 \n     10 \n\n...........................................................................\nC:\\Anaconda2\\lib\\site-packages\\IPython\\core\\magic.py in <lambda>(f=<function time>, *a=(<IPython.core.magics.execution.ExecutionMagics object>, u'', u\"\\ncv_scores = cross_val_score(cat, X_train_tfi...th n_jobs > 1, and locally this runs much faster\", None), **k={})\n    183     validate_type(magic_kind)\n    184 \n    185     # This is a closure to capture the magic_kind.  We could also use a class,\n    186     # but it's overkill for just that one bit of state.\n    187     def magic_deco(arg):\n--> 188         call = lambda f, *a, **k: f(*a, **k)\n        f = <function time>\n        a = (<IPython.core.magics.execution.ExecutionMagics object>, u'', u\"\\ncv_scores = cross_val_score(cat, X_train_tfi...th n_jobs > 1, and locally this runs much faster\", None)\n        k = {}\n    189 \n    190         if callable(arg):\n    191             # \"Naked\" decorator call (just @foo, no args)\n    192             func = arg\n\n...........................................................................\nC:\\Anaconda2\\lib\\site-packages\\IPython\\core\\magics\\execution.py in time(self=<IPython.core.magics.execution.ExecutionMagics object>, line=u'', cell=u\"\\ncv_scores = cross_val_score(cat, X_train_tfi...th n_jobs > 1, and locally this runs much faster\", local_ns=None)\n   1180             st = clock2()\n   1181             out = eval(code, glob, local_ns)\n   1182             end = clock2()\n   1183         else:\n   1184             st = clock2()\n-> 1185             exec(code, glob, local_ns)\n        code = <code object <module> at 0000000046E660B0, file \"<timed exec>\", line 2>\n        glob = {'CatBoostClassifier': <class 'catboost.core.CatBoostClassifier'>, 'CountVectorizer': <class 'sklearn.feature_extraction.text.CountVectorizer'>, 'Counter': <class 'collections.Counter'>, 'DecisionTreeClassifier': <class 'sklearn.tree.tree.DecisionTreeClassifier'>, 'GridSearchCV': <class 'sklearn.model_selection._search.GridSearchCV'>, 'In': ['', u\"import pickle\\nimport numpy as np\\nimport pand...tlib import pyplot as plt\\nimport seaborn as sns\", u\"# \\u0437\\u0430\\u0433\\u0440\\u0443\\u0437\\u0438\\u...438\\ntrain_df = train_df.sort_values(by='time1')\", u'# \\u043f\\u0440\\u0438\\u0432\\u0435\\u0434\\u0435\\u... sites_dict_df.shape[0])\\n\\nsites_dict_df.head()', u\"# \\u043d\\u0430\\u0448\\u0430 \\u0446\\u0435\\u043b\\...]\\nX_test_sparse = full_sites_sparse[idx_split:]\", u'from sklearn.model_selection import train_test_split, GridSearchCV', u\"def get_auc_lr_valid(X, y, C=1.0, ratio = 0.9,... \\n    return roc_auc_score(y_valid, valid_pred)\", u'get_auc_lr_valid(X_train_sparse, y_train, ratio = 0.9)', u'# \\u0444\\u0443\\u043d\\u043a\\u0446\\u0438\\u044f \\...ted_df.to_csv(out_file, index_label=index_label)', u'new_feat_train = pd.DataFrame(index=train_df.i...ew_feat_test = pd.DataFrame(index=test_df.index)', u\"new_feat_train['alice_tminutes'] = train_df['t... >= 954 and ts.hour*60+ts.minute <=1100) else 0)\", u\"X_train_sparse_alicemin = csr_matrix(hstack([X..._test['alice_tminutes'].values.reshape(-1, 1)]))\", u'get_auc_lr_valid(X_train_sparse_alicemin, y_train)', u\"new_feat_train['alice_tminutes2'] = train_df['...e >= 548 and ts.hour*60+ts.minute <=559) else 0)\", u\"X_train_sparse_alicemin2 = csr_matrix(hstack([...test['alice_tminutes2'].values.reshape(-1, 1)]))\", u'get_auc_lr_valid(X_train_sparse_alicemin, y_train)', u'get_auc_lr_valid(X_train_sparse_alicemin2, y_train)', u\"new_feat_train['day0'] = train_df['time1'].app...'].apply(lambda ts: 1 if ts.weekday()==5 else 0)\", u\"X_train_sparse_alicemin2_dayall = csr_matrix(h...                                              ))\", u'get_auc_lr_valid(X_train_sparse_alicemin2_dayall, y_train)', ...], 'LogisticRegression': <class 'sklearn.linear_model.logistic.LogisticRegression'>, 'LogisticRegressionCV': <class 'sklearn.linear_model.logistic.LogisticRegressionCV'>, 'OneHotEncoder': <class 'sklearn.preprocessing.data.OneHotEncoder'>, 'Out': {3:                                                 ...                         9zouxfza1h.s.ad6media.fr, 7: 0.96433761440091936, 12: 0.98650035989731588, 16: 0.98708576028395223, 19: 0.9910118176175845, 20: 0.9910118176175845, 23: 0.99119403526923877, 24: 0.99119403526923877, 32: 0.99287326517974273, 33:             site1               time1  site2    ...:22       0        24157  \n\n[5 rows x 22 columns], ...}, ...}\n        local_ns = None\n   1186             end = clock2()\n   1187             out = None\n   1188         wall_end = wtime()\n   1189         # Compute actual times and report\n\n...........................................................................\nC:\\Anaconda2\\Scripts\\<timed exec> in <module>()\n      1 \n      2 \n----> 3 \n      4 \n      5 \n      6 \n      7 \n      8 \n      9 \n     10 \n\n...........................................................................\nC:\\Anaconda2\\lib\\site-packages\\sklearn\\model_selection\\_validation.py in cross_val_score(estimator=<catboost.core.CatBoostClassifier object>, X=<253561x148381 sparse matrix of type '<type 'num... stored elements in Compressed Sparse Row format>, y=session_id\n21669     0\n54843     0\n77292     0\n1...2    0\nName: target, Length: 253561, dtype: int64, groups=None, scoring='roc_auc', cv=TimeSeriesSplit(n_splits=3), n_jobs=2, verbose=0, fit_params=None, pre_dispatch='2*n_jobs')\n    135     parallel = Parallel(n_jobs=n_jobs, verbose=verbose,\n    136                         pre_dispatch=pre_dispatch)\n    137     scores = parallel(delayed(_fit_and_score)(clone(estimator), X, y, scorer,\n    138                                               train, test, verbose, None,\n    139                                               fit_params)\n--> 140                       for train, test in cv_iter)\n        cv_iter = [(array([    0,     1,     2, ..., 63388, 63389, 63390]), array([ 63391,  63392,  63393, ..., 126778, 126779, 126780])), (array([     0,      1,      2, ..., 126778, 126779, 126780]), array([126781, 126782, 126783, ..., 190168, 190169, 190170])), (array([     0,      1,      2, ..., 190168, 190169, 190170]), array([190171, 190172, 190173, ..., 253558, 253559, 253560]))]\n    141     return np.array(scores)[:, 0]\n    142 \n    143 \n    144 def _fit_and_score(estimator, X, y, scorer, train, test, verbose,\n\n...........................................................................\nC:\\Anaconda2\\lib\\site-packages\\sklearn\\externals\\joblib\\parallel.py in __call__(self=Parallel(n_jobs=2), iterable=<generator object <genexpr>>)\n    763             if pre_dispatch == \"all\" or n_jobs == 1:\n    764                 # The iterable was consumed all at once by the above for loop.\n    765                 # No need to wait for async callbacks to trigger to\n    766                 # consumption.\n    767                 self._iterating = False\n--> 768             self.retrieve()\n        self.retrieve = <bound method Parallel.retrieve of Parallel(n_jobs=2)>\n    769             # Make sure that we get a last message telling us we are done\n    770             elapsed_time = time.time() - self._start_time\n    771             self._print('Done %3i out of %3i | elapsed: %s finished',\n    772                         (len(self._output), len(self._output),\n\n---------------------------------------------------------------------------\nSub-process traceback:\n---------------------------------------------------------------------------\nCatboostError                                      Sun Apr 22 11:43:49 2018\nPID: 17532                           Python 2.7.13: C:\\Anaconda2\\python.exe\n...........................................................................\nC:\\Anaconda2\\lib\\site-packages\\sklearn\\externals\\joblib\\parallel.py in __call__(self=<sklearn.externals.joblib.parallel.BatchedCalls object>)\n    126     def __init__(self, iterator_slice):\n    127         self.items = list(iterator_slice)\n    128         self._size = len(self.items)\n    129 \n    130     def __call__(self):\n--> 131         return [func(*args, **kwargs) for func, args, kwargs in self.items]\n        func = <function _fit_and_score>\n        args = (<catboost.core.CatBoostClassifier object>, <253561x148381 sparse matrix of type '<type 'num... stored elements in Compressed Sparse Row format>, session_id\n21669     0\n54843     0\n77292     0\n1...2    0\nName: target, Length: 253561, dtype: int64, make_scorer(roc_auc_score, needs_threshold=True), array([    0,     1,     2, ..., 63388, 63389, 63390]), array([ 63391,  63392,  63393, ..., 126778, 126779, 126780]), 0, None, None)\n        kwargs = {}\n        self.items = [(<function _fit_and_score>, (<catboost.core.CatBoostClassifier object>, <253561x148381 sparse matrix of type '<type 'num... stored elements in Compressed Sparse Row format>, session_id\n21669     0\n54843     0\n77292     0\n1...2    0\nName: target, Length: 253561, dtype: int64, make_scorer(roc_auc_score, needs_threshold=True), array([    0,     1,     2, ..., 63388, 63389, 63390]), array([ 63391,  63392,  63393, ..., 126778, 126779, 126780]), 0, None, None), {})]\n    132 \n    133     def __len__(self):\n    134         return self._size\n    135 \n\n...........................................................................\nC:\\Anaconda2\\lib\\site-packages\\sklearn\\model_selection\\_validation.py in _fit_and_score(estimator=<catboost.core.CatBoostClassifier object>, X=<253561x148381 sparse matrix of type '<type 'num... stored elements in Compressed Sparse Row format>, y=session_id\n21669     0\n54843     0\n77292     0\n1...2    0\nName: target, Length: 253561, dtype: int64, scorer=make_scorer(roc_auc_score, needs_threshold=True), train=array([    0,     1,     2, ..., 63388, 63389, 63390]), test=array([ 63391,  63392,  63393, ..., 126778, 126779, 126780]), verbose=0, parameters=None, fit_params={}, return_train_score=False, return_parameters=False, return_n_test_samples=False, return_times=False, error_score='raise')\n    233 \n    234     try:\n    235         if y_train is None:\n    236             estimator.fit(X_train, **fit_params)\n    237         else:\n--> 238             estimator.fit(X_train, y_train, **fit_params)\n        estimator.fit = <bound method CatBoostClassifier.fit of <catboost.core.CatBoostClassifier object>>\n        X_train = <63391x148381 sparse matrix of type '<type 'nump... stored elements in Compressed Sparse Row format>\n        y_train = session_id\n21669     0\n54843     0\n77292     0\n1...24    0\nName: target, Length: 63391, dtype: int64\n        fit_params = {}\n    239 \n    240     except Exception as e:\n    241         # Note fit time as time until error\n    242         fit_time = time.time() - start_time\n\n...........................................................................\nC:\\Anaconda2\\lib\\site-packages\\catboost\\core.py in fit(self=<catboost.core.CatBoostClassifier object>, X=<63391x148381 sparse matrix of type '<type 'nump... stored elements in Compressed Sparse Row format>, y=session_id\n21669     0\n54843     0\n77292     0\n1...24    0\nName: target, Length: 63391, dtype: int64, cat_features=None, sample_weight=None, baseline=None, use_best_model=None, eval_set=None, verbose=None, logging_level=None, plot=False, column_description=None, verbose_eval=None)\n   1671 \n   1672         Returns\n   1673         -------\n   1674         model : CatBoost\n   1675         \"\"\"\n-> 1676         self._fit(X, y, cat_features, None, sample_weight, None, None, None, baseline, use_best_model, eval_set, verbose, logging_level, plot, column_description, verbose_eval)\n        self._fit = <bound method CatBoostClassifier._fit of <catboost.core.CatBoostClassifier object>>\n        X = <63391x148381 sparse matrix of type '<type 'nump... stored elements in Compressed Sparse Row format>\n        y = session_id\n21669     0\n54843     0\n77292     0\n1...24    0\nName: target, Length: 63391, dtype: int64\n        cat_features = None\n        sample_weight = None\n        baseline = None\n        use_best_model = None\n        eval_set = None\n        verbose = None\n        logging_level = None\n        plot = False\n        column_description = None\n        verbose_eval = None\n   1677         return self\n   1678 \n   1679     def predict(self, data, prediction_type='Class', ntree_start=0, ntree_end=0, thread_count=-1, verbose=None):\n   1680         \"\"\"\n\n...........................................................................\nC:\\Anaconda2\\lib\\site-packages\\catboost\\core.py in _fit(self=<catboost.core.CatBoostClassifier object>, X=<63391x148381 sparse matrix of type '<type 'nump... stored elements in Compressed Sparse Row format>, y=session_id\n21669     0\n54843     0\n77292     0\n1...24    0\nName: target, Length: 63391, dtype: int64, cat_features=None, pairs=None, sample_weight=None, group_id=None, subgroup_id=None, pairs_weight=None, baseline=None, use_best_model=None, eval_set=None, verbose=None, logging_level=None, plot=False, column_description=None, verbose_eval=None)\n    747         if logging_level is not None:\n    748             params['logging_level'] = logging_level\n    749         if use_best_model is not None:\n    750             params['use_best_model'] = use_best_model\n    751 \n--> 752         train_pool = _build_train_pool(X, y, cat_features, pairs, sample_weight, group_id, subgroup_id, pairs_weight, baseline, column_description)\n        train_pool = undefined\n        X = <63391x148381 sparse matrix of type '<type 'nump... stored elements in Compressed Sparse Row format>\n        y = session_id\n21669     0\n54843     0\n77292     0\n1...24    0\nName: target, Length: 63391, dtype: int64\n        cat_features = None\n        pairs = None\n        sample_weight = None\n        group_id = None\n        subgroup_id = None\n        pairs_weight = None\n        baseline = None\n        column_description = None\n    753         if train_pool.is_empty_:\n    754             raise CatboostError(\"X is empty.\")\n    755 \n    756         if column_description is not None and not isinstance(X, STRING_TYPES) and not isinstance(eval_set, STRING_TYPES):\n\n...........................................................................\nC:\\Anaconda2\\lib\\site-packages\\catboost\\core.py in _build_train_pool(X=<63391x148381 sparse matrix of type '<type 'nump... stored elements in Compressed Sparse Row format>, y=session_id\n21669     0\n54843     0\n77292     0\n1...24    0\nName: target, Length: 63391, dtype: int64, cat_features=None, pairs=None, sample_weight=None, group_id=None, subgroup_id=None, pairs_weight=None, baseline=None, column_description=None)\n    549             train_pool = Pool(data=X, pairs=pairs, column_description=column_description)\n    550     else:\n    551         if y is None:\n    552             raise CatboostError(\"y has not initialized in fit(): X is not catboost.Pool object, y must be not None in fit().\")\n    553         train_pool = Pool(X, y, cat_features=cat_features, pairs=pairs, weight=sample_weight, group_id=group_id,\n--> 554                           subgroup_id=subgroup_id, pairs_weight=pairs_weight, baseline=baseline)\n        subgroup_id = None\n        pairs_weight = None\n        baseline = None\n    555     return train_pool\n    556 \n    557 \n    558 def _clear_training_files(train_dir):\n\n...........................................................................\nC:\\Anaconda2\\lib\\site-packages\\catboost\\core.py in __init__(self=<catboost.core.Pool object>, data=<63391x148381 sparse matrix of type '<type 'nump... stored elements in Compressed Sparse Row format>, label=session_id\n21669     0\n54843     0\n77292     0\n1...24    0\nName: target, Length: 63391, dtype: int64, cat_features=None, column_description=None, pairs=None, delimiter='\\t', has_header=False, weight=None, group_id=None, subgroup_id=None, pairs_weight=None, baseline=None, feature_names=None, thread_count=-1)\n    209             Thread count to read data from file.\n    210             Use only with reading data from file.\n    211             If -1, then the number of threads is set to the number of cores.\n    212         \"\"\"\n    213         if data is not None:\n--> 214             self._check_data_type(data)\n        self._check_data_type = <bound method Pool._check_data_type of <catboost.core.Pool object>>\n        data = <63391x148381 sparse matrix of type '<type 'nump... stored elements in Compressed Sparse Row format>\n    215             self._check_data_empty(data)\n    216             if pairs is not None and isinstance(data, STRING_TYPES) != isinstance(pairs, STRING_TYPES):\n    217                 raise CatboostError(\"Data and pairs should be the same types.\")\n    218             if isinstance(data, STRING_TYPES):\n\n...........................................................................\nC:\\Anaconda2\\lib\\site-packages\\catboost\\core.py in _check_data_type(self=<catboost.core.Pool object>, data=<63391x148381 sparse matrix of type '<type 'nump... stored elements in Compressed Sparse Row format>)\n    285     def _check_data_type(self, data):\n    286         \"\"\"\n    287         Check type of data.\n    288         \"\"\"\n    289         if not isinstance(data, (STRING_TYPES, ARRAY_TYPES)):\n--> 290             raise CatboostError(\"Invalid data type={}: data must be list(), np.ndarray(), DataFrame(), Series() or filename str().\".format(type(data)))\n        data = <63391x148381 sparse matrix of type '<type 'nump... stored elements in Compressed Sparse Row format>\n    291 \n    292     def _check_data_empty(self, data):\n    293         \"\"\"\n    294         Check data is not empty.\n\nCatboostError: Invalid data type=<class 'scipy.sparse.csr.csr_matrix'>: data must be list(), np.ndarray(), DataFrame(), Series() or filename str().\n___________________________________________________________________________",
     "output_type": "error",
     "traceback": [
      "\u001b[1;31m---------------------------------------------------------------------------\u001b[0m",
      "\u001b[1;31mJoblibCatboostError\u001b[0m                       Traceback (most recent call last)",
      "\u001b[1;32m<ipython-input-156-855cb4505899>\u001b[0m in \u001b[0;36m<module>\u001b[1;34m()\u001b[0m\n\u001b[1;32m----> 1\u001b[1;33m \u001b[0mget_ipython\u001b[0m\u001b[1;33m(\u001b[0m\u001b[1;33m)\u001b[0m\u001b[1;33m.\u001b[0m\u001b[0mrun_cell_magic\u001b[0m\u001b[1;33m(\u001b[0m\u001b[1;34mu'time'\u001b[0m\u001b[1;33m,\u001b[0m \u001b[1;34mu''\u001b[0m\u001b[1;33m,\u001b[0m \u001b[1;34mu\"\\ncv_scores = cross_val_score(cat, X_train_tfidf_alicemin2_ids_dayall_mm_September, y_train, cv=time_split_3, \\n                            scoring='roc_auc', n_jobs=2) # hangs with n_jobs > 1, and locally this runs much faster\"\u001b[0m\u001b[1;33m)\u001b[0m\u001b[1;33m\u001b[0m\u001b[0m\n\u001b[0m",
      "\u001b[1;32mC:\\Anaconda2\\lib\\site-packages\\IPython\\core\\interactiveshell.pyc\u001b[0m in \u001b[0;36mrun_cell_magic\u001b[1;34m(self, magic_name, line, cell)\u001b[0m\n\u001b[0;32m   2113\u001b[0m             \u001b[0mmagic_arg_s\u001b[0m \u001b[1;33m=\u001b[0m \u001b[0mself\u001b[0m\u001b[1;33m.\u001b[0m\u001b[0mvar_expand\u001b[0m\u001b[1;33m(\u001b[0m\u001b[0mline\u001b[0m\u001b[1;33m,\u001b[0m \u001b[0mstack_depth\u001b[0m\u001b[1;33m)\u001b[0m\u001b[1;33m\u001b[0m\u001b[0m\n\u001b[0;32m   2114\u001b[0m             \u001b[1;32mwith\u001b[0m \u001b[0mself\u001b[0m\u001b[1;33m.\u001b[0m\u001b[0mbuiltin_trap\u001b[0m\u001b[1;33m:\u001b[0m\u001b[1;33m\u001b[0m\u001b[0m\n\u001b[1;32m-> 2115\u001b[1;33m                 \u001b[0mresult\u001b[0m \u001b[1;33m=\u001b[0m \u001b[0mfn\u001b[0m\u001b[1;33m(\u001b[0m\u001b[0mmagic_arg_s\u001b[0m\u001b[1;33m,\u001b[0m \u001b[0mcell\u001b[0m\u001b[1;33m)\u001b[0m\u001b[1;33m\u001b[0m\u001b[0m\n\u001b[0m\u001b[0;32m   2116\u001b[0m             \u001b[1;32mreturn\u001b[0m \u001b[0mresult\u001b[0m\u001b[1;33m\u001b[0m\u001b[0m\n\u001b[0;32m   2117\u001b[0m \u001b[1;33m\u001b[0m\u001b[0m\n",
      "\u001b[1;32m<decorator-gen-60>\u001b[0m in \u001b[0;36mtime\u001b[1;34m(self, line, cell, local_ns)\u001b[0m\n",
      "\u001b[1;32mC:\\Anaconda2\\lib\\site-packages\\IPython\\core\\magic.pyc\u001b[0m in \u001b[0;36m<lambda>\u001b[1;34m(f, *a, **k)\u001b[0m\n\u001b[0;32m    186\u001b[0m     \u001b[1;31m# but it's overkill for just that one bit of state.\u001b[0m\u001b[1;33m\u001b[0m\u001b[1;33m\u001b[0m\u001b[0m\n\u001b[0;32m    187\u001b[0m     \u001b[1;32mdef\u001b[0m \u001b[0mmagic_deco\u001b[0m\u001b[1;33m(\u001b[0m\u001b[0marg\u001b[0m\u001b[1;33m)\u001b[0m\u001b[1;33m:\u001b[0m\u001b[1;33m\u001b[0m\u001b[0m\n\u001b[1;32m--> 188\u001b[1;33m         \u001b[0mcall\u001b[0m \u001b[1;33m=\u001b[0m \u001b[1;32mlambda\u001b[0m \u001b[0mf\u001b[0m\u001b[1;33m,\u001b[0m \u001b[1;33m*\u001b[0m\u001b[0ma\u001b[0m\u001b[1;33m,\u001b[0m \u001b[1;33m**\u001b[0m\u001b[0mk\u001b[0m\u001b[1;33m:\u001b[0m \u001b[0mf\u001b[0m\u001b[1;33m(\u001b[0m\u001b[1;33m*\u001b[0m\u001b[0ma\u001b[0m\u001b[1;33m,\u001b[0m \u001b[1;33m**\u001b[0m\u001b[0mk\u001b[0m\u001b[1;33m)\u001b[0m\u001b[1;33m\u001b[0m\u001b[0m\n\u001b[0m\u001b[0;32m    189\u001b[0m \u001b[1;33m\u001b[0m\u001b[0m\n\u001b[0;32m    190\u001b[0m         \u001b[1;32mif\u001b[0m \u001b[0mcallable\u001b[0m\u001b[1;33m(\u001b[0m\u001b[0marg\u001b[0m\u001b[1;33m)\u001b[0m\u001b[1;33m:\u001b[0m\u001b[1;33m\u001b[0m\u001b[0m\n",
      "\u001b[1;32mC:\\Anaconda2\\lib\\site-packages\\IPython\\core\\magics\\execution.pyc\u001b[0m in \u001b[0;36mtime\u001b[1;34m(self, line, cell, local_ns)\u001b[0m\n\u001b[0;32m   1183\u001b[0m         \u001b[1;32melse\u001b[0m\u001b[1;33m:\u001b[0m\u001b[1;33m\u001b[0m\u001b[0m\n\u001b[0;32m   1184\u001b[0m             \u001b[0mst\u001b[0m \u001b[1;33m=\u001b[0m \u001b[0mclock2\u001b[0m\u001b[1;33m(\u001b[0m\u001b[1;33m)\u001b[0m\u001b[1;33m\u001b[0m\u001b[0m\n\u001b[1;32m-> 1185\u001b[1;33m             \u001b[1;32mexec\u001b[0m\u001b[1;33m(\u001b[0m\u001b[0mcode\u001b[0m\u001b[1;33m,\u001b[0m \u001b[0mglob\u001b[0m\u001b[1;33m,\u001b[0m \u001b[0mlocal_ns\u001b[0m\u001b[1;33m)\u001b[0m\u001b[1;33m\u001b[0m\u001b[0m\n\u001b[0m\u001b[0;32m   1186\u001b[0m             \u001b[0mend\u001b[0m \u001b[1;33m=\u001b[0m \u001b[0mclock2\u001b[0m\u001b[1;33m(\u001b[0m\u001b[1;33m)\u001b[0m\u001b[1;33m\u001b[0m\u001b[0m\n\u001b[0;32m   1187\u001b[0m             \u001b[0mout\u001b[0m \u001b[1;33m=\u001b[0m \u001b[0mNone\u001b[0m\u001b[1;33m\u001b[0m\u001b[0m\n",
      "\u001b[1;32m<timed exec>\u001b[0m in \u001b[0;36m<module>\u001b[1;34m()\u001b[0m\n",
      "\u001b[1;32mC:\\Anaconda2\\lib\\site-packages\\sklearn\\model_selection\\_validation.pyc\u001b[0m in \u001b[0;36mcross_val_score\u001b[1;34m(estimator, X, y, groups, scoring, cv, n_jobs, verbose, fit_params, pre_dispatch)\u001b[0m\n\u001b[0;32m    138\u001b[0m                                               \u001b[0mtrain\u001b[0m\u001b[1;33m,\u001b[0m \u001b[0mtest\u001b[0m\u001b[1;33m,\u001b[0m \u001b[0mverbose\u001b[0m\u001b[1;33m,\u001b[0m \u001b[0mNone\u001b[0m\u001b[1;33m,\u001b[0m\u001b[1;33m\u001b[0m\u001b[0m\n\u001b[0;32m    139\u001b[0m                                               fit_params)\n\u001b[1;32m--> 140\u001b[1;33m                       for train, test in cv_iter)\n\u001b[0m\u001b[0;32m    141\u001b[0m     \u001b[1;32mreturn\u001b[0m \u001b[0mnp\u001b[0m\u001b[1;33m.\u001b[0m\u001b[0marray\u001b[0m\u001b[1;33m(\u001b[0m\u001b[0mscores\u001b[0m\u001b[1;33m)\u001b[0m\u001b[1;33m[\u001b[0m\u001b[1;33m:\u001b[0m\u001b[1;33m,\u001b[0m \u001b[1;36m0\u001b[0m\u001b[1;33m]\u001b[0m\u001b[1;33m\u001b[0m\u001b[0m\n\u001b[0;32m    142\u001b[0m \u001b[1;33m\u001b[0m\u001b[0m\n",
      "\u001b[1;32mC:\\Anaconda2\\lib\\site-packages\\sklearn\\externals\\joblib\\parallel.pyc\u001b[0m in \u001b[0;36m__call__\u001b[1;34m(self, iterable)\u001b[0m\n\u001b[0;32m    766\u001b[0m                 \u001b[1;31m# consumption.\u001b[0m\u001b[1;33m\u001b[0m\u001b[1;33m\u001b[0m\u001b[0m\n\u001b[0;32m    767\u001b[0m                 \u001b[0mself\u001b[0m\u001b[1;33m.\u001b[0m\u001b[0m_iterating\u001b[0m \u001b[1;33m=\u001b[0m \u001b[0mFalse\u001b[0m\u001b[1;33m\u001b[0m\u001b[0m\n\u001b[1;32m--> 768\u001b[1;33m             \u001b[0mself\u001b[0m\u001b[1;33m.\u001b[0m\u001b[0mretrieve\u001b[0m\u001b[1;33m(\u001b[0m\u001b[1;33m)\u001b[0m\u001b[1;33m\u001b[0m\u001b[0m\n\u001b[0m\u001b[0;32m    769\u001b[0m             \u001b[1;31m# Make sure that we get a last message telling us we are done\u001b[0m\u001b[1;33m\u001b[0m\u001b[1;33m\u001b[0m\u001b[0m\n\u001b[0;32m    770\u001b[0m             \u001b[0melapsed_time\u001b[0m \u001b[1;33m=\u001b[0m \u001b[0mtime\u001b[0m\u001b[1;33m.\u001b[0m\u001b[0mtime\u001b[0m\u001b[1;33m(\u001b[0m\u001b[1;33m)\u001b[0m \u001b[1;33m-\u001b[0m \u001b[0mself\u001b[0m\u001b[1;33m.\u001b[0m\u001b[0m_start_time\u001b[0m\u001b[1;33m\u001b[0m\u001b[0m\n",
      "\u001b[1;32mC:\\Anaconda2\\lib\\site-packages\\sklearn\\externals\\joblib\\parallel.pyc\u001b[0m in \u001b[0;36mretrieve\u001b[1;34m(self)\u001b[0m\n\u001b[0;32m    717\u001b[0m                     \u001b[0mensure_ready\u001b[0m \u001b[1;33m=\u001b[0m \u001b[0mself\u001b[0m\u001b[1;33m.\u001b[0m\u001b[0m_managed_backend\u001b[0m\u001b[1;33m\u001b[0m\u001b[0m\n\u001b[0;32m    718\u001b[0m                     \u001b[0mbackend\u001b[0m\u001b[1;33m.\u001b[0m\u001b[0mabort_everything\u001b[0m\u001b[1;33m(\u001b[0m\u001b[0mensure_ready\u001b[0m\u001b[1;33m=\u001b[0m\u001b[0mensure_ready\u001b[0m\u001b[1;33m)\u001b[0m\u001b[1;33m\u001b[0m\u001b[0m\n\u001b[1;32m--> 719\u001b[1;33m                 \u001b[1;32mraise\u001b[0m \u001b[0mexception\u001b[0m\u001b[1;33m\u001b[0m\u001b[0m\n\u001b[0m\u001b[0;32m    720\u001b[0m \u001b[1;33m\u001b[0m\u001b[0m\n\u001b[0;32m    721\u001b[0m     \u001b[1;32mdef\u001b[0m \u001b[0m__call__\u001b[0m\u001b[1;33m(\u001b[0m\u001b[0mself\u001b[0m\u001b[1;33m,\u001b[0m \u001b[0miterable\u001b[0m\u001b[1;33m)\u001b[0m\u001b[1;33m:\u001b[0m\u001b[1;33m\u001b[0m\u001b[0m\n",
      "\u001b[1;31mJoblibCatboostError\u001b[0m: JoblibCatboostError\n___________________________________________________________________________\nMultiprocessing exception:\n...........................................................................\nC:\\Anaconda2\\lib\\runpy.py in _run_module_as_main(mod_name='ipykernel_launcher', alter_argv=1)\n    169     pkg_name = mod_name.rpartition('.')[0]\n    170     main_globals = sys.modules[\"__main__\"].__dict__\n    171     if alter_argv:\n    172         sys.argv[0] = fname\n    173     return _run_code(code, main_globals, None,\n--> 174                      \"__main__\", fname, loader, pkg_name)\n        fname = r'C:\\Anaconda2\\lib\\site-packages\\ipykernel_launcher.py'\n        loader = <pkgutil.ImpLoader instance>\n        pkg_name = ''\n    175 \n    176 def run_module(mod_name, init_globals=None,\n    177                run_name=None, alter_sys=False):\n    178     \"\"\"Execute a module's code without importing it\n\n...........................................................................\nC:\\Anaconda2\\lib\\runpy.py in _run_code(code=<code object <module> at 0000000004749CB0, file ...lib\\site-packages\\ipykernel_launcher.py\", line 5>, run_globals={'__builtins__': <module '__builtin__' (built-in)>, '__doc__': 'Entry point for launching an IPython kernel.\\n\\nTh...orts until\\nafter removing the cwd from sys.path.\\n', '__file__': r'C:\\Anaconda2\\lib\\site-packages\\ipykernel_launcher.py', '__loader__': <pkgutil.ImpLoader instance>, '__name__': '__main__', '__package__': '', 'app': <module 'ipykernel.kernelapp' from 'C:\\Anaconda2\\lib\\site-packages\\ipykernel\\kernelapp.pyc'>, 'sys': <module 'sys' (built-in)>}, init_globals=None, mod_name='__main__', mod_fname=r'C:\\Anaconda2\\lib\\site-packages\\ipykernel_launcher.py', mod_loader=<pkgutil.ImpLoader instance>, pkg_name='')\n     67         run_globals.update(init_globals)\n     68     run_globals.update(__name__ = mod_name,\n     69                        __file__ = mod_fname,\n     70                        __loader__ = mod_loader,\n     71                        __package__ = pkg_name)\n---> 72     exec code in run_globals\n        code = <code object <module> at 0000000004749CB0, file ...lib\\site-packages\\ipykernel_launcher.py\", line 5>\n        run_globals = {'__builtins__': <module '__builtin__' (built-in)>, '__doc__': 'Entry point for launching an IPython kernel.\\n\\nTh...orts until\\nafter removing the cwd from sys.path.\\n', '__file__': r'C:\\Anaconda2\\lib\\site-packages\\ipykernel_launcher.py', '__loader__': <pkgutil.ImpLoader instance>, '__name__': '__main__', '__package__': '', 'app': <module 'ipykernel.kernelapp' from 'C:\\Anaconda2\\lib\\site-packages\\ipykernel\\kernelapp.pyc'>, 'sys': <module 'sys' (built-in)>}\n     73     return run_globals\n     74 \n     75 def _run_module_code(code, init_globals=None,\n     76                     mod_name=None, mod_fname=None,\n\n...........................................................................\nC:\\Anaconda2\\lib\\site-packages\\ipykernel_launcher.py in <module>()\n     11     # This is added back by InteractiveShellApp.init_path()\n     12     if sys.path[0] == '':\n     13         del sys.path[0]\n     14 \n     15     from ipykernel import kernelapp as app\n---> 16     app.launch_new_instance()\n     17 \n     18 \n     19 \n     20 \n\n...........................................................................\nC:\\Anaconda2\\lib\\site-packages\\traitlets\\config\\application.py in launch_instance(cls=<class 'ipykernel.kernelapp.IPKernelApp'>, argv=None, **kwargs={})\n    653 \n    654         If a global instance already exists, this reinitializes and starts it\n    655         \"\"\"\n    656         app = cls.instance(**kwargs)\n    657         app.initialize(argv)\n--> 658         app.start()\n        app.start = <bound method IPKernelApp.start of <ipykernel.kernelapp.IPKernelApp object>>\n    659 \n    660 #-----------------------------------------------------------------------------\n    661 # utility functions, for convenience\n    662 #-----------------------------------------------------------------------------\n\n...........................................................................\nC:\\Anaconda2\\lib\\site-packages\\ipykernel\\kernelapp.py in start(self=<ipykernel.kernelapp.IPKernelApp object>)\n    472             return self.subapp.start()\n    473         if self.poller is not None:\n    474             self.poller.start()\n    475         self.kernel.start()\n    476         try:\n--> 477             ioloop.IOLoop.instance().start()\n    478         except KeyboardInterrupt:\n    479             pass\n    480 \n    481 launch_new_instance = IPKernelApp.launch_instance\n\n...........................................................................\nC:\\Anaconda2\\lib\\site-packages\\zmq\\eventloop\\ioloop.py in start(self=<zmq.eventloop.ioloop.ZMQIOLoop object>)\n    172             )\n    173         return loop\n    174     \n    175     def start(self):\n    176         try:\n--> 177             super(ZMQIOLoop, self).start()\n        self.start = <bound method ZMQIOLoop.start of <zmq.eventloop.ioloop.ZMQIOLoop object>>\n    178         except ZMQError as e:\n    179             if e.errno == ETERM:\n    180                 # quietly return on ETERM\n    181                 pass\n\n...........................................................................\nC:\\Anaconda2\\lib\\site-packages\\tornado\\ioloop.py in start(self=<zmq.eventloop.ioloop.ZMQIOLoop object>)\n    883                 self._events.update(event_pairs)\n    884                 while self._events:\n    885                     fd, events = self._events.popitem()\n    886                     try:\n    887                         fd_obj, handler_func = self._handlers[fd]\n--> 888                         handler_func(fd_obj, events)\n        handler_func = <function null_wrapper>\n        fd_obj = <zmq.sugar.socket.Socket object>\n        events = 1\n    889                     except (OSError, IOError) as e:\n    890                         if errno_from_exception(e) == errno.EPIPE:\n    891                             # Happens when the client closes the connection\n    892                             pass\n\n...........................................................................\nC:\\Anaconda2\\lib\\site-packages\\tornado\\stack_context.py in null_wrapper(*args=(<zmq.sugar.socket.Socket object>, 1), **kwargs={})\n    272         # Fast path when there are no active contexts.\n    273         def null_wrapper(*args, **kwargs):\n    274             try:\n    275                 current_state = _state.contexts\n    276                 _state.contexts = cap_contexts[0]\n--> 277                 return fn(*args, **kwargs)\n        args = (<zmq.sugar.socket.Socket object>, 1)\n        kwargs = {}\n    278             finally:\n    279                 _state.contexts = current_state\n    280         null_wrapper._wrapped = True\n    281         return null_wrapper\n\n...........................................................................\nC:\\Anaconda2\\lib\\site-packages\\zmq\\eventloop\\zmqstream.py in _handle_events(self=<zmq.eventloop.zmqstream.ZMQStream object>, fd=<zmq.sugar.socket.Socket object>, events=1)\n    435             # dispatch events:\n    436             if events & IOLoop.ERROR:\n    437                 gen_log.error(\"got POLLERR event on ZMQStream, which doesn't make sense\")\n    438                 return\n    439             if events & IOLoop.READ:\n--> 440                 self._handle_recv()\n        self._handle_recv = <bound method ZMQStream._handle_recv of <zmq.eventloop.zmqstream.ZMQStream object>>\n    441                 if not self.socket:\n    442                     return\n    443             if events & IOLoop.WRITE:\n    444                 self._handle_send()\n\n...........................................................................\nC:\\Anaconda2\\lib\\site-packages\\zmq\\eventloop\\zmqstream.py in _handle_recv(self=<zmq.eventloop.zmqstream.ZMQStream object>)\n    467                 gen_log.error(\"RECV Error: %s\"%zmq.strerror(e.errno))\n    468         else:\n    469             if self._recv_callback:\n    470                 callback = self._recv_callback\n    471                 # self._recv_callback = None\n--> 472                 self._run_callback(callback, msg)\n        self._run_callback = <bound method ZMQStream._run_callback of <zmq.eventloop.zmqstream.ZMQStream object>>\n        callback = <function null_wrapper>\n        msg = [<zmq.sugar.frame.Frame object>, <zmq.sugar.frame.Frame object>, <zmq.sugar.frame.Frame object>, <zmq.sugar.frame.Frame object>, <zmq.sugar.frame.Frame object>, <zmq.sugar.frame.Frame object>, <zmq.sugar.frame.Frame object>]\n    473                 \n    474         # self.update_state()\n    475         \n    476 \n\n...........................................................................\nC:\\Anaconda2\\lib\\site-packages\\zmq\\eventloop\\zmqstream.py in _run_callback(self=<zmq.eventloop.zmqstream.ZMQStream object>, callback=<function null_wrapper>, *args=([<zmq.sugar.frame.Frame object>, <zmq.sugar.frame.Frame object>, <zmq.sugar.frame.Frame object>, <zmq.sugar.frame.Frame object>, <zmq.sugar.frame.Frame object>, <zmq.sugar.frame.Frame object>, <zmq.sugar.frame.Frame object>],), **kwargs={})\n    409         close our socket.\"\"\"\n    410         try:\n    411             # Use a NullContext to ensure that all StackContexts are run\n    412             # inside our blanket exception handler rather than outside.\n    413             with stack_context.NullContext():\n--> 414                 callback(*args, **kwargs)\n        callback = <function null_wrapper>\n        args = ([<zmq.sugar.frame.Frame object>, <zmq.sugar.frame.Frame object>, <zmq.sugar.frame.Frame object>, <zmq.sugar.frame.Frame object>, <zmq.sugar.frame.Frame object>, <zmq.sugar.frame.Frame object>, <zmq.sugar.frame.Frame object>],)\n        kwargs = {}\n    415         except:\n    416             gen_log.error(\"Uncaught exception, closing connection.\",\n    417                           exc_info=True)\n    418             # Close the socket on an uncaught exception from a user callback\n\n...........................................................................\nC:\\Anaconda2\\lib\\site-packages\\tornado\\stack_context.py in null_wrapper(*args=([<zmq.sugar.frame.Frame object>, <zmq.sugar.frame.Frame object>, <zmq.sugar.frame.Frame object>, <zmq.sugar.frame.Frame object>, <zmq.sugar.frame.Frame object>, <zmq.sugar.frame.Frame object>, <zmq.sugar.frame.Frame object>],), **kwargs={})\n    272         # Fast path when there are no active contexts.\n    273         def null_wrapper(*args, **kwargs):\n    274             try:\n    275                 current_state = _state.contexts\n    276                 _state.contexts = cap_contexts[0]\n--> 277                 return fn(*args, **kwargs)\n        args = ([<zmq.sugar.frame.Frame object>, <zmq.sugar.frame.Frame object>, <zmq.sugar.frame.Frame object>, <zmq.sugar.frame.Frame object>, <zmq.sugar.frame.Frame object>, <zmq.sugar.frame.Frame object>, <zmq.sugar.frame.Frame object>],)\n        kwargs = {}\n    278             finally:\n    279                 _state.contexts = current_state\n    280         null_wrapper._wrapped = True\n    281         return null_wrapper\n\n...........................................................................\nC:\\Anaconda2\\lib\\site-packages\\ipykernel\\kernelbase.py in dispatcher(msg=[<zmq.sugar.frame.Frame object>, <zmq.sugar.frame.Frame object>, <zmq.sugar.frame.Frame object>, <zmq.sugar.frame.Frame object>, <zmq.sugar.frame.Frame object>, <zmq.sugar.frame.Frame object>, <zmq.sugar.frame.Frame object>])\n    278         if self.control_stream:\n    279             self.control_stream.on_recv(self.dispatch_control, copy=False)\n    280 \n    281         def make_dispatcher(stream):\n    282             def dispatcher(msg):\n--> 283                 return self.dispatch_shell(stream, msg)\n        msg = [<zmq.sugar.frame.Frame object>, <zmq.sugar.frame.Frame object>, <zmq.sugar.frame.Frame object>, <zmq.sugar.frame.Frame object>, <zmq.sugar.frame.Frame object>, <zmq.sugar.frame.Frame object>, <zmq.sugar.frame.Frame object>]\n    284             return dispatcher\n    285 \n    286         for s in self.shell_streams:\n    287             s.on_recv(make_dispatcher(s), copy=False)\n\n...........................................................................\nC:\\Anaconda2\\lib\\site-packages\\ipykernel\\kernelbase.py in dispatch_shell(self=<ipykernel.ipkernel.IPythonKernel object>, stream=<zmq.eventloop.zmqstream.ZMQStream object>, msg={'buffers': [], 'content': {u'allow_stdin': True, u'code': u\"%%time\\n\\ncv_scores = cross_val_score(cat, X_t...th n_jobs > 1, and locally this runs much faster\", u'silent': False, u'stop_on_error': True, u'store_history': True, u'user_expressions': {}}, 'header': {'date': datetime.datetime(2018, 4, 22, 6, 42, 47, 863000, tzinfo=tzutc()), u'msg_id': u'26D25904CA9D40D086BB07E192AE7CB8', u'msg_type': u'execute_request', u'session': u'B79998034CA04350A3C2C7605EF52F93', u'username': u'username', u'version': u'5.0'}, 'metadata': {}, 'msg_id': u'26D25904CA9D40D086BB07E192AE7CB8', 'msg_type': u'execute_request', 'parent_header': {}})\n    230             self.log.warn(\"Unknown message type: %r\", msg_type)\n    231         else:\n    232             self.log.debug(\"%s: %s\", msg_type, msg)\n    233             self.pre_handler_hook()\n    234             try:\n--> 235                 handler(stream, idents, msg)\n        handler = <bound method IPythonKernel.execute_request of <ipykernel.ipkernel.IPythonKernel object>>\n        stream = <zmq.eventloop.zmqstream.ZMQStream object>\n        idents = ['B79998034CA04350A3C2C7605EF52F93']\n        msg = {'buffers': [], 'content': {u'allow_stdin': True, u'code': u\"%%time\\n\\ncv_scores = cross_val_score(cat, X_t...th n_jobs > 1, and locally this runs much faster\", u'silent': False, u'stop_on_error': True, u'store_history': True, u'user_expressions': {}}, 'header': {'date': datetime.datetime(2018, 4, 22, 6, 42, 47, 863000, tzinfo=tzutc()), u'msg_id': u'26D25904CA9D40D086BB07E192AE7CB8', u'msg_type': u'execute_request', u'session': u'B79998034CA04350A3C2C7605EF52F93', u'username': u'username', u'version': u'5.0'}, 'metadata': {}, 'msg_id': u'26D25904CA9D40D086BB07E192AE7CB8', 'msg_type': u'execute_request', 'parent_header': {}}\n    236             except Exception:\n    237                 self.log.error(\"Exception in message handler:\", exc_info=True)\n    238             finally:\n    239                 self.post_handler_hook()\n\n...........................................................................\nC:\\Anaconda2\\lib\\site-packages\\ipykernel\\kernelbase.py in execute_request(self=<ipykernel.ipkernel.IPythonKernel object>, stream=<zmq.eventloop.zmqstream.ZMQStream object>, ident=['B79998034CA04350A3C2C7605EF52F93'], parent={'buffers': [], 'content': {u'allow_stdin': True, u'code': u\"%%time\\n\\ncv_scores = cross_val_score(cat, X_t...th n_jobs > 1, and locally this runs much faster\", u'silent': False, u'stop_on_error': True, u'store_history': True, u'user_expressions': {}}, 'header': {'date': datetime.datetime(2018, 4, 22, 6, 42, 47, 863000, tzinfo=tzutc()), u'msg_id': u'26D25904CA9D40D086BB07E192AE7CB8', u'msg_type': u'execute_request', u'session': u'B79998034CA04350A3C2C7605EF52F93', u'username': u'username', u'version': u'5.0'}, 'metadata': {}, 'msg_id': u'26D25904CA9D40D086BB07E192AE7CB8', 'msg_type': u'execute_request', 'parent_header': {}})\n    394         if not silent:\n    395             self.execution_count += 1\n    396             self._publish_execute_input(code, parent, self.execution_count)\n    397 \n    398         reply_content = self.do_execute(code, silent, store_history,\n--> 399                                         user_expressions, allow_stdin)\n        user_expressions = {}\n        allow_stdin = True\n    400 \n    401         # Flush output before sending the reply.\n    402         sys.stdout.flush()\n    403         sys.stderr.flush()\n\n...........................................................................\nC:\\Anaconda2\\lib\\site-packages\\ipykernel\\ipkernel.py in do_execute(self=<ipykernel.ipkernel.IPythonKernel object>, code=u\"%%time\\n\\ncv_scores = cross_val_score(cat, X_t...th n_jobs > 1, and locally this runs much faster\", silent=False, store_history=True, user_expressions={}, allow_stdin=True)\n    191 \n    192         self._forward_input(allow_stdin)\n    193 \n    194         reply_content = {}\n    195         try:\n--> 196             res = shell.run_cell(code, store_history=store_history, silent=silent)\n        res = undefined\n        shell.run_cell = <bound method ZMQInteractiveShell.run_cell of <ipykernel.zmqshell.ZMQInteractiveShell object>>\n        code = u\"%%time\\n\\ncv_scores = cross_val_score(cat, X_t...th n_jobs > 1, and locally this runs much faster\"\n        store_history = True\n        silent = False\n    197         finally:\n    198             self._restore_input()\n    199 \n    200         if res.error_before_exec is not None:\n\n...........................................................................\nC:\\Anaconda2\\lib\\site-packages\\ipykernel\\zmqshell.py in run_cell(self=<ipykernel.zmqshell.ZMQInteractiveShell object>, *args=(u\"%%time\\n\\ncv_scores = cross_val_score(cat, X_t...th n_jobs > 1, and locally this runs much faster\",), **kwargs={'silent': False, 'store_history': True})\n    528             )\n    529         self.payload_manager.write_payload(payload)\n    530 \n    531     def run_cell(self, *args, **kwargs):\n    532         self._last_traceback = None\n--> 533         return super(ZMQInteractiveShell, self).run_cell(*args, **kwargs)\n        self.run_cell = <bound method ZMQInteractiveShell.run_cell of <ipykernel.zmqshell.ZMQInteractiveShell object>>\n        args = (u\"%%time\\n\\ncv_scores = cross_val_score(cat, X_t...th n_jobs > 1, and locally this runs much faster\",)\n        kwargs = {'silent': False, 'store_history': True}\n    534 \n    535     def _showtraceback(self, etype, evalue, stb):\n    536         # try to preserve ordering of tracebacks and print statements\n    537         sys.stdout.flush()\n\n...........................................................................\nC:\\Anaconda2\\lib\\site-packages\\IPython\\core\\interactiveshell.py in run_cell(self=<ipykernel.zmqshell.ZMQInteractiveShell object>, raw_cell=u\"%%time\\n\\ncv_scores = cross_val_score(cat, X_t...th n_jobs > 1, and locally this runs much faster\", store_history=True, silent=False, shell_futures=True)\n   2712                 self.displayhook.exec_result = result\n   2713 \n   2714                 # Execute the user code\n   2715                 interactivity = \"none\" if silent else self.ast_node_interactivity\n   2716                 has_raised = self.run_ast_nodes(code_ast.body, cell_name,\n-> 2717                    interactivity=interactivity, compiler=compiler, result=result)\n        interactivity = 'last_expr'\n        compiler = <IPython.core.compilerop.CachingCompiler instance>\n   2718                 \n   2719                 self.last_execution_succeeded = not has_raised\n   2720 \n   2721                 # Reset this so later displayed values do not modify the\n\n...........................................................................\nC:\\Anaconda2\\lib\\site-packages\\IPython\\core\\interactiveshell.py in run_ast_nodes(self=<ipykernel.zmqshell.ZMQInteractiveShell object>, nodelist=[<_ast.Expr object>], cell_name='<ipython-input-156-855cb4505899>', interactivity='last', compiler=<IPython.core.compilerop.CachingCompiler instance>, result=<ExecutionResult object at 46e86940, execution_c..._before_exec=None error_in_exec=None result=None>)\n   2822                     return True\n   2823 \n   2824             for i, node in enumerate(to_run_interactive):\n   2825                 mod = ast.Interactive([node])\n   2826                 code = compiler(mod, cell_name, \"single\")\n-> 2827                 if self.run_code(code, result):\n        self.run_code = <bound method ZMQInteractiveShell.run_code of <ipykernel.zmqshell.ZMQInteractiveShell object>>\n        code = <code object <module> at 0000000019441E30, file \"<ipython-input-156-855cb4505899>\", line 1>\n        result = <ExecutionResult object at 46e86940, execution_c..._before_exec=None error_in_exec=None result=None>\n   2828                     return True\n   2829 \n   2830             # Flush softspace\n   2831             if softspace(sys.stdout, 0):\n\n...........................................................................\nC:\\Anaconda2\\lib\\site-packages\\IPython\\core\\interactiveshell.py in run_code(self=<ipykernel.zmqshell.ZMQInteractiveShell object>, code_obj=<code object <module> at 0000000019441E30, file \"<ipython-input-156-855cb4505899>\", line 1>, result=<ExecutionResult object at 46e86940, execution_c..._before_exec=None error_in_exec=None result=None>)\n   2876         outflag = 1  # happens in more places, so it's easier as default\n   2877         try:\n   2878             try:\n   2879                 self.hooks.pre_run_code_hook()\n   2880                 #rprint('Running code', repr(code_obj)) # dbg\n-> 2881                 exec(code_obj, self.user_global_ns, self.user_ns)\n        code_obj = <code object <module> at 0000000019441E30, file \"<ipython-input-156-855cb4505899>\", line 1>\n        self.user_global_ns = {'CatBoostClassifier': <class 'catboost.core.CatBoostClassifier'>, 'CountVectorizer': <class 'sklearn.feature_extraction.text.CountVectorizer'>, 'Counter': <class 'collections.Counter'>, 'DecisionTreeClassifier': <class 'sklearn.tree.tree.DecisionTreeClassifier'>, 'GridSearchCV': <class 'sklearn.model_selection._search.GridSearchCV'>, 'In': ['', u\"import pickle\\nimport numpy as np\\nimport pand...tlib import pyplot as plt\\nimport seaborn as sns\", u\"# \\u0437\\u0430\\u0433\\u0440\\u0443\\u0437\\u0438\\u...438\\ntrain_df = train_df.sort_values(by='time1')\", u'# \\u043f\\u0440\\u0438\\u0432\\u0435\\u0434\\u0435\\u... sites_dict_df.shape[0])\\n\\nsites_dict_df.head()', u\"# \\u043d\\u0430\\u0448\\u0430 \\u0446\\u0435\\u043b\\...]\\nX_test_sparse = full_sites_sparse[idx_split:]\", u'from sklearn.model_selection import train_test_split, GridSearchCV', u\"def get_auc_lr_valid(X, y, C=1.0, ratio = 0.9,... \\n    return roc_auc_score(y_valid, valid_pred)\", u'get_auc_lr_valid(X_train_sparse, y_train, ratio = 0.9)', u'# \\u0444\\u0443\\u043d\\u043a\\u0446\\u0438\\u044f \\...ted_df.to_csv(out_file, index_label=index_label)', u'new_feat_train = pd.DataFrame(index=train_df.i...ew_feat_test = pd.DataFrame(index=test_df.index)', u\"new_feat_train['alice_tminutes'] = train_df['t... >= 954 and ts.hour*60+ts.minute <=1100) else 0)\", u\"X_train_sparse_alicemin = csr_matrix(hstack([X..._test['alice_tminutes'].values.reshape(-1, 1)]))\", u'get_auc_lr_valid(X_train_sparse_alicemin, y_train)', u\"new_feat_train['alice_tminutes2'] = train_df['...e >= 548 and ts.hour*60+ts.minute <=559) else 0)\", u\"X_train_sparse_alicemin2 = csr_matrix(hstack([...test['alice_tminutes2'].values.reshape(-1, 1)]))\", u'get_auc_lr_valid(X_train_sparse_alicemin, y_train)', u'get_auc_lr_valid(X_train_sparse_alicemin2, y_train)', u\"new_feat_train['day0'] = train_df['time1'].app...'].apply(lambda ts: 1 if ts.weekday()==5 else 0)\", u\"X_train_sparse_alicemin2_dayall = csr_matrix(h...                                              ))\", u'get_auc_lr_valid(X_train_sparse_alicemin2_dayall, y_train)', ...], 'LogisticRegression': <class 'sklearn.linear_model.logistic.LogisticRegression'>, 'LogisticRegressionCV': <class 'sklearn.linear_model.logistic.LogisticRegressionCV'>, 'OneHotEncoder': <class 'sklearn.preprocessing.data.OneHotEncoder'>, 'Out': {3:                                                 ...                         9zouxfza1h.s.ad6media.fr, 7: 0.96433761440091936, 12: 0.98650035989731588, 16: 0.98708576028395223, 19: 0.9910118176175845, 20: 0.9910118176175845, 23: 0.99119403526923877, 24: 0.99119403526923877, 32: 0.99287326517974273, 33:             site1               time1  site2    ...:22       0        24157  \n\n[5 rows x 22 columns], ...}, ...}\n        self.user_ns = {'CatBoostClassifier': <class 'catboost.core.CatBoostClassifier'>, 'CountVectorizer': <class 'sklearn.feature_extraction.text.CountVectorizer'>, 'Counter': <class 'collections.Counter'>, 'DecisionTreeClassifier': <class 'sklearn.tree.tree.DecisionTreeClassifier'>, 'GridSearchCV': <class 'sklearn.model_selection._search.GridSearchCV'>, 'In': ['', u\"import pickle\\nimport numpy as np\\nimport pand...tlib import pyplot as plt\\nimport seaborn as sns\", u\"# \\u0437\\u0430\\u0433\\u0440\\u0443\\u0437\\u0438\\u...438\\ntrain_df = train_df.sort_values(by='time1')\", u'# \\u043f\\u0440\\u0438\\u0432\\u0435\\u0434\\u0435\\u... sites_dict_df.shape[0])\\n\\nsites_dict_df.head()', u\"# \\u043d\\u0430\\u0448\\u0430 \\u0446\\u0435\\u043b\\...]\\nX_test_sparse = full_sites_sparse[idx_split:]\", u'from sklearn.model_selection import train_test_split, GridSearchCV', u\"def get_auc_lr_valid(X, y, C=1.0, ratio = 0.9,... \\n    return roc_auc_score(y_valid, valid_pred)\", u'get_auc_lr_valid(X_train_sparse, y_train, ratio = 0.9)', u'# \\u0444\\u0443\\u043d\\u043a\\u0446\\u0438\\u044f \\...ted_df.to_csv(out_file, index_label=index_label)', u'new_feat_train = pd.DataFrame(index=train_df.i...ew_feat_test = pd.DataFrame(index=test_df.index)', u\"new_feat_train['alice_tminutes'] = train_df['t... >= 954 and ts.hour*60+ts.minute <=1100) else 0)\", u\"X_train_sparse_alicemin = csr_matrix(hstack([X..._test['alice_tminutes'].values.reshape(-1, 1)]))\", u'get_auc_lr_valid(X_train_sparse_alicemin, y_train)', u\"new_feat_train['alice_tminutes2'] = train_df['...e >= 548 and ts.hour*60+ts.minute <=559) else 0)\", u\"X_train_sparse_alicemin2 = csr_matrix(hstack([...test['alice_tminutes2'].values.reshape(-1, 1)]))\", u'get_auc_lr_valid(X_train_sparse_alicemin, y_train)', u'get_auc_lr_valid(X_train_sparse_alicemin2, y_train)', u\"new_feat_train['day0'] = train_df['time1'].app...'].apply(lambda ts: 1 if ts.weekday()==5 else 0)\", u\"X_train_sparse_alicemin2_dayall = csr_matrix(h...                                              ))\", u'get_auc_lr_valid(X_train_sparse_alicemin2_dayall, y_train)', ...], 'LogisticRegression': <class 'sklearn.linear_model.logistic.LogisticRegression'>, 'LogisticRegressionCV': <class 'sklearn.linear_model.logistic.LogisticRegressionCV'>, 'OneHotEncoder': <class 'sklearn.preprocessing.data.OneHotEncoder'>, 'Out': {3:                                                 ...                         9zouxfza1h.s.ad6media.fr, 7: 0.96433761440091936, 12: 0.98650035989731588, 16: 0.98708576028395223, 19: 0.9910118176175845, 20: 0.9910118176175845, 23: 0.99119403526923877, 24: 0.99119403526923877, 32: 0.99287326517974273, 33:             site1               time1  site2    ...:22       0        24157  \n\n[5 rows x 22 columns], ...}, ...}\n   2882             finally:\n   2883                 # Reset our crash handler in place\n   2884                 sys.excepthook = old_excepthook\n   2885         except SystemExit as e:\n\n...........................................................................\nC:\\Anaconda2\\Scripts\\<ipython-input-156-855cb4505899> in <module>()\n----> 1 \n      2 \n      3 \n      4 \n      5 \n      6 get_ipython().run_cell_magic(u'time', u'', u\"\\ncv_scores = cross_val_score(cat, X_train_tfidf_alicemin2_ids_dayall_mm_September, y_train, cv=time_split_3, \\n                            scoring='roc_auc', n_jobs=2) # hangs with n_jobs > 1, and locally this runs much faster\")\n      7 \n      8 \n      9 \n     10 \n\n...........................................................................\nC:\\Anaconda2\\lib\\site-packages\\IPython\\core\\interactiveshell.py in run_cell_magic(self=<ipykernel.zmqshell.ZMQInteractiveShell object>, magic_name=u'time', line=u'', cell=u\"\\ncv_scores = cross_val_score(cat, X_train_tfi...th n_jobs > 1, and locally this runs much faster\")\n   2110             # This will need to be updated if the internal calling logic gets\n   2111             # refactored, or else we'll be expanding the wrong variables.\n   2112             stack_depth = 2\n   2113             magic_arg_s = self.var_expand(line, stack_depth)\n   2114             with self.builtin_trap:\n-> 2115                 result = fn(magic_arg_s, cell)\n        result = undefined\n        fn = <bound method ExecutionMagics.time of <IPython.core.magics.execution.ExecutionMagics object>>\n        magic_arg_s = u''\n        cell = u\"\\ncv_scores = cross_val_score(cat, X_train_tfi...th n_jobs > 1, and locally this runs much faster\"\n   2116             return result\n   2117 \n   2118     def find_line_magic(self, magic_name):\n   2119         \"\"\"Find and return a line magic by name.\n\n...........................................................................\nC:\\Anaconda2\\Scripts\\<decorator-gen-60> in time(self=<IPython.core.magics.execution.ExecutionMagics object>, line=u'', cell=u\"\\ncv_scores = cross_val_score(cat, X_train_tfi...th n_jobs > 1, and locally this runs much faster\", local_ns=None)\n      1 \n----> 2 \n      3 \n      4 \n      5 \n      6 \n      7 \n      8 \n      9 \n     10 \n\n...........................................................................\nC:\\Anaconda2\\lib\\site-packages\\IPython\\core\\magic.py in <lambda>(f=<function time>, *a=(<IPython.core.magics.execution.ExecutionMagics object>, u'', u\"\\ncv_scores = cross_val_score(cat, X_train_tfi...th n_jobs > 1, and locally this runs much faster\", None), **k={})\n    183     validate_type(magic_kind)\n    184 \n    185     # This is a closure to capture the magic_kind.  We could also use a class,\n    186     # but it's overkill for just that one bit of state.\n    187     def magic_deco(arg):\n--> 188         call = lambda f, *a, **k: f(*a, **k)\n        f = <function time>\n        a = (<IPython.core.magics.execution.ExecutionMagics object>, u'', u\"\\ncv_scores = cross_val_score(cat, X_train_tfi...th n_jobs > 1, and locally this runs much faster\", None)\n        k = {}\n    189 \n    190         if callable(arg):\n    191             # \"Naked\" decorator call (just @foo, no args)\n    192             func = arg\n\n...........................................................................\nC:\\Anaconda2\\lib\\site-packages\\IPython\\core\\magics\\execution.py in time(self=<IPython.core.magics.execution.ExecutionMagics object>, line=u'', cell=u\"\\ncv_scores = cross_val_score(cat, X_train_tfi...th n_jobs > 1, and locally this runs much faster\", local_ns=None)\n   1180             st = clock2()\n   1181             out = eval(code, glob, local_ns)\n   1182             end = clock2()\n   1183         else:\n   1184             st = clock2()\n-> 1185             exec(code, glob, local_ns)\n        code = <code object <module> at 0000000046E660B0, file \"<timed exec>\", line 2>\n        glob = {'CatBoostClassifier': <class 'catboost.core.CatBoostClassifier'>, 'CountVectorizer': <class 'sklearn.feature_extraction.text.CountVectorizer'>, 'Counter': <class 'collections.Counter'>, 'DecisionTreeClassifier': <class 'sklearn.tree.tree.DecisionTreeClassifier'>, 'GridSearchCV': <class 'sklearn.model_selection._search.GridSearchCV'>, 'In': ['', u\"import pickle\\nimport numpy as np\\nimport pand...tlib import pyplot as plt\\nimport seaborn as sns\", u\"# \\u0437\\u0430\\u0433\\u0440\\u0443\\u0437\\u0438\\u...438\\ntrain_df = train_df.sort_values(by='time1')\", u'# \\u043f\\u0440\\u0438\\u0432\\u0435\\u0434\\u0435\\u... sites_dict_df.shape[0])\\n\\nsites_dict_df.head()', u\"# \\u043d\\u0430\\u0448\\u0430 \\u0446\\u0435\\u043b\\...]\\nX_test_sparse = full_sites_sparse[idx_split:]\", u'from sklearn.model_selection import train_test_split, GridSearchCV', u\"def get_auc_lr_valid(X, y, C=1.0, ratio = 0.9,... \\n    return roc_auc_score(y_valid, valid_pred)\", u'get_auc_lr_valid(X_train_sparse, y_train, ratio = 0.9)', u'# \\u0444\\u0443\\u043d\\u043a\\u0446\\u0438\\u044f \\...ted_df.to_csv(out_file, index_label=index_label)', u'new_feat_train = pd.DataFrame(index=train_df.i...ew_feat_test = pd.DataFrame(index=test_df.index)', u\"new_feat_train['alice_tminutes'] = train_df['t... >= 954 and ts.hour*60+ts.minute <=1100) else 0)\", u\"X_train_sparse_alicemin = csr_matrix(hstack([X..._test['alice_tminutes'].values.reshape(-1, 1)]))\", u'get_auc_lr_valid(X_train_sparse_alicemin, y_train)', u\"new_feat_train['alice_tminutes2'] = train_df['...e >= 548 and ts.hour*60+ts.minute <=559) else 0)\", u\"X_train_sparse_alicemin2 = csr_matrix(hstack([...test['alice_tminutes2'].values.reshape(-1, 1)]))\", u'get_auc_lr_valid(X_train_sparse_alicemin, y_train)', u'get_auc_lr_valid(X_train_sparse_alicemin2, y_train)', u\"new_feat_train['day0'] = train_df['time1'].app...'].apply(lambda ts: 1 if ts.weekday()==5 else 0)\", u\"X_train_sparse_alicemin2_dayall = csr_matrix(h...                                              ))\", u'get_auc_lr_valid(X_train_sparse_alicemin2_dayall, y_train)', ...], 'LogisticRegression': <class 'sklearn.linear_model.logistic.LogisticRegression'>, 'LogisticRegressionCV': <class 'sklearn.linear_model.logistic.LogisticRegressionCV'>, 'OneHotEncoder': <class 'sklearn.preprocessing.data.OneHotEncoder'>, 'Out': {3:                                                 ...                         9zouxfza1h.s.ad6media.fr, 7: 0.96433761440091936, 12: 0.98650035989731588, 16: 0.98708576028395223, 19: 0.9910118176175845, 20: 0.9910118176175845, 23: 0.99119403526923877, 24: 0.99119403526923877, 32: 0.99287326517974273, 33:             site1               time1  site2    ...:22       0        24157  \n\n[5 rows x 22 columns], ...}, ...}\n        local_ns = None\n   1186             end = clock2()\n   1187             out = None\n   1188         wall_end = wtime()\n   1189         # Compute actual times and report\n\n...........................................................................\nC:\\Anaconda2\\Scripts\\<timed exec> in <module>()\n      1 \n      2 \n----> 3 \n      4 \n      5 \n      6 \n      7 \n      8 \n      9 \n     10 \n\n...........................................................................\nC:\\Anaconda2\\lib\\site-packages\\sklearn\\model_selection\\_validation.py in cross_val_score(estimator=<catboost.core.CatBoostClassifier object>, X=<253561x148381 sparse matrix of type '<type 'num... stored elements in Compressed Sparse Row format>, y=session_id\n21669     0\n54843     0\n77292     0\n1...2    0\nName: target, Length: 253561, dtype: int64, groups=None, scoring='roc_auc', cv=TimeSeriesSplit(n_splits=3), n_jobs=2, verbose=0, fit_params=None, pre_dispatch='2*n_jobs')\n    135     parallel = Parallel(n_jobs=n_jobs, verbose=verbose,\n    136                         pre_dispatch=pre_dispatch)\n    137     scores = parallel(delayed(_fit_and_score)(clone(estimator), X, y, scorer,\n    138                                               train, test, verbose, None,\n    139                                               fit_params)\n--> 140                       for train, test in cv_iter)\n        cv_iter = [(array([    0,     1,     2, ..., 63388, 63389, 63390]), array([ 63391,  63392,  63393, ..., 126778, 126779, 126780])), (array([     0,      1,      2, ..., 126778, 126779, 126780]), array([126781, 126782, 126783, ..., 190168, 190169, 190170])), (array([     0,      1,      2, ..., 190168, 190169, 190170]), array([190171, 190172, 190173, ..., 253558, 253559, 253560]))]\n    141     return np.array(scores)[:, 0]\n    142 \n    143 \n    144 def _fit_and_score(estimator, X, y, scorer, train, test, verbose,\n\n...........................................................................\nC:\\Anaconda2\\lib\\site-packages\\sklearn\\externals\\joblib\\parallel.py in __call__(self=Parallel(n_jobs=2), iterable=<generator object <genexpr>>)\n    763             if pre_dispatch == \"all\" or n_jobs == 1:\n    764                 # The iterable was consumed all at once by the above for loop.\n    765                 # No need to wait for async callbacks to trigger to\n    766                 # consumption.\n    767                 self._iterating = False\n--> 768             self.retrieve()\n        self.retrieve = <bound method Parallel.retrieve of Parallel(n_jobs=2)>\n    769             # Make sure that we get a last message telling us we are done\n    770             elapsed_time = time.time() - self._start_time\n    771             self._print('Done %3i out of %3i | elapsed: %s finished',\n    772                         (len(self._output), len(self._output),\n\n---------------------------------------------------------------------------\nSub-process traceback:\n---------------------------------------------------------------------------\nCatboostError                                      Sun Apr 22 11:43:49 2018\nPID: 17532                           Python 2.7.13: C:\\Anaconda2\\python.exe\n...........................................................................\nC:\\Anaconda2\\lib\\site-packages\\sklearn\\externals\\joblib\\parallel.py in __call__(self=<sklearn.externals.joblib.parallel.BatchedCalls object>)\n    126     def __init__(self, iterator_slice):\n    127         self.items = list(iterator_slice)\n    128         self._size = len(self.items)\n    129 \n    130     def __call__(self):\n--> 131         return [func(*args, **kwargs) for func, args, kwargs in self.items]\n        func = <function _fit_and_score>\n        args = (<catboost.core.CatBoostClassifier object>, <253561x148381 sparse matrix of type '<type 'num... stored elements in Compressed Sparse Row format>, session_id\n21669     0\n54843     0\n77292     0\n1...2    0\nName: target, Length: 253561, dtype: int64, make_scorer(roc_auc_score, needs_threshold=True), array([    0,     1,     2, ..., 63388, 63389, 63390]), array([ 63391,  63392,  63393, ..., 126778, 126779, 126780]), 0, None, None)\n        kwargs = {}\n        self.items = [(<function _fit_and_score>, (<catboost.core.CatBoostClassifier object>, <253561x148381 sparse matrix of type '<type 'num... stored elements in Compressed Sparse Row format>, session_id\n21669     0\n54843     0\n77292     0\n1...2    0\nName: target, Length: 253561, dtype: int64, make_scorer(roc_auc_score, needs_threshold=True), array([    0,     1,     2, ..., 63388, 63389, 63390]), array([ 63391,  63392,  63393, ..., 126778, 126779, 126780]), 0, None, None), {})]\n    132 \n    133     def __len__(self):\n    134         return self._size\n    135 \n\n...........................................................................\nC:\\Anaconda2\\lib\\site-packages\\sklearn\\model_selection\\_validation.py in _fit_and_score(estimator=<catboost.core.CatBoostClassifier object>, X=<253561x148381 sparse matrix of type '<type 'num... stored elements in Compressed Sparse Row format>, y=session_id\n21669     0\n54843     0\n77292     0\n1...2    0\nName: target, Length: 253561, dtype: int64, scorer=make_scorer(roc_auc_score, needs_threshold=True), train=array([    0,     1,     2, ..., 63388, 63389, 63390]), test=array([ 63391,  63392,  63393, ..., 126778, 126779, 126780]), verbose=0, parameters=None, fit_params={}, return_train_score=False, return_parameters=False, return_n_test_samples=False, return_times=False, error_score='raise')\n    233 \n    234     try:\n    235         if y_train is None:\n    236             estimator.fit(X_train, **fit_params)\n    237         else:\n--> 238             estimator.fit(X_train, y_train, **fit_params)\n        estimator.fit = <bound method CatBoostClassifier.fit of <catboost.core.CatBoostClassifier object>>\n        X_train = <63391x148381 sparse matrix of type '<type 'nump... stored elements in Compressed Sparse Row format>\n        y_train = session_id\n21669     0\n54843     0\n77292     0\n1...24    0\nName: target, Length: 63391, dtype: int64\n        fit_params = {}\n    239 \n    240     except Exception as e:\n    241         # Note fit time as time until error\n    242         fit_time = time.time() - start_time\n\n...........................................................................\nC:\\Anaconda2\\lib\\site-packages\\catboost\\core.py in fit(self=<catboost.core.CatBoostClassifier object>, X=<63391x148381 sparse matrix of type '<type 'nump... stored elements in Compressed Sparse Row format>, y=session_id\n21669     0\n54843     0\n77292     0\n1...24    0\nName: target, Length: 63391, dtype: int64, cat_features=None, sample_weight=None, baseline=None, use_best_model=None, eval_set=None, verbose=None, logging_level=None, plot=False, column_description=None, verbose_eval=None)\n   1671 \n   1672         Returns\n   1673         -------\n   1674         model : CatBoost\n   1675         \"\"\"\n-> 1676         self._fit(X, y, cat_features, None, sample_weight, None, None, None, baseline, use_best_model, eval_set, verbose, logging_level, plot, column_description, verbose_eval)\n        self._fit = <bound method CatBoostClassifier._fit of <catboost.core.CatBoostClassifier object>>\n        X = <63391x148381 sparse matrix of type '<type 'nump... stored elements in Compressed Sparse Row format>\n        y = session_id\n21669     0\n54843     0\n77292     0\n1...24    0\nName: target, Length: 63391, dtype: int64\n        cat_features = None\n        sample_weight = None\n        baseline = None\n        use_best_model = None\n        eval_set = None\n        verbose = None\n        logging_level = None\n        plot = False\n        column_description = None\n        verbose_eval = None\n   1677         return self\n   1678 \n   1679     def predict(self, data, prediction_type='Class', ntree_start=0, ntree_end=0, thread_count=-1, verbose=None):\n   1680         \"\"\"\n\n...........................................................................\nC:\\Anaconda2\\lib\\site-packages\\catboost\\core.py in _fit(self=<catboost.core.CatBoostClassifier object>, X=<63391x148381 sparse matrix of type '<type 'nump... stored elements in Compressed Sparse Row format>, y=session_id\n21669     0\n54843     0\n77292     0\n1...24    0\nName: target, Length: 63391, dtype: int64, cat_features=None, pairs=None, sample_weight=None, group_id=None, subgroup_id=None, pairs_weight=None, baseline=None, use_best_model=None, eval_set=None, verbose=None, logging_level=None, plot=False, column_description=None, verbose_eval=None)\n    747         if logging_level is not None:\n    748             params['logging_level'] = logging_level\n    749         if use_best_model is not None:\n    750             params['use_best_model'] = use_best_model\n    751 \n--> 752         train_pool = _build_train_pool(X, y, cat_features, pairs, sample_weight, group_id, subgroup_id, pairs_weight, baseline, column_description)\n        train_pool = undefined\n        X = <63391x148381 sparse matrix of type '<type 'nump... stored elements in Compressed Sparse Row format>\n        y = session_id\n21669     0\n54843     0\n77292     0\n1...24    0\nName: target, Length: 63391, dtype: int64\n        cat_features = None\n        pairs = None\n        sample_weight = None\n        group_id = None\n        subgroup_id = None\n        pairs_weight = None\n        baseline = None\n        column_description = None\n    753         if train_pool.is_empty_:\n    754             raise CatboostError(\"X is empty.\")\n    755 \n    756         if column_description is not None and not isinstance(X, STRING_TYPES) and not isinstance(eval_set, STRING_TYPES):\n\n...........................................................................\nC:\\Anaconda2\\lib\\site-packages\\catboost\\core.py in _build_train_pool(X=<63391x148381 sparse matrix of type '<type 'nump... stored elements in Compressed Sparse Row format>, y=session_id\n21669     0\n54843     0\n77292     0\n1...24    0\nName: target, Length: 63391, dtype: int64, cat_features=None, pairs=None, sample_weight=None, group_id=None, subgroup_id=None, pairs_weight=None, baseline=None, column_description=None)\n    549             train_pool = Pool(data=X, pairs=pairs, column_description=column_description)\n    550     else:\n    551         if y is None:\n    552             raise CatboostError(\"y has not initialized in fit(): X is not catboost.Pool object, y must be not None in fit().\")\n    553         train_pool = Pool(X, y, cat_features=cat_features, pairs=pairs, weight=sample_weight, group_id=group_id,\n--> 554                           subgroup_id=subgroup_id, pairs_weight=pairs_weight, baseline=baseline)\n        subgroup_id = None\n        pairs_weight = None\n        baseline = None\n    555     return train_pool\n    556 \n    557 \n    558 def _clear_training_files(train_dir):\n\n...........................................................................\nC:\\Anaconda2\\lib\\site-packages\\catboost\\core.py in __init__(self=<catboost.core.Pool object>, data=<63391x148381 sparse matrix of type '<type 'nump... stored elements in Compressed Sparse Row format>, label=session_id\n21669     0\n54843     0\n77292     0\n1...24    0\nName: target, Length: 63391, dtype: int64, cat_features=None, column_description=None, pairs=None, delimiter='\\t', has_header=False, weight=None, group_id=None, subgroup_id=None, pairs_weight=None, baseline=None, feature_names=None, thread_count=-1)\n    209             Thread count to read data from file.\n    210             Use only with reading data from file.\n    211             If -1, then the number of threads is set to the number of cores.\n    212         \"\"\"\n    213         if data is not None:\n--> 214             self._check_data_type(data)\n        self._check_data_type = <bound method Pool._check_data_type of <catboost.core.Pool object>>\n        data = <63391x148381 sparse matrix of type '<type 'nump... stored elements in Compressed Sparse Row format>\n    215             self._check_data_empty(data)\n    216             if pairs is not None and isinstance(data, STRING_TYPES) != isinstance(pairs, STRING_TYPES):\n    217                 raise CatboostError(\"Data and pairs should be the same types.\")\n    218             if isinstance(data, STRING_TYPES):\n\n...........................................................................\nC:\\Anaconda2\\lib\\site-packages\\catboost\\core.py in _check_data_type(self=<catboost.core.Pool object>, data=<63391x148381 sparse matrix of type '<type 'nump... stored elements in Compressed Sparse Row format>)\n    285     def _check_data_type(self, data):\n    286         \"\"\"\n    287         Check type of data.\n    288         \"\"\"\n    289         if not isinstance(data, (STRING_TYPES, ARRAY_TYPES)):\n--> 290             raise CatboostError(\"Invalid data type={}: data must be list(), np.ndarray(), DataFrame(), Series() or filename str().\".format(type(data)))\n        data = <63391x148381 sparse matrix of type '<type 'nump... stored elements in Compressed Sparse Row format>\n    291 \n    292     def _check_data_empty(self, data):\n    293         \"\"\"\n    294         Check data is not empty.\n\nCatboostError: Invalid data type=<class 'scipy.sparse.csr.csr_matrix'>: data must be list(), np.ndarray(), DataFrame(), Series() or filename str().\n___________________________________________________________________________"
     ]
    }
   ],
   "source": [
    "%%time\n",
    "\n",
    "cv_scores = cross_val_score(cat, X_train_tfidf_alicemin2_ids_dayall_mm_September, y_train, cv=time_split_3, \n",
    "                            scoring='roc_auc', n_jobs=2) # hangs with n_jobs > 1, and locally this runs much faster"
   ]
  },
  {
   "cell_type": "code",
   "execution_count": null,
   "metadata": {
    "collapsed": true
   },
   "outputs": [],
   "source": [
    "cv_scores, cv_scores.mean()"
   ]
  },
  {
   "cell_type": "code",
   "execution_count": 158,
   "metadata": {},
   "outputs": [
    {
     "name": "stdout",
     "output_type": "stream",
     "text": [
      "Collecting xgboost\n",
      "  Downloading https://files.pythonhosted.org/packages/4b/c4/57e246bc99e45c048f9805f2773e7369f0d30896d19fa089fa1794c7b246/xgboost-0.71.tar.gz (494kB)\n"
     ]
    },
    {
     "name": "stderr",
     "output_type": "stream",
     "text": [
      "No files/directories in c:\\temp\\pip-build-7p3d2d\\xgboost\\pip-egg-info (from PKG-INFO)\n",
      "You are using pip version 9.0.3, however version 10.0.1 is available.\n",
      "You should consider upgrading via the 'python -m pip install --upgrade pip' command.\n"
     ]
    }
   ],
   "source": [
    "!pip install xgboost"
   ]
  },
  {
   "cell_type": "code",
   "execution_count": 160,
   "metadata": {},
   "outputs": [
    {
     "name": "stdout",
     "output_type": "stream",
     "text": [
      "Collecting pip\n",
      "  Downloading https://files.pythonhosted.org/packages/0f/74/ecd13431bcc456ed390b44c8a6e917c1820365cbebcb6a8974d1cd045ab4/pip-10.0.1-py2.py3-none-any.whl (1.3MB)\n",
      "Installing collected packages: pip\n",
      "  Found existing installation: pip 9.0.3\n",
      "    Uninstalling pip-9.0.3:\n",
      "      Successfully uninstalled pip-9.0.3\n"
     ]
    },
    {
     "name": "stderr",
     "output_type": "stream",
     "text": [
      "Exception:\n",
      "Traceback (most recent call last):\n",
      "  File \"c:\\anaconda2\\lib\\site-packages\\pip\\basecommand.py\", line 215, in main\n",
      "  File \"c:\\anaconda2\\lib\\site-packages\\pip\\commands\\install.py\", line 342, in run\n",
      "  File \"c:\\anaconda2\\lib\\site-packages\\pip\\req\\req_set.py\", line 795, in install\n",
      "  File \"c:\\anaconda2\\lib\\site-packages\\pip\\req\\req_install.py\", line 767, in commit_uninstall\n",
      "  File \"c:\\anaconda2\\lib\\site-packages\\pip\\req\\req_uninstall.py\", line 142, in commit\n",
      "  File \"c:\\anaconda2\\lib\\site-packages\\pip\\_vendor\\retrying.py\", line 49, in wrapped_f\n",
      "    return Retrying(*dargs, **dkw).call(f, *args, **kw)\n",
      "  File \"c:\\anaconda2\\lib\\site-packages\\pip\\_vendor\\retrying.py\", line 212, in call\n",
      "    raise attempt.get()\n",
      "  File \"c:\\anaconda2\\lib\\site-packages\\pip\\_vendor\\retrying.py\", line 247, in get\n",
      "    six.reraise(self.value[0], self.value[1], self.value[2])\n",
      "  File \"c:\\anaconda2\\lib\\site-packages\\pip\\_vendor\\retrying.py\", line 200, in call\n",
      "    attempt = Attempt(fn(*args, **kwargs), attempt_number, False)\n",
      "  File \"c:\\anaconda2\\lib\\site-packages\\pip\\utils\\__init__.py\", line 102, in rmtree\n",
      "  File \"c:\\anaconda2\\lib\\shutil.py\", line 247, in rmtree\n",
      "    rmtree(fullname, ignore_errors, onerror)\n",
      "  File \"c:\\anaconda2\\lib\\shutil.py\", line 247, in rmtree\n",
      "    rmtree(fullname, ignore_errors, onerror)\n",
      "  File \"c:\\anaconda2\\lib\\shutil.py\", line 252, in rmtree\n",
      "    onerror(os.remove, fullname, sys.exc_info())\n",
      "  File \"c:\\anaconda2\\lib\\site-packages\\pip\\utils\\__init__.py\", line 114, in rmtree_errorhandler\n",
      "WindowsError: [Error 5] : 'c:\\\\temp\\\\pip-ojm97i-uninstall\\\\anaconda2\\\\scripts\\\\pip.exe'\n"
     ]
    }
   ],
   "source": [
    "!pip install --upgrade pip"
   ]
  },
  {
   "cell_type": "code",
   "execution_count": null,
   "metadata": {
    "collapsed": true
   },
   "outputs": [],
   "source": []
  },
  {
   "cell_type": "code",
   "execution_count": null,
   "metadata": {
    "collapsed": true
   },
   "outputs": [],
   "source": []
  },
  {
   "cell_type": "code",
   "execution_count": 151,
   "metadata": {},
   "outputs": [
    {
     "name": "stdout",
     "output_type": "stream",
     "text": [
      "Collecting catboost\n",
      "  Downloading https://files.pythonhosted.org/packages/14/46/8c07f889bdab1bce31ae7a30d08f8087dc68b37990e8760f719893c25bd6/catboost-0.8-cp27-none-win_amd64.whl (32.3MB)\n",
      "Requirement already satisfied: numpy in c:\\anaconda2\\lib\\site-packages (from catboost)\n",
      "Requirement already satisfied: six in c:\\anaconda2\\lib\\site-packages (from catboost)\n",
      "Requirement already satisfied: pandas in c:\\anaconda2\\lib\\site-packages (from catboost)\n",
      "Requirement already satisfied: python-dateutil in c:\\anaconda2\\lib\\site-packages (from pandas->catboost)\n",
      "Requirement already satisfied: pytz>=2011k in c:\\anaconda2\\lib\\site-packages (from pandas->catboost)\n",
      "Installing collected packages: catboost\n",
      "Successfully installed catboost-0.8\n"
     ]
    },
    {
     "name": "stderr",
     "output_type": "stream",
     "text": [
      "You are using pip version 9.0.3, however version 10.0.1 is available.\n",
      "You should consider upgrading via the 'python -m pip install --upgrade pip' command.\n"
     ]
    }
   ],
   "source": [
    "!pip install catboost"
   ]
  }
 ],
 "metadata": {
  "kernelspec": {
   "display_name": "Python 3",
   "language": "python",
   "name": "python3"
  },
  "language_info": {
   "codemirror_mode": {
    "name": "ipython",
    "version": 3
   },
   "file_extension": ".py",
   "mimetype": "text/x-python",
   "name": "python",
   "nbconvert_exporter": "python",
   "pygments_lexer": "ipython3",
   "version": "3.6.3"
  }
 },
 "nbformat": 4,
 "nbformat_minor": 2
}
