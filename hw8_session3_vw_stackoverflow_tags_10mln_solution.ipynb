{
 "cells": [
  {
   "cell_type": "markdown",
   "metadata": {},
   "source": [
    "<center>\n",
    "<img src=\"../../img/ods_stickers.jpg\">\n",
    "## Открытый курс по машинному обучению. Сессия №3\n",
    "</center>\n",
    "<center>Автор материала: программист-исследователь Mail.ru Group, старший преподаватель <br>Факультета Компьютерных Наук ВШЭ Юрий Кашницкий"
   ]
  },
  {
   "cell_type": "markdown",
   "metadata": {},
   "source": [
    "# <center> Домашнее задание № 8. Решение\n",
    "## <center> Vowpal Wabbit в задаче классификации тегов вопросов на Stackoverflow"
   ]
  },
  {
   "cell_type": "markdown",
   "metadata": {},
   "source": [
    "### 1. Введение\n",
    "\n",
    "В этом задании вы будете делать примерно то же, что я каждую неделю –  в Mail.Ru Group: обучать модели на выборке в несколько гигабайт. Задание можно выполнить и на Windows с Python, но я рекомендую поработать под \\*NIX-системой (например, через Docker) и активно использовать язык bash.\n",
    "Немного снобизма (простите, но правда): если вы захотите работать в лучших компаниях мира в области ML, вам все равно понадобится опыт работы с bash под UNIX.\n",
    "\n",
    "[Веб-форма](https://docs.google.com/forms/d/1VaxYXnmbpeP185qPk2_V_BzbeduVUVyTdLPQwSCxDGA/edit) для ответов.\n",
    "\n",
    "Для выполнения задания понадобится установленный Vowpal Wabbit (уже есть в докер-контейнере курса, см. инструкцию в Wiki [репозитория](https://github.com/Yorko/mlcourse_open) нашего курса) и примерно 70 Гб дискового пространства. Я тестировал решение не на каком-то суперкомпе, а на Macbook Pro 2015 (8 ядер, 16 Гб памяти), и самая тяжеловесная модель обучалась около 12 минут, так что задание реально выполнить и с простым железом. Но если вы планируете когда-либо арендовать сервера Amazon, можно попробовать это сделать уже сейчас.\n",
    "\n",
    "Материалы в помощь:\n",
    " - интерактивный [тьюториал](https://www.codecademy.com/en/courses/learn-the-command-line/lessons/environment/exercises/bash-profile) CodeAcademy по утилитам командной строки UNIX (примерно на час-полтора)\n",
    " - [статья](https://habrahabr.ru/post/280562/) про то, как арендовать на Amazon машину (еще раз: это не обязательно для выполнения задания, но будет хорошим опытом, если вы это делаете впервые)"
   ]
  },
  {
   "cell_type": "markdown",
   "metadata": {},
   "source": [
    "### Описание данных"
   ]
  },
  {
   "cell_type": "markdown",
   "metadata": {},
   "source": [
    "Имеются 10 Гб вопросов со StackOverflow – [скачайте](https://drive.google.com/file/d/1ZU4J3KhJDrHVMj48fROFcTsTZKorPGlG/view) эту выборку. \n",
    "\n",
    "Формат данных простой:<br>\n",
    "<center>*текст вопроса* (слова через пробел) TAB *теги вопроса* (через пробел)\n",
    "\n",
    "Здесь TAB – это символ табуляции.\n",
    "Пример первой записи в выборке:"
   ]
  },
  {
   "cell_type": "code",
   "execution_count": 1,
   "metadata": {},
   "outputs": [],
   "source": [
    "PATH_TO_DATA = '/Users/y.kashnitsky/Documents/stackoverflow_10mln/'"
   ]
  },
  {
   "cell_type": "code",
   "execution_count": 1,
   "metadata": {},
   "outputs": [
    {
     "name": "stdout",
     "output_type": "stream",
     "text": [
      " is there a way to apply a background color through css at the tr level i can apply it at the td level like this my td background color e8e8e8 background e8e8e8 however the background color doesn t seem to get applied when i attempt to apply the background color at the tr level like this my tr background color e8e8e8 background e8e8e8 is there a css trick to making this work or does css not natively support this for some reason \tcss css3 css-selectors\r\n"
     ]
    }
   ],
   "source": [
    "!head -1 $PATH_TO_DATA/stackoverflow.10kk.tsv"
   ]
  },
  {
   "cell_type": "markdown",
   "metadata": {},
   "source": [
    "Здесь у нас текст вопроса, затем табуляция и теги вопроса: *css, css3* и *css-selectors*. Всего в выборке таких вопросов 10 миллионов. "
   ]
  },
  {
   "cell_type": "code",
   "execution_count": 2,
   "metadata": {},
   "outputs": [
    {
     "name": "stdout",
     "output_type": "stream",
     "text": [
      " 10000000 stackoverflow.10kk.tsv\n",
      "CPU times: user 285 ms, sys: 121 ms, total: 406 ms\n",
      "Wall time: 16.1 s\n"
     ]
    }
   ],
   "source": [
    "%%time\n",
    "!wc -l $PATH_TO_DATA/stackoverflow.10kk.tsv"
   ]
  },
  {
   "cell_type": "markdown",
   "metadata": {},
   "source": [
    "Обратите внимание на то, что такие данные я уже не хочу загружать в оперативную память и, пока можно, буду пользоваться эффективными утилитами UNIX –  head, tail, wc, cat, cut и прочими."
   ]
  },
  {
   "cell_type": "markdown",
   "metadata": {},
   "source": [
    "Давайте выберем в наших данных все вопросы с тегами *javascript, java, python, ruby, php, c++, c#, go, scala* и  *swift* и подготовим обучающую выборку в формате Vowpal Wabbit. Будем решать задачу 10-классовой классификации вопросов по перечисленным тегам.\n",
    "\n",
    "Вообще, как мы видим, у каждого вопроса может быть несколько тегов, но мы упростим себе задачу и будем у каждого вопроса выбирать один из перечисленных тегов либо игнорировать вопрос, если таковых тегов нет. \n",
    "Но вообще VW поддерживает multilabel classification (аргумент  --multilabel_oaa).\n",
    "<br>\n",
    "<br>\n",
    "Реализуйте в виде отдельного файла `preprocess.py` код для подготовки данных. Он должен отобрать строки, в которых есть перечисленные теги, и переписать их в отдельный файл в формат Vowpal Wabbit. Детали:\n",
    " - скрипт должен работать с аргументами командной строки: с путями к файлом на входе и на выходе\n",
    "  - строки обрабатываются по одной (можно использовать tqdm для подсчета числа итераций)\n",
    "  - если табуляций в строке нет или их больше одной, считаем строку поврежденной и пропускаем\n",
    "  - в противном случае смотрим, сколько в строке тегов из списка *javascript, java, python, ruby, php, c++, c#, go, scala* и  *swift*. Если ровно один, то записываем строку в выходной файл в формате VW: `label | text`, где `label` – число от 1 до 10 (1 - *javascript*, ... 10 – *swift*). Пропускаем те строки, где интересующих тегов больше или меньше одного \n",
    "  - из текста вопроса надо выкинуть двоеточия и вертикальные палки – в VW это спецсимволы."
   ]
  },
  {
   "cell_type": "code",
   "execution_count": 8,
   "metadata": {},
   "outputs": [],
   "source": [
    "import os\n",
    "from tqdm import tqdm\n",
    "from time import time\n",
    "import numpy as np\n",
    "from sklearn.metrics import accuracy_score"
   ]
  },
  {
   "cell_type": "markdown",
   "metadata": {
    "collapsed": true
   },
   "source": [
    "Должно получиться вот такое число строк"
   ]
  },
  {
   "cell_type": "code",
   "execution_count": 4,
   "metadata": {},
   "outputs": [
    {
     "name": "stdout",
     "output_type": "stream",
     "text": [
      "10000000it [01:38, 101508.51it/s]\n",
      "4389054 lines selected, 15 lines corrupted.\n"
     ]
    }
   ],
   "source": [
    "!python preprocess_solution.py stackoverflow.10kk.tsv stackoverflow.vw"
   ]
  },
  {
   "cell_type": "markdown",
   "metadata": {},
   "source": [
    "Поделите выборку на обучающую, проверочную и тестовую части в равной пропорции – по  1463018 в каждый файл. Перемешивать не надо, первые 1463018 строк должны пойти в обучающую часть `stackoverflow_train_part.vw`, последние 1463018 – в тестовую `stackoverflow_test.vw`, оставшиеся – в проверочную `stackoverflow_valid.vw`. \n",
    "\n",
    "Также сохраните векторы ответов на для проверочной и тестовой выборки в отдельные файлы `stackoverflow_valid_labels.txt` и `stackoverflow_test_labels.txt`.\n",
    "\n",
    "Тут вам помогут утилиты `head`, `tail`, `split`, `cat` и `cut`."
   ]
  },
  {
   "cell_type": "code",
   "execution_count": 2,
   "metadata": {},
   "outputs": [
    {
     "name": "stdout",
     "output_type": "stream",
     "text": [
      "CPU times: user 497 ms, sys: 156 ms, total: 653 ms\n",
      "Wall time: 33 s\n"
     ]
    }
   ],
   "source": [
    "%%time\n",
    "!split -l 1463018 $PATH_TO_DATA/stackoverflow.vw $PATH_TO_DATA/stackoverflow_"
   ]
  },
  {
   "cell_type": "code",
   "execution_count": 3,
   "metadata": {},
   "outputs": [],
   "source": [
    "!mv $PATH_TO_DATA/stackoverflow_aa $PATH_TO_DATA/stackoverflow_train.vw\n",
    "!mv $PATH_TO_DATA/stackoverflow_ab $PATH_TO_DATA/stackoverflow_valid.vw\n",
    "!mv $PATH_TO_DATA/stackoverflow_ac $PATH_TO_DATA/stackoverflow_test.vw"
   ]
  },
  {
   "cell_type": "code",
   "execution_count": 4,
   "metadata": {},
   "outputs": [
    {
     "name": "stdout",
     "output_type": "stream",
     "text": [
      " 1463018 /Users/y.kashnitsky/Documents/stackoverflow_10mln//stackoverflow_test.vw\n",
      " 1463018 /Users/y.kashnitsky/Documents/stackoverflow_10mln//stackoverflow_train.vw\n",
      " 1463018 /Users/y.kashnitsky/Documents/stackoverflow_10mln//stackoverflow_valid.vw\n",
      " 4389054 total\n"
     ]
    }
   ],
   "source": [
    "!wc -l $PATH_TO_DATA/stackoverflow_*.vw"
   ]
  },
  {
   "cell_type": "code",
   "execution_count": 5,
   "metadata": {},
   "outputs": [
    {
     "name": "stdout",
     "output_type": "stream",
     "text": [
      "CPU times: user 402 ms, sys: 127 ms, total: 529 ms\n",
      "Wall time: 31.9 s\n"
     ]
    }
   ],
   "source": [
    "%%time\n",
    "!cat $PATH_TO_DATA/stackoverflow_valid.vw \\\n",
    "    | cut -f 1 -d ' ' > $PATH_TO_DATA/stackoverflow_valid_labels.txt\n",
    "!cat $PATH_TO_DATA/stackoverflow_test.vw \\\n",
    "    | cut -f 1 -d ' ' > $PATH_TO_DATA/stackoverflow_test_labels.txt"
   ]
  },
  {
   "cell_type": "markdown",
   "metadata": {},
   "source": [
    "Обучите Vowpal Wabbit на выборке `stackoverflow_train.vw` 9 раз, перебирая параметры passes (1,3,5), ngram (1,2,3).\n",
    "Остальные параметры укажите следующие: `loss_function=hinge`, `bit_precision`=28 и `seed`=17. Также скажите VW, что это 10-классовая задача.\n",
    "\n",
    "Проверяйте долю правильных ответов на выборке `stackoverflow_valid.vw`. Выберите лучшую модель и проверьте качество на выборке `stackoverflow_test.vw`."
   ]
  },
  {
   "cell_type": "code",
   "execution_count": 6,
   "metadata": {},
   "outputs": [],
   "source": [
    "def train_vw_model(train_vw_file, model_filename, num_classes=10,\n",
    "                   ngram=1, loss_function='hinge',\n",
    "                   bit_precision=28, passes=1,\n",
    "                   seed=17, quiet=True):\n",
    "    init_time = time()\n",
    "    vw_call_string = ('vw --oaa {num_classes} {train_vw_file} ' + \n",
    "                      '-f {model_filename} -b {bit_precision} ' +\n",
    "                      '--loss_function {loss_function} --random_seed {seed}').format(\n",
    "                       num_classes=num_classes, train_vw_file=train_vw_file, \n",
    "                        loss_function=loss_function,\n",
    "                       model_filename=model_filename, \n",
    "        bit_precision=bit_precision, seed=seed)\n",
    "    if ngram > 1:\n",
    "         vw_call_string += ' --ngram={}'.format(ngram)\n",
    "            \n",
    "    if passes > 1:\n",
    "         vw_call_string += ' -k --passes={} --cache_file {}'.format(passes, \n",
    "                            model_filename.replace('.vw', '.cache'))\n",
    "    if quiet:\n",
    "        vw_call_string += ' --quiet'\n",
    "    \n",
    "    \n",
    "    print(vw_call_string) \n",
    "    res = os.system(vw_call_string)\n",
    "    print('Success. Elapsed: {} sec.'.format(round(time() - init_time, 2))\n",
    "          if not res else 'Failed.')"
   ]
  },
  {
   "cell_type": "code",
   "execution_count": 7,
   "metadata": {},
   "outputs": [],
   "source": [
    "def test_vw_model(model_filename, test_vw_file, prediction_filename,\n",
    "                  true_labels, seed=17, quiet=True):\n",
    "    init_time = time()\n",
    "    vw_call_string = ('vw -t -i {model_filename} {test_vw_file} ' + \n",
    "                       '-p {prediction_filename} --random_seed {seed}').format(\n",
    "                       model_filename=model_filename, test_vw_file=test_vw_file, \n",
    "                       prediction_filename=prediction_filename, seed=seed)\n",
    "    if quiet:\n",
    "        vw_call_string += ' --quiet'\n",
    "        \n",
    "    print(vw_call_string) \n",
    "    res = os.system(vw_call_string)\n",
    "    \n",
    "    if not res: # the call resulted OK\n",
    "        vw_pred = np.loadtxt(prediction_filename)\n",
    "        print(\"Accuracy: {}%. Elapsed: {} sec.\".format(\n",
    "            round(100 * accuracy_score(true_labels, vw_pred), 2), \n",
    "            round(time() - init_time, 2)))\n",
    "    else:\n",
    "        print('Failed.')"
   ]
  },
  {
   "cell_type": "code",
   "execution_count": 9,
   "metadata": {},
   "outputs": [],
   "source": [
    "y_valid = np.loadtxt(os.path.join(PATH_TO_DATA,\n",
    "                                  'stackoverflow_valid_labels.txt'))\n",
    "y_test = np.loadtxt(os.path.join(PATH_TO_DATA,\n",
    "                                 'stackoverflow_test_labels.txt'))"
   ]
  },
  {
   "cell_type": "code",
   "execution_count": 10,
   "metadata": {},
   "outputs": [],
   "source": [
    "import itertools"
   ]
  },
  {
   "cell_type": "code",
   "execution_count": 11,
   "metadata": {
    "scrolled": true
   },
   "outputs": [
    {
     "name": "stderr",
     "output_type": "stream",
     "text": [
      "\r",
      "0it [00:00, ?it/s]"
     ]
    },
    {
     "name": "stdout",
     "output_type": "stream",
     "text": [
      "vw --oaa 10 /Users/y.kashnitsky/Documents/stackoverflow_10mln/stackoverflow_train.vw -f /Users/y.kashnitsky/Documents/stackoverflow_10mln/vw_model0_part.vw -b 28 --loss_function hinge --random_seed 17 --quiet\n",
      "Success. Elapsed: 18.77 sec.\n",
      "vw -t -i /Users/y.kashnitsky/Documents/stackoverflow_10mln/vw_model0_part.vw /Users/y.kashnitsky/Documents/stackoverflow_10mln/stackoverflow_valid.vw -p /Users/y.kashnitsky/Documents/stackoverflow_10mln/vw_valid_pred0.csv --random_seed 17 --quiet\n"
     ]
    },
    {
     "name": "stderr",
     "output_type": "stream",
     "text": [
      "\r",
      "1it [00:47, 47.25s/it]"
     ]
    },
    {
     "name": "stdout",
     "output_type": "stream",
     "text": [
      "Accuracy: 91.67%. Elapsed: 28.48 sec.\n",
      "vw --oaa 10 /Users/y.kashnitsky/Documents/stackoverflow_10mln/stackoverflow_train.vw -f /Users/y.kashnitsky/Documents/stackoverflow_10mln/vw_model1_part.vw -b 28 --loss_function hinge --random_seed 17 -k --passes=3 --cache_file /Users/y.kashnitsky/Documents/stackoverflow_10mln/vw_model1_part.cache --quiet\n",
      "Success. Elapsed: 57.22 sec.\n",
      "vw -t -i /Users/y.kashnitsky/Documents/stackoverflow_10mln/vw_model1_part.vw /Users/y.kashnitsky/Documents/stackoverflow_10mln/stackoverflow_valid.vw -p /Users/y.kashnitsky/Documents/stackoverflow_10mln/vw_valid_pred1.csv --random_seed 17 --quiet\n"
     ]
    },
    {
     "name": "stderr",
     "output_type": "stream",
     "text": [
      "\r",
      "2it [02:14, 59.13s/it]"
     ]
    },
    {
     "name": "stdout",
     "output_type": "stream",
     "text": [
      "Accuracy: 91.8%. Elapsed: 29.62 sec.\n",
      "vw --oaa 10 /Users/y.kashnitsky/Documents/stackoverflow_10mln/stackoverflow_train.vw -f /Users/y.kashnitsky/Documents/stackoverflow_10mln/vw_model2_part.vw -b 28 --loss_function hinge --random_seed 17 -k --passes=5 --cache_file /Users/y.kashnitsky/Documents/stackoverflow_10mln/vw_model2_part.cache --quiet\n",
      "Success. Elapsed: 84.87 sec.\n",
      "vw -t -i /Users/y.kashnitsky/Documents/stackoverflow_10mln/vw_model2_part.vw /Users/y.kashnitsky/Documents/stackoverflow_10mln/stackoverflow_valid.vw -p /Users/y.kashnitsky/Documents/stackoverflow_10mln/vw_valid_pred2.csv --random_seed 17 --quiet\n"
     ]
    },
    {
     "name": "stderr",
     "output_type": "stream",
     "text": [
      "\r",
      "3it [04:07, 75.45s/it]"
     ]
    },
    {
     "name": "stdout",
     "output_type": "stream",
     "text": [
      "Accuracy: 91.8%. Elapsed: 28.66 sec.\n",
      "vw --oaa 10 /Users/y.kashnitsky/Documents/stackoverflow_10mln/stackoverflow_train.vw -f /Users/y.kashnitsky/Documents/stackoverflow_10mln/vw_model3_part.vw -b 28 --loss_function hinge --random_seed 17 --ngram=2 --quiet\n",
      "Success. Elapsed: 89.82 sec.\n",
      "vw -t -i /Users/y.kashnitsky/Documents/stackoverflow_10mln/vw_model3_part.vw /Users/y.kashnitsky/Documents/stackoverflow_10mln/stackoverflow_valid.vw -p /Users/y.kashnitsky/Documents/stackoverflow_10mln/vw_valid_pred3.csv --random_seed 17 --quiet\n"
     ]
    },
    {
     "name": "stderr",
     "output_type": "stream",
     "text": [
      "\r",
      "4it [06:31, 95.84s/it]"
     ]
    },
    {
     "name": "stdout",
     "output_type": "stream",
     "text": [
      "Accuracy: 93.24%. Elapsed: 53.61 sec.\n",
      "vw --oaa 10 /Users/y.kashnitsky/Documents/stackoverflow_10mln/stackoverflow_train.vw -f /Users/y.kashnitsky/Documents/stackoverflow_10mln/vw_model4_part.vw -b 28 --loss_function hinge --random_seed 17 --ngram=2 -k --passes=3 --cache_file /Users/y.kashnitsky/Documents/stackoverflow_10mln/vw_model4_part.cache --quiet\n",
      "Success. Elapsed: 191.08 sec.\n",
      "vw -t -i /Users/y.kashnitsky/Documents/stackoverflow_10mln/vw_model4_part.vw /Users/y.kashnitsky/Documents/stackoverflow_10mln/stackoverflow_valid.vw -p /Users/y.kashnitsky/Documents/stackoverflow_10mln/vw_valid_pred4.csv --random_seed 17 --quiet\n"
     ]
    },
    {
     "name": "stderr",
     "output_type": "stream",
     "text": [
      "\r",
      "5it [10:34, 140.23s/it]"
     ]
    },
    {
     "name": "stdout",
     "output_type": "stream",
     "text": [
      "Accuracy: 93.05%. Elapsed: 52.7 sec.\n",
      "vw --oaa 10 /Users/y.kashnitsky/Documents/stackoverflow_10mln/stackoverflow_train.vw -f /Users/y.kashnitsky/Documents/stackoverflow_10mln/vw_model5_part.vw -b 28 --loss_function hinge --random_seed 17 --ngram=2 -k --passes=5 --cache_file /Users/y.kashnitsky/Documents/stackoverflow_10mln/vw_model5_part.cache --quiet\n",
      "Success. Elapsed: 247.61 sec.\n",
      "vw -t -i /Users/y.kashnitsky/Documents/stackoverflow_10mln/vw_model5_part.vw /Users/y.kashnitsky/Documents/stackoverflow_10mln/stackoverflow_valid.vw -p /Users/y.kashnitsky/Documents/stackoverflow_10mln/vw_valid_pred5.csv --random_seed 17 --quiet\n"
     ]
    },
    {
     "name": "stderr",
     "output_type": "stream",
     "text": [
      "\r",
      "6it [15:32, 187.59s/it]"
     ]
    },
    {
     "name": "stdout",
     "output_type": "stream",
     "text": [
      "Accuracy: 93.12%. Elapsed: 50.5 sec.\n",
      "vw --oaa 10 /Users/y.kashnitsky/Documents/stackoverflow_10mln/stackoverflow_train.vw -f /Users/y.kashnitsky/Documents/stackoverflow_10mln/vw_model6_part.vw -b 28 --loss_function hinge --random_seed 17 --ngram=3 --quiet\n",
      "Success. Elapsed: 143.23 sec.\n",
      "vw -t -i /Users/y.kashnitsky/Documents/stackoverflow_10mln/vw_model6_part.vw /Users/y.kashnitsky/Documents/stackoverflow_10mln/stackoverflow_valid.vw -p /Users/y.kashnitsky/Documents/stackoverflow_10mln/vw_valid_pred6.csv --random_seed 17 --quiet\n"
     ]
    },
    {
     "name": "stderr",
     "output_type": "stream",
     "text": [
      "\r",
      "7it [19:14, 197.74s/it]"
     ]
    },
    {
     "name": "stdout",
     "output_type": "stream",
     "text": [
      "Accuracy: 93.0%. Elapsed: 78.18 sec.\n",
      "vw --oaa 10 /Users/y.kashnitsky/Documents/stackoverflow_10mln/stackoverflow_train.vw -f /Users/y.kashnitsky/Documents/stackoverflow_10mln/vw_model7_part.vw -b 28 --loss_function hinge --random_seed 17 --ngram=3 -k --passes=3 --cache_file /Users/y.kashnitsky/Documents/stackoverflow_10mln/vw_model7_part.cache --quiet\n",
      "Success. Elapsed: 404.11 sec.\n",
      "vw -t -i /Users/y.kashnitsky/Documents/stackoverflow_10mln/vw_model7_part.vw /Users/y.kashnitsky/Documents/stackoverflow_10mln/stackoverflow_valid.vw -p /Users/y.kashnitsky/Documents/stackoverflow_10mln/vw_valid_pred7.csv --random_seed 17 --quiet\n"
     ]
    },
    {
     "name": "stderr",
     "output_type": "stream",
     "text": [
      "\r",
      "8it [27:16, 283.21s/it]"
     ]
    },
    {
     "name": "stdout",
     "output_type": "stream",
     "text": [
      "Accuracy: 92.73%. Elapsed: 78.52 sec.\n",
      "vw --oaa 10 /Users/y.kashnitsky/Documents/stackoverflow_10mln/stackoverflow_train.vw -f /Users/y.kashnitsky/Documents/stackoverflow_10mln/vw_model8_part.vw -b 28 --loss_function hinge --random_seed 17 --ngram=3 -k --passes=5 --cache_file /Users/y.kashnitsky/Documents/stackoverflow_10mln/vw_model8_part.cache --quiet\n",
      "Success. Elapsed: 486.74 sec.\n",
      "vw -t -i /Users/y.kashnitsky/Documents/stackoverflow_10mln/vw_model8_part.vw /Users/y.kashnitsky/Documents/stackoverflow_10mln/stackoverflow_valid.vw -p /Users/y.kashnitsky/Documents/stackoverflow_10mln/vw_valid_pred8.csv --random_seed 17 --quiet\n"
     ]
    },
    {
     "name": "stderr",
     "output_type": "stream",
     "text": [
      "\r",
      "9it [36:42, 367.84s/it]"
     ]
    },
    {
     "name": "stdout",
     "output_type": "stream",
     "text": [
      "Accuracy: 92.81%. Elapsed: 78.59 sec.\n"
     ]
    },
    {
     "name": "stderr",
     "output_type": "stream",
     "text": [
      "\n"
     ]
    }
   ],
   "source": [
    "for i, (ngram, passes) in tqdm(enumerate(itertools.product([1,2,3], \n",
    "                                                      [1,3,5]))):\n",
    "    train_vw_model(os.path.join(PATH_TO_DATA, 'stackoverflow_train.vw'),\n",
    "                   os.path.join(PATH_TO_DATA,\n",
    "                                'vw_model{}_part.vw'.format(i)), \n",
    "                   ngram=ngram, passes=passes,\n",
    "                   loss_function='hinge',\n",
    "                   num_classes=10, bit_precision=28, \n",
    "                   seed=17, quiet=True)\n",
    "    test_vw_model(model_filename=os.path.join(PATH_TO_DATA, \n",
    "                                              'vw_model{}_part.vw'.format(i)), \n",
    "              test_vw_file=os.path.join(PATH_TO_DATA,\n",
    "                                        'stackoverflow_valid.vw'), \n",
    "              prediction_filename=os.path.join(PATH_TO_DATA,\n",
    "                                               'vw_valid_pred{}.csv'.format(i)),\n",
    "              true_labels=y_valid, seed=17)"
   ]
  },
  {
   "cell_type": "markdown",
   "metadata": {},
   "source": [
    "<font color='red'> Вопрос 1.</font> Какое сочетание параметров дает наибольшую долю правильных ответов на проверочной выборке `stackoverflow_valid.vw`?\n",
    "- Биграммы и 3 прохода по выборке\n",
    "- Триграммы и 5 проходов по выборке\n",
    "- Биграммы и 1 проход по выборке **[+]**\n",
    "- Униграммы и 3 прохода по выборке"
   ]
  },
  {
   "cell_type": "markdown",
   "metadata": {},
   "source": [
    "Проверьте лучшую (по доле правильных ответов на валидации) модель на тестовой выборке. "
   ]
  },
  {
   "cell_type": "code",
   "execution_count": 12,
   "metadata": {},
   "outputs": [
    {
     "name": "stdout",
     "output_type": "stream",
     "text": [
      "vw -t -i /Users/y.kashnitsky/Documents/stackoverflow_10mln/vw_model3_part.vw /Users/y.kashnitsky/Documents/stackoverflow_10mln/stackoverflow_test.vw -p /Users/y.kashnitsky/Documents/stackoverflow_10mln/vw_test_pred3.csv --random_seed 17 --quiet\n",
      "Accuracy: 93.25%. Elapsed: 55.19 sec.\n"
     ]
    }
   ],
   "source": [
    "test_vw_model(model_filename=os.path.join(PATH_TO_DATA,\n",
    "                                          'vw_model3_part.vw'), \n",
    "              test_vw_file=os.path.join(PATH_TO_DATA,\n",
    "                                        'stackoverflow_test.vw'), \n",
    "              prediction_filename=os.path.join(PATH_TO_DATA,\n",
    "                                               'vw_test_pred3.csv'),\n",
    "              true_labels=y_test, seed=17)"
   ]
  },
  {
   "cell_type": "markdown",
   "metadata": {},
   "source": [
    "<font color='red'> Вопрос 2.</font> Как соотносятся доли правильных ответов лучшей (по доле правильных ответов на валидации) модели на проверочной и на тестовой выборках?\n",
    "- На тестовой ниже примерно на 1%\n",
    "- На тестовой ниже примерно на 1%\n",
    "- Результаты почти одинаковы – отличаются меньше чем на 0.5% **[+]**"
   ]
  },
  {
   "cell_type": "code",
   "execution_count": 15,
   "metadata": {},
   "outputs": [
    {
     "name": "stdout",
     "output_type": "stream",
     "text": [
      "CPU times: user 240 ms, sys: 93.1 ms, total: 333 ms\n",
      "Wall time: 13.9 s\n"
     ]
    }
   ],
   "source": [
    "%%time\n",
    "!cp $PATH_TO_DATA/stackoverflow_train.vw $PATH_TO_DATA/stackoverflow_train_valid.vw\n",
    "!cat $PATH_TO_DATA/stackoverflow_valid.vw >> $PATH_TO_DATA/stackoverflow_train_valid.vw"
   ]
  },
  {
   "cell_type": "markdown",
   "metadata": {},
   "source": [
    "Обучите VW с параметрами, подобранными на проверочной выборке, теперь на объединении обучающей и проверочной выборок. Посчитайте долю правильных ответов на тестовой выборке. "
   ]
  },
  {
   "cell_type": "code",
   "execution_count": 16,
   "metadata": {},
   "outputs": [
    {
     "name": "stdout",
     "output_type": "stream",
     "text": [
      "vw --oaa 10 /Users/y.kashnitsky/Documents/stackoverflow_10mln/stackoverflow_train_valid.vw -f /Users/y.kashnitsky/Documents/stackoverflow_10mln/vw_model10.vw -b 28 --loss_function hinge --random_seed 17 --ngram=2 --quiet\n",
      "Success. Elapsed: 117.87 sec.\n"
     ]
    }
   ],
   "source": [
    "train_vw_model(os.path.join(PATH_TO_DATA, 'stackoverflow_train_valid.vw'), \n",
    "                   os.path.join(PATH_TO_DATA, 'vw_model10.vw'), \n",
    "                   ngram=2, passes=1,\n",
    "                   num_classes=10, bit_precision=28, \n",
    "                   seed=17, quiet=True)"
   ]
  },
  {
   "cell_type": "code",
   "execution_count": 17,
   "metadata": {},
   "outputs": [
    {
     "name": "stdout",
     "output_type": "stream",
     "text": [
      "vw -t -i /Users/y.kashnitsky/Documents/stackoverflow_10mln/vw_model10.vw /Users/y.kashnitsky/Documents/stackoverflow_10mln/stackoverflow_test.vw -p /Users/y.kashnitsky/Documents/stackoverflow_10mln/vw_test_pred10.csv --random_seed 17 --quiet\n",
      "Accuracy: 93.64%. Elapsed: 54.73 sec.\n"
     ]
    }
   ],
   "source": [
    "test_vw_model(model_filename=os.path.join(PATH_TO_DATA, 'vw_model10.vw'), \n",
    "              test_vw_file=os.path.join(PATH_TO_DATA,\n",
    "                                        'stackoverflow_test.vw'), \n",
    "              prediction_filename=os.path.join(PATH_TO_DATA,\n",
    "                                               'vw_test_pred10.csv'),\n",
    "              true_labels=y_test, seed=17)"
   ]
  },
  {
   "cell_type": "markdown",
   "metadata": {},
   "source": [
    "<font color='red'> Вопрос 3.</font> На сколько повысилась доля правильных ответов модели после обучения на вдвое большей выборке (обучающая `stackoverflow_train.vw` + проверочная `stackoverflow_valid.vw`) по сравнению с моделью, обученной только на `stackoverflow_train.vw`?\n",
    " - 0.1%\n",
    " - 0.4% **[+]**\n",
    " - 0.8%\n",
    " - 1.2%"
   ]
  }
 ],
 "metadata": {
  "kernelspec": {
   "display_name": "Python 3",
   "language": "python",
   "name": "python3"
  },
  "language_info": {
   "codemirror_mode": {
    "name": "ipython",
    "version": 3
   },
   "file_extension": ".py",
   "mimetype": "text/x-python",
   "name": "python",
   "nbconvert_exporter": "python",
   "pygments_lexer": "ipython3",
   "version": "3.6.4"
  }
 },
 "nbformat": 4,
 "nbformat_minor": 2
}
